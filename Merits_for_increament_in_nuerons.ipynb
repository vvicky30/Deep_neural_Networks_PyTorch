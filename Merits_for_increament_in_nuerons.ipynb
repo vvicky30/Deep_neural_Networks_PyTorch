{
  "nbformat": 4,
  "nbformat_minor": 0,
  "metadata": {
    "kernelspec": {
      "display_name": "Python 3",
      "language": "python",
      "name": "python3"
    },
    "language_info": {
      "codemirror_mode": {
        "name": "ipython",
        "version": 3
      },
      "file_extension": ".py",
      "mimetype": "text/x-python",
      "name": "python",
      "nbconvert_exporter": "python",
      "pygments_lexer": "ipython3",
      "version": "3.6.8"
    },
    "colab": {
      "name": "Merits_for_increament_in_nuerons.ipynb",
      "provenance": [],
      "collapsed_sections": [],
      "include_colab_link": true
    }
  },
  "cells": [
    {
      "cell_type": "markdown",
      "metadata": {
        "id": "view-in-github",
        "colab_type": "text"
      },
      "source": [
        "<a href=\"https://colab.research.google.com/github/vvicky30/Deep_neural_Networks_PyToacrch/blob/master/Merits_for_increament_in_nuerons.ipynb\" target=\"_parent\"><img src=\"https://colab.research.google.com/assets/colab-badge.svg\" alt=\"Open In Colab\"/></a>"
      ]
    },
    {
      "cell_type": "markdown",
      "metadata": {
        "id": "FwIykK1V-pAD",
        "colab_type": "text"
      },
      "source": [
        "<h1>Practice: Neural Networks with One Hidden Layer: Noisy XOR</h1>"
      ]
    },
    {
      "cell_type": "markdown",
      "metadata": {
        "id": "pYuFA6Yz-pAF",
        "colab_type": "text"
      },
      "source": [
        "<h2>Table of Contents</h2>\n",
        "<p>In this lab, you will see how many neurons it takes to classify noisy XOR data with one hidden layer neural network.</p>\n",
        "\n",
        "<ul>\n",
        "    <li><a href=\"#Model\">Neural Network Module and Training Function</a></li>\n",
        "    <li><a href=\"#Makeup_Data\">Make Some Data</a></li>\n",
        "    <li><a href=\"#One\">One Neuron</a></li>\n",
        "    <li><a href=\"#Two\">Two Neurons</a></li>\n",
        "    <li><a href=\"#Three\">Three Neurons</a></li>\n",
        "</ul>\n",
        "<hr>"
      ]
    },
    {
      "cell_type": "markdown",
      "metadata": {
        "id": "5i-EEXlL-pAI",
        "colab_type": "text"
      },
      "source": [
        "<h2>Preparation</h2>"
      ]
    },
    {
      "cell_type": "markdown",
      "metadata": {
        "id": "UXQOZEqO-pAK",
        "colab_type": "text"
      },
      "source": [
        "We'll need the following libraries"
      ]
    },
    {
      "cell_type": "code",
      "metadata": {
        "id": "ujX9GPr--pAM",
        "colab_type": "code",
        "colab": {}
      },
      "source": [
        "# Import the libraries we need for this lab\n",
        "\n",
        "\n",
        "\n",
        "import numpy as np\n",
        "import torch\n",
        "import torch.nn as nn\n",
        "import torch.nn.functional as F\n",
        "import matplotlib.pyplot as plt \n",
        "from matplotlib.colors import ListedColormap\n",
        "from torch.utils.data import Dataset, DataLoader"
      ],
      "execution_count": 1,
      "outputs": []
    },
    {
      "cell_type": "markdown",
      "metadata": {
        "id": "RDCaSNSb-pAZ",
        "colab_type": "text"
      },
      "source": [
        "Use the following function to plot the data: "
      ]
    },
    {
      "cell_type": "code",
      "metadata": {
        "id": "LYW-xXqc-pAc",
        "colab_type": "code",
        "colab": {}
      },
      "source": [
        "# Plot the data\n",
        "\n",
        "def plot_decision_regions_2class(model,data_set):\n",
        "    cmap_light = ListedColormap(['#FFAAAA', '#AAFFAA', '#00AAFF'])\n",
        "    cmap_bold = ListedColormap(['#FF0000', '#00FF00', '#00AAFF'])\n",
        "    X = data_set.x.numpy()\n",
        "    y = data_set.y.numpy()\n",
        "    h = .02\n",
        "    x_min, x_max = X[:, 0].min() - 0.1 , X[:, 0].max() + 0.1 \n",
        "    y_min, y_max = X[:, 1].min() - 0.1 , X[:, 1].max() + 0.1 \n",
        "    xx, yy = np.meshgrid(np.arange(x_min, x_max, h),np.arange(y_min, y_max, h))\n",
        "    XX = torch.Tensor(np.c_[xx.ravel(), yy.ravel()])\n",
        "\n",
        "    yhat = np.logical_not((model(XX)[:, 0] > 0.5).numpy()).reshape(xx.shape)\n",
        "    plt.pcolormesh(xx, yy, yhat, cmap=cmap_light)\n",
        "    plt.plot(X[y[:, 0] == 0, 0], X[y[:, 0] == 0, 1], 'o', label='y=0')\n",
        "    plt.plot(X[y[:, 0] == 1, 0], X[y[:, 0] == 1, 1], 'ro', label='y=1')\n",
        "    plt.title(\"decision region\")\n",
        "    plt.legend()"
      ],
      "execution_count": 2,
      "outputs": []
    },
    {
      "cell_type": "markdown",
      "metadata": {
        "id": "DDB6p6Vq-pAn",
        "colab_type": "text"
      },
      "source": [
        "Use the following function to calculate accuracy: "
      ]
    },
    {
      "cell_type": "code",
      "metadata": {
        "id": "TTh-ilOA-pAp",
        "colab_type": "code",
        "colab": {}
      },
      "source": [
        "# Calculate the accuracy\n",
        "\n",
        "def accuracy(model, data_set):\n",
        "    return np.mean(data_set.y.view(-1).numpy() == (model(data_set.x)[:, 0] > 0.5).numpy())"
      ],
      "execution_count": 3,
      "outputs": []
    },
    {
      "cell_type": "markdown",
      "metadata": {
        "id": "gpnPItGK-pAz",
        "colab_type": "text"
      },
      "source": [
        "<!--Empty Space for separating topics-->"
      ]
    },
    {
      "cell_type": "markdown",
      "metadata": {
        "id": "AIcW-e1a-pA1",
        "colab_type": "text"
      },
      "source": [
        "<h2 id=\"Model\">Neural Network Module and Training Function</h2> "
      ]
    },
    {
      "cell_type": "markdown",
      "metadata": {
        "id": "N-cGGVX1-pA2",
        "colab_type": "text"
      },
      "source": [
        "Define the neural network module or class: "
      ]
    },
    {
      "cell_type": "code",
      "metadata": {
        "id": "2Qo5y8ir-pA3",
        "colab_type": "code",
        "colab": {}
      },
      "source": [
        "# Define the class Net with one hidden layer \n",
        "\n",
        "class Net(nn.Module):\n",
        "    \n",
        "    # Constructor\n",
        "    def __init__(self, D_in, H, D_out):\n",
        "        super(Net, self).__init__()\n",
        "        #hidden layer \n",
        "        self.linear1 = nn.Linear(D_in, H)\n",
        "        #output layer \n",
        "        self.linear2 = nn.Linear(H, D_out)\n",
        "\n",
        "    # Prediction    \n",
        "    def forward(self, x):\n",
        "        x = torch.sigmoid(self.linear1(x))  \n",
        "        x = torch.sigmoid(self.linear2(x))\n",
        "        return x"
      ],
      "execution_count": 4,
      "outputs": []
    },
    {
      "cell_type": "markdown",
      "metadata": {
        "id": "k5AXhTFz-pA-",
        "colab_type": "text"
      },
      "source": [
        "Define a function to train the model: "
      ]
    },
    {
      "cell_type": "code",
      "metadata": {
        "id": "b284bns--pA_",
        "colab_type": "code",
        "colab": {}
      },
      "source": [
        "# Define the train model\n",
        "\n",
        "def train(data_set, model, criterion, train_loader, optimizer, epochs=5):\n",
        "    COST = []\n",
        "    ACC = []\n",
        "    for epoch in range(epochs):\n",
        "        total=0\n",
        "        for x, y in train_loader:\n",
        "            optimizer.zero_grad()\n",
        "            yhat = model(x)\n",
        "            loss = criterion(yhat, y)\n",
        "            optimizer.zero_grad()\n",
        "            loss.backward()\n",
        "            optimizer.step()\n",
        "            #cumulative loss \n",
        "            total+=loss.item()\n",
        "        ACC.append(accuracy(model, data_set))\n",
        "        COST.append(total)\n",
        "        \n",
        "    fig, ax1 = plt.subplots()\n",
        "    color = 'tab:red'\n",
        "    ax1.plot(COST, color=color)\n",
        "    ax1.set_xlabel('epoch', color=color)\n",
        "    ax1.set_ylabel('total loss', color=color)\n",
        "    ax1.tick_params(axis='y', color=color)\n",
        "    \n",
        "    ax2 = ax1.twinx()  \n",
        "    color = 'tab:blue'\n",
        "    ax2.set_ylabel('accuracy', color=color)  # we already handled the x-label with ax1\n",
        "    ax2.plot(ACC, color=color)\n",
        "    ax2.tick_params(axis='y', color=color)\n",
        "    fig.tight_layout()  # otherwise the right y-label is slightly clipped\n",
        "    \n",
        "    plt.show()\n",
        "\n",
        "    return COST"
      ],
      "execution_count": 5,
      "outputs": []
    },
    {
      "cell_type": "markdown",
      "metadata": {
        "id": "a4Jq6kaA-pBF",
        "colab_type": "text"
      },
      "source": [
        "<!--Empty Space for separating topics-->"
      ]
    },
    {
      "cell_type": "markdown",
      "metadata": {
        "id": "cU2eRmMg-pBG",
        "colab_type": "text"
      },
      "source": [
        "<h2 id=\"Makeup_Data\">Make Some Data</h2> "
      ]
    },
    {
      "cell_type": "markdown",
      "metadata": {
        "id": "Wth0kAZ2-pBH",
        "colab_type": "text"
      },
      "source": [
        "Dataset class:"
      ]
    },
    {
      "cell_type": "code",
      "metadata": {
        "id": "d9qxMRxh-pBI",
        "colab_type": "code",
        "colab": {}
      },
      "source": [
        "# Define the class XOR_Data\n",
        "\n",
        "class XOR_Data(Dataset):\n",
        "    \n",
        "    # Constructor\n",
        "    def __init__(self, N_s=100):\n",
        "        self.x = torch.zeros((N_s, 2)) #initialized as zeros in pairs for 100 rows\n",
        "        self.y = torch.zeros((N_s, 1)) #initialized zeros for 100 rows \n",
        "        for i in range(N_s // 4):     #if no. of samples(or rows) is integer division with 4 (// is a division operation that returns an integer by discarding the remainder)\n",
        "            self.x[i, :] = torch.Tensor([0.0, 0.0]) #sample wise (one by one rows) and for whole pair assigned pairs of 0.0\n",
        "            self.y[i, 0] = torch.Tensor([0.0]) #sample wise (one by one rows) assigned 0.0\n",
        "\n",
        "            self.x[i + N_s // 4, :] = torch.Tensor([0.0, 1.0]) #assigning x pairs as [0.0,1.0] for sample no. 25 onwards[N_s//4]\n",
        "            self.y[i + N_s // 4, 0] = torch.Tensor([1.0])  #assigning y as 1.0 for sample no. 25 onwards[N_s//4] or corresponding to above x's value\n",
        "    \n",
        "            self.x[i + N_s // 2, :] = torch.Tensor([1.0, 0.0])#assigning x pairs as [1.0,0.0] for sample no. 50 onwards[N_s//2]\n",
        "            self.y[i + N_s // 2, 0] = torch.Tensor([1.0])#assigning y  as 1.0 for sample no. 50 onwards[N_s//2] or correponding to above x's value\n",
        "    \n",
        "            self.x[i + 3 * N_s // 4, :] = torch.Tensor([1.0, 1.0])#assigning x pairs as [1.0,1.0] for sample no. 75 onwards[3*N_s//4]\n",
        "            self.y[i + 3 * N_s // 4, 0] = torch.Tensor([0.0]) #assigning y  as 0.0 for sample no. 75 onwards[3*N_s//4] or correponding to above x's value\n",
        "\n",
        "            self.x = self.x + 0.01 * torch.randn((N_s, 2))  #adding some noise to x;s value \n",
        "        self.len = N_s\n",
        "\n",
        "    # Getter\n",
        "    def __getitem__(self, index):    \n",
        "        return self.x[index],self.y[index]\n",
        "    \n",
        "    # Get Length\n",
        "    def __len__(self):\n",
        "        return self.len\n",
        "    \n",
        "    # Plot the data\n",
        "    def plot_stuff(self):\n",
        "        plt.plot(self.x[self.y[:, 0] == 0, 0].numpy(), self.x[self.y[:, 0] == 0, 1].numpy(), 'o', label=\"y=0\")\n",
        "        plt.plot(self.x[self.y[:, 0] == 1, 0].numpy(), self.x[self.y[:, 0] == 1, 1].numpy(), 'ro', label=\"y=1\")\n",
        "        plt.legend()"
      ],
      "execution_count": 6,
      "outputs": []
    },
    {
      "cell_type": "markdown",
      "metadata": {
        "id": "puIejqtb-pBL",
        "colab_type": "text"
      },
      "source": [
        "Dataset object:"
      ]
    },
    {
      "cell_type": "code",
      "metadata": {
        "id": "YD8iY4_w-pBM",
        "colab_type": "code",
        "colab": {
          "base_uri": "https://localhost:8080/",
          "height": 265
        },
        "outputId": "4cc22a33-32fa-4755-e99e-c23135288832"
      },
      "source": [
        "# Create dataset object\n",
        "\n",
        "data_set = XOR_Data()\n",
        "data_set.plot_stuff()"
      ],
      "execution_count": 7,
      "outputs": [
        {
          "output_type": "display_data",
          "data": {
            "image/png": "[encoded data removed]",
            "text/plain": [
              "<Figure size 432x288 with 1 Axes>"
            ]
          },
          "metadata": {
            "tags": [],
            "needs_background": "light"
          }
        }
      ]
    },
    {
      "cell_type": "markdown",
      "metadata": {
        "id": "M72JD_iG-pBQ",
        "colab_type": "text"
      },
      "source": [
        "<!--Empty Space for separating topics-->"
      ]
    },
    {
      "cell_type": "markdown",
      "metadata": {
        "id": "WV6NNFl1-pBQ",
        "colab_type": "text"
      },
      "source": [
        "<h2 id=\"One\">One Neuron</h2> "
      ]
    },
    {
      "cell_type": "markdown",
      "metadata": {
        "id": "MIDAkxIH-pBR",
        "colab_type": "text"
      },
      "source": [
        "<h3>Try</h3>"
      ]
    },
    {
      "cell_type": "markdown",
      "metadata": {
        "id": "-VG5T-5V-pBR",
        "colab_type": "text"
      },
      "source": [
        "Create a neural network <code>model</code> with one neuron. Then, use the following code to train it:"
      ]
    },
    {
      "cell_type": "code",
      "metadata": {
        "id": "stTYt5d5-pBS",
        "colab_type": "code",
        "colab": {}
      },
      "source": [
        "model = Net(2, 1, 1)"
      ],
      "execution_count": 8,
      "outputs": []
    },
    {
      "cell_type": "code",
      "metadata": {
        "id": "EeIvVRPs-pBX",
        "colab_type": "code",
        "colab": {
          "base_uri": "https://localhost:8080/",
          "height": 561
        },
        "outputId": "68abcdde-f14b-4109-f8ae-6c9242263b15"
      },
      "source": [
        "# Train the model\n",
        "\n",
        "learning_rate = 0.001\n",
        "criterion = nn.BCELoss()\n",
        "optimizer = torch.optim.SGD(model.parameters(), lr=learning_rate)\n",
        "train_loader = DataLoader(dataset=data_set, batch_size=1)\n",
        "LOSS12 = train(data_set, model, criterion, train_loader, optimizer, epochs=500)\n",
        "plot_decision_regions_2class(model, data_set)\n",
        "####result is not much satisfactory as its misclassified y=1 datapoints as y=0 & y=0 datapoints as y=1 at the same time"
      ],
      "execution_count": 9,
      "outputs": [
        {
          "output_type": "display_data",
          "data": {
            "image/png": "[encoded data removed]",
            "text/plain": [
              "<Figure size 432x288 with 2 Axes>"
            ]
          },
          "metadata": {
            "tags": [],
            "needs_background": "light"
          }
        },
        {
          "output_type": "display_data",
          "data": {
            "image/png": "[encoded data removed]",
            "text/plain": [
              "<Figure size 432x288 with 1 Axes>"
            ]
          },
          "metadata": {
            "tags": [],
            "needs_background": "light"
          }
        }
      ]
    },
    {
      "cell_type": "markdown",
      "metadata": {
        "id": "VZsxg-uG-pBa",
        "colab_type": "text"
      },
      "source": [
        "<!--Empty Space for separating topics-->"
      ]
    },
    {
      "cell_type": "markdown",
      "metadata": {
        "id": "Ez6CLdFX-pBb",
        "colab_type": "text"
      },
      "source": [
        "<h2 id=\"Two\">Two Neurons</h2> "
      ]
    },
    {
      "cell_type": "markdown",
      "metadata": {
        "id": "BnNhQNcn-pBb",
        "colab_type": "text"
      },
      "source": [
        "<h3>Try</h3>"
      ]
    },
    {
      "cell_type": "markdown",
      "metadata": {
        "id": "BI_9f23k-pBc",
        "colab_type": "text"
      },
      "source": [
        "Create a neural network <code>model</code> with two neurons. Then, use the following code to train it:"
      ]
    },
    {
      "cell_type": "code",
      "metadata": {
        "id": "nOITTll_-pBc",
        "colab_type": "code",
        "colab": {}
      },
      "source": [
        "model = Net(2, 2, 1)"
      ],
      "execution_count": 12,
      "outputs": []
    },
    {
      "cell_type": "code",
      "metadata": {
        "id": "4yCXEFfW-pBi",
        "colab_type": "code",
        "colab": {
          "base_uri": "https://localhost:8080/",
          "height": 561
        },
        "outputId": "476ef360-af43-4384-d325-e51262228fcb"
      },
      "source": [
        "# Train the model\n",
        "\n",
        "learning_rate = 0.1\n",
        "criterion = nn.BCELoss()\n",
        "optimizer = torch.optim.SGD(model.parameters(), lr=learning_rate)\n",
        "train_loader = DataLoader(dataset=data_set, batch_size=1)\n",
        "LOSS12 = train(data_set, model, criterion, train_loader, optimizer, epochs=500)\n",
        "plot_decision_regions_2class(model, data_set)\n",
        "#as here we can see that increasing in no. of nuerons in hidden layer then misclassified samples are tends to zero \n",
        "##as due to increament of no. of hidden nuerons it captures complexity of data and classified it better"
      ],
      "execution_count": 13,
      "outputs": [
        {
          "output_type": "display_data",
          "data": {
            "image/png": "[encoded data removed]",
            "text/plain": [
              "<Figure size 432x288 with 2 Axes>"
            ]
          },
          "metadata": {
            "tags": [],
            "needs_background": "light"
          }
        },
        {
          "output_type": "display_data",
          "data": {
            "image/png": "[encoded data removed]",
            "text/plain": [
              "<Figure size 432x288 with 1 Axes>"
            ]
          },
          "metadata": {
            "tags": [],
            "needs_background": "light"
          }
        }
      ]
    },
    {
      "cell_type": "markdown",
      "metadata": {
        "id": "M-LIOxum-pBl",
        "colab_type": "text"
      },
      "source": [
        "<!--Empty Space for separating topics-->"
      ]
    },
    {
      "cell_type": "markdown",
      "metadata": {
        "id": "CA1ai5VB-pBl",
        "colab_type": "text"
      },
      "source": [
        "<h2 id=\"Three\">Four nuerons Neurons</h2> "
      ]
    },
    {
      "cell_type": "markdown",
      "metadata": {
        "id": "cBeQGU4T-pBm",
        "colab_type": "text"
      },
      "source": [
        "<h3>Try</h3>"
      ]
    },
    {
      "cell_type": "markdown",
      "metadata": {
        "id": "23B8eMAv-pBn",
        "colab_type": "text"
      },
      "source": [
        "Create a neural network <code>model</code> with four neurons. Then, use the following code to train it:"
      ]
    },
    {
      "cell_type": "code",
      "metadata": {
        "id": "euj11er--pBn",
        "colab_type": "code",
        "colab": {}
      },
      "source": [
        "\n",
        "model = Net(2, 4, 1)"
      ],
      "execution_count": 14,
      "outputs": []
    },
    {
      "cell_type": "code",
      "metadata": {
        "id": "KT2wfSmd-pBs",
        "colab_type": "code",
        "colab": {
          "base_uri": "https://localhost:8080/",
          "height": 561
        },
        "outputId": "6f822051-775a-4cc5-aa22-d05eec1ab228"
      },
      "source": [
        "# Train the model\n",
        "\n",
        "learning_rate = 0.1\n",
        "criterion = nn.BCELoss()\n",
        "optimizer = torch.optim.SGD(model.parameters(), lr=learning_rate)\n",
        "train_loader = DataLoader(dataset=data_set, batch_size=1)\n",
        "LOSS12 = train(data_set, model, criterion, train_loader, optimizer, epochs=500)\n",
        "plot_decision_regions_2class(model, data_set)\n",
        "# as usual better result"
      ],
      "execution_count": 15,
      "outputs": [
        {
          "output_type": "display_data",
          "data": {
            "image/png": "[encoded data removed]",
            "text/plain": [
              "<Figure size 432x288 with 2 Axes>"
            ]
          },
          "metadata": {
            "tags": [],
            "needs_background": "light"
          }
        },
        {
          "output_type": "display_data",
          "data": {
            "image/png": "[encoded data removed]",
            "text/plain": [
              "<Figure size 432x288 with 1 Axes>"
            ]
          },
          "metadata": {
            "tags": [],
            "needs_background": "light"
          }
        }
      ]
    }
  ]
}