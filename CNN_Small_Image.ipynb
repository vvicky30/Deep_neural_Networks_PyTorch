{
  "nbformat": 4,
  "nbformat_minor": 0,
  "metadata": {
    "kernelspec": {
      "display_name": "Python",
      "language": "python",
      "name": "conda-env-python-py"
    },
    "language_info": {
      "codemirror_mode": {
        "name": "ipython",
        "version": 3
      },
      "file_extension": ".py",
      "mimetype": "text/x-python",
      "name": "python",
      "nbconvert_exporter": "python",
      "pygments_lexer": "ipython3",
      "version": "3.6.7"
    },
    "colab": {
      "name": "CNN_Small_Image.ipynb",
      "provenance": [],
      "include_colab_link": true
    },
    "widgets": {
      "application/vnd.jupyter.widget-state+json": {
        "5ddc5971308a4c6994e9243f6b7d41af": {
          "model_module": "@jupyter-widgets/controls",
          "model_name": "HBoxModel",
          "state": {
            "_view_name": "HBoxView",
            "_dom_classes": [],
            "_model_name": "HBoxModel",
            "_view_module": "@jupyter-widgets/controls",
            "_model_module_version": "1.5.0",
            "_view_count": null,
            "_view_module_version": "1.5.0",
            "box_style": "",
            "layout": "IPY_MODEL_1ebf929c447548eeb490e9a2f1466560",
            "_model_module": "@jupyter-widgets/controls",
            "children": [
              "IPY_MODEL_c3abbf69ba324f2e85ed4a5ce8f6c7b2",
              "IPY_MODEL_ebff5d2d46ea4f24a926276f2117f4fa"
            ]
          }
        },
        "1ebf929c447548eeb490e9a2f1466560": {
          "model_module": "@jupyter-widgets/base",
          "model_name": "LayoutModel",
          "state": {
            "_view_name": "LayoutView",
            "grid_template_rows": null,
            "right": null,
            "justify_content": null,
            "_view_module": "@jupyter-widgets/base",
            "overflow": null,
            "_model_module_version": "1.2.0",
            "_view_count": null,
            "flex_flow": null,
            "width": null,
            "min_width": null,
            "border": null,
            "align_items": null,
            "bottom": null,
            "_model_module": "@jupyter-widgets/base",
            "top": null,
            "grid_column": null,
            "overflow_y": null,
            "overflow_x": null,
            "grid_auto_flow": null,
            "grid_area": null,
            "grid_template_columns": null,
            "flex": null,
            "_model_name": "LayoutModel",
            "justify_items": null,
            "grid_row": null,
            "max_height": null,
            "align_content": null,
            "visibility": null,
            "align_self": null,
            "height": null,
            "min_height": null,
            "padding": null,
            "grid_auto_rows": null,
            "grid_gap": null,
            "max_width": null,
            "order": null,
            "_view_module_version": "1.2.0",
            "grid_template_areas": null,
            "object_position": null,
            "object_fit": null,
            "grid_auto_columns": null,
            "margin": null,
            "display": null,
            "left": null
          }
        },
        "c3abbf69ba324f2e85ed4a5ce8f6c7b2": {
          "model_module": "@jupyter-widgets/controls",
          "model_name": "FloatProgressModel",
          "state": {
            "_view_name": "ProgressView",
            "style": "IPY_MODEL_a8adfecb615c46fcb9390d593f421684",
            "_dom_classes": [],
            "description": "",
            "_model_name": "FloatProgressModel",
            "bar_style": "info",
            "max": 1,
            "_view_module": "@jupyter-widgets/controls",
            "_model_module_version": "1.5.0",
            "value": 1,
            "_view_count": null,
            "_view_module_version": "1.5.0",
            "orientation": "horizontal",
            "min": 0,
            "description_tooltip": null,
            "_model_module": "@jupyter-widgets/controls",
            "layout": "IPY_MODEL_d6c00f0f986d4ac582ca8223f98a4964"
          }
        },
        "ebff5d2d46ea4f24a926276f2117f4fa": {
          "model_module": "@jupyter-widgets/controls",
          "model_name": "HTMLModel",
          "state": {
            "_view_name": "HTMLView",
            "style": "IPY_MODEL_a693a13b0502447c8d2eafa3063e9137",
            "_dom_classes": [],
            "description": "",
            "_model_name": "HTMLModel",
            "placeholder": "​",
            "_view_module": "@jupyter-widgets/controls",
            "_model_module_version": "1.5.0",
            "value": " 9920512/? [00:20&lt;00:00, 10380754.10it/s]",
            "_view_count": null,
            "_view_module_version": "1.5.0",
            "description_tooltip": null,
            "_model_module": "@jupyter-widgets/controls",
            "layout": "IPY_MODEL_6e25cc17199248c293959feb0a282484"
          }
        },
        "a8adfecb615c46fcb9390d593f421684": {
          "model_module": "@jupyter-widgets/controls",
          "model_name": "ProgressStyleModel",
          "state": {
            "_view_name": "StyleView",
            "_model_name": "ProgressStyleModel",
            "description_width": "initial",
            "_view_module": "@jupyter-widgets/base",
            "_model_module_version": "1.5.0",
            "_view_count": null,
            "_view_module_version": "1.2.0",
            "bar_color": null,
            "_model_module": "@jupyter-widgets/controls"
          }
        },
        "d6c00f0f986d4ac582ca8223f98a4964": {
          "model_module": "@jupyter-widgets/base",
          "model_name": "LayoutModel",
          "state": {
            "_view_name": "LayoutView",
            "grid_template_rows": null,
            "right": null,
            "justify_content": null,
            "_view_module": "@jupyter-widgets/base",
            "overflow": null,
            "_model_module_version": "1.2.0",
            "_view_count": null,
            "flex_flow": null,
            "width": null,
            "min_width": null,
            "border": null,
            "align_items": null,
            "bottom": null,
            "_model_module": "@jupyter-widgets/base",
            "top": null,
            "grid_column": null,
            "overflow_y": null,
            "overflow_x": null,
            "grid_auto_flow": null,
            "grid_area": null,
            "grid_template_columns": null,
            "flex": null,
            "_model_name": "LayoutModel",
            "justify_items": null,
            "grid_row": null,
            "max_height": null,
            "align_content": null,
            "visibility": null,
            "align_self": null,
            "height": null,
            "min_height": null,
            "padding": null,
            "grid_auto_rows": null,
            "grid_gap": null,
            "max_width": null,
            "order": null,
            "_view_module_version": "1.2.0",
            "grid_template_areas": null,
            "object_position": null,
            "object_fit": null,
            "grid_auto_columns": null,
            "margin": null,
            "display": null,
            "left": null
          }
        },
        "a693a13b0502447c8d2eafa3063e9137": {
          "model_module": "@jupyter-widgets/controls",
          "model_name": "DescriptionStyleModel",
          "state": {
            "_view_name": "StyleView",
            "_model_name": "DescriptionStyleModel",
            "description_width": "",
            "_view_module": "@jupyter-widgets/base",
            "_model_module_version": "1.5.0",
            "_view_count": null,
            "_view_module_version": "1.2.0",
            "_model_module": "@jupyter-widgets/controls"
          }
        },
        "6e25cc17199248c293959feb0a282484": {
          "model_module": "@jupyter-widgets/base",
          "model_name": "LayoutModel",
          "state": {
            "_view_name": "LayoutView",
            "grid_template_rows": null,
            "right": null,
            "justify_content": null,
            "_view_module": "@jupyter-widgets/base",
            "overflow": null,
            "_model_module_version": "1.2.0",
            "_view_count": null,
            "flex_flow": null,
            "width": null,
            "min_width": null,
            "border": null,
            "align_items": null,
            "bottom": null,
            "_model_module": "@jupyter-widgets/base",
            "top": null,
            "grid_column": null,
            "overflow_y": null,
            "overflow_x": null,
            "grid_auto_flow": null,
            "grid_area": null,
            "grid_template_columns": null,
            "flex": null,
            "_model_name": "LayoutModel",
            "justify_items": null,
            "grid_row": null,
            "max_height": null,
            "align_content": null,
            "visibility": null,
            "align_self": null,
            "height": null,
            "min_height": null,
            "padding": null,
            "grid_auto_rows": null,
            "grid_gap": null,
            "max_width": null,
            "order": null,
            "_view_module_version": "1.2.0",
            "grid_template_areas": null,
            "object_position": null,
            "object_fit": null,
            "grid_auto_columns": null,
            "margin": null,
            "display": null,
            "left": null
          }
        },
        "36167114c3fa4ed58fb8934ef2444c83": {
          "model_module": "@jupyter-widgets/controls",
          "model_name": "HBoxModel",
          "state": {
            "_view_name": "HBoxView",
            "_dom_classes": [],
            "_model_name": "HBoxModel",
            "_view_module": "@jupyter-widgets/controls",
            "_model_module_version": "1.5.0",
            "_view_count": null,
            "_view_module_version": "1.5.0",
            "box_style": "",
            "layout": "IPY_MODEL_b29099b603174803ac35851ad0e465a7",
            "_model_module": "@jupyter-widgets/controls",
            "children": [
              "IPY_MODEL_a677eefe7f7a417080e36dad5223ed42",
              "IPY_MODEL_29ca17dec76746d1b5b3726abe38e7d3"
            ]
          }
        },
        "b29099b603174803ac35851ad0e465a7": {
          "model_module": "@jupyter-widgets/base",
          "model_name": "LayoutModel",
          "state": {
            "_view_name": "LayoutView",
            "grid_template_rows": null,
            "right": null,
            "justify_content": null,
            "_view_module": "@jupyter-widgets/base",
            "overflow": null,
            "_model_module_version": "1.2.0",
            "_view_count": null,
            "flex_flow": null,
            "width": null,
            "min_width": null,
            "border": null,
            "align_items": null,
            "bottom": null,
            "_model_module": "@jupyter-widgets/base",
            "top": null,
            "grid_column": null,
            "overflow_y": null,
            "overflow_x": null,
            "grid_auto_flow": null,
            "grid_area": null,
            "grid_template_columns": null,
            "flex": null,
            "_model_name": "LayoutModel",
            "justify_items": null,
            "grid_row": null,
            "max_height": null,
            "align_content": null,
            "visibility": null,
            "align_self": null,
            "height": null,
            "min_height": null,
            "padding": null,
            "grid_auto_rows": null,
            "grid_gap": null,
            "max_width": null,
            "order": null,
            "_view_module_version": "1.2.0",
            "grid_template_areas": null,
            "object_position": null,
            "object_fit": null,
            "grid_auto_columns": null,
            "margin": null,
            "display": null,
            "left": null
          }
        },
        "a677eefe7f7a417080e36dad5223ed42": {
          "model_module": "@jupyter-widgets/controls",
          "model_name": "FloatProgressModel",
          "state": {
            "_view_name": "ProgressView",
            "style": "IPY_MODEL_eb7f09c27414485ea8022b1d416f9cc4",
            "_dom_classes": [],
            "description": "  0%",
            "_model_name": "FloatProgressModel",
            "bar_style": "info",
            "max": 1,
            "_view_module": "@jupyter-widgets/controls",
            "_model_module_version": "1.5.0",
            "value": 0,
            "_view_count": null,
            "_view_module_version": "1.5.0",
            "orientation": "horizontal",
            "min": 0,
            "description_tooltip": null,
            "_model_module": "@jupyter-widgets/controls",
            "layout": "IPY_MODEL_1daff4c16abc4c9789fd83c2cfaf0512"
          }
        },
        "29ca17dec76746d1b5b3726abe38e7d3": {
          "model_module": "@jupyter-widgets/controls",
          "model_name": "HTMLModel",
          "state": {
            "_view_name": "HTMLView",
            "style": "IPY_MODEL_6dd3a706b0254bf9a39a8f0448c0c985",
            "_dom_classes": [],
            "description": "",
            "_model_name": "HTMLModel",
            "placeholder": "​",
            "_view_module": "@jupyter-widgets/controls",
            "_model_module_version": "1.5.0",
            "value": " 0/28881 [00:00&lt;?, ?it/s]",
            "_view_count": null,
            "_view_module_version": "1.5.0",
            "description_tooltip": null,
            "_model_module": "@jupyter-widgets/controls",
            "layout": "IPY_MODEL_622ffc62328a4a84945b6cacfafc3ddb"
          }
        },
        "eb7f09c27414485ea8022b1d416f9cc4": {
          "model_module": "@jupyter-widgets/controls",
          "model_name": "ProgressStyleModel",
          "state": {
            "_view_name": "StyleView",
            "_model_name": "ProgressStyleModel",
            "description_width": "initial",
            "_view_module": "@jupyter-widgets/base",
            "_model_module_version": "1.5.0",
            "_view_count": null,
            "_view_module_version": "1.2.0",
            "bar_color": null,
            "_model_module": "@jupyter-widgets/controls"
          }
        },
        "1daff4c16abc4c9789fd83c2cfaf0512": {
          "model_module": "@jupyter-widgets/base",
          "model_name": "LayoutModel",
          "state": {
            "_view_name": "LayoutView",
            "grid_template_rows": null,
            "right": null,
            "justify_content": null,
            "_view_module": "@jupyter-widgets/base",
            "overflow": null,
            "_model_module_version": "1.2.0",
            "_view_count": null,
            "flex_flow": null,
            "width": null,
            "min_width": null,
            "border": null,
            "align_items": null,
            "bottom": null,
            "_model_module": "@jupyter-widgets/base",
            "top": null,
            "grid_column": null,
            "overflow_y": null,
            "overflow_x": null,
            "grid_auto_flow": null,
            "grid_area": null,
            "grid_template_columns": null,
            "flex": null,
            "_model_name": "LayoutModel",
            "justify_items": null,
            "grid_row": null,
            "max_height": null,
            "align_content": null,
            "visibility": null,
            "align_self": null,
            "height": null,
            "min_height": null,
            "padding": null,
            "grid_auto_rows": null,
            "grid_gap": null,
            "max_width": null,
            "order": null,
            "_view_module_version": "1.2.0",
            "grid_template_areas": null,
            "object_position": null,
            "object_fit": null,
            "grid_auto_columns": null,
            "margin": null,
            "display": null,
            "left": null
          }
        },
        "6dd3a706b0254bf9a39a8f0448c0c985": {
          "model_module": "@jupyter-widgets/controls",
          "model_name": "DescriptionStyleModel",
          "state": {
            "_view_name": "StyleView",
            "_model_name": "DescriptionStyleModel",
            "description_width": "",
            "_view_module": "@jupyter-widgets/base",
            "_model_module_version": "1.5.0",
            "_view_count": null,
            "_view_module_version": "1.2.0",
            "_model_module": "@jupyter-widgets/controls"
          }
        },
        "622ffc62328a4a84945b6cacfafc3ddb": {
          "model_module": "@jupyter-widgets/base",
          "model_name": "LayoutModel",
          "state": {
            "_view_name": "LayoutView",
            "grid_template_rows": null,
            "right": null,
            "justify_content": null,
            "_view_module": "@jupyter-widgets/base",
            "overflow": null,
            "_model_module_version": "1.2.0",
            "_view_count": null,
            "flex_flow": null,
            "width": null,
            "min_width": null,
            "border": null,
            "align_items": null,
            "bottom": null,
            "_model_module": "@jupyter-widgets/base",
            "top": null,
            "grid_column": null,
            "overflow_y": null,
            "overflow_x": null,
            "grid_auto_flow": null,
            "grid_area": null,
            "grid_template_columns": null,
            "flex": null,
            "_model_name": "LayoutModel",
            "justify_items": null,
            "grid_row": null,
            "max_height": null,
            "align_content": null,
            "visibility": null,
            "align_self": null,
            "height": null,
            "min_height": null,
            "padding": null,
            "grid_auto_rows": null,
            "grid_gap": null,
            "max_width": null,
            "order": null,
            "_view_module_version": "1.2.0",
            "grid_template_areas": null,
            "object_position": null,
            "object_fit": null,
            "grid_auto_columns": null,
            "margin": null,
            "display": null,
            "left": null
          }
        },
        "8c3040a2495a4188854fe16afd433068": {
          "model_module": "@jupyter-widgets/controls",
          "model_name": "HBoxModel",
          "state": {
            "_view_name": "HBoxView",
            "_dom_classes": [],
            "_model_name": "HBoxModel",
            "_view_module": "@jupyter-widgets/controls",
            "_model_module_version": "1.5.0",
            "_view_count": null,
            "_view_module_version": "1.5.0",
            "box_style": "",
            "layout": "IPY_MODEL_46ed4c2787384212b35e3eb2bb9f596b",
            "_model_module": "@jupyter-widgets/controls",
            "children": [
              "IPY_MODEL_26851c0cdc6448fba1a62eed587b9aac",
              "IPY_MODEL_7aa0058d3aba4372af3a69c85444cea5"
            ]
          }
        },
        "46ed4c2787384212b35e3eb2bb9f596b": {
          "model_module": "@jupyter-widgets/base",
          "model_name": "LayoutModel",
          "state": {
            "_view_name": "LayoutView",
            "grid_template_rows": null,
            "right": null,
            "justify_content": null,
            "_view_module": "@jupyter-widgets/base",
            "overflow": null,
            "_model_module_version": "1.2.0",
            "_view_count": null,
            "flex_flow": null,
            "width": null,
            "min_width": null,
            "border": null,
            "align_items": null,
            "bottom": null,
            "_model_module": "@jupyter-widgets/base",
            "top": null,
            "grid_column": null,
            "overflow_y": null,
            "overflow_x": null,
            "grid_auto_flow": null,
            "grid_area": null,
            "grid_template_columns": null,
            "flex": null,
            "_model_name": "LayoutModel",
            "justify_items": null,
            "grid_row": null,
            "max_height": null,
            "align_content": null,
            "visibility": null,
            "align_self": null,
            "height": null,
            "min_height": null,
            "padding": null,
            "grid_auto_rows": null,
            "grid_gap": null,
            "max_width": null,
            "order": null,
            "_view_module_version": "1.2.0",
            "grid_template_areas": null,
            "object_position": null,
            "object_fit": null,
            "grid_auto_columns": null,
            "margin": null,
            "display": null,
            "left": null
          }
        },
        "26851c0cdc6448fba1a62eed587b9aac": {
          "model_module": "@jupyter-widgets/controls",
          "model_name": "FloatProgressModel",
          "state": {
            "_view_name": "ProgressView",
            "style": "IPY_MODEL_da5826350c2d48c6a7f962063d3a1f0a",
            "_dom_classes": [],
            "description": "",
            "_model_name": "FloatProgressModel",
            "bar_style": "info",
            "max": 1,
            "_view_module": "@jupyter-widgets/controls",
            "_model_module_version": "1.5.0",
            "value": 1,
            "_view_count": null,
            "_view_module_version": "1.5.0",
            "orientation": "horizontal",
            "min": 0,
            "description_tooltip": null,
            "_model_module": "@jupyter-widgets/controls",
            "layout": "IPY_MODEL_5069085b153444d0b1935e5f8dfd8bb4"
          }
        },
        "7aa0058d3aba4372af3a69c85444cea5": {
          "model_module": "@jupyter-widgets/controls",
          "model_name": "HTMLModel",
          "state": {
            "_view_name": "HTMLView",
            "style": "IPY_MODEL_822bcd4687a5439692627a0c988a2784",
            "_dom_classes": [],
            "description": "",
            "_model_name": "HTMLModel",
            "placeholder": "​",
            "_view_module": "@jupyter-widgets/controls",
            "_model_module_version": "1.5.0",
            "value": " 1654784/? [00:18&lt;00:00, 11808757.59it/s]",
            "_view_count": null,
            "_view_module_version": "1.5.0",
            "description_tooltip": null,
            "_model_module": "@jupyter-widgets/controls",
            "layout": "IPY_MODEL_eed3e082b4eb4fceb90959c580583d21"
          }
        },
        "da5826350c2d48c6a7f962063d3a1f0a": {
          "model_module": "@jupyter-widgets/controls",
          "model_name": "ProgressStyleModel",
          "state": {
            "_view_name": "StyleView",
            "_model_name": "ProgressStyleModel",
            "description_width": "initial",
            "_view_module": "@jupyter-widgets/base",
            "_model_module_version": "1.5.0",
            "_view_count": null,
            "_view_module_version": "1.2.0",
            "bar_color": null,
            "_model_module": "@jupyter-widgets/controls"
          }
        },
        "5069085b153444d0b1935e5f8dfd8bb4": {
          "model_module": "@jupyter-widgets/base",
          "model_name": "LayoutModel",
          "state": {
            "_view_name": "LayoutView",
            "grid_template_rows": null,
            "right": null,
            "justify_content": null,
            "_view_module": "@jupyter-widgets/base",
            "overflow": null,
            "_model_module_version": "1.2.0",
            "_view_count": null,
            "flex_flow": null,
            "width": null,
            "min_width": null,
            "border": null,
            "align_items": null,
            "bottom": null,
            "_model_module": "@jupyter-widgets/base",
            "top": null,
            "grid_column": null,
            "overflow_y": null,
            "overflow_x": null,
            "grid_auto_flow": null,
            "grid_area": null,
            "grid_template_columns": null,
            "flex": null,
            "_model_name": "LayoutModel",
            "justify_items": null,
            "grid_row": null,
            "max_height": null,
            "align_content": null,
            "visibility": null,
            "align_self": null,
            "height": null,
            "min_height": null,
            "padding": null,
            "grid_auto_rows": null,
            "grid_gap": null,
            "max_width": null,
            "order": null,
            "_view_module_version": "1.2.0",
            "grid_template_areas": null,
            "object_position": null,
            "object_fit": null,
            "grid_auto_columns": null,
            "margin": null,
            "display": null,
            "left": null
          }
        },
        "822bcd4687a5439692627a0c988a2784": {
          "model_module": "@jupyter-widgets/controls",
          "model_name": "DescriptionStyleModel",
          "state": {
            "_view_name": "StyleView",
            "_model_name": "DescriptionStyleModel",
            "description_width": "",
            "_view_module": "@jupyter-widgets/base",
            "_model_module_version": "1.5.0",
            "_view_count": null,
            "_view_module_version": "1.2.0",
            "_model_module": "@jupyter-widgets/controls"
          }
        },
        "eed3e082b4eb4fceb90959c580583d21": {
          "model_module": "@jupyter-widgets/base",
          "model_name": "LayoutModel",
          "state": {
            "_view_name": "LayoutView",
            "grid_template_rows": null,
            "right": null,
            "justify_content": null,
            "_view_module": "@jupyter-widgets/base",
            "overflow": null,
            "_model_module_version": "1.2.0",
            "_view_count": null,
            "flex_flow": null,
            "width": null,
            "min_width": null,
            "border": null,
            "align_items": null,
            "bottom": null,
            "_model_module": "@jupyter-widgets/base",
            "top": null,
            "grid_column": null,
            "overflow_y": null,
            "overflow_x": null,
            "grid_auto_flow": null,
            "grid_area": null,
            "grid_template_columns": null,
            "flex": null,
            "_model_name": "LayoutModel",
            "justify_items": null,
            "grid_row": null,
            "max_height": null,
            "align_content": null,
            "visibility": null,
            "align_self": null,
            "height": null,
            "min_height": null,
            "padding": null,
            "grid_auto_rows": null,
            "grid_gap": null,
            "max_width": null,
            "order": null,
            "_view_module_version": "1.2.0",
            "grid_template_areas": null,
            "object_position": null,
            "object_fit": null,
            "grid_auto_columns": null,
            "margin": null,
            "display": null,
            "left": null
          }
        },
        "67dc00c7b3c64ae381992303ed9d7a7b": {
          "model_module": "@jupyter-widgets/controls",
          "model_name": "HBoxModel",
          "state": {
            "_view_name": "HBoxView",
            "_dom_classes": [],
            "_model_name": "HBoxModel",
            "_view_module": "@jupyter-widgets/controls",
            "_model_module_version": "1.5.0",
            "_view_count": null,
            "_view_module_version": "1.5.0",
            "box_style": "",
            "layout": "IPY_MODEL_c3b349a5eb694a23898a31fea6f7e11f",
            "_model_module": "@jupyter-widgets/controls",
            "children": [
              "IPY_MODEL_d332945dd2e2460bb4814c208a9501bb",
              "IPY_MODEL_e1b6da70bc1d41c2a7ccd4df04c0d657"
            ]
          }
        },
        "c3b349a5eb694a23898a31fea6f7e11f": {
          "model_module": "@jupyter-widgets/base",
          "model_name": "LayoutModel",
          "state": {
            "_view_name": "LayoutView",
            "grid_template_rows": null,
            "right": null,
            "justify_content": null,
            "_view_module": "@jupyter-widgets/base",
            "overflow": null,
            "_model_module_version": "1.2.0",
            "_view_count": null,
            "flex_flow": null,
            "width": null,
            "min_width": null,
            "border": null,
            "align_items": null,
            "bottom": null,
            "_model_module": "@jupyter-widgets/base",
            "top": null,
            "grid_column": null,
            "overflow_y": null,
            "overflow_x": null,
            "grid_auto_flow": null,
            "grid_area": null,
            "grid_template_columns": null,
            "flex": null,
            "_model_name": "LayoutModel",
            "justify_items": null,
            "grid_row": null,
            "max_height": null,
            "align_content": null,
            "visibility": null,
            "align_self": null,
            "height": null,
            "min_height": null,
            "padding": null,
            "grid_auto_rows": null,
            "grid_gap": null,
            "max_width": null,
            "order": null,
            "_view_module_version": "1.2.0",
            "grid_template_areas": null,
            "object_position": null,
            "object_fit": null,
            "grid_auto_columns": null,
            "margin": null,
            "display": null,
            "left": null
          }
        },
        "d332945dd2e2460bb4814c208a9501bb": {
          "model_module": "@jupyter-widgets/controls",
          "model_name": "FloatProgressModel",
          "state": {
            "_view_name": "ProgressView",
            "style": "IPY_MODEL_c3b800588f914588bebf91f5bd11d4c5",
            "_dom_classes": [],
            "description": "  0%",
            "_model_name": "FloatProgressModel",
            "bar_style": "info",
            "max": 1,
            "_view_module": "@jupyter-widgets/controls",
            "_model_module_version": "1.5.0",
            "value": 0,
            "_view_count": null,
            "_view_module_version": "1.5.0",
            "orientation": "horizontal",
            "min": 0,
            "description_tooltip": null,
            "_model_module": "@jupyter-widgets/controls",
            "layout": "IPY_MODEL_25623de91f9d4d5f97f0f70dcd15f8b8"
          }
        },
        "e1b6da70bc1d41c2a7ccd4df04c0d657": {
          "model_module": "@jupyter-widgets/controls",
          "model_name": "HTMLModel",
          "state": {
            "_view_name": "HTMLView",
            "style": "IPY_MODEL_575cf070c6614e608b888cc3e56fd411",
            "_dom_classes": [],
            "description": "",
            "_model_name": "HTMLModel",
            "placeholder": "​",
            "_view_module": "@jupyter-widgets/controls",
            "_model_module_version": "1.5.0",
            "value": " 0/4542 [00:00&lt;?, ?it/s]",
            "_view_count": null,
            "_view_module_version": "1.5.0",
            "description_tooltip": null,
            "_model_module": "@jupyter-widgets/controls",
            "layout": "IPY_MODEL_aca4feb8defc4cdd83f63256693b2c60"
          }
        },
        "c3b800588f914588bebf91f5bd11d4c5": {
          "model_module": "@jupyter-widgets/controls",
          "model_name": "ProgressStyleModel",
          "state": {
            "_view_name": "StyleView",
            "_model_name": "ProgressStyleModel",
            "description_width": "initial",
            "_view_module": "@jupyter-widgets/base",
            "_model_module_version": "1.5.0",
            "_view_count": null,
            "_view_module_version": "1.2.0",
            "bar_color": null,
            "_model_module": "@jupyter-widgets/controls"
          }
        },
        "25623de91f9d4d5f97f0f70dcd15f8b8": {
          "model_module": "@jupyter-widgets/base",
          "model_name": "LayoutModel",
          "state": {
            "_view_name": "LayoutView",
            "grid_template_rows": null,
            "right": null,
            "justify_content": null,
            "_view_module": "@jupyter-widgets/base",
            "overflow": null,
            "_model_module_version": "1.2.0",
            "_view_count": null,
            "flex_flow": null,
            "width": null,
            "min_width": null,
            "border": null,
            "align_items": null,
            "bottom": null,
            "_model_module": "@jupyter-widgets/base",
            "top": null,
            "grid_column": null,
            "overflow_y": null,
            "overflow_x": null,
            "grid_auto_flow": null,
            "grid_area": null,
            "grid_template_columns": null,
            "flex": null,
            "_model_name": "LayoutModel",
            "justify_items": null,
            "grid_row": null,
            "max_height": null,
            "align_content": null,
            "visibility": null,
            "align_self": null,
            "height": null,
            "min_height": null,
            "padding": null,
            "grid_auto_rows": null,
            "grid_gap": null,
            "max_width": null,
            "order": null,
            "_view_module_version": "1.2.0",
            "grid_template_areas": null,
            "object_position": null,
            "object_fit": null,
            "grid_auto_columns": null,
            "margin": null,
            "display": null,
            "left": null
          }
        },
        "575cf070c6614e608b888cc3e56fd411": {
          "model_module": "@jupyter-widgets/controls",
          "model_name": "DescriptionStyleModel",
          "state": {
            "_view_name": "StyleView",
            "_model_name": "DescriptionStyleModel",
            "description_width": "",
            "_view_module": "@jupyter-widgets/base",
            "_model_module_version": "1.5.0",
            "_view_count": null,
            "_view_module_version": "1.2.0",
            "_model_module": "@jupyter-widgets/controls"
          }
        },
        "aca4feb8defc4cdd83f63256693b2c60": {
          "model_module": "@jupyter-widgets/base",
          "model_name": "LayoutModel",
          "state": {
            "_view_name": "LayoutView",
            "grid_template_rows": null,
            "right": null,
            "justify_content": null,
            "_view_module": "@jupyter-widgets/base",
            "overflow": null,
            "_model_module_version": "1.2.0",
            "_view_count": null,
            "flex_flow": null,
            "width": null,
            "min_width": null,
            "border": null,
            "align_items": null,
            "bottom": null,
            "_model_module": "@jupyter-widgets/base",
            "top": null,
            "grid_column": null,
            "overflow_y": null,
            "overflow_x": null,
            "grid_auto_flow": null,
            "grid_area": null,
            "grid_template_columns": null,
            "flex": null,
            "_model_name": "LayoutModel",
            "justify_items": null,
            "grid_row": null,
            "max_height": null,
            "align_content": null,
            "visibility": null,
            "align_self": null,
            "height": null,
            "min_height": null,
            "padding": null,
            "grid_auto_rows": null,
            "grid_gap": null,
            "max_width": null,
            "order": null,
            "_view_module_version": "1.2.0",
            "grid_template_areas": null,
            "object_position": null,
            "object_fit": null,
            "grid_auto_columns": null,
            "margin": null,
            "display": null,
            "left": null
          }
        }
      }
    }
  },
  "cells": [
    {
      "cell_type": "markdown",
      "metadata": {
        "id": "view-in-github",
        "colab_type": "text"
      },
      "source": [
        "<a href=\"https://colab.research.google.com/github/vvicky30/Deep_neural_Networks_PyTorch/blob/master/CNN_Small_Image.ipynb\" target=\"_parent\"><img src=\"https://colab.research.google.com/assets/colab-badge.svg\" alt=\"Open In Colab\"/></a>"
      ]
    },
    {
      "cell_type": "markdown",
      "metadata": {
        "id": "2LvGWi3FGhTf",
        "colab_type": "text"
      },
      "source": [
        "<h1>Convolutional Neural Network with Small Images</h1> "
      ]
    },
    {
      "cell_type": "markdown",
      "metadata": {
        "id": "_x1zMLTLGhTg",
        "colab_type": "text"
      },
      "source": [
        "<h2>Table of Contents</h2>\n",
        "<p>In this lab, we will use a Convolutional Neural Network to classify handwritten digits from the MNIST database. We will reshape the images to make them faster to process </p>\n",
        "\n",
        "<ul>\n",
        "<li><a href=\"#Makeup_Data\">Get Some Data</a></li>\n",
        "<li><a href=\"#CNN\">Convolutional Neural Network</a></li>\n",
        "<li><a href=\"#Train\">Define Softmax, Criterion function, Optimizer and Train the Model</a></li>\n",
        "<li><a href=\"#Result\">Analyze Results</a></li>\n",
        "</ul>\n",
        "<p>Estimated Time Needed: <strong>25 min</strong> 14 min to train model </p>\n",
        "\n",
        "<hr>"
      ]
    },
    {
      "cell_type": "markdown",
      "metadata": {
        "id": "LH49Ud1OGhTh",
        "colab_type": "text"
      },
      "source": [
        "<h2>Preparation</h2>"
      ]
    },
    {
      "cell_type": "code",
      "metadata": {
        "jupyter": {
          "outputs_hidden": false
        },
        "id": "LglzWuWCGhTi",
        "colab_type": "code",
        "colab": {}
      },
      "source": [
        "\n",
        "\n",
        "# Import the libraries we need to use in this lab\n",
        "\n",
        "# Using the following line code to install the torchvision library\n",
        "# !conda install -y torchvision\n",
        "\n",
        "import torch \n",
        "import torch.nn as nn\n",
        "import torchvision.transforms as transforms\n",
        "import torchvision.datasets as dsets\n",
        "import matplotlib.pylab as plt\n",
        "import numpy as np"
      ],
      "execution_count": 1,
      "outputs": []
    },
    {
      "cell_type": "markdown",
      "metadata": {
        "id": "SQMlfCd5GhTl",
        "colab_type": "text"
      },
      "source": [
        "Define the function <code>plot_channels</code> to plot out the kernel parameters of  each channel "
      ]
    },
    {
      "cell_type": "code",
      "metadata": {
        "jupyter": {
          "outputs_hidden": false
        },
        "id": "vba34QmFGhTl",
        "colab_type": "code",
        "colab": {}
      },
      "source": [
        "# Define the function for plotting the channels\n",
        "\n",
        "def plot_channels(W):\n",
        "    n_out = W.shape[0]\n",
        "    n_in = W.shape[1]\n",
        "    w_min = W.min().item()\n",
        "    w_max = W.max().item()\n",
        "    fig, axes = plt.subplots(n_out, n_in)\n",
        "    fig.subplots_adjust(hspace=0.1)\n",
        "    out_index = 0\n",
        "    in_index = 0\n",
        "    \n",
        "    #plot outputs as rows inputs as columns \n",
        "    for ax in axes.flat:\n",
        "        if in_index > n_in-1:\n",
        "            out_index = out_index + 1\n",
        "            in_index = 0\n",
        "        ax.imshow(W[out_index, in_index, :, :], vmin=w_min, vmax=w_max, cmap='seismic')\n",
        "        ax.set_yticklabels([])\n",
        "        ax.set_xticklabels([])\n",
        "        in_index = in_index + 1\n",
        "\n",
        "    plt.show()"
      ],
      "execution_count": 2,
      "outputs": []
    },
    {
      "cell_type": "markdown",
      "metadata": {
        "id": "5j11JXw-GhTo",
        "colab_type": "text"
      },
      "source": [
        "Define the function <code>plot_parameters</code> to plot out the kernel parameters of each channel with Multiple outputs . "
      ]
    },
    {
      "cell_type": "code",
      "metadata": {
        "jupyter": {
          "outputs_hidden": false
        },
        "id": "1T3cEpDfGhTp",
        "colab_type": "code",
        "colab": {}
      },
      "source": [
        "# Define the function for plotting the parameters\n",
        "\n",
        "def plot_parameters(W, number_rows=1, name=\"\", i=0):\n",
        "    W = W.data[:, i, :, :]\n",
        "    n_filters = W.shape[0]\n",
        "    w_min = W.min().item()\n",
        "    w_max = W.max().item()\n",
        "    fig, axes = plt.subplots(number_rows, n_filters // number_rows)\n",
        "    fig.subplots_adjust(hspace=0.4)\n",
        "\n",
        "    for i, ax in enumerate(axes.flat):\n",
        "        if i < n_filters:\n",
        "            # Set the label for the sub-plot.\n",
        "            ax.set_xlabel(\"kernel:{0}\".format(i + 1))\n",
        "\n",
        "            # Plot the image.\n",
        "            ax.imshow(W[i, :], vmin=w_min, vmax=w_max, cmap='seismic')\n",
        "            ax.set_xticks([])\n",
        "            ax.set_yticks([])\n",
        "    plt.suptitle(name, fontsize=10)    \n",
        "    plt.show()"
      ],
      "execution_count": 3,
      "outputs": []
    },
    {
      "cell_type": "markdown",
      "metadata": {
        "id": "2ipjMnAKGhTs",
        "colab_type": "text"
      },
      "source": [
        "Define the function <code>plot_activation</code> to plot out the activations of the Convolutional layers  "
      ]
    },
    {
      "cell_type": "code",
      "metadata": {
        "id": "rNXSCOEaGhTt",
        "colab_type": "code",
        "colab": {}
      },
      "source": [
        "# Define the function for plotting the activations\n",
        "\n",
        "def plot_activations(A, number_rows=1, name=\"\", i=0):\n",
        "    A = A[0, :, :, :].detach().numpy()\n",
        "    n_activations = A.shape[0]\n",
        "    A_min = A.min().item()\n",
        "    A_max = A.max().item()\n",
        "    fig, axes = plt.subplots(number_rows, n_activations // number_rows)\n",
        "    fig.subplots_adjust(hspace = 0.4)\n",
        "\n",
        "    for i, ax in enumerate(axes.flat):\n",
        "        if i < n_activations:\n",
        "            # Set the label for the sub-plot.\n",
        "            ax.set_xlabel(\"activation:{0}\".format(i + 1))\n",
        "\n",
        "            # Plot the image.\n",
        "            ax.imshow(A[i, :], vmin=A_min, vmax=A_max, cmap='seismic')\n",
        "            ax.set_xticks([])\n",
        "            ax.set_yticks([])\n",
        "    plt.show()"
      ],
      "execution_count": 5,
      "outputs": []
    },
    {
      "cell_type": "markdown",
      "metadata": {
        "id": "JPEv7lQ9GhTw",
        "colab_type": "text"
      },
      "source": [
        "Define the function <code>show_data</code> to plot out data samples as images."
      ]
    },
    {
      "cell_type": "code",
      "metadata": {
        "jupyter": {
          "outputs_hidden": false
        },
        "id": "ZOqjyO9dGhTx",
        "colab_type": "code",
        "colab": {}
      },
      "source": [
        "def show_data(data_sample):\n",
        "    plt.imshow(data_sample[0].numpy().reshape(IMAGE_SIZE, IMAGE_SIZE), cmap='gray')#by acessing image from dataset in reshape manner with IMAGE_SIZE(further specified)\n",
        "    plt.title('y = '+ str(data_sample[1]))#by acessing label of dataset"
      ],
      "execution_count": 24,
      "outputs": []
    },
    {
      "cell_type": "markdown",
      "metadata": {
        "id": "0NS0-dcHGhTz",
        "colab_type": "text"
      },
      "source": [
        "<!--Empty Space for separating topics-->"
      ]
    },
    {
      "cell_type": "markdown",
      "metadata": {
        "id": "hBeYfhSVGhT0",
        "colab_type": "text"
      },
      "source": [
        "<h2 id=\"Makeup_Data\">Get the Data</h2> "
      ]
    },
    {
      "cell_type": "markdown",
      "metadata": {
        "id": "CN5qja_-GhT1",
        "colab_type": "text"
      },
      "source": [
        "we create a transform to resize the image and convert it to a tensor ."
      ]
    },
    {
      "cell_type": "code",
      "metadata": {
        "id": "6h9Jwq6ZGhT2",
        "colab_type": "code",
        "colab": {}
      },
      "source": [
        "\n",
        "\n",
        "IMAGE_SIZE = 16 #here specified\n",
        "\n",
        "\n",
        "composed = transforms.Compose([transforms.Resize((IMAGE_SIZE, IMAGE_SIZE)), transforms.ToTensor()])    \n",
        "#here we firstly used transform as for reshaping corresponds to image size then convert the reshaped images to the tensor"
      ],
      "execution_count": 9,
      "outputs": []
    },
    {
      "cell_type": "markdown",
      "metadata": {
        "id": "7e3F6ZCRGhT4",
        "colab_type": "text"
      },
      "source": [
        "Load the training dataset by setting the parameters <code>train </code> to <code>True</code>. We use the transform defined above."
      ]
    },
    {
      "cell_type": "code",
      "metadata": {
        "jupyter": {
          "outputs_hidden": false
        },
        "id": "Etf7uOHlGhT5",
        "colab_type": "code",
        "colab": {
          "base_uri": "https://localhost:8080/",
          "height": 366,
          "referenced_widgets": [
            "5ddc5971308a4c6994e9243f6b7d41af",
            "1ebf929c447548eeb490e9a2f1466560",
            "c3abbf69ba324f2e85ed4a5ce8f6c7b2",
            "ebff5d2d46ea4f24a926276f2117f4fa",
            "a8adfecb615c46fcb9390d593f421684",
            "d6c00f0f986d4ac582ca8223f98a4964",
            "a693a13b0502447c8d2eafa3063e9137",
            "6e25cc17199248c293959feb0a282484",
            "36167114c3fa4ed58fb8934ef2444c83",
            "b29099b603174803ac35851ad0e465a7",
            "a677eefe7f7a417080e36dad5223ed42",
            "29ca17dec76746d1b5b3726abe38e7d3",
            "eb7f09c27414485ea8022b1d416f9cc4",
            "1daff4c16abc4c9789fd83c2cfaf0512",
            "6dd3a706b0254bf9a39a8f0448c0c985",
            "622ffc62328a4a84945b6cacfafc3ddb",
            "8c3040a2495a4188854fe16afd433068",
            "46ed4c2787384212b35e3eb2bb9f596b",
            "26851c0cdc6448fba1a62eed587b9aac",
            "7aa0058d3aba4372af3a69c85444cea5",
            "da5826350c2d48c6a7f962063d3a1f0a",
            "5069085b153444d0b1935e5f8dfd8bb4",
            "822bcd4687a5439692627a0c988a2784",
            "eed3e082b4eb4fceb90959c580583d21",
            "67dc00c7b3c64ae381992303ed9d7a7b",
            "c3b349a5eb694a23898a31fea6f7e11f",
            "d332945dd2e2460bb4814c208a9501bb",
            "e1b6da70bc1d41c2a7ccd4df04c0d657",
            "c3b800588f914588bebf91f5bd11d4c5",
            "25623de91f9d4d5f97f0f70dcd15f8b8",
            "575cf070c6614e608b888cc3e56fd411",
            "aca4feb8defc4cdd83f63256693b2c60"
          ]
        },
        "outputId": "7c7ceef2-92fb-49ef-ddb7-e78542a6c0ec"
      },
      "source": [
        "\n",
        "train_dataset = dsets.MNIST(root='./data', train=True, download=True, transform=composed)"
      ],
      "execution_count": 10,
      "outputs": [
        {
          "output_type": "stream",
          "text": [
            "Downloading http://yann.lecun.com/exdb/mnist/train-images-idx3-ubyte.gz to ./data/MNIST/raw/train-images-idx3-ubyte.gz\n"
          ],
          "name": "stdout"
        },
        {
          "output_type": "display_data",
          "data": {
            "application/vnd.jupyter.widget-view+json": {
              "model_id": "5ddc5971308a4c6994e9243f6b7d41af",
              "version_minor": 0,
              "version_major": 2
            },
            "text/plain": [
              "HBox(children=(FloatProgress(value=1.0, bar_style='info', max=1.0), HTML(value='')))"
            ]
          },
          "metadata": {
            "tags": []
          }
        },
        {
          "output_type": "stream",
          "text": [
            "Extracting ./data/MNIST/raw/train-images-idx3-ubyte.gz to ./data/MNIST/raw\n",
            "Downloading http://yann.lecun.com/exdb/mnist/train-labels-idx1-ubyte.gz to ./data/MNIST/raw/train-labels-idx1-ubyte.gz\n"
          ],
          "name": "stdout"
        },
        {
          "output_type": "display_data",
          "data": {
            "application/vnd.jupyter.widget-view+json": {
              "model_id": "36167114c3fa4ed58fb8934ef2444c83",
              "version_minor": 0,
              "version_major": 2
            },
            "text/plain": [
              "HBox(children=(FloatProgress(value=1.0, bar_style='info', max=1.0), HTML(value='')))"
            ]
          },
          "metadata": {
            "tags": []
          }
        },
        {
          "output_type": "stream",
          "text": [
            "Extracting ./data/MNIST/raw/train-labels-idx1-ubyte.gz to ./data/MNIST/raw\n",
            "Downloading http://yann.lecun.com/exdb/mnist/t10k-images-idx3-ubyte.gz to ./data/MNIST/raw/t10k-images-idx3-ubyte.gz\n"
          ],
          "name": "stdout"
        },
        {
          "output_type": "display_data",
          "data": {
            "application/vnd.jupyter.widget-view+json": {
              "model_id": "8c3040a2495a4188854fe16afd433068",
              "version_minor": 0,
              "version_major": 2
            },
            "text/plain": [
              "HBox(children=(FloatProgress(value=1.0, bar_style='info', max=1.0), HTML(value='')))"
            ]
          },
          "metadata": {
            "tags": []
          }
        },
        {
          "output_type": "stream",
          "text": [
            "Extracting ./data/MNIST/raw/t10k-images-idx3-ubyte.gz to ./data/MNIST/raw\n",
            "Downloading http://yann.lecun.com/exdb/mnist/t10k-labels-idx1-ubyte.gz to ./data/MNIST/raw/t10k-labels-idx1-ubyte.gz\n"
          ],
          "name": "stdout"
        },
        {
          "output_type": "display_data",
          "data": {
            "application/vnd.jupyter.widget-view+json": {
              "model_id": "67dc00c7b3c64ae381992303ed9d7a7b",
              "version_minor": 0,
              "version_major": 2
            },
            "text/plain": [
              "HBox(children=(FloatProgress(value=1.0, bar_style='info', max=1.0), HTML(value='')))"
            ]
          },
          "metadata": {
            "tags": []
          }
        },
        {
          "output_type": "stream",
          "text": [
            "Extracting ./data/MNIST/raw/t10k-labels-idx1-ubyte.gz to ./data/MNIST/raw\n",
            "Processing...\n",
            "Done!\n"
          ],
          "name": "stdout"
        },
        {
          "output_type": "stream",
          "text": [
            "/usr/local/lib/python3.6/dist-packages/torchvision/datasets/mnist.py:469: UserWarning: The given NumPy array is not writeable, and PyTorch does not support non-writeable tensors. This means you can write to the underlying (supposedly non-writeable) NumPy array using the tensor. You may want to copy the array to protect its data or make it writeable before converting it to a tensor. This type of warning will be suppressed for the rest of this program. (Triggered internally at  /pytorch/torch/csrc/utils/tensor_numpy.cpp:141.)\n",
            "  return torch.from_numpy(parsed.astype(m[2], copy=False)).view(*s)\n"
          ],
          "name": "stderr"
        }
      ]
    },
    {
      "cell_type": "markdown",
      "metadata": {
        "id": "p5nWpYNRGhT8",
        "colab_type": "text"
      },
      "source": [
        "Load the testing dataset by setting the parameters train  <code>False</code>."
      ]
    },
    {
      "cell_type": "code",
      "metadata": {
        "jupyter": {
          "outputs_hidden": false
        },
        "id": "fRDyZc8QGhT8",
        "colab_type": "code",
        "colab": {}
      },
      "source": [
        "# Make the validating \n",
        "\n",
        "validation_dataset = dsets.MNIST(root='./data', train=False, download=True, transform=composed)"
      ],
      "execution_count": 12,
      "outputs": []
    },
    {
      "cell_type": "markdown",
      "metadata": {
        "id": "DGQ50ICsGhT_",
        "colab_type": "text"
      },
      "source": [
        "We can see the data type is long."
      ]
    },
    {
      "cell_type": "code",
      "metadata": {
        "jupyter": {
          "outputs_hidden": false
        },
        "id": "sYUB4ZFtGhT_",
        "colab_type": "code",
        "colab": {
          "base_uri": "https://localhost:8080/",
          "height": 34
        },
        "outputId": "39f5b20c-aed2-454b-879a-0248244dc34f"
      },
      "source": [
        "# Show the data type for each element in dataset\n",
        "train_dataset[0][1]\n"
      ],
      "execution_count": 21,
      "outputs": [
        {
          "output_type": "execute_result",
          "data": {
            "text/plain": [
              "5"
            ]
          },
          "metadata": {
            "tags": []
          },
          "execution_count": 21
        }
      ]
    },
    {
      "cell_type": "markdown",
      "metadata": {
        "id": "7uxkJOnDGhUD",
        "colab_type": "text"
      },
      "source": [
        "Each element in the rectangular tensor corresponds to a number representing a pixel intensity as demonstrated by the following image."
      ]
    },
    {
      "cell_type": "markdown",
      "metadata": {
        "id": "g04CupUpGhUF",
        "colab_type": "text"
      },
      "source": [
        "<img src=\"https://s3-api.us-geo.objectstorage.softlayer.net/cf-courses-data/CognitiveClass/DL0110EN/notebook_images%20/chapter%206/6.2.1imagenet.png\" width=\"550\" alt=\"MNIST data image\">"
      ]
    },
    {
      "cell_type": "markdown",
      "metadata": {
        "id": "6wqBV-LVGhUF",
        "colab_type": "text"
      },
      "source": [
        "Print out the fourth label "
      ]
    },
    {
      "cell_type": "code",
      "metadata": {
        "id": "cMxItdlzGhUG",
        "colab_type": "code",
        "colab": {
          "base_uri": "https://localhost:8080/",
          "height": 34
        },
        "outputId": "18b90f86-0737-4425-d889-3fc9a38492ed"
      },
      "source": [
        "# The label for the fourth data element\n",
        "\n",
        "train_dataset[3][1]"
      ],
      "execution_count": 22,
      "outputs": [
        {
          "output_type": "execute_result",
          "data": {
            "text/plain": [
              "1"
            ]
          },
          "metadata": {
            "tags": []
          },
          "execution_count": 22
        }
      ]
    },
    {
      "cell_type": "markdown",
      "metadata": {
        "id": "_BqqhkZ0GhUJ",
        "colab_type": "text"
      },
      "source": [
        "Plot the fourth sample "
      ]
    },
    {
      "cell_type": "code",
      "metadata": {
        "jupyter": {
          "outputs_hidden": false
        },
        "id": "s2XDO0rdGhUJ",
        "colab_type": "code",
        "colab": {
          "base_uri": "https://localhost:8080/",
          "height": 281
        },
        "outputId": "296635de-8474-4a66-83bf-860381b93ed4"
      },
      "source": [
        "# The image for the fourth data element\n",
        "show_data(train_dataset[3])\n"
      ],
      "execution_count": 25,
      "outputs": [
        {
          "output_type": "display_data",
          "data": {
            "image/png": "[encoded data removed]",
            "text/plain": [
              "<Figure size 432x288 with 1 Axes>"
            ]
          },
          "metadata": {
            "tags": [],
            "needs_background": "light"
          }
        }
      ]
    },
    {
      "cell_type": "markdown",
      "metadata": {
        "id": "2EP7LN3wGhUM",
        "colab_type": "text"
      },
      "source": [
        "The fourth sample is a \"1\"."
      ]
    },
    {
      "cell_type": "markdown",
      "metadata": {
        "id": "iINrQFLkGhUN",
        "colab_type": "text"
      },
      "source": [
        "<!--Empty Space for separating topics-->"
      ]
    },
    {
      "cell_type": "markdown",
      "metadata": {
        "id": "Ncgpw7lGGhUN",
        "colab_type": "text"
      },
      "source": [
        "<h2 id=\"CNN\">Build a Convolutional Neural Network Class</h2>"
      ]
    },
    {
      "cell_type": "markdown",
      "metadata": {
        "id": "M_MzKdIiGhUO",
        "colab_type": "text"
      },
      "source": [
        "Build a Convolutional Network class with two Convolutional layers and one fully connected layer. Pre-determine the size of the final output matrix. The parameters in the constructor are the number of output channels for the first and second layer."
      ]
    },
    {
      "cell_type": "code",
      "metadata": {
        "id": "88R38R0jGhUO",
        "colab_type": "code",
        "colab": {}
      },
      "source": [
        "class CNN(nn.Module):\n",
        "    \n",
        "    # Contructor\n",
        "    def __init__(self, out_1=16, out_2=32):\n",
        "        super(CNN, self).__init__()\n",
        "        self.cnn1 = nn.Conv2d(in_channels=1, out_channels=out_1, kernel_size=5, padding=2)#convolutional layer 1\n",
        "        self.maxpool1=nn.MaxPool2d(kernel_size=2)#maxpool layer 1\n",
        "\n",
        "        self.cnn2 = nn.Conv2d(in_channels=out_1, out_channels=out_2, kernel_size=5, stride=1, padding=2)#convolutional layer 2\n",
        "        self.maxpool2=nn.MaxPool2d(kernel_size=2)#maxpool layer 2\n",
        "        self.fc1 = nn.Linear(out_2 * 4 * 4, 10)#fully connected layer supplied with flattened values as out_2*4*4 with 10 nuerons at output layer as it has 10 classes \n",
        "    \n",
        "    # Prediction\n",
        "    def forward(self, x):\n",
        "        x = self.cnn1(x)\n",
        "        x = torch.relu(x)\n",
        "        x = self.maxpool1(x)\n",
        "        x = self.cnn2(x)\n",
        "        x = torch.relu(x)\n",
        "        x = self.maxpool2(x)\n",
        "        x = x.view(x.size(0), -1)#flattening of matrix into the no of rows equal to the total sample no. & no of columns automatically calculated as we don't know that's why we specify -1  \n",
        "        # for further details follow link:---inferring shape via flatten operator--https://discuss.pytorch.org/t/inferring-shape-via-flatten-operator/138\n",
        "        x = self.fc1(x)\n",
        "        return x\n",
        "    \n",
        "    # Outputs in each steps\n",
        "    def activations(self, x):\n",
        "        #outputs activation this is not necessary\n",
        "        z1 = self.cnn1(x)\n",
        "        a1 = torch.relu(z1)\n",
        "        out = self.maxpool1(a1)\n",
        "        \n",
        "        z2 = self.cnn2(out)\n",
        "        a2 = torch.relu(z2)\n",
        "        out1 = self.maxpool2(a2)\n",
        "        out = out.view(out.size(0),-1)#flattening of matrix into the no of rows equal to the total sample no. & no of columns automatically calculated as we don't know that's why we specify -1  \n",
        "        return z1, a1, z2, a2, out1,out"
      ],
      "execution_count": 32,
      "outputs": []
    },
    {
      "cell_type": "code",
      "metadata": {
        "id": "WB0hoxaMOomx",
        "colab_type": "code",
        "colab": {}
      },
      "source": [
        "#just for example\n",
        "\"\"\"\n",
        "bs = 5\n",
        "x = torch.rand(bs, 3, 224, 224)\n",
        "x = x.view(x.size(0), -1)\n",
        "print(x.size(0))\n",
        "print(x.size(1))#outputed size of flattened vectors '3*224*224'\n",
        "\n",
        "\"\"\"\n"
      ],
      "execution_count": 26,
      "outputs": []
    },
    {
      "cell_type": "markdown",
      "metadata": {
        "id": "hWlA83wOGhUR",
        "colab_type": "text"
      },
      "source": [
        "<h2 id=\"Train\">Define the Convolutional Neural Network Classifier, Criterion function, Optimizer and Train the Model</h2> "
      ]
    },
    {
      "cell_type": "markdown",
      "metadata": {
        "id": "pQThdxwGGhUR",
        "colab_type": "text"
      },
      "source": [
        "There are 16 output channels for the first layer, and 32 output channels for the second layer "
      ]
    },
    {
      "cell_type": "code",
      "metadata": {
        "jupyter": {
          "outputs_hidden": false
        },
        "id": "SvfmsvovGhUS",
        "colab_type": "code",
        "colab": {}
      },
      "source": [
        "# Create the model object using CNN class\n",
        "\n",
        "model = CNN(out_1=16, out_2=32)"
      ],
      "execution_count": 33,
      "outputs": []
    },
    {
      "cell_type": "markdown",
      "metadata": {
        "id": "-fC7__oZGhUU",
        "colab_type": "text"
      },
      "source": [
        "Plot the model parameters for the kernels before training the kernels. The kernels are initialized randomly."
      ]
    },
    {
      "cell_type": "code",
      "metadata": {
        "id": "_kolp9gbGhUV",
        "colab_type": "code",
        "colab": {
          "base_uri": "https://localhost:8080/",
          "height": 562
        },
        "outputId": "1897d0c3-ecbb-4d7e-e937-8e3dd9db1889"
      },
      "source": [
        "# Plot the parameters\n",
        "\n",
        "plot_parameters(model.state_dict()['cnn1.weight'], number_rows=4, name=\"1st layer kernels before training \")#number_rows=4 & automatically column=4 as well because its has several 16 weights(as output channel has size 16) each with 5 by 5 matrix \n",
        "plot_parameters(model.state_dict()['cnn2.weight'], number_rows=4, name='2nd layer kernels before training' )#number_rows=4 & automatically column=8 as well because its has several 32 weights(as output channel has size 32) each with 5 by 5 matrix "
      ],
      "execution_count": 35,
      "outputs": [
        {
          "output_type": "display_data",
          "data": {
            "image/png": "[encoded data removed]",
            "text/plain": [
              "<Figure size 432x288 with 16 Axes>"
            ]
          },
          "metadata": {
            "tags": []
          }
        },
        {
          "output_type": "display_data",
          "data": {
            "image/png": "[encoded data removed]",
            "text/plain": [
              "<Figure size 432x288 with 32 Axes>"
            ]
          },
          "metadata": {
            "tags": []
          }
        }
      ]
    },
    {
      "cell_type": "markdown",
      "metadata": {
        "id": "9IAulRTNGhUX",
        "colab_type": "text"
      },
      "source": [
        "Define the loss function, the optimizer and the dataset loader "
      ]
    },
    {
      "cell_type": "code",
      "metadata": {
        "id": "W66NaQanGhUY",
        "colab_type": "code",
        "colab": {}
      },
      "source": [
        "criterion = nn.CrossEntropyLoss()\n",
        "learning_rate = 0.1\n",
        "optimizer = torch.optim.SGD(model.parameters(), lr = learning_rate)\n",
        "train_loader = torch.utils.data.DataLoader(dataset=train_dataset, batch_size=100)\n",
        "validation_loader = torch.utils.data.DataLoader(dataset=validation_dataset, batch_size=5000)"
      ],
      "execution_count": 36,
      "outputs": []
    },
    {
      "cell_type": "markdown",
      "metadata": {
        "id": "c50erCyCGhUa",
        "colab_type": "text"
      },
      "source": [
        "Train the model and determine validation accuracy technically test accuracy **(This may take a long time)**"
      ]
    },
    {
      "cell_type": "code",
      "metadata": {
        "id": "sLjAPbn2GhUb",
        "colab_type": "code",
        "colab": {}
      },
      "source": [
        "# Train the model\n",
        "\n",
        "n_epochs=3\n",
        "cost_list=[]\n",
        "accuracy_list=[]\n",
        "N_test=len(validation_dataset)\n",
        "COST=0\n",
        "\n",
        "def train_model(n_epochs):\n",
        "    for epoch in range(n_epochs):\n",
        "        COST=0\n",
        "        for x, y in train_loader:\n",
        "            optimizer.zero_grad()\n",
        "            z = model(x)\n",
        "            loss = criterion(z, y)\n",
        "            loss.backward()\n",
        "            optimizer.step()\n",
        "            COST+=loss.data\n",
        "        \n",
        "        cost_list.append(COST)\n",
        "        correct=0\n",
        "        #perform a prediction on the validation  data  \n",
        "        for x_test, y_test in validation_loader:\n",
        "            z = model(x_test)\n",
        "            _, yhat = torch.max(z.data, 1)\n",
        "            correct += (yhat == y_test).sum().item()\n",
        "        accuracy = correct / N_test\n",
        "        accuracy_list.append(accuracy)\n",
        "     \n",
        "train_model(n_epochs)"
      ],
      "execution_count": 37,
      "outputs": []
    },
    {
      "cell_type": "markdown",
      "metadata": {
        "id": "CSGJM_0TGhUd",
        "colab_type": "text"
      },
      "source": [
        "<!--Empty Space for separating topics-->"
      ]
    },
    {
      "cell_type": "markdown",
      "metadata": {
        "id": "MptgiH1FGhUe",
        "colab_type": "text"
      },
      "source": [
        "<h2 id=\"Result\">Analyze Results</h2> "
      ]
    },
    {
      "cell_type": "markdown",
      "metadata": {
        "id": "BPasUk0YGhUe",
        "colab_type": "text"
      },
      "source": [
        "Plot the loss and accuracy on the validation data:"
      ]
    },
    {
      "cell_type": "code",
      "metadata": {
        "id": "JD8jgaUPGhUf",
        "colab_type": "code",
        "colab": {
          "base_uri": "https://localhost:8080/",
          "height": 297
        },
        "outputId": "07cbdc44-300d-4103-92da-229315dae489"
      },
      "source": [
        "# Plot the loss and accuracy\n",
        "\n",
        "fig, ax1 = plt.subplots()\n",
        "color = 'tab:red'\n",
        "ax1.plot(cost_list, color=color)\n",
        "ax1.set_xlabel('epoch', color=color)\n",
        "ax1.set_ylabel('Cost', color=color)\n",
        "ax1.tick_params(axis='y', color=color)\n",
        "    \n",
        "ax2 = ax1.twinx()  \n",
        "color = 'tab:blue'\n",
        "ax2.set_ylabel('accuracy', color=color) \n",
        "ax2.set_xlabel('epoch', color=color)\n",
        "ax2.plot( accuracy_list, color=color)\n",
        "ax2.tick_params(axis='y', color=color)\n",
        "fig.tight_layout()"
      ],
      "execution_count": 38,
      "outputs": [
        {
          "output_type": "display_data",
          "data": {
            "image/png": "[encoded data removed]",
            "text/plain": [
              "<Figure size 432x288 with 2 Axes>"
            ]
          },
          "metadata": {
            "tags": [],
            "needs_background": "light"
          }
        }
      ]
    },
    {
      "cell_type": "markdown",
      "metadata": {
        "id": "MChx2bUtGhUh",
        "colab_type": "text"
      },
      "source": [
        "View the results of the parameters for the Convolutional layers "
      ]
    },
    {
      "cell_type": "code",
      "metadata": {
        "id": "GzzV0WyTGhUh",
        "colab_type": "code",
        "colab": {
          "base_uri": "https://localhost:8080/",
          "height": 487
        },
        "outputId": "b15e4ee0-fa72-48bf-d8dd-cc3c342cfb82"
      },
      "source": [
        "# Plot the channels\n",
        "\n",
        "plot_channels(model.state_dict()['cnn1.weight'])\n",
        "plot_channels(model.state_dict()['cnn2.weight'])"
      ],
      "execution_count": 39,
      "outputs": [
        {
          "output_type": "display_data",
          "data": {
            "image/png": "[encoded data removed]",
            "text/plain": [
              "<Figure size 432x288 with 16 Axes>"
            ]
          },
          "metadata": {
            "tags": [],
            "needs_background": "light"
          }
        },
        {
          "output_type": "display_data",
          "data": {
            "image/png": "[encoded data removed]",
            "text/plain": [
              "<Figure size 432x288 with 512 Axes>"
            ]
          },
          "metadata": {
            "tags": [],
            "needs_background": "light"
          }
        }
      ]
    },
    {
      "cell_type": "markdown",
      "metadata": {
        "id": "vEoxCUUrGhUk",
        "colab_type": "text"
      },
      "source": [
        "Consider the following sample "
      ]
    },
    {
      "cell_type": "code",
      "metadata": {
        "id": "P-TbdeXsGhUk",
        "colab_type": "code",
        "colab": {
          "base_uri": "https://localhost:8080/",
          "height": 281
        },
        "outputId": "7c075cfd-f061-4db7-aa3a-d956d4ec756c"
      },
      "source": [
        "# Show the second image\n",
        "\n",
        "show_data(train_dataset[1])"
      ],
      "execution_count": 40,
      "outputs": [
        {
          "output_type": "display_data",
          "data": {
            "image/png": "[encoded data removed]",
            "text/plain": [
              "<Figure size 432x288 with 1 Axes>"
            ]
          },
          "metadata": {
            "tags": [],
            "needs_background": "light"
          }
        }
      ]
    },
    {
      "cell_type": "markdown",
      "metadata": {
        "id": "wKE8xO3NGhUn",
        "colab_type": "text"
      },
      "source": [
        "Determine the activations "
      ]
    },
    {
      "cell_type": "code",
      "metadata": {
        "id": "ewhXUChiGhUo",
        "colab_type": "code",
        "colab": {
          "base_uri": "https://localhost:8080/",
          "height": 1000
        },
        "outputId": "080e0661-7c64-454e-a82a-44432d6631c3"
      },
      "source": [
        "# Use the CNN activations class to see the steps\n",
        "\n",
        "\n",
        "out = model.activations(train_dataset[1][0].view(1, 1, IMAGE_SIZE, IMAGE_SIZE))\n",
        "out"
      ],
      "execution_count": 42,
      "outputs": [
        {
          "output_type": "execute_result",
          "data": {
            "text/plain": [
              "(tensor([[[[ 0.0570,  0.0570,  0.0570,  ...,  0.0926,  0.0570,  0.0570],\n",
              "           [ 0.0570,  0.0570,  0.0570,  ...,  0.2337,  0.0743,  0.0570],\n",
              "           [ 0.0570,  0.0570,  0.0570,  ...,  0.4880,  0.1731,  0.0570],\n",
              "           ...,\n",
              "           [ 0.0570,  0.1357,  0.5032,  ...,  0.0560,  0.0570,  0.0570],\n",
              "           [ 0.0570,  0.0614,  0.1704,  ...,  0.0570,  0.0570,  0.0570],\n",
              "           [ 0.0570,  0.0553,  0.0440,  ...,  0.0570,  0.0570,  0.0570]],\n",
              " \n",
              "          [[-0.0101, -0.0101, -0.0101,  ...,  0.0488, -0.0101, -0.0101],\n",
              "           [-0.0101, -0.0101, -0.0101,  ...,  0.2521,  0.0185, -0.0101],\n",
              "           [-0.0101, -0.0101, -0.0101,  ...,  0.5173,  0.1565, -0.0101],\n",
              "           ...,\n",
              "           [-0.0101,  0.0835,  0.4678,  ..., -0.0111, -0.0101, -0.0101],\n",
              "           [-0.0101,  0.0362,  0.2418,  ..., -0.0101, -0.0101, -0.0101],\n",
              "           [-0.0101, -0.0037,  0.0483,  ..., -0.0101, -0.0101, -0.0101]],\n",
              " \n",
              "          [[-0.0040, -0.0040, -0.0040,  ...,  0.0106, -0.0040, -0.0040],\n",
              "           [-0.0040, -0.0040, -0.0040,  ...,  0.0185,  0.0031, -0.0040],\n",
              "           [-0.0040, -0.0040, -0.0040,  ..., -0.0772,  0.0149, -0.0040],\n",
              "           ...,\n",
              "           [-0.0040,  0.0151,  0.2639,  ...,  0.0026, -0.0040, -0.0040],\n",
              "           [-0.0040, -0.0211,  0.0175,  ..., -0.0040, -0.0040, -0.0040],\n",
              "           [-0.0040, -0.0078, -0.0294,  ..., -0.0040, -0.0040, -0.0040]],\n",
              " \n",
              "          ...,\n",
              " \n",
              "          [[ 0.0253,  0.0253,  0.0253,  ...,  0.0619,  0.0253,  0.0253],\n",
              "           [ 0.0253,  0.0253,  0.0253,  ...,  0.1794,  0.0430,  0.0253],\n",
              "           [ 0.0253,  0.0253,  0.0253,  ...,  0.3561,  0.1154,  0.0253],\n",
              "           ...,\n",
              "           [ 0.0253, -0.0284, -0.0232,  ...,  0.0232,  0.0253,  0.0253],\n",
              "           [ 0.0253, -0.0055, -0.0442,  ...,  0.0253,  0.0253,  0.0253],\n",
              "           [ 0.0253,  0.0206, -0.0067,  ...,  0.0253,  0.0253,  0.0253]],\n",
              " \n",
              "          [[ 0.1564,  0.1564,  0.1564,  ...,  0.1635,  0.1564,  0.1564],\n",
              "           [ 0.1564,  0.1564,  0.1564,  ...,  0.1526,  0.1599,  0.1564],\n",
              "           [ 0.1564,  0.1564,  0.1564,  ...,  0.0797,  0.1636,  0.1564],\n",
              "           ...,\n",
              "           [ 0.1564,  0.2481,  0.5511,  ...,  0.1597,  0.1564,  0.1564],\n",
              "           [ 0.1564,  0.1929,  0.3836,  ...,  0.1564,  0.1564,  0.1564],\n",
              "           [ 0.1564,  0.1607,  0.1989,  ...,  0.1564,  0.1564,  0.1564]],\n",
              " \n",
              "          [[ 0.1355,  0.1355,  0.1355,  ...,  0.1023,  0.1355,  0.1355],\n",
              "           [ 0.1355,  0.1355,  0.1355,  ..., -0.0024,  0.1194,  0.1355],\n",
              "           [ 0.1355,  0.1355,  0.1355,  ..., -0.1105,  0.0361,  0.1355],\n",
              "           ...,\n",
              "           [ 0.1355,  0.1318,  0.1687,  ...,  0.1290,  0.1355,  0.1355],\n",
              "           [ 0.1355,  0.1218,  0.1191,  ...,  0.1355,  0.1355,  0.1355],\n",
              "           [ 0.1355,  0.1329,  0.1178,  ...,  0.1355,  0.1355,  0.1355]]]],\n",
              "        grad_fn=<MkldnnConvolutionBackward>),\n",
              " tensor([[[[0.0570, 0.0570, 0.0570,  ..., 0.0926, 0.0570, 0.0570],\n",
              "           [0.0570, 0.0570, 0.0570,  ..., 0.2337, 0.0743, 0.0570],\n",
              "           [0.0570, 0.0570, 0.0570,  ..., 0.4880, 0.1731, 0.0570],\n",
              "           ...,\n",
              "           [0.0570, 0.1357, 0.5032,  ..., 0.0560, 0.0570, 0.0570],\n",
              "           [0.0570, 0.0614, 0.1704,  ..., 0.0570, 0.0570, 0.0570],\n",
              "           [0.0570, 0.0553, 0.0440,  ..., 0.0570, 0.0570, 0.0570]],\n",
              " \n",
              "          [[0.0000, 0.0000, 0.0000,  ..., 0.0488, 0.0000, 0.0000],\n",
              "           [0.0000, 0.0000, 0.0000,  ..., 0.2521, 0.0185, 0.0000],\n",
              "           [0.0000, 0.0000, 0.0000,  ..., 0.5173, 0.1565, 0.0000],\n",
              "           ...,\n",
              "           [0.0000, 0.0835, 0.4678,  ..., 0.0000, 0.0000, 0.0000],\n",
              "           [0.0000, 0.0362, 0.2418,  ..., 0.0000, 0.0000, 0.0000],\n",
              "           [0.0000, 0.0000, 0.0483,  ..., 0.0000, 0.0000, 0.0000]],\n",
              " \n",
              "          [[0.0000, 0.0000, 0.0000,  ..., 0.0106, 0.0000, 0.0000],\n",
              "           [0.0000, 0.0000, 0.0000,  ..., 0.0185, 0.0031, 0.0000],\n",
              "           [0.0000, 0.0000, 0.0000,  ..., 0.0000, 0.0149, 0.0000],\n",
              "           ...,\n",
              "           [0.0000, 0.0151, 0.2639,  ..., 0.0026, 0.0000, 0.0000],\n",
              "           [0.0000, 0.0000, 0.0175,  ..., 0.0000, 0.0000, 0.0000],\n",
              "           [0.0000, 0.0000, 0.0000,  ..., 0.0000, 0.0000, 0.0000]],\n",
              " \n",
              "          ...,\n",
              " \n",
              "          [[0.0253, 0.0253, 0.0253,  ..., 0.0619, 0.0253, 0.0253],\n",
              "           [0.0253, 0.0253, 0.0253,  ..., 0.1794, 0.0430, 0.0253],\n",
              "           [0.0253, 0.0253, 0.0253,  ..., 0.3561, 0.1154, 0.0253],\n",
              "           ...,\n",
              "           [0.0253, 0.0000, 0.0000,  ..., 0.0232, 0.0253, 0.0253],\n",
              "           [0.0253, 0.0000, 0.0000,  ..., 0.0253, 0.0253, 0.0253],\n",
              "           [0.0253, 0.0206, 0.0000,  ..., 0.0253, 0.0253, 0.0253]],\n",
              " \n",
              "          [[0.1564, 0.1564, 0.1564,  ..., 0.1635, 0.1564, 0.1564],\n",
              "           [0.1564, 0.1564, 0.1564,  ..., 0.1526, 0.1599, 0.1564],\n",
              "           [0.1564, 0.1564, 0.1564,  ..., 0.0797, 0.1636, 0.1564],\n",
              "           ...,\n",
              "           [0.1564, 0.2481, 0.5511,  ..., 0.1597, 0.1564, 0.1564],\n",
              "           [0.1564, 0.1929, 0.3836,  ..., 0.1564, 0.1564, 0.1564],\n",
              "           [0.1564, 0.1607, 0.1989,  ..., 0.1564, 0.1564, 0.1564]],\n",
              " \n",
              "          [[0.1355, 0.1355, 0.1355,  ..., 0.1023, 0.1355, 0.1355],\n",
              "           [0.1355, 0.1355, 0.1355,  ..., 0.0000, 0.1194, 0.1355],\n",
              "           [0.1355, 0.1355, 0.1355,  ..., 0.0000, 0.0361, 0.1355],\n",
              "           ...,\n",
              "           [0.1355, 0.1318, 0.1687,  ..., 0.1290, 0.1355, 0.1355],\n",
              "           [0.1355, 0.1218, 0.1191,  ..., 0.1355, 0.1355, 0.1355],\n",
              "           [0.1355, 0.1329, 0.1178,  ..., 0.1355, 0.1355, 0.1355]]]],\n",
              "        grad_fn=<ReluBackward0>),\n",
              " tensor([[[[-9.3710e-01, -1.4679e+00, -3.3462e-01,  ..., -8.3106e-01,\n",
              "            -1.2825e-01, -1.3410e-01],\n",
              "           [-1.4617e+00, -1.0943e-01,  1.1578e+00,  ...,  3.4062e+00,\n",
              "             3.7566e-01, -7.4404e-01],\n",
              "           [-1.1445e+00,  1.5712e+00,  4.5027e-01,  ...,  1.8541e+00,\n",
              "            -1.2639e+00, -6.9503e-01],\n",
              "           ...,\n",
              "           [-6.5737e-02,  1.2069e-01,  1.0082e+00,  ...,  9.3217e-02,\n",
              "            -1.1347e-01, -1.1340e+00],\n",
              "           [-5.4997e-01, -2.1745e-01,  1.4049e+00,  ..., -1.2633e+00,\n",
              "            -5.4439e-01, -7.5253e-01],\n",
              "           [-1.3878e+00, -1.7222e+00, -1.9105e+00,  ...,  1.4797e-01,\n",
              "             6.3539e-02, -1.6217e-01]],\n",
              " \n",
              "          [[-5.6667e-02, -7.1223e-01, -2.3699e+00,  ..., -4.6063e-01,\n",
              "            -2.1481e+00, -1.8101e+00],\n",
              "           [-4.6610e-01, -2.2274e+00, -3.0431e+00,  ...,  7.0210e-01,\n",
              "             5.3282e-02, -1.9329e+00],\n",
              "           [-1.3622e+00, -2.9678e+00, -7.3040e-01,  ...,  1.1440e+00,\n",
              "             2.5273e+00, -2.1995e+00],\n",
              "           ...,\n",
              "           [-3.0979e+00, -1.9294e+00,  1.1960e+00,  ..., -9.7381e-02,\n",
              "            -2.9613e-01, -1.2117e+00],\n",
              "           [-1.8871e+00, -8.4477e-02,  2.1722e+00,  ...,  3.1615e-01,\n",
              "            -2.8685e-01, -1.0437e+00],\n",
              "           [-1.8425e+00, -1.0296e+00,  5.4560e-02,  ..., -1.1914e+00,\n",
              "            -1.1897e+00, -8.1157e-01]],\n",
              " \n",
              "          [[-8.0842e-02,  4.2142e-02,  2.1906e+00,  ...,  2.7161e-01,\n",
              "            -4.2382e-01, -1.2317e-01],\n",
              "           [-2.4919e-01,  6.0595e-01,  1.2620e+00,  ..., -4.8331e+00,\n",
              "            -2.7852e+00, -1.2421e+00],\n",
              "           [-3.8596e-01, -2.6805e-02, -1.4426e+00,  ..., -3.5690e+00,\n",
              "            -3.1022e+00, -2.3725e+00],\n",
              "           ...,\n",
              "           [-8.9021e-01, -1.3660e+00, -3.7681e+00,  ..., -2.0913e+00,\n",
              "            -2.3392e+00, -9.6336e-01],\n",
              "           [-5.9838e-01, -1.0315e+00, -2.9459e+00,  ..., -1.4525e+00,\n",
              "            -2.6233e-01,  6.4038e-01],\n",
              "           [ 4.8608e-01,  1.9945e+00,  1.7703e+00,  ...,  1.1577e+00,\n",
              "             8.9639e-01,  5.5453e-01]],\n",
              " \n",
              "          ...,\n",
              " \n",
              "          [[ 3.4443e-02,  6.1009e-02,  3.0096e-01,  ...,  1.7001e-01,\n",
              "             7.9602e-01,  8.6785e-01],\n",
              "           [ 8.2629e-02,  1.6325e-01, -7.2193e-02,  ...,  5.6832e-01,\n",
              "             1.6277e+00,  7.6768e-01],\n",
              "           [ 1.7036e-01, -1.0625e-01, -4.8753e-01,  ...,  4.1911e-02,\n",
              "            -4.8722e-02,  1.4960e+00],\n",
              "           ...,\n",
              "           [-5.7971e-01, -2.8120e-01, -1.2810e+00,  ...,  9.0473e-01,\n",
              "             1.5742e-01, -4.9826e-01],\n",
              "           [-9.2403e-02, -3.1418e-01, -1.7341e+00,  ...,  2.4292e-01,\n",
              "            -2.1893e-02,  9.3867e-02],\n",
              "           [-2.3297e-01, -2.6935e-01, -8.1485e-01,  ...,  9.9047e-02,\n",
              "             1.0673e-01,  1.6084e-01]],\n",
              " \n",
              "          [[-1.8598e-01, -4.4508e-01, -4.6901e-01,  ..., -7.1844e-01,\n",
              "            -5.9805e-01, -3.1546e-01],\n",
              "           [-3.4508e-01, -4.1561e-01, -3.5556e-01,  ..., -4.8216e-01,\n",
              "            -4.6738e-01, -4.1070e-01],\n",
              "           [-4.2405e-01, -3.5079e-01, -5.8726e-01,  ..., -3.3131e-01,\n",
              "            -4.3866e-01, -4.3052e-01],\n",
              "           ...,\n",
              "           [-3.7332e-01, -5.1276e-01, -5.5680e-01,  ..., -7.0111e-01,\n",
              "            -2.5160e-01, -1.1446e-01],\n",
              "           [-2.4203e-01, -2.8803e-01, -8.0466e-02,  ..., -2.7631e-01,\n",
              "            -1.2269e-01, -2.8086e-01],\n",
              "           [-3.0052e-01, -4.2910e-01, -3.4994e-01,  ...,  9.0660e-02,\n",
              "            -4.7937e-02, -2.1014e-01]],\n",
              " \n",
              "          [[ 2.2253e-01,  2.7921e-01,  5.8378e-01,  ...,  1.5068e+00,\n",
              "             2.1881e+00,  1.0081e+00],\n",
              "           [ 1.5576e-01,  3.8025e-01,  5.7962e-01,  ..., -1.4288e+00,\n",
              "            -1.1128e-02,  1.4711e+00],\n",
              "           [ 8.5692e-02,  3.9671e-01, -2.3933e-01,  ..., -5.1801e-01,\n",
              "            -1.4835e+00,  1.9605e-01],\n",
              "           ...,\n",
              "           [-5.4703e-01, -1.3378e-01, -1.5176e+00,  ...,  3.2195e-01,\n",
              "             3.9491e-01, -1.2260e-01],\n",
              "           [ 3.8412e-03,  1.8520e+00,  9.3945e-02,  ..., -6.4906e-01,\n",
              "             2.1636e-01, -5.4896e-02],\n",
              "           [-7.7676e-01,  9.9518e-01,  3.1229e+00,  ...,  1.1830e+00,\n",
              "             3.3771e-01, -3.6619e-02]]]], grad_fn=<MkldnnConvolutionBackward>),\n",
              " tensor([[[[0.0000, 0.0000, 0.0000,  ..., 0.0000, 0.0000, 0.0000],\n",
              "           [0.0000, 0.0000, 1.1578,  ..., 3.4062, 0.3757, 0.0000],\n",
              "           [0.0000, 1.5712, 0.4503,  ..., 1.8541, 0.0000, 0.0000],\n",
              "           ...,\n",
              "           [0.0000, 0.1207, 1.0082,  ..., 0.0932, 0.0000, 0.0000],\n",
              "           [0.0000, 0.0000, 1.4049,  ..., 0.0000, 0.0000, 0.0000],\n",
              "           [0.0000, 0.0000, 0.0000,  ..., 0.1480, 0.0635, 0.0000]],\n",
              " \n",
              "          [[0.0000, 0.0000, 0.0000,  ..., 0.0000, 0.0000, 0.0000],\n",
              "           [0.0000, 0.0000, 0.0000,  ..., 0.7021, 0.0533, 0.0000],\n",
              "           [0.0000, 0.0000, 0.0000,  ..., 1.1440, 2.5273, 0.0000],\n",
              "           ...,\n",
              "           [0.0000, 0.0000, 1.1960,  ..., 0.0000, 0.0000, 0.0000],\n",
              "           [0.0000, 0.0000, 2.1722,  ..., 0.3161, 0.0000, 0.0000],\n",
              "           [0.0000, 0.0000, 0.0546,  ..., 0.0000, 0.0000, 0.0000]],\n",
              " \n",
              "          [[0.0000, 0.0421, 2.1906,  ..., 0.2716, 0.0000, 0.0000],\n",
              "           [0.0000, 0.6059, 1.2620,  ..., 0.0000, 0.0000, 0.0000],\n",
              "           [0.0000, 0.0000, 0.0000,  ..., 0.0000, 0.0000, 0.0000],\n",
              "           ...,\n",
              "           [0.0000, 0.0000, 0.0000,  ..., 0.0000, 0.0000, 0.0000],\n",
              "           [0.0000, 0.0000, 0.0000,  ..., 0.0000, 0.0000, 0.6404],\n",
              "           [0.4861, 1.9945, 1.7703,  ..., 1.1577, 0.8964, 0.5545]],\n",
              " \n",
              "          ...,\n",
              " \n",
              "          [[0.0344, 0.0610, 0.3010,  ..., 0.1700, 0.7960, 0.8678],\n",
              "           [0.0826, 0.1632, 0.0000,  ..., 0.5683, 1.6277, 0.7677],\n",
              "           [0.1704, 0.0000, 0.0000,  ..., 0.0419, 0.0000, 1.4960],\n",
              "           ...,\n",
              "           [0.0000, 0.0000, 0.0000,  ..., 0.9047, 0.1574, 0.0000],\n",
              "           [0.0000, 0.0000, 0.0000,  ..., 0.2429, 0.0000, 0.0939],\n",
              "           [0.0000, 0.0000, 0.0000,  ..., 0.0990, 0.1067, 0.1608]],\n",
              " \n",
              "          [[0.0000, 0.0000, 0.0000,  ..., 0.0000, 0.0000, 0.0000],\n",
              "           [0.0000, 0.0000, 0.0000,  ..., 0.0000, 0.0000, 0.0000],\n",
              "           [0.0000, 0.0000, 0.0000,  ..., 0.0000, 0.0000, 0.0000],\n",
              "           ...,\n",
              "           [0.0000, 0.0000, 0.0000,  ..., 0.0000, 0.0000, 0.0000],\n",
              "           [0.0000, 0.0000, 0.0000,  ..., 0.0000, 0.0000, 0.0000],\n",
              "           [0.0000, 0.0000, 0.0000,  ..., 0.0907, 0.0000, 0.0000]],\n",
              " \n",
              "          [[0.2225, 0.2792, 0.5838,  ..., 1.5068, 2.1881, 1.0081],\n",
              "           [0.1558, 0.3803, 0.5796,  ..., 0.0000, 0.0000, 1.4711],\n",
              "           [0.0857, 0.3967, 0.0000,  ..., 0.0000, 0.0000, 0.1961],\n",
              "           ...,\n",
              "           [0.0000, 0.0000, 0.0000,  ..., 0.3220, 0.3949, 0.0000],\n",
              "           [0.0038, 1.8520, 0.0939,  ..., 0.0000, 0.2164, 0.0000],\n",
              "           [0.0000, 0.9952, 3.1229,  ..., 1.1830, 0.3377, 0.0000]]]],\n",
              "        grad_fn=<ReluBackward0>),\n",
              " tensor([[[[0.0000e+00, 1.1578e+00, 3.4062e+00, 3.7566e-01],\n",
              "           [1.5712e+00, 4.5027e-01, 1.8541e+00, 1.2167e+00],\n",
              "           [1.2069e-01, 1.4437e+00, 1.3776e-01, 9.3932e-01],\n",
              "           [0.0000e+00, 1.4049e+00, 1.4797e-01, 6.3539e-02]],\n",
              " \n",
              "          [[0.0000e+00, 0.0000e+00, 7.0210e-01, 5.3282e-02],\n",
              "           [0.0000e+00, 1.1011e+00, 1.1440e+00, 2.5273e+00],\n",
              "           [0.0000e+00, 1.1960e+00, 0.0000e+00, 0.0000e+00],\n",
              "           [0.0000e+00, 2.1722e+00, 3.1615e-01, 0.0000e+00]],\n",
              " \n",
              "          [[6.0595e-01, 4.3884e+00, 2.8494e+00, 0.0000e+00],\n",
              "           [0.0000e+00, 0.0000e+00, 1.0586e+00, 0.0000e+00],\n",
              "           [1.2455e+00, 1.7321e+00, 8.2905e-01, 0.0000e+00],\n",
              "           [1.9945e+00, 1.7703e+00, 1.1577e+00, 8.9639e-01]],\n",
              " \n",
              "          [[4.8469e-01, 3.3000e-01, 0.0000e+00, 3.3571e-01],\n",
              "           [2.3562e-01, 1.4150e+00, 3.3617e+00, 1.6960e+00],\n",
              "           [0.0000e+00, 0.0000e+00, 0.0000e+00, 2.6605e+00],\n",
              "           [2.4374e+00, 3.7070e+00, 2.3450e+00, 2.0408e+00]],\n",
              " \n",
              "          [[0.0000e+00, 0.0000e+00, 0.0000e+00, 3.8747e-01],\n",
              "           [5.6835e-01, 3.4602e-01, 2.7750e+00, 2.9356e-01],\n",
              "           [0.0000e+00, 0.0000e+00, 0.0000e+00, 1.4225e+00],\n",
              "           [1.2701e+00, 4.0415e+00, 9.1080e-01, 0.0000e+00]],\n",
              " \n",
              "          [[0.0000e+00, 1.9498e-01, 5.2638e-01, 0.0000e+00],\n",
              "           [1.0433e+00, 8.8250e-01, 6.6843e-01, 0.0000e+00],\n",
              "           [3.7278e+00, 0.0000e+00, 1.6234e+00, 0.0000e+00],\n",
              "           [4.0830e-01, 0.0000e+00, 0.0000e+00, 7.8744e-01]],\n",
              " \n",
              "          [[0.0000e+00, 2.0681e+00, 7.9759e-01, 1.0342e+00],\n",
              "           [0.0000e+00, 7.2880e-01, 2.0971e+00, 8.9924e-02],\n",
              "           [1.3254e+00, 0.0000e+00, 2.4561e+00, 4.2196e-01],\n",
              "           [6.9060e-01, 1.1073e+00, 0.0000e+00, 4.8095e-01]],\n",
              " \n",
              "          [[1.9377e-01, 7.4006e-01, 0.0000e+00, 3.7871e-02],\n",
              "           [0.0000e+00, 1.3195e+00, 1.0801e+00, 8.2778e-03],\n",
              "           [1.8936e-01, 2.1787e-01, 0.0000e+00, 0.0000e+00],\n",
              "           [1.8607e+00, 1.7552e+00, 5.3001e-01, 0.0000e+00]],\n",
              " \n",
              "          [[0.0000e+00, 2.3025e-01, 1.2745e+00, 1.1191e+00],\n",
              "           [0.0000e+00, 0.0000e+00, 8.1283e-01, 1.7559e+00],\n",
              "           [0.0000e+00, 0.0000e+00, 1.1508e+00, 2.2044e-01],\n",
              "           [0.0000e+00, 0.0000e+00, 1.0379e+00, 1.2358e+00]],\n",
              " \n",
              "          [[1.1973e-02, 1.4748e+00, 3.8018e+00, 1.5779e+00],\n",
              "           [0.0000e+00, 0.0000e+00, 0.0000e+00, 0.0000e+00],\n",
              "           [9.9674e-02, 5.1513e+00, 3.1808e+00, 2.5403e+00],\n",
              "           [0.0000e+00, 0.0000e+00, 0.0000e+00, 1.0046e-01]],\n",
              " \n",
              "          [[2.5065e-01, 2.8047e+00, 2.5835e+00, 3.2973e-01],\n",
              "           [4.5678e-01, 5.6690e-01, 2.1204e+00, 6.5767e-01],\n",
              "           [8.5381e-01, 3.0143e+00, 1.1122e+00, 9.4775e-01],\n",
              "           [9.3121e-01, 3.1078e+00, 2.4263e+00, 1.4778e-01]],\n",
              " \n",
              "          [[1.3577e-01, 0.0000e+00, 1.9140e+00, 5.0056e-01],\n",
              "           [0.0000e+00, 0.0000e+00, 1.4698e+00, 2.8256e+00],\n",
              "           [0.0000e+00, 0.0000e+00, 1.1462e+00, 2.6304e+00],\n",
              "           [0.0000e+00, 6.5131e-01, 1.0521e+00, 0.0000e+00]],\n",
              " \n",
              "          [[0.0000e+00, 0.0000e+00, 6.3228e-01, 2.1225e-01],\n",
              "           [0.0000e+00, 1.1877e+00, 1.1933e+00, 3.0318e-01],\n",
              "           [0.0000e+00, 1.9227e-01, 0.0000e+00, 2.1714e+00],\n",
              "           [0.0000e+00, 2.6802e+00, 1.4500e-01, 1.3548e-01]],\n",
              " \n",
              "          [[1.7709e+00, 1.3198e+00, 0.0000e+00, 0.0000e+00],\n",
              "           [1.2219e+00, 1.3633e+00, 1.8416e+00, 0.0000e+00],\n",
              "           [0.0000e+00, 2.9366e-01, 2.5715e-02, 1.1851e+00],\n",
              "           [5.0023e-01, 1.1199e+00, 6.2196e-01, 8.5074e-01]],\n",
              " \n",
              "          [[1.1364e-01, 2.6547e+00, 3.1239e+00, 0.0000e+00],\n",
              "           [3.5452e-01, 0.0000e+00, 1.8289e-03, 2.9540e+00],\n",
              "           [2.5461e+00, 6.2042e+00, 0.0000e+00, 2.4789e+00],\n",
              "           [0.0000e+00, 0.0000e+00, 1.1236e-01, 2.6861e-01]],\n",
              " \n",
              "          [[1.5906e+00, 1.4075e+00, 3.1475e+00, 1.0820e+00],\n",
              "           [1.5872e+00, 2.5589e-01, 0.0000e+00, 9.7049e-01],\n",
              "           [9.4509e-02, 9.2748e-01, 3.8417e+00, 7.9549e-01],\n",
              "           [0.0000e+00, 0.0000e+00, 4.9815e-01, 1.8916e+00]],\n",
              " \n",
              "          [[0.0000e+00, 6.2627e-02, 4.7777e+00, 1.5484e+00],\n",
              "           [0.0000e+00, 3.1287e+00, 5.1019e+00, 1.9451e+00],\n",
              "           [4.0901e-01, 1.2278e+00, 8.5223e-01, 4.9538e-01],\n",
              "           [4.9506e-01, 9.4287e-01, 1.0204e+00, 0.0000e+00]],\n",
              " \n",
              "          [[0.0000e+00, 2.7591e+00, 2.9728e+00, 5.4495e-01],\n",
              "           [2.7495e+00, 3.0255e+00, 9.1301e-01, 0.0000e+00],\n",
              "           [9.9983e-01, 2.5981e+00, 3.7632e+00, 0.0000e+00],\n",
              "           [1.9762e+00, 7.5860e-01, 0.0000e+00, 0.0000e+00]],\n",
              " \n",
              "          [[0.0000e+00, 8.9975e-01, 4.1538e+00, 0.0000e+00],\n",
              "           [0.0000e+00, 0.0000e+00, 2.7273e+00, 0.0000e+00],\n",
              "           [5.2240e+00, 3.3621e+00, 3.3150e+00, 1.0882e+00],\n",
              "           [1.6262e+00, 0.0000e+00, 6.0080e-01, 9.5725e-01]],\n",
              " \n",
              "          [[0.0000e+00, 5.3867e-01, 3.4564e-01, 0.0000e+00],\n",
              "           [1.3064e+00, 6.1143e-01, 3.6624e+00, 6.2991e-01],\n",
              "           [3.2064e+00, 3.3755e-01, 2.9586e-01, 0.0000e+00],\n",
              "           [2.9918e+00, 2.6441e+00, 3.6816e+00, 4.1214e-01]],\n",
              " \n",
              "          [[8.5244e-02, 2.7535e+00, 2.6499e+00, 0.0000e+00],\n",
              "           [7.8870e-01, 2.5167e-01, 1.2265e+00, 9.9269e-01],\n",
              "           [0.0000e+00, 1.4752e+00, 1.0970e+00, 6.7587e-01],\n",
              "           [0.0000e+00, 0.0000e+00, 1.1683e+00, 1.3273e+00]],\n",
              " \n",
              "          [[0.0000e+00, 0.0000e+00, 0.0000e+00, 2.0813e-02],\n",
              "           [9.1709e-01, 1.3294e+00, 1.7222e+00, 1.4897e-01],\n",
              "           [1.6390e-01, 0.0000e+00, 0.0000e+00, 1.2065e-01],\n",
              "           [2.2721e+00, 2.7704e+00, 1.5743e+00, 0.0000e+00]],\n",
              " \n",
              "          [[5.8338e-01, 3.2980e-02, 9.3214e-01, 1.2798e+00],\n",
              "           [8.3711e-01, 1.0199e+00, 0.0000e+00, 2.6216e+00],\n",
              "           [3.3516e-01, 1.3019e+00, 5.7502e-01, 3.4486e-01],\n",
              "           [1.0804e+00, 7.1760e-01, 8.2711e-01, 0.0000e+00]],\n",
              " \n",
              "          [[3.2483e-01, 1.6332e-01, 0.0000e+00, 0.0000e+00],\n",
              "           [0.0000e+00, 3.2781e-02, 5.2259e-01, 0.0000e+00],\n",
              "           [2.4851e+00, 0.0000e+00, 5.6032e-04, 0.0000e+00],\n",
              "           [1.2392e+00, 2.3053e-01, 0.0000e+00, 0.0000e+00]],\n",
              " \n",
              "          [[1.0700e-01, 0.0000e+00, 0.0000e+00, 8.1835e-01],\n",
              "           [0.0000e+00, 0.0000e+00, 0.0000e+00, 6.7854e-01],\n",
              "           [0.0000e+00, 0.0000e+00, 0.0000e+00, 1.9915e-01],\n",
              "           [0.0000e+00, 0.0000e+00, 0.0000e+00, 2.8592e-01]],\n",
              " \n",
              "          [[3.9091e-01, 5.4786e-01, 0.0000e+00, 0.0000e+00],\n",
              "           [4.6679e-01, 2.0309e+00, 1.3806e+00, 1.0224e-01],\n",
              "           [4.2381e-01, 0.0000e+00, 0.0000e+00, 0.0000e+00],\n",
              "           [1.4201e+00, 3.9622e+00, 0.0000e+00, 0.0000e+00]],\n",
              " \n",
              "          [[0.0000e+00, 0.0000e+00, 0.0000e+00, 0.0000e+00],\n",
              "           [0.0000e+00, 0.0000e+00, 0.0000e+00, 0.0000e+00],\n",
              "           [4.7307e-02, 5.5018e-02, 0.0000e+00, 0.0000e+00],\n",
              "           [2.2501e-01, 0.0000e+00, 0.0000e+00, 0.0000e+00]],\n",
              " \n",
              "          [[3.3649e-01, 0.0000e+00, 1.4081e+00, 0.0000e+00],\n",
              "           [0.0000e+00, 4.1775e+00, 2.5455e+00, 1.3619e+00],\n",
              "           [2.9888e-01, 7.1410e-01, 3.8364e+00, 2.3369e-01],\n",
              "           [2.0397e+00, 4.0106e+00, 0.0000e+00, 2.0184e-01]],\n",
              " \n",
              "          [[0.0000e+00, 1.0447e+00, 2.9597e+00, 9.8200e-01],\n",
              "           [0.0000e+00, 0.0000e+00, 4.1699e+00, 2.6052e+00],\n",
              "           [2.1351e-01, 8.7544e-01, 0.0000e+00, 6.6532e-01],\n",
              "           [0.0000e+00, 2.7314e-01, 1.9054e+00, 0.0000e+00]],\n",
              " \n",
              "          [[1.6325e-01, 6.0353e-01, 5.6832e-01, 1.6277e+00],\n",
              "           [1.7036e-01, 0.0000e+00, 4.1911e-02, 1.4960e+00],\n",
              "           [0.0000e+00, 0.0000e+00, 9.8792e-01, 6.0080e-01],\n",
              "           [0.0000e+00, 0.0000e+00, 8.2132e-01, 1.6084e-01]],\n",
              " \n",
              "          [[0.0000e+00, 0.0000e+00, 0.0000e+00, 0.0000e+00],\n",
              "           [0.0000e+00, 0.0000e+00, 0.0000e+00, 0.0000e+00],\n",
              "           [0.0000e+00, 0.0000e+00, 0.0000e+00, 0.0000e+00],\n",
              "           [0.0000e+00, 0.0000e+00, 9.0660e-02, 0.0000e+00]],\n",
              " \n",
              "          [[3.8025e-01, 5.8378e-01, 1.5068e+00, 2.1881e+00],\n",
              "           [3.9671e-01, 4.7429e-01, 3.2365e+00, 1.9605e-01],\n",
              "           [0.0000e+00, 1.1551e+00, 2.7973e+00, 3.9491e-01],\n",
              "           [1.8520e+00, 3.3403e+00, 2.4359e+00, 3.3771e-01]]]],\n",
              "        grad_fn=<MaxPool2DWithIndicesBackward>),\n",
              " tensor([[0.0570, 0.0570, 0.0570,  ..., 0.1355, 0.1355, 0.1355]],\n",
              "        grad_fn=<ViewBackward>))"
            ]
          },
          "metadata": {
            "tags": []
          },
          "execution_count": 42
        }
      ]
    },
    {
      "cell_type": "markdown",
      "metadata": {
        "id": "3sCoCNrKGhUq",
        "colab_type": "text"
      },
      "source": [
        "Plot out the first set of activations "
      ]
    },
    {
      "cell_type": "code",
      "metadata": {
        "id": "kgjWd-gFGhUr",
        "colab_type": "code",
        "colab": {
          "base_uri": "https://localhost:8080/",
          "height": 262
        },
        "outputId": "e8686df2-3e2f-4e9a-9ce4-01a21bc85f8a"
      },
      "source": [
        "# Plot the outputs after the first CNN\n",
        "\n",
        "plot_activations(out[0], number_rows=4, name=\"Output after the 1st CNN\")"
      ],
      "execution_count": 43,
      "outputs": [
        {
          "output_type": "display_data",
          "data": {
            "image/png": "[encoded data removed]",
            "text/plain": [
              "<Figure size 432x288 with 16 Axes>"
            ]
          },
          "metadata": {
            "tags": []
          }
        }
      ]
    },
    {
      "cell_type": "markdown",
      "metadata": {
        "id": "NG5k91msGhUt",
        "colab_type": "text"
      },
      "source": [
        "The image below is the result after applying the relu activation function "
      ]
    },
    {
      "cell_type": "code",
      "metadata": {
        "id": "BFskJ7PdGhUt",
        "colab_type": "code",
        "colab": {
          "base_uri": "https://localhost:8080/",
          "height": 262
        },
        "outputId": "e30f4a0b-523b-4204-c89a-b7eca7134393"
      },
      "source": [
        "# Plot the outputs after the first Relu\n",
        "\n",
        "plot_activations(out[1], number_rows=4, name=\"Output after the 1st Relu\")"
      ],
      "execution_count": 44,
      "outputs": [
        {
          "output_type": "display_data",
          "data": {
            "image/png": "[encoded data removed]",
            "text/plain": [
              "<Figure size 432x288 with 16 Axes>"
            ]
          },
          "metadata": {
            "tags": []
          }
        }
      ]
    },
    {
      "cell_type": "markdown",
      "metadata": {
        "id": "yeUVR13zGhUw",
        "colab_type": "text"
      },
      "source": [
        "The image below is the result of the activation map after the second output layer."
      ]
    },
    {
      "cell_type": "code",
      "metadata": {
        "id": "pr44zLohGhUw",
        "colab_type": "code",
        "colab": {
          "base_uri": "https://localhost:8080/",
          "height": 262
        },
        "outputId": "9d3a499e-11cd-4fe3-eeba-c746ea63f801"
      },
      "source": [
        "# Plot the outputs after the second CNN\n",
        "\n",
        "plot_activations(out[2], number_rows=32 // 4, name=\"Output after the 2nd CNN\")"
      ],
      "execution_count": 45,
      "outputs": [
        {
          "output_type": "display_data",
          "data": {
            "image/png": "[encoded data removed]",
            "text/plain": [
              "<Figure size 432x288 with 32 Axes>"
            ]
          },
          "metadata": {
            "tags": []
          }
        }
      ]
    },
    {
      "cell_type": "markdown",
      "metadata": {
        "id": "P8fv4ZWMGhUz",
        "colab_type": "text"
      },
      "source": [
        "The image below is the result of the activation map after applying the second relu  "
      ]
    },
    {
      "cell_type": "code",
      "metadata": {
        "id": "pzuIYYNaGhUz",
        "colab_type": "code",
        "colab": {
          "base_uri": "https://localhost:8080/",
          "height": 256
        },
        "outputId": "4290cb6e-f53b-451a-86d0-6c88a771bd7a"
      },
      "source": [
        "# Plot the outputs after the second Relu\n",
        "\n",
        "plot_activations(out[3], number_rows=4, name=\"Output after the 2nd Relu\")"
      ],
      "execution_count": 46,
      "outputs": [
        {
          "output_type": "display_data",
          "data": {
            "image/png": "[encoded data removed]",
            "text/plain": [
              "<Figure size 432x288 with 32 Axes>"
            ]
          },
          "metadata": {
            "tags": []
          }
        }
      ]
    },
    {
      "cell_type": "markdown",
      "metadata": {
        "id": "a_Hgw4iaGhU2",
        "colab_type": "text"
      },
      "source": [
        "We can  see the result for the third sample "
      ]
    },
    {
      "cell_type": "code",
      "metadata": {
        "id": "5Fmd9jiOGhU3",
        "colab_type": "code",
        "colab": {
          "base_uri": "https://localhost:8080/",
          "height": 281
        },
        "outputId": "87d1058f-ebbb-4743-b863-ca63b7a8836d"
      },
      "source": [
        "# Show the third image\n",
        "\n",
        "show_data(train_dataset[2])"
      ],
      "execution_count": 47,
      "outputs": [
        {
          "output_type": "display_data",
          "data": {
            "image/png": "[encoded data removed]",
            "text/plain": [
              "<Figure size 432x288 with 1 Axes>"
            ]
          },
          "metadata": {
            "tags": [],
            "needs_background": "light"
          }
        }
      ]
    },
    {
      "cell_type": "code",
      "metadata": {
        "id": "BPGWM2wmGhU5",
        "colab_type": "code",
        "colab": {}
      },
      "source": [
        "# Use the CNN activations class to see the steps\n",
        "\n",
        "out = model.activations(train_dataset[2][0].view(1, 1, IMAGE_SIZE, IMAGE_SIZE))"
      ],
      "execution_count": 48,
      "outputs": []
    },
    {
      "cell_type": "code",
      "metadata": {
        "id": "03HMCHYxGhU7",
        "colab_type": "code",
        "colab": {
          "base_uri": "https://localhost:8080/",
          "height": 262
        },
        "outputId": "936ed9a7-e700-40ba-80ec-018e186b9cf6"
      },
      "source": [
        "# Plot the outputs after the first CNN\n",
        "\n",
        "plot_activations(out[0], number_rows=4, name=\"Output after the 1st CNN\")"
      ],
      "execution_count": 49,
      "outputs": [
        {
          "output_type": "display_data",
          "data": {
            "image/png": "[encoded data removed]",
            "text/plain": [
              "<Figure size 432x288 with 16 Axes>"
            ]
          },
          "metadata": {
            "tags": []
          }
        }
      ]
    },
    {
      "cell_type": "code",
      "metadata": {
        "id": "jYMmTDgmGhU-",
        "colab_type": "code",
        "colab": {
          "base_uri": "https://localhost:8080/",
          "height": 262
        },
        "outputId": "dea7aa3d-1b0f-4e64-df54-9b082fa01da9"
      },
      "source": [
        "# Plot the outputs after the first Relu\n",
        "\n",
        "plot_activations(out[1], number_rows=4, name=\"Output after the 1st Relu\")"
      ],
      "execution_count": 50,
      "outputs": [
        {
          "output_type": "display_data",
          "data": {
            "image/png": "[encoded data removed]",
            "text/plain": [
              "<Figure size 432x288 with 16 Axes>"
            ]
          },
          "metadata": {
            "tags": []
          }
        }
      ]
    },
    {
      "cell_type": "code",
      "metadata": {
        "id": "u26SL5G6GhVB",
        "colab_type": "code",
        "colab": {
          "base_uri": "https://localhost:8080/",
          "height": 262
        },
        "outputId": "484d38c8-fb3a-4ec0-e078-7fe05b01ffd8"
      },
      "source": [
        "# Plot the outputs after the second CNN\n",
        "\n",
        "plot_activations(out[2], number_rows=32 // 4, name=\"Output after the 2nd CNN\")"
      ],
      "execution_count": 51,
      "outputs": [
        {
          "output_type": "display_data",
          "data": {
            "image/png": "[encoded data removed]",
            "text/plain": [
              "<Figure size 432x288 with 32 Axes>"
            ]
          },
          "metadata": {
            "tags": []
          }
        }
      ]
    },
    {
      "cell_type": "code",
      "metadata": {
        "id": "t0YuNEQQGhVD",
        "colab_type": "code",
        "colab": {
          "base_uri": "https://localhost:8080/",
          "height": 256
        },
        "outputId": "06ac0ed0-4fa1-4ae3-cdb4-a4396ef4d918"
      },
      "source": [
        "# Plot the outputs after the second Relu\n",
        "\n",
        "plot_activations(out[3], number_rows=4, name=\"Output after the 2nd Relu\")"
      ],
      "execution_count": 52,
      "outputs": [
        {
          "output_type": "display_data",
          "data": {
            "image/png": "[encoded data removed]",
            "text/plain": [
              "<Figure size 432x288 with 32 Axes>"
            ]
          },
          "metadata": {
            "tags": []
          }
        }
      ]
    },
    {
      "cell_type": "markdown",
      "metadata": {
        "id": "TQcgItf-GhVF",
        "colab_type": "text"
      },
      "source": [
        "Plot the first five mis-classified samples:"
      ]
    },
    {
      "cell_type": "code",
      "metadata": {
        "id": "lEUstAkDGhVG",
        "colab_type": "code",
        "colab": {
          "base_uri": "https://localhost:8080/",
          "height": 1000
        },
        "outputId": "20ac03c2-9ddd-43b3-c10b-a7987fa402ec"
      },
      "source": [
        "# Plot the mis-classified samples\n",
        "\n",
        "count = 0\n",
        "for x, y in torch.utils.data.DataLoader(dataset=validation_dataset, batch_size=1):#in validation_dataloader\n",
        "    z = model(x)#firstly predicting through trained model\n",
        "    _, yhat = torch.max(z, 1)#implementing agrmax of softmax \n",
        "    if yhat != y:#mis predicted\n",
        "        show_data((x, y))\n",
        "        plt.show()#showing misclassfied image with its actual label\n",
        "        print(\"yhat: \",yhat)#printing predicted label\n",
        "        count += 1\n",
        "    if count >= 5:#up to 5\n",
        "        break  "
      ],
      "execution_count": 53,
      "outputs": [
        {
          "output_type": "display_data",
          "data": {
            "image/png": "[encoded data removed]",
            "text/plain": [
              "<Figure size 432x288 with 1 Axes>"
            ]
          },
          "metadata": {
            "tags": [],
            "needs_background": "light"
          }
        },
        {
          "output_type": "stream",
          "text": [
            "yhat:  tensor([5])\n"
          ],
          "name": "stdout"
        },
        {
          "output_type": "display_data",
          "data": {
            "image/png": "[encoded data removed]",
            "text/plain": [
              "<Figure size 432x288 with 1 Axes>"
            ]
          },
          "metadata": {
            "tags": [],
            "needs_background": "light"
          }
        },
        {
          "output_type": "stream",
          "text": [
            "yhat:  tensor([2])\n"
          ],
          "name": "stdout"
        },
        {
          "output_type": "display_data",
          "data": {
            "image/png": "[encoded data removed]",
            "text/plain": [
              "<Figure size 432x288 with 1 Axes>"
            ]
          },
          "metadata": {
            "tags": [],
            "needs_background": "light"
          }
        },
        {
          "output_type": "stream",
          "text": [
            "yhat:  tensor([0])\n"
          ],
          "name": "stdout"
        },
        {
          "output_type": "display_data",
          "data": {
            "image/png": "[encoded data removed]",
            "text/plain": [
              "<Figure size 432x288 with 1 Axes>"
            ]
          },
          "metadata": {
            "tags": [],
            "needs_background": "light"
          }
        },
        {
          "output_type": "stream",
          "text": [
            "yhat:  tensor([4])\n"
          ],
          "name": "stdout"
        },
        {
          "output_type": "display_data",
          "data": {
            "image/png": "[encoded data removed]",
            "text/plain": [
              "<Figure size 432x288 with 1 Axes>"
            ]
          },
          "metadata": {
            "tags": [],
            "needs_background": "light"
          }
        },
        {
          "output_type": "stream",
          "text": [
            "yhat:  tensor([1])\n"
          ],
          "name": "stdout"
        }
      ]
    }
  ]
}