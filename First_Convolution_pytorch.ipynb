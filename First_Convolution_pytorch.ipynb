{
  "nbformat": 4,
  "nbformat_minor": 0,
  "metadata": {
    "kernelspec": {
      "display_name": "Python 3",
      "language": "python",
      "name": "python3"
    },
    "language_info": {
      "codemirror_mode": {
        "name": "ipython",
        "version": 3
      },
      "file_extension": ".py",
      "mimetype": "text/x-python",
      "name": "python",
      "nbconvert_exporter": "python",
      "pygments_lexer": "ipython3",
      "version": "3.6.8"
    },
    "colab": {
      "name": "First_Convolution_pytorch.ipynb",
      "provenance": [],
      "collapsed_sections": [],
      "include_colab_link": true
    }
  },
  "cells": [
    {
      "cell_type": "markdown",
      "metadata": {
        "id": "view-in-github",
        "colab_type": "text"
      },
      "source": [
        "<a href=\"https://colab.research.google.com/github/vvicky30/Deep_neural_Networks_PyTorch/blob/master/First_Convolution_pytorch.ipynb\" target=\"_parent\"><img src=\"https://colab.research.google.com/assets/colab-badge.svg\" alt=\"Open In Colab\"/></a>"
      ]
    },
    {
      "cell_type": "markdown",
      "metadata": {
        "id": "aCb8TjU9G6Rt",
        "colab_type": "text"
      },
      "source": [
        "\n",
        "# Table of Contents\n",
        "In this lab, you will study convolution and review how the different operations change the relationship between input and output.\n",
        "\n",
        "<div class=\"alert alert-block alert-info\" style=\"margin-top: 20px\">\n",
        "<li><a href=\"#ref0\">What is Convolution  </a></li>\n",
        "\n",
        "<li><a href=\"#ref1\">Determining  the Size of Output</a></li>\n",
        "<li><a href=\"#ref2\">Stride</a></li>\n",
        "<li><a href=\"#ref3\">Zero Padding </a></li>\n",
        "<li><a href=\"#ref4\">Practice Questions </a></li>\n",
        "\n",
        "<br>\n",
        "<p></p>\n",
        "Estimated Time Needed: <strong>25 min</strong>\n",
        "</div>\n",
        "\n",
        "<hr>"
      ]
    },
    {
      "cell_type": "markdown",
      "metadata": {
        "id": "gK_Hm_sdG6Rv",
        "colab_type": "text"
      },
      "source": [
        "Import the following libraries: "
      ]
    },
    {
      "cell_type": "code",
      "metadata": {
        "id": "buoBOIKVG6Rw",
        "colab_type": "code",
        "colab": {}
      },
      "source": [
        "import torch \n",
        "import torch.nn as nn\n",
        "import matplotlib.pyplot as plt\n",
        "import numpy as np\n",
        "from scipy import ndimage, misc"
      ],
      "execution_count": 2,
      "outputs": []
    },
    {
      "cell_type": "markdown",
      "metadata": {
        "id": "jBz_698mG6R5",
        "colab_type": "text"
      },
      "source": [
        "<a id=\"ref0\"></a>\n",
        "<h2 align=center>What is Convolution?</h2>"
      ]
    },
    {
      "cell_type": "markdown",
      "metadata": {
        "id": "SVTHB_GTG6R6",
        "colab_type": "text"
      },
      "source": [
        "Convolution is a linear operation similar to a linear equation, dot product, or matrix multiplication. Convolution has several advantages for analyzing images. As discussed in the video, convolution preserves the relationship between elements, and it requires fewer parameters than other methods.  "
      ]
    },
    {
      "cell_type": "markdown",
      "metadata": {
        "id": "dRo0QFRkG6R7",
        "colab_type": "text"
      },
      "source": [
        "You can see the relationship between the different methods that you learned:\n",
        "\n",
        "$$linear \\ equation :y=wx+b$$\n",
        "$$linear\\ equation\\ with\\ multiple \\ variables \\ where \\ \\mathbf{x} \\ is \\ a \\ vector \\ \\mathbf{y}=\\mathbf{wx}+b$$\n",
        "$$ \\ matrix\\ multiplication \\ where \\ \\mathbf{X} \\ in \\ a \\ matrix \\ \\mathbf{y}=\\mathbf{wX}+\\mathbf{b} $$\n",
        "$$\\ convolution \\ where \\ \\mathbf{X} \\ and \\ \\mathbf{Y} \\ is \\ a \\ tensor \\  \\mathbf{Y}=\\mathbf{w}*\\mathbf{X}+\\mathbf{b}$$"
      ]
    },
    {
      "cell_type": "markdown",
      "metadata": {
        "id": "8adyQPCwG6R8",
        "colab_type": "text"
      },
      "source": [
        "In convolution, the parameter <b>w</b> is called a kernel. You can perform convolution on images where you let the variable image denote the variable X and w denote the parameter."
      ]
    },
    {
      "cell_type": "markdown",
      "metadata": {
        "id": "yf_N4FOUG6R8",
        "colab_type": "text"
      },
      "source": [
        "<img src = \"https://s3-api.us-geo.objectstorage.softlayer.net/cf-courses-data/CognitiveClass/DL0110EN/notebook_images%20/chapter%206/6.1.1xw.png\" width = 500, align = \"center\">"
      ]
    },
    {
      "cell_type": "markdown",
      "metadata": {
        "id": "O_lettvOG6R9",
        "colab_type": "text"
      },
      "source": [
        "Create a two-dimensional convolution object by using the constructor Conv2d, the parameter <code>in_channels</code> and <code>out_channels</code> will be used for this section, and the parameter kernel_size will be three.\n"
      ]
    },
    {
      "cell_type": "code",
      "metadata": {
        "id": "bJ0cb8XNG6R-",
        "colab_type": "code",
        "colab": {
          "base_uri": "https://localhost:8080/",
          "height": 34
        },
        "outputId": "cd2ae1e1-6d02-4cab-d61a-558b7dd95e79"
      },
      "source": [
        "conv = nn.Conv2d(in_channels=1, out_channels=1,kernel_size=3)\n",
        "conv"
      ],
      "execution_count": 3,
      "outputs": [
        {
          "output_type": "execute_result",
          "data": {
            "text/plain": [
              "Conv2d(1, 1, kernel_size=(3, 3), stride=(1, 1))"
            ]
          },
          "metadata": {
            "tags": []
          },
          "execution_count": 3
        }
      ]
    },
    {
      "cell_type": "markdown",
      "metadata": {
        "id": "qEqJ4FxaG6SB",
        "colab_type": "text"
      },
      "source": [
        "Because the parameters in <code>nn.Conv2d</code> are randomly initialized and learned through training, give them some values."
      ]
    },
    {
      "cell_type": "code",
      "metadata": {
        "id": "p_IBuObNG6SE",
        "colab_type": "code",
        "colab": {
          "base_uri": "https://localhost:8080/",
          "height": 67
        },
        "outputId": "10ca9e9d-359f-48fe-bd13-dc8da91bf110"
      },
      "source": [
        "conv.state_dict()['weight'][0][0]=torch.tensor([[1.0,0,-1.0],[2.0,0,-2.0],[1.0,0.0,-1.0]])#actually its the kernel matrix\n",
        "conv.state_dict()['bias'][0]=0.0\n",
        "conv.state_dict()#checking"
      ],
      "execution_count": 4,
      "outputs": [
        {
          "output_type": "execute_result",
          "data": {
            "text/plain": [
              "OrderedDict([('weight', tensor([[[[ 1.,  0., -1.],\n",
              "                        [ 2.,  0., -2.],\n",
              "                        [ 1.,  0., -1.]]]])), ('bias', tensor([0.]))])"
            ]
          },
          "metadata": {
            "tags": []
          },
          "execution_count": 4
        }
      ]
    },
    {
      "cell_type": "markdown",
      "metadata": {
        "id": "hvU5ssz7G6SH",
        "colab_type": "text"
      },
      "source": [
        "Create a dummy tensor to represent an image. The shape of the image is (1,1,5,5) where:\n",
        "\n",
        "(number of inputs, number of channels, number of rows, number of columns ) \n",
        "\n",
        "Set the third column to 1:"
      ]
    },
    {
      "cell_type": "code",
      "metadata": {
        "id": "pPCGUh7mG6SI",
        "colab_type": "code",
        "colab": {
          "base_uri": "https://localhost:8080/",
          "height": 101
        },
        "outputId": "133a0b58-5f39-4347-b0d3-61662a587b09"
      },
      "source": [
        "image=torch.zeros(1,1,5,5)#(1,1,5,5) where 1 is smaple no. and another 1 is no. if input chanel and 5,5 is 5by5 input matrix \n",
        "image[0,0,:,2]=1 #assigning 1 to the all rows with third column of input matrix\n",
        "image"
      ],
      "execution_count": 5,
      "outputs": [
        {
          "output_type": "execute_result",
          "data": {
            "text/plain": [
              "tensor([[[[0., 0., 1., 0., 0.],\n",
              "          [0., 0., 1., 0., 0.],\n",
              "          [0., 0., 1., 0., 0.],\n",
              "          [0., 0., 1., 0., 0.],\n",
              "          [0., 0., 1., 0., 0.]]]])"
            ]
          },
          "metadata": {
            "tags": []
          },
          "execution_count": 5
        }
      ]
    },
    {
      "cell_type": "markdown",
      "metadata": {
        "id": "X7tW6aLxG6SL",
        "colab_type": "text"
      },
      "source": [
        "Call the object <code>conv</code> on the tensor <code>image</code> as an input to perform the convolution and assign the result to the tensor <code>z</code>. "
      ]
    },
    {
      "cell_type": "code",
      "metadata": {
        "id": "QOWBPL_YG6SL",
        "colab_type": "code",
        "colab": {
          "base_uri": "https://localhost:8080/",
          "height": 67
        },
        "outputId": "863fa490-2213-4faf-f53b-68931e0f6078"
      },
      "source": [
        "z=conv(image)\n",
        "z"
      ],
      "execution_count": 6,
      "outputs": [
        {
          "output_type": "execute_result",
          "data": {
            "text/plain": [
              "tensor([[[[-4.,  0.,  4.],\n",
              "          [-4.,  0.,  4.],\n",
              "          [-4.,  0.,  4.]]]], grad_fn=<MkldnnConvolutionBackward>)"
            ]
          },
          "metadata": {
            "tags": []
          },
          "execution_count": 6
        }
      ]
    },
    {
      "cell_type": "markdown",
      "metadata": {
        "id": "t48JSWVsG6SQ",
        "colab_type": "text"
      },
      "source": [
        "The following animation illustrates the process, the kernel performs at the element-level multiplication on every element in the image in the corresponding region. The values are then added together. The kernel is then shifted and the process is repeated. "
      ]
    },
    {
      "cell_type": "markdown",
      "metadata": {
        "id": "EWUKL2VzG6SQ",
        "colab_type": "text"
      },
      "source": [
        "<img src = \"https://s3-api.us-geo.objectstorage.softlayer.net/cf-courses-data/CognitiveClass/DL0110EN/notebook_images%20/chapter%206/6.1.1convltuon.gif\" width = 500, align = \"center\">"
      ]
    },
    {
      "cell_type": "markdown",
      "metadata": {
        "id": "CvZdHIxwG6SR",
        "colab_type": "text"
      },
      "source": [
        "\n",
        "<a id=\"ref1\"></a>\n",
        "<h2 align=center>Determining  the Size of the Output</h2>"
      ]
    },
    {
      "cell_type": "markdown",
      "metadata": {
        "id": "XhZv2daVG6SR",
        "colab_type": "text"
      },
      "source": [
        "The size of the output is an important parameter. In this lab, you will assume square images. For rectangular images, the same formula can be used in for each dimension independently.  \n",
        "\n",
        "Let M be the size of the input and K be the size of the kernel. The size of the output is given by the following formula:"
      ]
    },
    {
      "cell_type": "markdown",
      "metadata": {
        "id": "PCGcpL9VG6SS",
        "colab_type": "text"
      },
      "source": [
        "$$M_{new}=M-K+1$$"
      ]
    },
    {
      "cell_type": "markdown",
      "metadata": {
        "id": "_yRdEUldG6ST",
        "colab_type": "text"
      },
      "source": [
        "Create a kernel of size 2:"
      ]
    },
    {
      "cell_type": "code",
      "metadata": {
        "id": "o3Xx8Z_VG6ST",
        "colab_type": "code",
        "colab": {
          "base_uri": "https://localhost:8080/",
          "height": 34
        },
        "outputId": "6ccbfeea-1543-46b8-c639-e091e08b6202"
      },
      "source": [
        "K=2\n",
        "conv1 = nn.Conv2d(in_channels=1, out_channels=1,kernel_size=K)\n",
        "conv1.state_dict()['weight'][0][0]=torch.tensor([[1.0,1.0],[1.0,1.0]])#initiaze kernel\n",
        "conv1.state_dict()['bias'][0]=0.0#bias\n",
        "conv1.state_dict()\n",
        "conv1"
      ],
      "execution_count": 7,
      "outputs": [
        {
          "output_type": "execute_result",
          "data": {
            "text/plain": [
              "Conv2d(1, 1, kernel_size=(2, 2), stride=(1, 1))"
            ]
          },
          "metadata": {
            "tags": []
          },
          "execution_count": 7
        }
      ]
    },
    {
      "cell_type": "markdown",
      "metadata": {
        "id": "3AKbrBy-G6SY",
        "colab_type": "text"
      },
      "source": [
        "Create an image of size 2:"
      ]
    },
    {
      "cell_type": "code",
      "metadata": {
        "id": "m10uXxXQG6SY",
        "colab_type": "code",
        "colab": {}
      },
      "source": [
        "M=4#size of input matrix\n",
        "image1=torch.ones(1,1,M,M)#4 by 4 matrix"
      ],
      "execution_count": 8,
      "outputs": []
    },
    {
      "cell_type": "markdown",
      "metadata": {
        "id": "LTyE1FriG6Sb",
        "colab_type": "text"
      },
      "source": [
        "<img src = \"https://s3-api.us-geo.objectstorage.softlayer.net/cf-courses-data/CognitiveClass/DL0110EN/notebook_images%20/chapter%206/6.1.1kernal2.png\" width = 500, align = \"center\">"
      ]
    },
    {
      "cell_type": "markdown",
      "metadata": {
        "id": "L9gd8I4tG6Sc",
        "colab_type": "text"
      },
      "source": [
        "The following equation provides the output:"
      ]
    },
    {
      "cell_type": "markdown",
      "metadata": {
        "id": "a8DsJpC9G6Sd",
        "colab_type": "text"
      },
      "source": [
        "$$M_{new}=M-K+1$$\n",
        "$$M_{new}=4-2+1$$\n",
        "$$M_{new}=3$$"
      ]
    },
    {
      "cell_type": "markdown",
      "metadata": {
        "id": "s7ym53cgG6Sd",
        "colab_type": "text"
      },
      "source": [
        "The following animation illustrates the process: The first iteration of the kernel overlay of the images produces one output. As the kernel is of size K, there are M-K  elements for the kernel to move in the horizontal direction. The same logic applies to the vertical direction.  "
      ]
    },
    {
      "cell_type": "markdown",
      "metadata": {
        "id": "Y7pKOwB7G6Se",
        "colab_type": "text"
      },
      "source": [
        "<img src = \"https://s3-api.us-geo.objectstorage.softlayer.net/cf-courses-data/CognitiveClass/DL0110EN/notebook_images%20/chapter%206/6.1.1outsize.gif\" width = 500, align = \"center\">"
      ]
    },
    {
      "cell_type": "markdown",
      "metadata": {
        "id": "V4m6XOb1G6Sf",
        "colab_type": "text"
      },
      "source": [
        "Perform the convolution and verify the size is correct:"
      ]
    },
    {
      "cell_type": "code",
      "metadata": {
        "id": "OnroA2-OG6Sf",
        "colab_type": "code",
        "colab": {
          "base_uri": "https://localhost:8080/",
          "height": 84
        },
        "outputId": "79d11584-2769-4980-ab75-04842bb9a150"
      },
      "source": [
        "z1=conv1(image1)\n",
        "print(\"z1:\",z1)\n",
        "print(\"shape:\",z1.shape[2:4])"
      ],
      "execution_count": 11,
      "outputs": [
        {
          "output_type": "stream",
          "text": [
            "z1: tensor([[[[4., 4., 4.],\n",
            "          [4., 4., 4.],\n",
            "          [4., 4., 4.]]]], grad_fn=<MkldnnConvolutionBackward>)\n",
            "shape: torch.Size([3, 3])\n"
          ],
          "name": "stdout"
        }
      ]
    },
    {
      "cell_type": "markdown",
      "metadata": {
        "id": "c5HUvVdfG6Si",
        "colab_type": "text"
      },
      "source": [
        "<a id=\"ref2\"></a>\n",
        "<h2 align=center>Stride parameter</h2>"
      ]
    },
    {
      "cell_type": "markdown",
      "metadata": {
        "id": "TfPVSg5dG6Sj",
        "colab_type": "text"
      },
      "source": [
        "The parameter stride changes the number of shifts the kernel moves per iteration. As a result, the output size also changes and is given by the following formula:"
      ]
    },
    {
      "cell_type": "markdown",
      "metadata": {
        "id": "eGujNM3jG6Sj",
        "colab_type": "text"
      },
      "source": [
        "$$M_{new}=\\dfrac{M-K}{stride}+1$$\n"
      ]
    },
    {
      "cell_type": "markdown",
      "metadata": {
        "id": "xtqQYQlqG6Sk",
        "colab_type": "text"
      },
      "source": [
        "Create a convolution object with a stride of 2:"
      ]
    },
    {
      "cell_type": "code",
      "metadata": {
        "id": "-Sp5T083G6Sk",
        "colab_type": "code",
        "colab": {
          "base_uri": "https://localhost:8080/",
          "height": 50
        },
        "outputId": "07164e1b-ffb8-4a22-bbdb-d2c18a805010"
      },
      "source": [
        "conv3 = nn.Conv2d(in_channels=1, out_channels=1,kernel_size=2,stride=2)\n",
        "\n",
        "conv3.state_dict()['weight'][0][0]=torch.tensor([[1.0,1.0],[1.0,1.0]])\n",
        "conv3.state_dict()['bias'][0]=0.0\n",
        "conv3.state_dict()"
      ],
      "execution_count": 12,
      "outputs": [
        {
          "output_type": "execute_result",
          "data": {
            "text/plain": [
              "OrderedDict([('weight', tensor([[[[1., 1.],\n",
              "                        [1., 1.]]]])), ('bias', tensor([0.]))])"
            ]
          },
          "metadata": {
            "tags": []
          },
          "execution_count": 12
        }
      ]
    },
    {
      "cell_type": "markdown",
      "metadata": {
        "id": "ba0m4PQ0G6Sn",
        "colab_type": "text"
      },
      "source": [
        "For an image with a size of 4, calculate the output size:"
      ]
    },
    {
      "cell_type": "markdown",
      "metadata": {
        "id": "8508nGURG6So",
        "colab_type": "text"
      },
      "source": [
        "$$M_{new}=\\dfrac{M-K}{stride}+1$$\n",
        "$$M_{new}=\\dfrac{4-2}{2}+1$$\n",
        "$$M_{new}=2$$"
      ]
    },
    {
      "cell_type": "markdown",
      "metadata": {
        "id": "TeU2Qim4G6So",
        "colab_type": "text"
      },
      "source": [
        "The following animation illustrates the process: The first iteration of the kernel overlay of the images produces one output. Because the kernel is of size K, there are M-K=2 elements. The stride is 2 because it will move 2 elements at a time. As a result, you divide M-K by the stride value 2:\n"
      ]
    },
    {
      "cell_type": "markdown",
      "metadata": {
        "id": "lgts25BSG6Sp",
        "colab_type": "text"
      },
      "source": [
        "<img src = \"https://s3-api.us-geo.objectstorage.softlayer.net/cf-courses-data/CognitiveClass/DL0110EN/notebook_images%20/chapter%206/6.1.1stride2.gif\" width = 500, align = \"center\">"
      ]
    },
    {
      "cell_type": "markdown",
      "metadata": {
        "id": "0b1TWv7UG6Sq",
        "colab_type": "text"
      },
      "source": [
        "Perform the convolution and verify the size is correct: "
      ]
    },
    {
      "cell_type": "code",
      "metadata": {
        "id": "8buAGK2wG6Sr",
        "colab_type": "code",
        "colab": {
          "base_uri": "https://localhost:8080/",
          "height": 67
        },
        "outputId": "ae24514c-d503-4ed0-f78f-2fcd976d0407"
      },
      "source": [
        "z3=conv3(image1)\n",
        "\n",
        "print(\"z3:\",z3)\n",
        "print(\"shape:\",z3.shape[2:4])"
      ],
      "execution_count": 13,
      "outputs": [
        {
          "output_type": "stream",
          "text": [
            "z3: tensor([[[[4., 4.],\n",
            "          [4., 4.]]]], grad_fn=<MkldnnConvolutionBackward>)\n",
            "shape: torch.Size([2, 2])\n"
          ],
          "name": "stdout"
        }
      ]
    },
    {
      "cell_type": "markdown",
      "metadata": {
        "id": "TqJK3HcyG6S1",
        "colab_type": "text"
      },
      "source": [
        "<a id='ref3'></a>\n",
        "<h2 align=center>Zero Padding </h2>\n"
      ]
    },
    {
      "cell_type": "markdown",
      "metadata": {
        "id": "2imGnT5eG6S2",
        "colab_type": "text"
      },
      "source": [
        "As you apply successive convolutions, the image will shrink. You can apply zero padding to keep the image at a reasonable size, which also holds information at the borders."
      ]
    },
    {
      "cell_type": "markdown",
      "metadata": {
        "id": "B-NucMAfG6S3",
        "colab_type": "text"
      },
      "source": [
        "In addition, you might not get integer values for the size of the kernel. Consider the following image:"
      ]
    },
    {
      "cell_type": "code",
      "metadata": {
        "id": "bPWDX7l4G6S4",
        "colab_type": "code",
        "colab": {
          "base_uri": "https://localhost:8080/",
          "height": 84
        },
        "outputId": "b821e4e9-1e31-4d2f-c29c-f904a52ef361"
      },
      "source": [
        "image1"
      ],
      "execution_count": 14,
      "outputs": [
        {
          "output_type": "execute_result",
          "data": {
            "text/plain": [
              "tensor([[[[1., 1., 1., 1.],\n",
              "          [1., 1., 1., 1.],\n",
              "          [1., 1., 1., 1.],\n",
              "          [1., 1., 1., 1.]]]])"
            ]
          },
          "metadata": {
            "tags": []
          },
          "execution_count": 14
        }
      ]
    },
    {
      "cell_type": "markdown",
      "metadata": {
        "id": "aRLb6ID9G6S6",
        "colab_type": "text"
      },
      "source": [
        "Try performing convolutions with the <code>kernel_size=2</code> and a <code>stride=3</code>. Use these values:\n",
        "\n",
        "$$M_{new}=\\dfrac{M-K}{stride}+1$$\n",
        "$$M_{new}=\\dfrac{4-2}{3}+1$$\n",
        "$$M_{new}=1.666$$"
      ]
    },
    {
      "cell_type": "code",
      "metadata": {
        "id": "gvviGWM5G6S7",
        "colab_type": "code",
        "colab": {
          "base_uri": "https://localhost:8080/",
          "height": 50
        },
        "outputId": "97a346b8-6532-4fc7-b08e-08941485bcbd"
      },
      "source": [
        "conv4 = nn.Conv2d(in_channels=1, out_channels=1,kernel_size=2,stride=3)\n",
        "conv4.state_dict()['weight'][0][0]=torch.tensor([[1.0,1.0],[1.0,1.0]])\n",
        "conv4.state_dict()['bias'][0]=0.0\n",
        "conv4.state_dict()\n",
        "z4=conv4(image1)\n",
        "print(\"z4:\",z4)\n",
        "print(\"z4:\",z4.shape[2:4])"
      ],
      "execution_count": 15,
      "outputs": [
        {
          "output_type": "stream",
          "text": [
            "z4: tensor([[[[4.]]]], grad_fn=<MkldnnConvolutionBackward>)\n",
            "z4: torch.Size([1, 1])\n"
          ],
          "name": "stdout"
        }
      ]
    },
    {
      "cell_type": "markdown",
      "metadata": {
        "id": "Dj5ThtLaG6S9",
        "colab_type": "text"
      },
      "source": [
        "You can add rows and columns of zeros around the image. This is called padding. In the constructor <code>Conv2d</code>, you specify the number of rows or columns of zeros that you want to add with the parameter padding. \n",
        "\n",
        "For a square image, you merely pad an extra column of zeros to the first column and the last column. Repeat the process for the rows. As a result, for a square image, the width and height is the original size plus 2 x the number of padding elements specified. You can then determine the size of the output after subsequent operations accordingly as shown in the following equation where you determine the size of an image after padding and then applying a convolutions kernel of size K."
      ]
    },
    {
      "cell_type": "markdown",
      "metadata": {
        "id": "TJCmF5m-G6S9",
        "colab_type": "text"
      },
      "source": [
        "$$M'=M+2 \\times padding$$\n",
        "$$M_{new}=M'-K+1$$"
      ]
    },
    {
      "cell_type": "markdown",
      "metadata": {
        "id": "sbhbY31YG6S-",
        "colab_type": "text"
      },
      "source": [
        "Consider the following example:"
      ]
    },
    {
      "cell_type": "code",
      "metadata": {
        "id": "QKCHUbRhG6S-",
        "colab_type": "code",
        "colab": {
          "base_uri": "https://localhost:8080/",
          "height": 67
        },
        "outputId": "cb1bb9d6-53a8-4d6c-c05f-0cf873061f6f"
      },
      "source": [
        "conv5 = nn.Conv2d(in_channels=1, out_channels=1,kernel_size=2,stride=3,padding=1)\n",
        "\n",
        "conv5.state_dict()['weight'][0][0]=torch.tensor([[1.0,1.0],[1.0,1.0]])\n",
        "conv5.state_dict()['bias'][0]=0.0\n",
        "conv5.state_dict()\n",
        "z5=conv5(image1)\n",
        "print(\"z5:\",z5)\n",
        "print(\"z5:\",z5.shape[2:4])#'[2:4]'for matrix size of activation map(Z)"
      ],
      "execution_count": 17,
      "outputs": [
        {
          "output_type": "stream",
          "text": [
            "z5: tensor([[[[1., 2.],\n",
            "          [2., 4.]]]], grad_fn=<MkldnnConvolutionBackward>)\n",
            "z5: torch.Size([2, 2])\n"
          ],
          "name": "stdout"
        }
      ]
    },
    {
      "cell_type": "code",
      "metadata": {
        "id": "EVbWjUavG6TA",
        "colab_type": "code",
        "colab": {
          "base_uri": "https://localhost:8080/",
          "height": 34
        },
        "outputId": "5ed7d88a-04ac-4fc5-da15-c356eda15b7c"
      },
      "source": [
        "z5.shape"
      ],
      "execution_count": 19,
      "outputs": [
        {
          "output_type": "execute_result",
          "data": {
            "text/plain": [
              "torch.Size([1, 1, 2, 2])"
            ]
          },
          "metadata": {
            "tags": []
          },
          "execution_count": 19
        }
      ]
    },
    {
      "cell_type": "markdown",
      "metadata": {
        "id": "-FHjeyAMG6TC",
        "colab_type": "text"
      },
      "source": [
        "The process is summarized in the following  animation: "
      ]
    },
    {
      "cell_type": "markdown",
      "metadata": {
        "id": "qwy4-i3JG6TC",
        "colab_type": "text"
      },
      "source": [
        "<img src = \"https://s3-api.us-geo.objectstorage.softlayer.net/cf-courses-data/CognitiveClass/DL0110EN/notebook_images%20/chapter%206/6.1.1zeropad.gif\" width = 500, align = \"center\">"
      ]
    },
    {
      "cell_type": "markdown",
      "metadata": {
        "id": "7bvn3HOLG6TD",
        "colab_type": "text"
      },
      "source": [
        "<a id='ref4'></a>\n",
        "<h2 align=center>Practice Question </h2>"
      ]
    },
    {
      "cell_type": "markdown",
      "metadata": {
        "id": "46Jj21gFG6TD",
        "colab_type": "text"
      },
      "source": [
        " A kernel of zeros with a kernel size=3  is applied to the following image: "
      ]
    },
    {
      "cell_type": "code",
      "metadata": {
        "id": "YYYHPJymG6TD",
        "colab_type": "code",
        "colab": {
          "base_uri": "https://localhost:8080/",
          "height": 84
        },
        "outputId": "52bb7a0b-2df3-4bb5-8aa3-b59541d2106d"
      },
      "source": [
        "Image=torch.randn((1,1,4,4))\n",
        "Image\n"
      ],
      "execution_count": 21,
      "outputs": [
        {
          "output_type": "execute_result",
          "data": {
            "text/plain": [
              "tensor([[[[-0.0467,  0.4800,  1.4843, -1.3149],\n",
              "          [ 0.0404,  1.0760, -0.6771,  0.7044],\n",
              "          [ 0.3549, -0.5052, -2.8416, -0.7208],\n",
              "          [ 0.4724,  1.4800,  0.9151, -0.6267]]]])"
            ]
          },
          "metadata": {
            "tags": []
          },
          "execution_count": 21
        }
      ]
    },
    {
      "cell_type": "markdown",
      "metadata": {
        "id": "RhoQtYEIG6TF",
        "colab_type": "text"
      },
      "source": [
        "Question: Without using the function, determine what the outputs values are as each element:"
      ]
    },
    {
      "cell_type": "markdown",
      "metadata": {
        "id": "lB_JFUcMG6TG",
        "colab_type": "text"
      },
      "source": [
        "Double-click __here__ for the solution.\n",
        "\n",
        "<!-- Your answer is below:\n",
        "As each element of the kernel is zero, and for every  output, the image is multiplied  by the  kernel, the result is always zero \n",
        "\n",
        "-->"
      ]
    },
    {
      "cell_type": "markdown",
      "metadata": {
        "id": "5ToJrtiaG6TH",
        "colab_type": "text"
      },
      "source": [
        "Question: Use the following convolution object to perform convolution on the tensor   <code>Image</code>:"
      ]
    },
    {
      "cell_type": "code",
      "metadata": {
        "id": "YxX_o0-gG6TH",
        "colab_type": "code",
        "colab": {
          "base_uri": "https://localhost:8080/",
          "height": 50
        },
        "outputId": "1086d837-bed8-421b-e118-a141cbf16668"
      },
      "source": [
        "conv = nn.Conv2d(in_channels=1, out_channels=1,kernel_size=3)\n",
        "conv.state_dict()['weight'][0][0]=torch.tensor([[0,0,0],[0,0,0],[0,0.0,0]])\n",
        "conv.state_dict()['bias'][0]=0.0\n",
        "conv(Image)"
      ],
      "execution_count": 22,
      "outputs": [
        {
          "output_type": "execute_result",
          "data": {
            "text/plain": [
              "tensor([[[[0., 0.],\n",
              "          [0., 0.]]]], grad_fn=<MkldnnConvolutionBackward>)"
            ]
          },
          "metadata": {
            "tags": []
          },
          "execution_count": 22
        }
      ]
    },
    {
      "cell_type": "markdown",
      "metadata": {
        "id": "WMHymszaG6TK",
        "colab_type": "text"
      },
      "source": [
        "Question: You have an image of size 4. The parameters are as follows  kernel_size=2,stride=2. What is the size of the output?"
      ]
    },
    {
      "cell_type": "code",
      "metadata": {
        "id": "NAmesXbKG6TK",
        "colab_type": "code",
        "colab": {}
      },
      "source": [
        "\"\"\"\n",
        "(M-K)/stride +1\n",
        "(4-2)/2 +1\n",
        "2\n",
        "\"\"\""
      ],
      "execution_count": null,
      "outputs": []
    }
  ]
}