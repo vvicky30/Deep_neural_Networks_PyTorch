{
  "nbformat": 4,
  "nbformat_minor": 0,
  "metadata": {
    "kernelspec": {
      "display_name": "Python",
      "language": "python",
      "name": "conda-env-python-py"
    },
    "language_info": {
      "codemirror_mode": {
        "name": "ipython",
        "version": 3
      },
      "file_extension": ".py",
      "mimetype": "text/x-python",
      "name": "python",
      "nbconvert_exporter": "python",
      "pygments_lexer": "ipython3",
      "version": "3.6.7"
    },
    "colab": {
      "name": "Multiple_Linear_Regression_Prediction_v2.ipynb",
      "provenance": [],
      "collapsed_sections": [],
      "include_colab_link": true
    }
  },
  "cells": [
    {
      "cell_type": "markdown",
      "metadata": {
        "id": "view-in-github",
        "colab_type": "text"
      },
      "source": [
        "<a href=\"https://colab.research.google.com/github/vvicky30/Deep_neural_Networks_PyToacrch/blob/master/Multiple_Linear_Regression_Prediction_v2.ipynb\" target=\"_parent\"><img src=\"https://colab.research.google.com/assets/colab-badge.svg\" alt=\"Open In Colab\"/></a>"
      ]
    },
    {
      "cell_type": "markdown",
      "metadata": {
        "id": "3oPq-9gswR16",
        "colab_type": "text"
      },
      "source": [
        "<h1>Multiple Linear Regression</h1>"
      ]
    },
    {
      "cell_type": "markdown",
      "metadata": {
        "id": "DchyfgABwR17",
        "colab_type": "text"
      },
      "source": [
        "<h2>Table of Contents</h2>\n",
        "<p>In this lab, you will review how to make a prediction in several different ways by using PyTorch.</p>\n",
        "\n",
        "<ul>\n",
        "    <li><a href=\"#Prediction\">Prediction</a></li>\n",
        "    <li><a href=\"#Linear\">Class Linear</a></li>\n",
        "    <li><a href=\"#Cust\">Build Custom Modules</a></li>\n",
        "</ul>\n",
        "\n",
        "<p>Estimated Time Needed: <strong>15 min</strong></p>\n",
        "\n",
        "<hr>"
      ]
    },
    {
      "cell_type": "markdown",
      "metadata": {
        "id": "-txr63I0wR18",
        "colab_type": "text"
      },
      "source": [
        "<h2>Preparation</h2>"
      ]
    },
    {
      "cell_type": "markdown",
      "metadata": {
        "id": "kRPAWzOrwR19",
        "colab_type": "text"
      },
      "source": [
        "Import the libraries and set the random seed."
      ]
    },
    {
      "cell_type": "code",
      "metadata": {
        "id": "4NdY5EHQwR19",
        "colab_type": "code",
        "colab": {
          "base_uri": "https://localhost:8080/",
          "height": 34
        },
        "outputId": "0b9998ed-0ea8-4e65-b4eb-7cf5c84d56ae"
      },
      "source": [
        "# Import the libraries and set the random seed\n",
        "\n",
        "from torch import nn\n",
        "import torch\n",
        "torch.manual_seed(1)"
      ],
      "execution_count": 2,
      "outputs": [
        {
          "output_type": "execute_result",
          "data": {
            "text/plain": [
              "<torch._C.Generator at 0x7f07e6630490>"
            ]
          },
          "metadata": {
            "tags": []
          },
          "execution_count": 2
        }
      ]
    },
    {
      "cell_type": "markdown",
      "metadata": {
        "id": "FZfNHpAawR2D",
        "colab_type": "text"
      },
      "source": [
        "<!--Empty Space for separating topics-->"
      ]
    },
    {
      "cell_type": "markdown",
      "metadata": {
        "id": "sHKy0--qwR2E",
        "colab_type": "text"
      },
      "source": [
        "<h2 id=\"Prediction\">Prediction</h2>"
      ]
    },
    {
      "cell_type": "markdown",
      "metadata": {
        "id": "VprmH0IGwR2F",
        "colab_type": "text"
      },
      "source": [
        "Set weight and bias."
      ]
    },
    {
      "cell_type": "code",
      "metadata": {
        "id": "FmNA-EtUwR2G",
        "colab_type": "code",
        "colab": {}
      },
      "source": [
        "# Set the weight and bias\n",
        "\n",
        "w = torch.tensor([[2.0], [3.0]], requires_grad=True)\n",
        "b = torch.tensor([[1.0]], requires_grad=True)"
      ],
      "execution_count": 3,
      "outputs": []
    },
    {
      "cell_type": "markdown",
      "metadata": {
        "id": "6caUSY_OwR2K",
        "colab_type": "text"
      },
      "source": [
        "Define the parameters. <code>torch.mm</code> uses matrix multiplication instead of scaler multiplication."
      ]
    },
    {
      "cell_type": "code",
      "metadata": {
        "id": "OoPmfJ8wwR2L",
        "colab_type": "code",
        "colab": {}
      },
      "source": [
        "# Define Prediction Function\n",
        "\n",
        "def forward(x):\n",
        "    yhat = torch.mm(x, w) + b\n",
        "    return yhat"
      ],
      "execution_count": 4,
      "outputs": []
    },
    {
      "cell_type": "markdown",
      "metadata": {
        "id": "s2r5qSS2wR2Q",
        "colab_type": "text"
      },
      "source": [
        "The function <code>forward</code> implements the following equation:"
      ]
    },
    {
      "cell_type": "markdown",
      "metadata": {
        "id": "9Y_3l_gmwR2R",
        "colab_type": "text"
      },
      "source": [
        "<img src=\"https://s3-api.us-geo.objectstorage.softlayer.net/cf-courses-data/CognitiveClass/DL0110EN/notebook_images%20/chapter2/2.6.1_matrix_eq.png\" width=\"600\" alt=\"Matrix Linear Regression\"/>"
      ]
    },
    {
      "cell_type": "markdown",
      "metadata": {
        "id": "dz8RxmZ0wR2R",
        "colab_type": "text"
      },
      "source": [
        "If we input a <i>1x2</i> tensor, because we have a <i>2x1</i> tensor as <code>w</code>, we will get a <i>1x1</i> tensor: "
      ]
    },
    {
      "cell_type": "code",
      "metadata": {
        "id": "gzlHmBcVwR2S",
        "colab_type": "code",
        "colab": {
          "base_uri": "https://localhost:8080/",
          "height": 34
        },
        "outputId": "7f466d0f-ffa5-486d-b606-67f8aeb46f06"
      },
      "source": [
        "# Calculate yhat\n",
        "\n",
        "x = torch.tensor([[1.0, 2.0]])\n",
        "yhat = forward(x)\n",
        "print(\"The result: \", yhat)"
      ],
      "execution_count": 5,
      "outputs": [
        {
          "output_type": "stream",
          "text": [
            "The result:  tensor([[9.]], grad_fn=<AddBackward0>)\n"
          ],
          "name": "stdout"
        }
      ]
    },
    {
      "cell_type": "markdown",
      "metadata": {
        "id": "gHr44aOFwR2W",
        "colab_type": "text"
      },
      "source": [
        "<img src = \"https://s3-api.us-geo.objectstorage.softlayer.net/cf-courses-data/CognitiveClass/DL0110EN/notebook_images%20/chapter2/2.6.1example.png\" width = \"300\" alt=\"Linear Regression Matrix Sample One\" />"
      ]
    },
    {
      "cell_type": "markdown",
      "metadata": {
        "id": "7tGTeSVqwR2X",
        "colab_type": "text"
      },
      "source": [
        "# Each row of the following tensor represents a sample:"
      ]
    },
    {
      "cell_type": "code",
      "metadata": {
        "id": "s8Dld3BVwR2Z",
        "colab_type": "code",
        "colab": {}
      },
      "source": [
        "# Sample tensor X\n",
        "\n",
        "X = torch.tensor([[1.0, 1.0], [1.0, 2.0], [1.0, 3.0]])"
      ],
      "execution_count": 6,
      "outputs": []
    },
    {
      "cell_type": "code",
      "metadata": {
        "id": "rw-TuOD8wR2e",
        "colab_type": "code",
        "colab": {
          "base_uri": "https://localhost:8080/",
          "height": 67
        },
        "outputId": "a433d408-9197-46c3-8909-bae6832cb694"
      },
      "source": [
        "# Make the prediction of X \n",
        "\n",
        "yhat = forward(X)# three outputs corresponds to the three input samples(each with two features)\n",
        "print(\"The result: \", yhat)"
      ],
      "execution_count": 7,
      "outputs": [
        {
          "output_type": "stream",
          "text": [
            "The result:  tensor([[ 6.],\n",
            "        [ 9.],\n",
            "        [12.]], grad_fn=<AddBackward0>)\n"
          ],
          "name": "stdout"
        }
      ]
    },
    {
      "cell_type": "markdown",
      "metadata": {
        "id": "xp87yijIwR2l",
        "colab_type": "text"
      },
      "source": [
        "<!--Empty Space for separating topics-->"
      ]
    },
    {
      "cell_type": "markdown",
      "metadata": {
        "id": "eGMoFZ-9wR2m",
        "colab_type": "text"
      },
      "source": [
        "<h2 id=\"Linear\">Class Linear</h2>"
      ]
    },
    {
      "cell_type": "markdown",
      "metadata": {
        "id": "p0bGQNgOwR2n",
        "colab_type": "text"
      },
      "source": [
        "We can use the linear class to make a prediction. You'll also use the linear class to build more complex models."
      ]
    },
    {
      "cell_type": "markdown",
      "metadata": {
        "id": "gYWbrKXNwR2o",
        "colab_type": "text"
      },
      "source": [
        "Let us create a model."
      ]
    },
    {
      "cell_type": "code",
      "metadata": {
        "id": "OAgEcoyHwR2p",
        "colab_type": "code",
        "colab": {}
      },
      "source": [
        "# Make a linear regression model using build-in function\n",
        "\n",
        "model = nn.Linear(2, 1)"
      ],
      "execution_count": 8,
      "outputs": []
    },
    {
      "cell_type": "markdown",
      "metadata": {
        "id": "pnZvDqmHwR2t",
        "colab_type": "text"
      },
      "source": [
        "Make a prediction with the first sample:"
      ]
    },
    {
      "cell_type": "code",
      "metadata": {
        "id": "ttTOOgxVwR2u",
        "colab_type": "code",
        "colab": {
          "base_uri": "https://localhost:8080/",
          "height": 34
        },
        "outputId": "abf2def0-0238-4f78-f51c-dc3a48331b71"
      },
      "source": [
        "# Make a prediction of x\n",
        "\n",
        "yhat = model(x)\n",
        "print(\"The result: \", yhat)"
      ],
      "execution_count": 9,
      "outputs": [
        {
          "output_type": "stream",
          "text": [
            "The result:  tensor([[-0.3969]], grad_fn=<AddmmBackward>)\n"
          ],
          "name": "stdout"
        }
      ]
    },
    {
      "cell_type": "markdown",
      "metadata": {
        "id": "XwH5MZDPwR2y",
        "colab_type": "text"
      },
      "source": [
        "Predict with multiple samples <code>X</code>: "
      ]
    },
    {
      "cell_type": "code",
      "metadata": {
        "id": "Oz2CQcJxwR2y",
        "colab_type": "code",
        "colab": {
          "base_uri": "https://localhost:8080/",
          "height": 67
        },
        "outputId": "f498ddfc-4e15-4a0d-de25-c2ad48409973"
      },
      "source": [
        "# Make a prediction of X\n",
        "\n",
        "yhat = model(X)# three outputs corresponds to the three input samples(each with two features)\n",
        "print(\"The result: \", yhat)"
      ],
      "execution_count": 10,
      "outputs": [
        {
          "output_type": "stream",
          "text": [
            "The result:  tensor([[-0.0848],\n",
            "        [-0.3969],\n",
            "        [-0.7090]], grad_fn=<AddmmBackward>)\n"
          ],
          "name": "stdout"
        }
      ]
    },
    {
      "cell_type": "markdown",
      "metadata": {
        "id": "mBD2e1PxwR22",
        "colab_type": "text"
      },
      "source": [
        "The function performs matrix multiplication as shown in this image:"
      ]
    },
    {
      "cell_type": "markdown",
      "metadata": {
        "id": "m6uC-l8xwR23",
        "colab_type": "text"
      },
      "source": [
        "<img src = \"https://s3-api.us-geo.objectstorage.softlayer.net/cf-courses-data/CognitiveClass/DL0110EN/notebook_images%20/chapter2/2.6.1multi_sample_example.png\" width = \"600\" alt=\"Linear Regression Matrix Sample One\" />"
      ]
    },
    {
      "cell_type": "markdown",
      "metadata": {
        "id": "HLBx3QItwR24",
        "colab_type": "text"
      },
      "source": [
        "<!--Empty Space for separating topics-->"
      ]
    },
    {
      "cell_type": "markdown",
      "metadata": {
        "id": "SFLq4UNcwR24",
        "colab_type": "text"
      },
      "source": [
        "<h2 id=\"Cust\">Build Custom Modules </h2>"
      ]
    },
    {
      "cell_type": "markdown",
      "metadata": {
        "id": "XMAS_ZJWwR25",
        "colab_type": "text"
      },
      "source": [
        "Now, you'll build a custom module. You can make more complex models by using this method later. "
      ]
    },
    {
      "cell_type": "code",
      "metadata": {
        "id": "xryoxFOAwR26",
        "colab_type": "code",
        "colab": {}
      },
      "source": [
        "# Create linear_regression Class\n",
        "\n",
        "class linear_regression(nn.Module):\n",
        "    \n",
        "    # Constructor\n",
        "    def __init__(self, input_size, output_size):\n",
        "        super(linear_regression, self).__init__()\n",
        "        self.linear = nn.Linear(input_size, output_size)\n",
        "    \n",
        "    # Prediction function\n",
        "    def forward(self, x):\n",
        "        yhat = self.linear(x)\n",
        "        return yhat"
      ],
      "execution_count": 11,
      "outputs": []
    },
    {
      "cell_type": "markdown",
      "metadata": {
        "id": "h3a1wXH1wR29",
        "colab_type": "text"
      },
      "source": [
        "Build a linear regression object. The input feature size is two. "
      ]
    },
    {
      "cell_type": "code",
      "metadata": {
        "id": "I2sz5zpywR2-",
        "colab_type": "code",
        "colab": {}
      },
      "source": [
        "model = linear_regression(2, 1)"
      ],
      "execution_count": 12,
      "outputs": []
    },
    {
      "cell_type": "markdown",
      "metadata": {
        "id": "UxqdP75ewR3B",
        "colab_type": "text"
      },
      "source": [
        "This will input the following equation:"
      ]
    },
    {
      "cell_type": "markdown",
      "metadata": {
        "id": "EitQNyynwR3C",
        "colab_type": "text"
      },
      "source": [
        "<img src=\"https://s3-api.us-geo.objectstorage.softlayer.net/cf-courses-data/CognitiveClass/DL0110EN/notebook_images%20/chapter2/2.6.1_matrix_eq.png\" width=\"600\" alt=\"Matrix Linear Regression\" />"
      ]
    },
    {
      "cell_type": "markdown",
      "metadata": {
        "id": "CIpvI2jawR3C",
        "colab_type": "text"
      },
      "source": [
        "You can see the randomly initialized parameters by using the <code>parameters()</code> method:"
      ]
    },
    {
      "cell_type": "code",
      "metadata": {
        "id": "nCa7rChLwR3D",
        "colab_type": "code",
        "colab": {
          "base_uri": "https://localhost:8080/",
          "height": 67
        },
        "outputId": "9e6f86f2-64c8-473f-9347-85b30fa7d8fa"
      },
      "source": [
        "# Print model parameters\n",
        "\n",
        "print(\"The parameters: \", list(model.parameters()))  # we can osee that thire are two wiights coreesponds to two input_size(two features)"
      ],
      "execution_count": 13,
      "outputs": [
        {
          "output_type": "stream",
          "text": [
            "The parameters:  [Parameter containing:\n",
            "tensor([[ 0.3319, -0.6657]], requires_grad=True), Parameter containing:\n",
            "tensor([0.4241], requires_grad=True)]\n"
          ],
          "name": "stdout"
        }
      ]
    },
    {
      "cell_type": "markdown",
      "metadata": {
        "id": "m7L3zZw-wR3H",
        "colab_type": "text"
      },
      "source": [
        "You can also see the parameters by using the <code>state_dict()</code> method:"
      ]
    },
    {
      "cell_type": "code",
      "metadata": {
        "id": "BgEP3PxjwR3I",
        "colab_type": "code",
        "colab": {
          "base_uri": "https://localhost:8080/",
          "height": 34
        },
        "outputId": "2965d974-2125-4291-fca9-5b13c63eda85"
      },
      "source": [
        "# Print model parameters\n",
        "\n",
        "print(\"The parameters: \", model.state_dict())"
      ],
      "execution_count": 14,
      "outputs": [
        {
          "output_type": "stream",
          "text": [
            "The parameters:  OrderedDict([('linear.weight', tensor([[ 0.3319, -0.6657]])), ('linear.bias', tensor([0.4241]))])\n"
          ],
          "name": "stdout"
        }
      ]
    },
    {
      "cell_type": "markdown",
      "metadata": {
        "id": "jWMA6havwR3M",
        "colab_type": "text"
      },
      "source": [
        "Now we input a 1x2 tensor, and we will get a 1x1 tensor."
      ]
    },
    {
      "cell_type": "code",
      "metadata": {
        "id": "qAO2BRRbwR3M",
        "colab_type": "code",
        "colab": {
          "base_uri": "https://localhost:8080/",
          "height": 34
        },
        "outputId": "6171c21b-62cf-4c1a-dac0-6d59aefb2b07"
      },
      "source": [
        "# Make a prediction of x\n",
        "\n",
        "yhat = model(x)\n",
        "print(\"The result: \", yhat)#only one 'coz thire is only one input sample "
      ],
      "execution_count": 15,
      "outputs": [
        {
          "output_type": "stream",
          "text": [
            "The result:  tensor([[-0.5754]], grad_fn=<AddmmBackward>)\n"
          ],
          "name": "stdout"
        }
      ]
    },
    {
      "cell_type": "markdown",
      "metadata": {
        "id": "H-fdG7MSwR3Q",
        "colab_type": "text"
      },
      "source": [
        "The shape of the output is shown in the following image: "
      ]
    },
    {
      "cell_type": "markdown",
      "metadata": {
        "id": "tRnVh65swR3R",
        "colab_type": "text"
      },
      "source": [
        "<img src=\"https://s3-api.us-geo.objectstorage.softlayer.net/cf-courses-data/CognitiveClass/DL0110EN/notebook_images%20/chapter2/2.6.1_matrix_eq.png\" width=\"600\" alt=\"Matrix Linear Regression\" />"
      ]
    },
    {
      "cell_type": "markdown",
      "metadata": {
        "id": "Tgp8RF-hwR3S",
        "colab_type": "text"
      },
      "source": [
        "Make a prediction for multiple samples:"
      ]
    },
    {
      "cell_type": "code",
      "metadata": {
        "id": "lta87dGiwR3S",
        "colab_type": "code",
        "colab": {
          "base_uri": "https://localhost:8080/",
          "height": 67
        },
        "outputId": "d0557deb-bf78-452b-c488-54bbecfc5e26"
      },
      "source": [
        "# Make a prediction of X\n",
        "\n",
        "yhat = model(X)\n",
        "print(\"The result: \", yhat)"
      ],
      "execution_count": 17,
      "outputs": [
        {
          "output_type": "stream",
          "text": [
            "The result:  tensor([[ 0.0903],\n",
            "        [-0.5754],\n",
            "        [-1.2411]], grad_fn=<AddmmBackward>)\n"
          ],
          "name": "stdout"
        }
      ]
    },
    {
      "cell_type": "markdown",
      "metadata": {
        "id": "0eLXaMdfwR3V",
        "colab_type": "text"
      },
      "source": [
        "The shape is shown in the following image: \n"
      ]
    },
    {
      "cell_type": "markdown",
      "metadata": {
        "id": "MK2Y8qWKwR3W",
        "colab_type": "text"
      },
      "source": [
        "<img src=\"https://s3-api.us-geo.objectstorage.softlayer.net/cf-courses-data/CognitiveClass/DL0110EN/notebook_images%20/chapter2/2.6.1Multi_sample.png\" width=\"600\" alt=\"Multiple Samples Linear Regression\" />"
      ]
    },
    {
      "cell_type": "markdown",
      "metadata": {
        "id": "WCbOJKVHwR3X",
        "colab_type": "text"
      },
      "source": [
        "<!--Empty Space for separating topics-->"
      ]
    },
    {
      "cell_type": "markdown",
      "metadata": {
        "id": "CO0opFt6wR3X",
        "colab_type": "text"
      },
      "source": [
        "<h3>Practice</h3>"
      ]
    },
    {
      "cell_type": "markdown",
      "metadata": {
        "id": "tXL7_ksqwR3Y",
        "colab_type": "text"
      },
      "source": [
        "Build a model or object of type <code>linear_regression</code>. Using the <code>linear_regression</code> object will predict the following tensor: "
      ]
    },
    {
      "cell_type": "code",
      "metadata": {
        "id": "Z_69uuRRwR3Y",
        "colab_type": "code",
        "colab": {
          "base_uri": "https://localhost:8080/",
          "height": 50
        },
        "outputId": "c563de00-4716-4b8c-d57f-3019cd412341"
      },
      "source": [
        "# Practice: Build a model to predict the follow tensor.\n",
        "\n",
        "X = torch.tensor([[11.0, 12.0, 13, 14], [11, 12, 13, 14]])\n",
        "model = linear_regression(4, 1)\n",
        "yhat = model(X)\n",
        "print(\"The result: \", yhat)"
      ],
      "execution_count": 18,
      "outputs": [
        {
          "output_type": "stream",
          "text": [
            "The result:  tensor([[2.1062],\n",
            "        [2.1062]], grad_fn=<AddmmBackward>)\n"
          ],
          "name": "stdout"
        }
      ]
    }
  ]
}