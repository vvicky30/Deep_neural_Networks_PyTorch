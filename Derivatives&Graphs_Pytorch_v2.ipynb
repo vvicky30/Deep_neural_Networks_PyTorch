{
  "nbformat": 4,
  "nbformat_minor": 0,
  "metadata": {
    "kernelspec": {
      "display_name": "Python 3",
      "language": "python",
      "name": "python3"
    },
    "language_info": {
      "codemirror_mode": {
        "name": "ipython",
        "version": 3
      },
      "file_extension": ".py",
      "mimetype": "text/x-python",
      "name": "python",
      "nbconvert_exporter": "python",
      "pygments_lexer": "ipython3",
      "version": "3.6.8"
    },
    "colab": {
      "name": "Derivatives&Graphs_Pytorch_v2.ipynb",
      "provenance": [],
      "collapsed_sections": [],
      "include_colab_link": true
    }
  },
  "cells": [
    {
      "cell_type": "markdown",
      "metadata": {
        "id": "view-in-github",
        "colab_type": "text"
      },
      "source": [
        "<a href=\"https://colab.research.google.com/github/vvicky30/Deep_neural_Networks_PyToacrch/blob/master/Derivatives%26Graphs_Pytorch_v2.ipynb\" target=\"_parent\"><img src=\"https://colab.research.google.com/assets/colab-badge.svg\" alt=\"Open In Colab\"/></a>"
      ]
    },
    {
      "cell_type": "markdown",
      "metadata": {
        "id": "2oYmLcr3MpS1",
        "colab_type": "text"
      },
      "source": [
        "<h1>Differentiation in PyTorch</h1> "
      ]
    },
    {
      "cell_type": "markdown",
      "metadata": {
        "id": "pmgMNan5MpS3",
        "colab_type": "text"
      },
      "source": [
        "<h2>Table of Contents</h2>\n",
        "\n",
        "<p>In this lab, you will learn the basics of differentiation.</p> \n",
        "\n",
        "<ul>\n",
        "    <li><a href=\"#Derivative\">Derivatives</a></li>\n",
        "    <li><a href=\"#Partial_Derivative\">Partial Derivatives</a></li>\n",
        "</ul>\n",
        "\n",
        "<p>Estimated Time Needed: <strong>25 min</strong></p>\n",
        "<hr>"
      ]
    },
    {
      "cell_type": "markdown",
      "metadata": {
        "id": "xl43JXe1MpS3",
        "colab_type": "text"
      },
      "source": [
        "<h2>Preparation</h2>"
      ]
    },
    {
      "cell_type": "markdown",
      "metadata": {
        "id": "LnR0wTFRMpS4",
        "colab_type": "text"
      },
      "source": [
        "The following are the libraries we are going to use for this lab."
      ]
    },
    {
      "cell_type": "code",
      "metadata": {
        "id": "opJ1y4siMpS4",
        "colab_type": "code",
        "colab": {}
      },
      "source": [
        "# These are the libraries will be useing for this lab.\n",
        "\n",
        "import torch \n",
        "import matplotlib.pylab as plt\n"
      ],
      "execution_count": 0,
      "outputs": []
    },
    {
      "cell_type": "markdown",
      "metadata": {
        "id": "2F0nBTyYMpS8",
        "colab_type": "text"
      },
      "source": [
        "<!--Empty Space for separating topics-->"
      ]
    },
    {
      "cell_type": "markdown",
      "metadata": {
        "id": "xF3nMMpvMpS9",
        "colab_type": "text"
      },
      "source": [
        "<h2 id=\"Derivative\">Derivatives</h2>"
      ]
    },
    {
      "cell_type": "markdown",
      "metadata": {
        "id": "mdVbfbVkMpS9",
        "colab_type": "text"
      },
      "source": [
        "Let us create the tensor <code>x</code> and set the parameter <code>requires_grad</code> to true because you are going to take the derivative of the tensor."
      ]
    },
    {
      "cell_type": "code",
      "metadata": {
        "id": "5ogOXuKrMpS-",
        "colab_type": "code",
        "colab": {
          "base_uri": "https://localhost:8080/",
          "height": 52
        },
        "outputId": "2a606c34-5353-4de4-b117-1b778cdb89fb"
      },
      "source": [
        "# Create a tensor x\n",
        "\n",
        "x = torch.tensor(2.0, requires_grad = True)#x's value has 2.0 \n",
        "print(\"The tensor x: \", x)\n",
        "print(\"type of X tensor\",x.type())"
      ],
      "execution_count": 5,
      "outputs": [
        {
          "output_type": "stream",
          "text": [
            "The tensor x:  tensor(2., requires_grad=True)\n",
            "type of X tensor torch.FloatTensor\n"
          ],
          "name": "stdout"
        }
      ]
    },
    {
      "cell_type": "markdown",
      "metadata": {
        "id": "2I-wqqyoMpTB",
        "colab_type": "text"
      },
      "source": [
        "Then let us create a tensor according to the equation $ y=x^2 $."
      ]
    },
    {
      "cell_type": "code",
      "metadata": {
        "jupyter": {
          "outputs_hidden": false
        },
        "id": "NeR1rr6JMpTB",
        "colab_type": "code",
        "colab": {
          "base_uri": "https://localhost:8080/",
          "height": 34
        },
        "outputId": "a91bab63-11fe-4464-d87f-c279cdd2a66a"
      },
      "source": [
        "# Create a tensor y according to y = x^2\n",
        "\n",
        "y = x ** 2\n",
        "print(\"The result of y = x^2: \", y)"
      ],
      "execution_count": 6,
      "outputs": [
        {
          "output_type": "stream",
          "text": [
            "The result of y = x^2:  tensor(4., grad_fn=<PowBackward0>)\n"
          ],
          "name": "stdout"
        }
      ]
    },
    {
      "cell_type": "markdown",
      "metadata": {
        "id": "cviey2F8MpTF",
        "colab_type": "text"
      },
      "source": [
        "Then let us take the derivative with respect x at x = 2"
      ]
    },
    {
      "cell_type": "code",
      "metadata": {
        "jupyter": {
          "outputs_hidden": false
        },
        "id": "ZLgljZYhMpTF",
        "colab_type": "code",
        "colab": {
          "base_uri": "https://localhost:8080/",
          "height": 34
        },
        "outputId": "04af6847-8ede-4001-efc1-43dc9fa01d24"
      },
      "source": [
        "# Take the derivative. Try to print out the derivative at the value x = 2\n",
        "\n",
        "y.backward()\n",
        "print(\"The dervative at x = 2: \", x.grad)"
      ],
      "execution_count": 7,
      "outputs": [
        {
          "output_type": "stream",
          "text": [
            "The dervative at x = 2:  tensor(4.)\n"
          ],
          "name": "stdout"
        }
      ]
    },
    {
      "cell_type": "markdown",
      "metadata": {
        "id": "Elmgyhq3MpTI",
        "colab_type": "text"
      },
      "source": [
        "The preceding lines perform the following operation: "
      ]
    },
    {
      "cell_type": "markdown",
      "metadata": {
        "id": "oE8eWG7dMpTI",
        "colab_type": "text"
      },
      "source": [
        "$\\frac{\\mathrm{dy(x)}}{\\mathrm{dx}}=2x$"
      ]
    },
    {
      "cell_type": "markdown",
      "metadata": {
        "id": "ZNkARdQBMpTI",
        "colab_type": "text"
      },
      "source": [
        "$\\frac{\\mathrm{dy(x=2)}}{\\mathrm{dx}}=2(2)=4$"
      ]
    },
    {
      "cell_type": "code",
      "metadata": {
        "id": "6VOJ8sVaMpTM",
        "colab_type": "code",
        "colab": {
          "base_uri": "https://localhost:8080/",
          "height": 104
        },
        "outputId": "42f6f707-4c47-4368-eb18-f45bf43e8d51"
      },
      "source": [
        "#checking tensor-x's attributes\n",
        "print('data:',x.data)\n",
        "print('grad_fn:',x.grad_fn)\n",
        "print('grad:',x.grad)\n",
        "print(\"is_leaf:\",x.is_leaf)\n",
        "print(\"requires_grad:\",x.requires_grad)"
      ],
      "execution_count": 8,
      "outputs": [
        {
          "output_type": "stream",
          "text": [
            "data: tensor(2.)\n",
            "grad_fn: None\n",
            "grad: tensor(4.)\n",
            "is_leaf: True\n",
            "requires_grad: True\n"
          ],
          "name": "stdout"
        }
      ]
    },
    {
      "cell_type": "code",
      "metadata": {
        "id": "zZfzlQMDMpTO",
        "colab_type": "code",
        "colab": {
          "base_uri": "https://localhost:8080/",
          "height": 175
        },
        "outputId": "bfadfbfe-2743-4b55-f8f2-08f8f1eea81c"
      },
      "source": [
        "#checking tensor-y's attibutes\n",
        "print('data:',y.data)\n",
        "print('grad_fn:',y.grad_fn)\n",
        "print('grad:',y.grad)\n",
        "print(\"is_leaf:\",y.is_leaf)\n",
        "print(\"as there is no derivatives of y because its non-leaf tensor:\",y.retain_grad)#as value of y when we put value of x=2, simply\n",
        "print(\"requires_grad:\",y.requires_grad)"
      ],
      "execution_count": 12,
      "outputs": [
        {
          "output_type": "stream",
          "text": [
            "data: tensor(4.)\n",
            "grad_fn: <PowBackward0 object at 0x7f14d998def0>\n",
            "grad: None\n",
            "is_leaf: False\n",
            "as there is no derivatives of y because its non-leaf tensor: <bound method Tensor.retain_grad of tensor(4., grad_fn=<PowBackward0>)>\n",
            "requires_grad: True\n"
          ],
          "name": "stdout"
        },
        {
          "output_type": "stream",
          "text": [
            "/usr/local/lib/python3.6/dist-packages/torch/tensor.py:746: UserWarning: The .grad attribute of a Tensor that is not a leaf Tensor is being accessed. Its .grad attribute won't be populated during autograd.backward(). If you indeed want the gradient for a non-leaf Tensor, use .retain_grad() on the non-leaf Tensor. If you access the non-leaf Tensor by mistake, make sure you access the leaf Tensor instead. See github.com/pytorch/pytorch/pull/30531 for more informations.\n",
            "  warnings.warn(\"The .grad attribute of a Tensor that is not a leaf Tensor is being accessed. Its .grad \"\n"
          ],
          "name": "stderr"
        }
      ]
    },
    {
      "cell_type": "markdown",
      "metadata": {
        "id": "8fNSJvwfMpTR",
        "colab_type": "text"
      },
      "source": [
        "Let us try to calculate the derivative for a more complicated function. "
      ]
    },
    {
      "cell_type": "code",
      "metadata": {
        "id": "na3pzzW1MpTS",
        "colab_type": "code",
        "colab": {
          "base_uri": "https://localhost:8080/",
          "height": 69
        },
        "outputId": "92a18c0e-6650-4673-b98a-e10b27bb8682"
      },
      "source": [
        "# Calculate the y = x^2 + 2x + 1, then find the derivative \n",
        "\n",
        "x = torch.tensor(2.0, requires_grad = True)\n",
        "y = x ** 2 + 2 * x + 1\n",
        "print(\"The result of y = x^2 + 2x + 1: \", y)\n",
        "print(\"same as above:\",y.retain_grad)\n",
        "y.backward()\n",
        "print(\"The dervative at x = 2: \", x.grad)"
      ],
      "execution_count": 15,
      "outputs": [
        {
          "output_type": "stream",
          "text": [
            "The result of y = x^2 + 2x + 1:  tensor(9., grad_fn=<AddBackward0>)\n",
            "same as above: <bound method Tensor.retain_grad of tensor(9., grad_fn=<AddBackward0>)>\n",
            "The dervative at x = 2:  tensor(6.)\n"
          ],
          "name": "stdout"
        }
      ]
    },
    {
      "cell_type": "markdown",
      "metadata": {
        "id": "OzOZOXOkMpTU",
        "colab_type": "text"
      },
      "source": [
        "The function is in the following form:\n",
        "$y=x^{2}+2x+1$"
      ]
    },
    {
      "cell_type": "markdown",
      "metadata": {
        "id": "JGj94gJwMpTU",
        "colab_type": "text"
      },
      "source": [
        "The derivative is given by:\n"
      ]
    },
    {
      "cell_type": "markdown",
      "metadata": {
        "id": "bz3XLWYyMpTV",
        "colab_type": "text"
      },
      "source": [
        "$\\frac{\\mathrm{dy(x)}}{\\mathrm{dx}}=2x+2$\n",
        "\n",
        "$\\frac{\\mathrm{dy(x=2)}}{\\mathrm{dx}}=2(2)+2=6$"
      ]
    },
    {
      "cell_type": "markdown",
      "metadata": {
        "id": "Svq4KDdfMpTW",
        "colab_type": "text"
      },
      "source": [
        "<!--Empty Space for separating topics-->"
      ]
    },
    {
      "cell_type": "markdown",
      "metadata": {
        "id": "cRe8JKgJMpTW",
        "colab_type": "text"
      },
      "source": [
        "<h3>Practice</h3>"
      ]
    },
    {
      "cell_type": "markdown",
      "metadata": {
        "id": "D0g5Rrw_MpTX",
        "colab_type": "text"
      },
      "source": [
        "Determine the derivative of $ y = 2x^3+x $ at $x=1$"
      ]
    },
    {
      "cell_type": "code",
      "metadata": {
        "id": "PVK9Dlt3MpTX",
        "colab_type": "code",
        "colab": {
          "base_uri": "https://localhost:8080/",
          "height": 69
        },
        "outputId": "7963400f-0861-48af-e214-3a49be8f69b3"
      },
      "source": [
        "# Practice: Calculate the derivative of y = 2x^3 + x at x = 1\n",
        "x=torch.tensor(1. ,requires_grad=True)\n",
        "print(\"x-tensors value \",x)\n",
        "y=2*x**3+x\n",
        "print(\"y's value as its non-leaf tensor\",y.retain_grad)\n",
        "y.backward()\n",
        "print(\"derivative of x\",x.grad)"
      ],
      "execution_count": 19,
      "outputs": [
        {
          "output_type": "stream",
          "text": [
            "x-tensors value  tensor(1., requires_grad=True)\n",
            "y's value as its non-leaf tensor <bound method Tensor.retain_grad of tensor(3., grad_fn=<AddBackward0>)>\n",
            "derivative of x tensor(7.)\n"
          ],
          "name": "stdout"
        }
      ]
    },
    {
      "cell_type": "markdown",
      "metadata": {
        "id": "tgvRABqYMpTa",
        "colab_type": "text"
      },
      "source": [
        "<!--Empty Space for separating topics-->"
      ]
    },
    {
      "cell_type": "markdown",
      "metadata": {
        "id": "XYyr1d6kMpTa",
        "colab_type": "text"
      },
      "source": [
        " We can implement our own custom autograd Functions by subclassing\n",
        "    torch.autograd.Function and implementing the forward and backward passes\n",
        "    which operate on Tensors"
      ]
    },
    {
      "cell_type": "code",
      "metadata": {
        "id": "Em5gF58MMpTb",
        "colab_type": "code",
        "colab": {}
      },
      "source": [
        "class SQ(torch.autograd.Function):\n",
        "\n",
        "\n",
        "    @staticmethod\n",
        "    def forward(ctx,i):\n",
        "        \"\"\"\n",
        "        In the forward pass we receive a Tensor containing the input and return\n",
        "        a Tensor containing the output. ctx is a context object that can be used\n",
        "        to stash information for backward computation. You can cache arbitrary\n",
        "        objects for use in the backward pass using the ctx.save_for_backward method.\n",
        "        \"\"\"\n",
        "        result=i**2\n",
        "        ctx.save_for_backward(i)\n",
        "        return result\n",
        "\n",
        "    @staticmethod\n",
        "    def backward(ctx, grad_output):\n",
        "        \"\"\"\n",
        "        In the backward pass we receive a Tensor containing the gradient of the loss\n",
        "        with respect to the output, and we need to compute the gradient of the loss\n",
        "        with respect to the input.\n",
        "        \"\"\"\n",
        "        i, = ctx.saved_tensors\n",
        "        grad_output = 2*i\n",
        "        return grad_output"
      ],
      "execution_count": 0,
      "outputs": []
    },
    {
      "cell_type": "markdown",
      "metadata": {
        "id": "T9xPG5dfMpTd",
        "colab_type": "text"
      },
      "source": [
        "We can apply it the function  "
      ]
    },
    {
      "cell_type": "code",
      "metadata": {
        "id": "tHJTQKYYMpTd",
        "colab_type": "code",
        "colab": {
          "base_uri": "https://localhost:8080/",
          "height": 52
        },
        "outputId": "88209fd1-8dd7-47a7-8071-d76db0c4f4aa"
      },
      "source": [
        "x=torch.tensor(2.0,requires_grad=True )\n",
        "sq=SQ.apply\n",
        "\n",
        "y=sq(x)\n",
        "y\n",
        "print(y.grad_fn)\n",
        "y.backward()\n",
        "x.grad"
      ],
      "execution_count": 21,
      "outputs": [
        {
          "output_type": "stream",
          "text": [
            "<torch.autograd.function.SQBackward object at 0x7f14d9987908>\n"
          ],
          "name": "stdout"
        },
        {
          "output_type": "execute_result",
          "data": {
            "text/plain": [
              "tensor(4.)"
            ]
          },
          "metadata": {
            "tags": []
          },
          "execution_count": 21
        }
      ]
    },
    {
      "cell_type": "markdown",
      "metadata": {
        "id": "3gd7kehKMpTg",
        "colab_type": "text"
      },
      "source": [
        "<h2 id=\"Partial_Derivative\">Partial Derivatives</h2>"
      ]
    },
    {
      "cell_type": "markdown",
      "metadata": {
        "id": "DoeQAuRLMpTh",
        "colab_type": "text"
      },
      "source": [
        "We can also calculate <b>Partial Derivatives</b>. Consider the function: $f(u,v)=vu+u^{2}$"
      ]
    },
    {
      "cell_type": "markdown",
      "metadata": {
        "id": "_L43dhJJMpTh",
        "colab_type": "text"
      },
      "source": [
        "Let us create <code>u</code> tensor, <code>v</code> tensor and  <code>f</code> tensor"
      ]
    },
    {
      "cell_type": "code",
      "metadata": {
        "id": "iq63JBuxMpTi",
        "colab_type": "code",
        "colab": {
          "base_uri": "https://localhost:8080/",
          "height": 34
        },
        "outputId": "369ae318-aaa7-4f56-d018-30dd0671bf17"
      },
      "source": [
        "# Calculate f(u, v) = v * u + u^2 at u = 1, v = 2\n",
        "\n",
        "u = torch.tensor(1.0,requires_grad=True)\n",
        "v = torch.tensor(2.0,requires_grad=True)\n",
        "f = u * v + u ** 2\n",
        "print(\"The result of v * u + u^2: \", f)"
      ],
      "execution_count": 22,
      "outputs": [
        {
          "output_type": "stream",
          "text": [
            "The result of v * u + u^2:  tensor(3., grad_fn=<AddBackward0>)\n"
          ],
          "name": "stdout"
        }
      ]
    },
    {
      "cell_type": "markdown",
      "metadata": {
        "id": "5EHgA3VdMpTk",
        "colab_type": "text"
      },
      "source": [
        "This is equivalent to the following: "
      ]
    },
    {
      "cell_type": "markdown",
      "metadata": {
        "id": "kxjMCTNOMpTl",
        "colab_type": "text"
      },
      "source": [
        "$f(u=1,v=2)=(2)(1)+1^{2}=3$"
      ]
    },
    {
      "cell_type": "markdown",
      "metadata": {
        "id": "nE_tOhcRMpTl",
        "colab_type": "text"
      },
      "source": [
        "<!--Empty Space for separating topics-->"
      ]
    },
    {
      "cell_type": "markdown",
      "metadata": {
        "id": "PSGng8b0MpTm",
        "colab_type": "text"
      },
      "source": [
        "Now let us take the derivative with respect to <code>u</code>:"
      ]
    },
    {
      "cell_type": "code",
      "metadata": {
        "id": "27-NCdfdMpTm",
        "colab_type": "code",
        "colab": {
          "base_uri": "https://localhost:8080/",
          "height": 34
        },
        "outputId": "92c39f82-14ea-437d-cd63-1411961e4724"
      },
      "source": [
        "# Calculate the derivative with respect to u\n",
        "\n",
        "f.backward()\n",
        "print(\"The partial derivative with respect to u: \", u.grad)"
      ],
      "execution_count": 23,
      "outputs": [
        {
          "output_type": "stream",
          "text": [
            "The partial derivative with respect to u:  tensor(4.)\n"
          ],
          "name": "stdout"
        }
      ]
    },
    {
      "cell_type": "markdown",
      "metadata": {
        "id": "lb4bGQ_BMpTo",
        "colab_type": "text"
      },
      "source": [
        "the expression is given by:"
      ]
    },
    {
      "cell_type": "markdown",
      "metadata": {
        "id": "y6GEv4xOMpTp",
        "colab_type": "text"
      },
      "source": [
        "$\\frac{\\mathrm{\\partial f(u,v)}}{\\partial {u}}=v+2u$\n",
        "\n",
        "$\\frac{\\mathrm{\\partial f(u=1,v=2)}}{\\partial {u}}=2+2(1)=4$"
      ]
    },
    {
      "cell_type": "markdown",
      "metadata": {
        "id": "sjo5tbH7MpTq",
        "colab_type": "text"
      },
      "source": [
        "<!--Empty Space for separating topics-->"
      ]
    },
    {
      "cell_type": "markdown",
      "metadata": {
        "id": "bLGm_JQiMpTq",
        "colab_type": "text"
      },
      "source": [
        "Now, take the derivative with respect to <code>v</code>:"
      ]
    },
    {
      "cell_type": "code",
      "metadata": {
        "id": "CK_ZSQabMpTr",
        "colab_type": "code",
        "colab": {
          "base_uri": "https://localhost:8080/",
          "height": 34
        },
        "outputId": "8f5d1903-39a6-49f2-9d82-5abb69574360"
      },
      "source": [
        "# Calculate the derivative with respect to v\n",
        "\n",
        "print(\"The partial derivative with respect to u: \", v.grad)"
      ],
      "execution_count": 24,
      "outputs": [
        {
          "output_type": "stream",
          "text": [
            "The partial derivative with respect to u:  tensor(1.)\n"
          ],
          "name": "stdout"
        }
      ]
    },
    {
      "cell_type": "markdown",
      "metadata": {
        "id": "uMVzPxQNMpTt",
        "colab_type": "text"
      },
      "source": [
        "The equation is given by:"
      ]
    },
    {
      "cell_type": "markdown",
      "metadata": {
        "id": "7GvmmhmuMpTt",
        "colab_type": "text"
      },
      "source": [
        "$\\frac{\\mathrm{\\partial f(u,v)}}{\\partial {v}}=u$\n",
        "\n",
        "$\\frac{\\mathrm{\\partial f(u=1,v=2)}}{\\partial {v}}=1$"
      ]
    },
    {
      "cell_type": "markdown",
      "metadata": {
        "id": "Owdc2aieMpTt",
        "colab_type": "text"
      },
      "source": [
        "<!--Empty Space for separating topics-->"
      ]
    },
    {
      "cell_type": "markdown",
      "metadata": {
        "id": "EMwKZMvJMpTu",
        "colab_type": "text"
      },
      "source": [
        "Calculate the derivative with respect to a function with multiple values as follows. You use the sum trick to produce a scalar valued function and then take the gradient: "
      ]
    },
    {
      "cell_type": "code",
      "metadata": {
        "id": "6hnY7QgeMpTu",
        "colab_type": "code",
        "colab": {
          "base_uri": "https://localhost:8080/",
          "height": 69
        },
        "outputId": "a49dbb01-d156-41ad-99ae-4466fc028b75"
      },
      "source": [
        "# Calculate the derivative with multiple values\n",
        "\n",
        "x = torch.linspace(-10, 10, 10, requires_grad = True)\n",
        "Y = x ** 2\n",
        "y = torch.sum(x ** 2)\n",
        "print(\"Y-tensor:\",Y)\n",
        "print(\"y-tensor:\",y)"
      ],
      "execution_count": 39,
      "outputs": [
        {
          "output_type": "stream",
          "text": [
            "Y-tensor: tensor([100.0000,  60.4938,  30.8642,  11.1111,   1.2346,   1.2346,  11.1111,\n",
            "         30.8642,  60.4938, 100.0000], grad_fn=<PowBackward0>)\n",
            "y-tensor: tensor(407.4074, grad_fn=<SumBackward0>)\n"
          ],
          "name": "stdout"
        }
      ]
    },
    {
      "cell_type": "markdown",
      "metadata": {
        "id": "fF6ns_b8MpTx",
        "colab_type": "text"
      },
      "source": [
        "We can plot the function  and its derivative "
      ]
    },
    {
      "cell_type": "code",
      "metadata": {
        "id": "Y2vHyFx6MpTx",
        "colab_type": "code",
        "colab": {
          "base_uri": "https://localhost:8080/",
          "height": 279
        },
        "outputId": "2ef6dd95-1044-4700-ea88-ce22171089c7"
      },
      "source": [
        "# Take the derivative with respect to multiple value. Plot out the function and its derivative\n",
        "\n",
        "y.backward()\n",
        "\n",
        "plt.plot(x.detach().numpy(), Y.detach().numpy(), label = 'function')\n",
        "plt.plot(x.detach().numpy(), x.grad.detach().numpy(), label = 'derivative')\n",
        "plt.xlabel('x')\n",
        "plt.ylabel('Y')\n",
        "plt.legend()\n",
        "plt.show()"
      ],
      "execution_count": 40,
      "outputs": [
        {
          "output_type": "display_data",
          "data": {
            "image/png": "[encoded data removed]",
            "text/plain": [
              "<Figure size 432x288 with 1 Axes>"
            ]
          },
          "metadata": {
            "tags": [],
            "needs_background": "light"
          }
        }
      ]
    },
    {
      "cell_type": "markdown",
      "metadata": {
        "id": "gK3ifHQAMpTz",
        "colab_type": "text"
      },
      "source": [
        "The orange line is the slope of the blue line at the intersection point, which is the derivative of the blue line."
      ]
    },
    {
      "cell_type": "markdown",
      "metadata": {
        "id": "bZqu0nECMpT0",
        "colab_type": "text"
      },
      "source": [
        "The  method <code> detach()</code>  excludes further tracking of operations in the graph, and therefore the subgraph will not record operations. This allows us to then convert the tensor to a numpy array. To understand the sum operation  <a href=\"https://pytorch.org/tutorials/beginner/blitz/autograd_tutorial.html\">Click Here</a>\n",
        "\n"
      ]
    },
    {
      "cell_type": "markdown",
      "metadata": {
        "id": "5shT656eMpT0",
        "colab_type": "text"
      },
      "source": [
        "<!--Empty Space for separating topics-->"
      ]
    },
    {
      "cell_type": "markdown",
      "metadata": {
        "id": "osvjoDZ8MpT0",
        "colab_type": "text"
      },
      "source": [
        "The <b>relu</b> activation function is an essential function in neural networks. We can take the derivative as follows: "
      ]
    },
    {
      "cell_type": "code",
      "metadata": {
        "id": "cBjSj7omMpT3",
        "colab_type": "code",
        "colab": {
          "base_uri": "https://localhost:8080/",
          "height": 279
        },
        "outputId": "e66ed67a-21fe-4edf-d338-f0b6ca9bd408"
      },
      "source": [
        "# Take the derivative of Relu with respect to multiple value. Plot out the function and its derivative\n",
        "\n",
        "x = torch.linspace(-10, 10, 1000, requires_grad = True)\n",
        "Y = torch.relu(x)\n",
        "y = Y.sum()\n",
        "y.backward()\n",
        "plt.plot(x.detach().numpy(), Y.detach().numpy(), label = 'function')\n",
        "plt.plot(x.detach().numpy(), x.grad.detach().numpy(), label = 'derivative')\n",
        "plt.xlabel('x')\n",
        "plt.ylabel('Y')\n",
        "plt.legend()\n",
        "plt.show()"
      ],
      "execution_count": 41,
      "outputs": [
        {
          "output_type": "display_data",
          "data": {
            "image/png": "[encoded data removed]",
            "text/plain": [
              "<Figure size 432x288 with 1 Axes>"
            ]
          },
          "metadata": {
            "tags": [],
            "needs_background": "light"
          }
        }
      ]
    },
    {
      "cell_type": "markdown",
      "metadata": {
        "id": "NEsYVzpeMpT5",
        "colab_type": "text"
      },
      "source": [
        "<!--Empty Space for separating topics-->"
      ]
    },
    {
      "cell_type": "code",
      "metadata": {
        "id": "83wVOVsxMpT5",
        "colab_type": "code",
        "colab": {
          "base_uri": "https://localhost:8080/",
          "height": 34
        },
        "outputId": "66d9ca78-fd45-461e-e3f3-56e6757d8da8"
      },
      "source": [
        "y.grad_fn"
      ],
      "execution_count": 42,
      "outputs": [
        {
          "output_type": "execute_result",
          "data": {
            "text/plain": [
              "<SumBackward0 at 0x7f14d82fac18>"
            ]
          },
          "metadata": {
            "tags": []
          },
          "execution_count": 42
        }
      ]
    },
    {
      "cell_type": "markdown",
      "metadata": {
        "id": "pBVu9DK5MpT7",
        "colab_type": "text"
      },
      "source": [
        "<h3>Practice</h3>"
      ]
    },
    {
      "cell_type": "markdown",
      "metadata": {
        "id": "A2Os_c0MMpT7",
        "colab_type": "text"
      },
      "source": [
        "Try to determine partial derivative  $u$ of the following function where $u=2$ and $v=1$: $ f=uv+(uv)^2$"
      ]
    },
    {
      "cell_type": "code",
      "metadata": {
        "id": "_FVE2-V7MpT8",
        "colab_type": "code",
        "colab": {
          "base_uri": "https://localhost:8080/",
          "height": 34
        },
        "outputId": "599487ed-2634-4d8d-d09c-bf7d061687dc"
      },
      "source": [
        "# Practice: Calculate the derivative of f = u * v + (u * v) ** 2 at u = 2, v = 1\n",
        "u=torch.tensor(2. ,requires_grad=True)\n",
        "v=torch.tensor(1. ,requires_grad=True)\n",
        "f = u * v + (u * v) ** 2\n",
        "f.backward()\n",
        "#partial derivative of u for the above function\n",
        "print(\"partial derivative of above functipn wrt 'u': \",u.grad)"
      ],
      "execution_count": 43,
      "outputs": [
        {
          "output_type": "stream",
          "text": [
            "partial derivative of above functipn wrt 'u':  tensor(5.)\n"
          ],
          "name": "stdout"
        }
      ]
    }
  ]
}