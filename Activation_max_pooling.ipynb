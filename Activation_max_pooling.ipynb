{
  "nbformat": 4,
  "nbformat_minor": 0,
  "metadata": {
    "kernelspec": {
      "display_name": "Python",
      "language": "python",
      "name": "conda-env-python-py"
    },
    "language_info": {
      "codemirror_mode": {
        "name": "ipython",
        "version": 3
      },
      "file_extension": ".py",
      "mimetype": "text/x-python",
      "name": "python",
      "nbconvert_exporter": "python",
      "pygments_lexer": "ipython3",
      "version": "3.6.7"
    },
    "colab": {
      "name": "Activation_max_pooling.ipynb",
      "provenance": [],
      "collapsed_sections": [],
      "include_colab_link": true
    }
  },
  "cells": [
    {
      "cell_type": "markdown",
      "metadata": {
        "id": "view-in-github",
        "colab_type": "text"
      },
      "source": [
        "<a href=\"https://colab.research.google.com/github/vvicky30/Deep_neural_Networks_PyTorch/blob/master/Activation_max_pooling.ipynb\" target=\"_parent\"><img src=\"https://colab.research.google.com/assets/colab-badge.svg\" alt=\"Open In Colab\"/></a>"
      ]
    },
    {
      "cell_type": "markdown",
      "metadata": {
        "id": "E-dGqMV9p6pq",
        "colab_type": "text"
      },
      "source": [
        "\n",
        "# Table of Contents\n",
        "In this lab, you will learn two important components in building a convolutional neural network. The first is applying an activation function, which is analogous to building a regular network. You will also learn about max pooling. Max pooling reduces the number of parameters and makes the network less susceptible to changes in the image. \n",
        "\n",
        "\n",
        "<li><a href=\"#ref0\">Activation Functions</a></li>\n",
        "\n",
        "<li><a href=\"#ref1\">Max Pooling</a></li>\n",
        "\n",
        "\n",
        "<br>\n",
        "<p></p>\n",
        "</div>\n",
        "<hr>"
      ]
    },
    {
      "cell_type": "markdown",
      "metadata": {
        "id": "sjJx3Xocp6pr",
        "colab_type": "text"
      },
      "source": [
        "Import the following libraries:"
      ]
    },
    {
      "cell_type": "code",
      "metadata": {
        "id": "gh2csQGep6pr",
        "colab_type": "code",
        "colab": {}
      },
      "source": [
        "import torch \n",
        "import torch.nn as nn\n",
        "import matplotlib.pyplot as plt\n",
        "import numpy as np\n",
        "from scipy import ndimage, misc\n"
      ],
      "execution_count": 2,
      "outputs": []
    },
    {
      "cell_type": "markdown",
      "metadata": {
        "id": "u2Ci4wwYp6px",
        "colab_type": "text"
      },
      "source": [
        "<a id=\"ref0\"></a>\n",
        "<h2 align=center>Activation Functions  </h2>"
      ]
    },
    {
      "cell_type": "markdown",
      "metadata": {
        "id": "wtibejEDp6px",
        "colab_type": "text"
      },
      "source": [
        "Just like a neural network, you apply an activation function to the activation map as shown in the following image:"
      ]
    },
    {
      "cell_type": "markdown",
      "metadata": {
        "id": "ItmlZ-ofp6py",
        "colab_type": "text"
      },
      "source": [
        "<img src = \"https://s3-api.us-geo.objectstorage.softlayer.net/cf-courses-data/CognitiveClass/DL0110EN/notebook_images%20/chapter%206/6.1.3block_digram.png\" width = 1000, align = \"center\">"
      ]
    },
    {
      "cell_type": "markdown",
      "metadata": {
        "id": "xN_6ZxPHp6py",
        "colab_type": "text"
      },
      "source": [
        "Create a kernel and image as usual. Set the bias to zero: "
      ]
    },
    {
      "cell_type": "code",
      "metadata": {
        "id": "F1K0Esjvp6pz",
        "colab_type": "code",
        "colab": {
          "base_uri": "https://localhost:8080/",
          "height": 67
        },
        "outputId": "41809c31-73f8-4728-f331-e3df04fe1195"
      },
      "source": [
        "conv = nn.Conv2d(in_channels=1, out_channels=1,kernel_size=3) #convolution layer object with kernel size 3\n",
        "Gx=torch.tensor([[1.0,0,-1.0],[2.0,0,-2.0],[1.0,0,-1.0]])\n",
        "conv.state_dict()['weight'][0][0]=Gx #weight initialization\n",
        "conv.state_dict()['bias'][0]=0.0\n",
        "conv.state_dict()"
      ],
      "execution_count": 3,
      "outputs": [
        {
          "output_type": "execute_result",
          "data": {
            "text/plain": [
              "OrderedDict([('weight', tensor([[[[ 1.,  0., -1.],\n",
              "                        [ 2.,  0., -2.],\n",
              "                        [ 1.,  0., -1.]]]])), ('bias', tensor([0.]))])"
            ]
          },
          "metadata": {
            "tags": []
          },
          "execution_count": 3
        }
      ]
    },
    {
      "cell_type": "code",
      "metadata": {
        "id": "x7-fF43hp6p1",
        "colab_type": "code",
        "colab": {
          "base_uri": "https://localhost:8080/",
          "height": 101
        },
        "outputId": "b446d969-759d-4223-dd60-6b7e2667769f"
      },
      "source": [
        "image=torch.zeros(1,1,5,5)#input matrix\n",
        "image[0,0,:,2]=1#assigning third column with all rows as 1\n",
        "image"
      ],
      "execution_count": 4,
      "outputs": [
        {
          "output_type": "execute_result",
          "data": {
            "text/plain": [
              "tensor([[[[0., 0., 1., 0., 0.],\n",
              "          [0., 0., 1., 0., 0.],\n",
              "          [0., 0., 1., 0., 0.],\n",
              "          [0., 0., 1., 0., 0.],\n",
              "          [0., 0., 1., 0., 0.]]]])"
            ]
          },
          "metadata": {
            "tags": []
          },
          "execution_count": 4
        }
      ]
    },
    {
      "cell_type": "markdown",
      "metadata": {
        "id": "o7VgjXNTp6p4",
        "colab_type": "text"
      },
      "source": [
        "The following image shows the image and kernel: "
      ]
    },
    {
      "cell_type": "markdown",
      "metadata": {
        "id": "Ytxd-n-Kp6p4",
        "colab_type": "text"
      },
      "source": [
        "<img src = \"https://s3-api.us-geo.objectstorage.softlayer.net/cf-courses-data/CognitiveClass/DL0110EN/notebook_images%20/chapter%206/6.1.3kernal_out.png\" width = 500, align = \"center\">"
      ]
    },
    {
      "cell_type": "markdown",
      "metadata": {
        "id": "BZh1xeEgp6p5",
        "colab_type": "text"
      },
      "source": [
        "Apply convolution to the image: "
      ]
    },
    {
      "cell_type": "code",
      "metadata": {
        "id": "Ga5vk28cp6p5",
        "colab_type": "code",
        "colab": {
          "base_uri": "https://localhost:8080/",
          "height": 67
        },
        "outputId": "7630bde0-2805-4471-bf26-a9e447a30476"
      },
      "source": [
        "Z=conv(image)\n",
        "Z#activation map"
      ],
      "execution_count": 5,
      "outputs": [
        {
          "output_type": "execute_result",
          "data": {
            "text/plain": [
              "tensor([[[[-4.,  0.,  4.],\n",
              "          [-4.,  0.,  4.],\n",
              "          [-4.,  0.,  4.]]]], grad_fn=<MkldnnConvolutionBackward>)"
            ]
          },
          "metadata": {
            "tags": []
          },
          "execution_count": 5
        }
      ]
    },
    {
      "cell_type": "markdown",
      "metadata": {
        "id": "s0pEdud_p6p8",
        "colab_type": "text"
      },
      "source": [
        "Apply the activation function to the activation map. This will apply the activation function to each element in the activation map."
      ]
    },
    {
      "cell_type": "code",
      "metadata": {
        "id": "dwuoyj1ip6p8",
        "colab_type": "code",
        "colab": {
          "base_uri": "https://localhost:8080/",
          "height": 67
        },
        "outputId": "8cda2a6c-c39f-4020-fe2b-c08b64361ead"
      },
      "source": [
        "A=torch.relu(Z)\n",
        "A#after applying relu"
      ],
      "execution_count": 7,
      "outputs": [
        {
          "output_type": "execute_result",
          "data": {
            "text/plain": [
              "tensor([[[[0., 0., 4.],\n",
              "          [0., 0., 4.],\n",
              "          [0., 0., 4.]]]], grad_fn=<ReluBackward0>)"
            ]
          },
          "metadata": {
            "tags": []
          },
          "execution_count": 7
        }
      ]
    },
    {
      "cell_type": "code",
      "metadata": {
        "id": "2N9LinsZp6p_",
        "colab_type": "code",
        "colab": {}
      },
      "source": [
        "relu = nn.ReLU()\n",
        "relu(Z)"
      ],
      "execution_count": null,
      "outputs": []
    },
    {
      "cell_type": "markdown",
      "metadata": {
        "id": "3mdQJ0nsp6qC",
        "colab_type": "text"
      },
      "source": [
        "The process is summarized in the the following figure. The Relu function is applied to each element. All the elements less than zero are mapped to zero. The remaining components do not change."
      ]
    },
    {
      "cell_type": "markdown",
      "metadata": {
        "id": "ItiEml3tp6qC",
        "colab_type": "text"
      },
      "source": [
        "<img src = \"https://s3-api.us-geo.objectstorage.softlayer.net/cf-courses-data/CognitiveClass/DL0110EN/notebook_images%20/chapter%206/6.2.3_block_example.gif\" width = 1000, align = \"center\">"
      ]
    },
    {
      "cell_type": "markdown",
      "metadata": {
        "id": "HIGL5wMgp6qD",
        "colab_type": "text"
      },
      "source": [
        "<a id=\"ref1\"></a>\n",
        "<h2 align=center>Max Pooling </h2>"
      ]
    },
    {
      "cell_type": "markdown",
      "metadata": {
        "id": "DRXNpsCkp6qE",
        "colab_type": "text"
      },
      "source": [
        "Consider the following image: "
      ]
    },
    {
      "cell_type": "code",
      "metadata": {
        "id": "L8wEClGFp6qF",
        "colab_type": "code",
        "colab": {
          "base_uri": "https://localhost:8080/",
          "height": 84
        },
        "outputId": "69275c07-a380-407c-8f7e-a94af5255e8f"
      },
      "source": [
        "image1=torch.zeros(1,1,4,4)\n",
        "image1[0,0,0,:]=torch.tensor([1.0,2.0,3.0,-4.0])#zeroth row & all columns\n",
        "image1[0,0,1,:]=torch.tensor([0.0,2.0,-3.0,0.0]) #1st row  \n",
        "image1[0,0,2,:]=torch.tensor([0.0,2.0,3.0,1.0])  #second row\n",
        "\n",
        "image1"
      ],
      "execution_count": 9,
      "outputs": [
        {
          "output_type": "execute_result",
          "data": {
            "text/plain": [
              "tensor([[[[ 1.,  2.,  3., -4.],\n",
              "          [ 0.,  2., -3.,  0.],\n",
              "          [ 0.,  2.,  3.,  1.],\n",
              "          [ 0.,  0.,  0.,  0.]]]])"
            ]
          },
          "metadata": {
            "tags": []
          },
          "execution_count": 9
        }
      ]
    },
    {
      "cell_type": "markdown",
      "metadata": {
        "id": "y4CH6ohRp6qH",
        "colab_type": "text"
      },
      "source": [
        "Max pooling simply takes the maximum value in each region. Consider the following image. For the first region, max pooling simply takes the largest element in a yellow region.   "
      ]
    },
    {
      "cell_type": "markdown",
      "metadata": {
        "id": "83f-5l8Zp6qI",
        "colab_type": "text"
      },
      "source": [
        "<img src = \"https://s3-api.us-geo.objectstorage.softlayer.net/cf-courses-data/CognitiveClass/DL0110EN/notebook_images%20/chapter%206/6.1.3maxpool_1.png\" width = 500, align = \"center\">"
      ]
    },
    {
      "cell_type": "markdown",
      "metadata": {
        "id": "eR2dPJADp6qI",
        "colab_type": "text"
      },
      "source": [
        "The region shifts, and the process is repeated. The process is similar to convolution and is demonstrated in the following figure:"
      ]
    },
    {
      "cell_type": "markdown",
      "metadata": {
        "id": "MZLlL7K3p6qJ",
        "colab_type": "text"
      },
      "source": [
        "<img src = \"https://s3-api.us-geo.objectstorage.softlayer.net/cf-courses-data/CognitiveClass/DL0110EN/notebook_images%20/chapter%206/6.1.3_max_pool_animation.gif\" width = 500, align = \"center\">"
      ]
    },
    {
      "cell_type": "markdown",
      "metadata": {
        "id": "vCqp1psup6qJ",
        "colab_type": "text"
      },
      "source": [
        "Create a maxpooling object in 2d as follows and perform max pooling as follows:  "
      ]
    },
    {
      "cell_type": "code",
      "metadata": {
        "id": "D-9nY3y-p6qK",
        "colab_type": "code",
        "colab": {
          "base_uri": "https://localhost:8080/",
          "height": 67
        },
        "outputId": "c7cc09a1-48f2-4eba-b17d-6176d5175409"
      },
      "source": [
        "max1=torch.nn.MaxPool2d(2,stride=1)#with size 2 by 2 &stride 1\n",
        "max1(image1)"
      ],
      "execution_count": 10,
      "outputs": [
        {
          "output_type": "execute_result",
          "data": {
            "text/plain": [
              "tensor([[[[2., 3., 3.],\n",
              "          [2., 3., 3.],\n",
              "          [2., 3., 3.]]]])"
            ]
          },
          "metadata": {
            "tags": []
          },
          "execution_count": 10
        }
      ]
    },
    {
      "cell_type": "markdown",
      "metadata": {
        "id": "HsrUGEQAp6qM",
        "colab_type": "text"
      },
      "source": [
        "If the stride is set to None (its defaults setting), the process will simply take the maximum in a prescribed area and shift over accordingly as shown in the following figure:"
      ]
    },
    {
      "cell_type": "markdown",
      "metadata": {
        "id": "VyugM2mMp6qN",
        "colab_type": "text"
      },
      "source": [
        "<img src = \"https://s3-api.us-geo.objectstorage.softlayer.net/cf-courses-data/CognitiveClass/DL0110EN/notebook_images%20/chapter%206/6.1.3_max_pool_animation_2.gif\" width = 500, align = \"center\">"
      ]
    },
    {
      "cell_type": "code",
      "metadata": {
        "id": "h41X1Mblp6qO",
        "colab_type": "code",
        "colab": {
          "base_uri": "https://localhost:8080/",
          "height": 50
        },
        "outputId": "5c22b473-90df-4c03-e8d2-e6255c67f196"
      },
      "source": [
        "max1=torch.nn.MaxPool2d(2)\n",
        "max1(image1)"
      ],
      "execution_count": 11,
      "outputs": [
        {
          "output_type": "execute_result",
          "data": {
            "text/plain": [
              "tensor([[[[2., 3.],\n",
              "          [2., 3.]]]])"
            ]
          },
          "metadata": {
            "tags": []
          },
          "execution_count": 11
        }
      ]
    }
  ]
}