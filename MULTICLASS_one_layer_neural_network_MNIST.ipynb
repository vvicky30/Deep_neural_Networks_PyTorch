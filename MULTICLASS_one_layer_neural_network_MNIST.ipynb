{
  "nbformat": 4,
  "nbformat_minor": 0,
  "metadata": {
    "kernelspec": {
      "display_name": "Python 3",
      "language": "python",
      "name": "python3"
    },
    "language_info": {
      "codemirror_mode": {
        "name": "ipython",
        "version": 3
      },
      "file_extension": ".py",
      "mimetype": "text/x-python",
      "name": "python",
      "nbconvert_exporter": "python",
      "pygments_lexer": "ipython3",
      "version": "3.7.3"
    },
    "colab": {
      "name": "MULTICLASS_one_layer_neural_network_MNIST.ipynb",
      "provenance": [],
      "collapsed_sections": [],
      "include_colab_link": true
    },
    "widgets": {
      "application/vnd.jupyter.widget-state+json": {
        "bb8b9f575201413abce30962462fcba7": {
          "model_module": "@jupyter-widgets/controls",
          "model_name": "HBoxModel",
          "state": {
            "_view_name": "HBoxView",
            "_dom_classes": [],
            "_model_name": "HBoxModel",
            "_view_module": "@jupyter-widgets/controls",
            "_model_module_version": "1.5.0",
            "_view_count": null,
            "_view_module_version": "1.5.0",
            "box_style": "",
            "layout": "IPY_MODEL_706224328d034fb1abc459a6ed66356a",
            "_model_module": "@jupyter-widgets/controls",
            "children": [
              "IPY_MODEL_44b025c76f754e87a95d8a9bd2cf643b",
              "IPY_MODEL_7a40b07a3291472e86abb23ba190718f"
            ]
          }
        },
        "706224328d034fb1abc459a6ed66356a": {
          "model_module": "@jupyter-widgets/base",
          "model_name": "LayoutModel",
          "state": {
            "_view_name": "LayoutView",
            "grid_template_rows": null,
            "right": null,
            "justify_content": null,
            "_view_module": "@jupyter-widgets/base",
            "overflow": null,
            "_model_module_version": "1.2.0",
            "_view_count": null,
            "flex_flow": null,
            "width": null,
            "min_width": null,
            "border": null,
            "align_items": null,
            "bottom": null,
            "_model_module": "@jupyter-widgets/base",
            "top": null,
            "grid_column": null,
            "overflow_y": null,
            "overflow_x": null,
            "grid_auto_flow": null,
            "grid_area": null,
            "grid_template_columns": null,
            "flex": null,
            "_model_name": "LayoutModel",
            "justify_items": null,
            "grid_row": null,
            "max_height": null,
            "align_content": null,
            "visibility": null,
            "align_self": null,
            "height": null,
            "min_height": null,
            "padding": null,
            "grid_auto_rows": null,
            "grid_gap": null,
            "max_width": null,
            "order": null,
            "_view_module_version": "1.2.0",
            "grid_template_areas": null,
            "object_position": null,
            "object_fit": null,
            "grid_auto_columns": null,
            "margin": null,
            "display": null,
            "left": null
          }
        },
        "44b025c76f754e87a95d8a9bd2cf643b": {
          "model_module": "@jupyter-widgets/controls",
          "model_name": "FloatProgressModel",
          "state": {
            "_view_name": "ProgressView",
            "style": "IPY_MODEL_40662c4ce5db4677bdea34d4abb98385",
            "_dom_classes": [],
            "description": "",
            "_model_name": "FloatProgressModel",
            "bar_style": "info",
            "max": 1,
            "_view_module": "@jupyter-widgets/controls",
            "_model_module_version": "1.5.0",
            "value": 1,
            "_view_count": null,
            "_view_module_version": "1.5.0",
            "orientation": "horizontal",
            "min": 0,
            "description_tooltip": null,
            "_model_module": "@jupyter-widgets/controls",
            "layout": "IPY_MODEL_6fb04790417f411084400fdee7de536d"
          }
        },
        "7a40b07a3291472e86abb23ba190718f": {
          "model_module": "@jupyter-widgets/controls",
          "model_name": "HTMLModel",
          "state": {
            "_view_name": "HTMLView",
            "style": "IPY_MODEL_a6194783d99047cd83ca5813bad385b7",
            "_dom_classes": [],
            "description": "",
            "_model_name": "HTMLModel",
            "placeholder": "​",
            "_view_module": "@jupyter-widgets/controls",
            "_model_module_version": "1.5.0",
            "value": " 9920512/? [00:20&lt;00:00, 10454935.88it/s]",
            "_view_count": null,
            "_view_module_version": "1.5.0",
            "description_tooltip": null,
            "_model_module": "@jupyter-widgets/controls",
            "layout": "IPY_MODEL_09eba0d2b43c4929a52c7fda0d8070be"
          }
        },
        "40662c4ce5db4677bdea34d4abb98385": {
          "model_module": "@jupyter-widgets/controls",
          "model_name": "ProgressStyleModel",
          "state": {
            "_view_name": "StyleView",
            "_model_name": "ProgressStyleModel",
            "description_width": "initial",
            "_view_module": "@jupyter-widgets/base",
            "_model_module_version": "1.5.0",
            "_view_count": null,
            "_view_module_version": "1.2.0",
            "bar_color": null,
            "_model_module": "@jupyter-widgets/controls"
          }
        },
        "6fb04790417f411084400fdee7de536d": {
          "model_module": "@jupyter-widgets/base",
          "model_name": "LayoutModel",
          "state": {
            "_view_name": "LayoutView",
            "grid_template_rows": null,
            "right": null,
            "justify_content": null,
            "_view_module": "@jupyter-widgets/base",
            "overflow": null,
            "_model_module_version": "1.2.0",
            "_view_count": null,
            "flex_flow": null,
            "width": null,
            "min_width": null,
            "border": null,
            "align_items": null,
            "bottom": null,
            "_model_module": "@jupyter-widgets/base",
            "top": null,
            "grid_column": null,
            "overflow_y": null,
            "overflow_x": null,
            "grid_auto_flow": null,
            "grid_area": null,
            "grid_template_columns": null,
            "flex": null,
            "_model_name": "LayoutModel",
            "justify_items": null,
            "grid_row": null,
            "max_height": null,
            "align_content": null,
            "visibility": null,
            "align_self": null,
            "height": null,
            "min_height": null,
            "padding": null,
            "grid_auto_rows": null,
            "grid_gap": null,
            "max_width": null,
            "order": null,
            "_view_module_version": "1.2.0",
            "grid_template_areas": null,
            "object_position": null,
            "object_fit": null,
            "grid_auto_columns": null,
            "margin": null,
            "display": null,
            "left": null
          }
        },
        "a6194783d99047cd83ca5813bad385b7": {
          "model_module": "@jupyter-widgets/controls",
          "model_name": "DescriptionStyleModel",
          "state": {
            "_view_name": "StyleView",
            "_model_name": "DescriptionStyleModel",
            "description_width": "",
            "_view_module": "@jupyter-widgets/base",
            "_model_module_version": "1.5.0",
            "_view_count": null,
            "_view_module_version": "1.2.0",
            "_model_module": "@jupyter-widgets/controls"
          }
        },
        "09eba0d2b43c4929a52c7fda0d8070be": {
          "model_module": "@jupyter-widgets/base",
          "model_name": "LayoutModel",
          "state": {
            "_view_name": "LayoutView",
            "grid_template_rows": null,
            "right": null,
            "justify_content": null,
            "_view_module": "@jupyter-widgets/base",
            "overflow": null,
            "_model_module_version": "1.2.0",
            "_view_count": null,
            "flex_flow": null,
            "width": null,
            "min_width": null,
            "border": null,
            "align_items": null,
            "bottom": null,
            "_model_module": "@jupyter-widgets/base",
            "top": null,
            "grid_column": null,
            "overflow_y": null,
            "overflow_x": null,
            "grid_auto_flow": null,
            "grid_area": null,
            "grid_template_columns": null,
            "flex": null,
            "_model_name": "LayoutModel",
            "justify_items": null,
            "grid_row": null,
            "max_height": null,
            "align_content": null,
            "visibility": null,
            "align_self": null,
            "height": null,
            "min_height": null,
            "padding": null,
            "grid_auto_rows": null,
            "grid_gap": null,
            "max_width": null,
            "order": null,
            "_view_module_version": "1.2.0",
            "grid_template_areas": null,
            "object_position": null,
            "object_fit": null,
            "grid_auto_columns": null,
            "margin": null,
            "display": null,
            "left": null
          }
        },
        "bc79fa1f8c4047bd9c9de4912f6f3fa8": {
          "model_module": "@jupyter-widgets/controls",
          "model_name": "HBoxModel",
          "state": {
            "_view_name": "HBoxView",
            "_dom_classes": [],
            "_model_name": "HBoxModel",
            "_view_module": "@jupyter-widgets/controls",
            "_model_module_version": "1.5.0",
            "_view_count": null,
            "_view_module_version": "1.5.0",
            "box_style": "",
            "layout": "IPY_MODEL_b390e55042b3479bb33f91c2a1497cc5",
            "_model_module": "@jupyter-widgets/controls",
            "children": [
              "IPY_MODEL_4eca75faa7c9480ea73755fb7ac4e416",
              "IPY_MODEL_e6ad1c5a15fa450398fbbf671196f4e0"
            ]
          }
        },
        "b390e55042b3479bb33f91c2a1497cc5": {
          "model_module": "@jupyter-widgets/base",
          "model_name": "LayoutModel",
          "state": {
            "_view_name": "LayoutView",
            "grid_template_rows": null,
            "right": null,
            "justify_content": null,
            "_view_module": "@jupyter-widgets/base",
            "overflow": null,
            "_model_module_version": "1.2.0",
            "_view_count": null,
            "flex_flow": null,
            "width": null,
            "min_width": null,
            "border": null,
            "align_items": null,
            "bottom": null,
            "_model_module": "@jupyter-widgets/base",
            "top": null,
            "grid_column": null,
            "overflow_y": null,
            "overflow_x": null,
            "grid_auto_flow": null,
            "grid_area": null,
            "grid_template_columns": null,
            "flex": null,
            "_model_name": "LayoutModel",
            "justify_items": null,
            "grid_row": null,
            "max_height": null,
            "align_content": null,
            "visibility": null,
            "align_self": null,
            "height": null,
            "min_height": null,
            "padding": null,
            "grid_auto_rows": null,
            "grid_gap": null,
            "max_width": null,
            "order": null,
            "_view_module_version": "1.2.0",
            "grid_template_areas": null,
            "object_position": null,
            "object_fit": null,
            "grid_auto_columns": null,
            "margin": null,
            "display": null,
            "left": null
          }
        },
        "4eca75faa7c9480ea73755fb7ac4e416": {
          "model_module": "@jupyter-widgets/controls",
          "model_name": "FloatProgressModel",
          "state": {
            "_view_name": "ProgressView",
            "style": "IPY_MODEL_40269c5848854e9fb819803524ca22f3",
            "_dom_classes": [],
            "description": "",
            "_model_name": "FloatProgressModel",
            "bar_style": "success",
            "max": 1,
            "_view_module": "@jupyter-widgets/controls",
            "_model_module_version": "1.5.0",
            "value": 1,
            "_view_count": null,
            "_view_module_version": "1.5.0",
            "orientation": "horizontal",
            "min": 0,
            "description_tooltip": null,
            "_model_module": "@jupyter-widgets/controls",
            "layout": "IPY_MODEL_03893e6bb23847f59e0005727025efbb"
          }
        },
        "e6ad1c5a15fa450398fbbf671196f4e0": {
          "model_module": "@jupyter-widgets/controls",
          "model_name": "HTMLModel",
          "state": {
            "_view_name": "HTMLView",
            "style": "IPY_MODEL_2348587da6da47e8ae1d8f0d76165487",
            "_dom_classes": [],
            "description": "",
            "_model_name": "HTMLModel",
            "placeholder": "​",
            "_view_module": "@jupyter-widgets/controls",
            "_model_module_version": "1.5.0",
            "value": " 32768/? [00:00&lt;00:00, 261503.07it/s]",
            "_view_count": null,
            "_view_module_version": "1.5.0",
            "description_tooltip": null,
            "_model_module": "@jupyter-widgets/controls",
            "layout": "IPY_MODEL_f0ae07c135654d19ab6a454a6cce3684"
          }
        },
        "40269c5848854e9fb819803524ca22f3": {
          "model_module": "@jupyter-widgets/controls",
          "model_name": "ProgressStyleModel",
          "state": {
            "_view_name": "StyleView",
            "_model_name": "ProgressStyleModel",
            "description_width": "initial",
            "_view_module": "@jupyter-widgets/base",
            "_model_module_version": "1.5.0",
            "_view_count": null,
            "_view_module_version": "1.2.0",
            "bar_color": null,
            "_model_module": "@jupyter-widgets/controls"
          }
        },
        "03893e6bb23847f59e0005727025efbb": {
          "model_module": "@jupyter-widgets/base",
          "model_name": "LayoutModel",
          "state": {
            "_view_name": "LayoutView",
            "grid_template_rows": null,
            "right": null,
            "justify_content": null,
            "_view_module": "@jupyter-widgets/base",
            "overflow": null,
            "_model_module_version": "1.2.0",
            "_view_count": null,
            "flex_flow": null,
            "width": null,
            "min_width": null,
            "border": null,
            "align_items": null,
            "bottom": null,
            "_model_module": "@jupyter-widgets/base",
            "top": null,
            "grid_column": null,
            "overflow_y": null,
            "overflow_x": null,
            "grid_auto_flow": null,
            "grid_area": null,
            "grid_template_columns": null,
            "flex": null,
            "_model_name": "LayoutModel",
            "justify_items": null,
            "grid_row": null,
            "max_height": null,
            "align_content": null,
            "visibility": null,
            "align_self": null,
            "height": null,
            "min_height": null,
            "padding": null,
            "grid_auto_rows": null,
            "grid_gap": null,
            "max_width": null,
            "order": null,
            "_view_module_version": "1.2.0",
            "grid_template_areas": null,
            "object_position": null,
            "object_fit": null,
            "grid_auto_columns": null,
            "margin": null,
            "display": null,
            "left": null
          }
        },
        "2348587da6da47e8ae1d8f0d76165487": {
          "model_module": "@jupyter-widgets/controls",
          "model_name": "DescriptionStyleModel",
          "state": {
            "_view_name": "StyleView",
            "_model_name": "DescriptionStyleModel",
            "description_width": "",
            "_view_module": "@jupyter-widgets/base",
            "_model_module_version": "1.5.0",
            "_view_count": null,
            "_view_module_version": "1.2.0",
            "_model_module": "@jupyter-widgets/controls"
          }
        },
        "f0ae07c135654d19ab6a454a6cce3684": {
          "model_module": "@jupyter-widgets/base",
          "model_name": "LayoutModel",
          "state": {
            "_view_name": "LayoutView",
            "grid_template_rows": null,
            "right": null,
            "justify_content": null,
            "_view_module": "@jupyter-widgets/base",
            "overflow": null,
            "_model_module_version": "1.2.0",
            "_view_count": null,
            "flex_flow": null,
            "width": null,
            "min_width": null,
            "border": null,
            "align_items": null,
            "bottom": null,
            "_model_module": "@jupyter-widgets/base",
            "top": null,
            "grid_column": null,
            "overflow_y": null,
            "overflow_x": null,
            "grid_auto_flow": null,
            "grid_area": null,
            "grid_template_columns": null,
            "flex": null,
            "_model_name": "LayoutModel",
            "justify_items": null,
            "grid_row": null,
            "max_height": null,
            "align_content": null,
            "visibility": null,
            "align_self": null,
            "height": null,
            "min_height": null,
            "padding": null,
            "grid_auto_rows": null,
            "grid_gap": null,
            "max_width": null,
            "order": null,
            "_view_module_version": "1.2.0",
            "grid_template_areas": null,
            "object_position": null,
            "object_fit": null,
            "grid_auto_columns": null,
            "margin": null,
            "display": null,
            "left": null
          }
        },
        "11574e2a1531482eac01aa66864b9223": {
          "model_module": "@jupyter-widgets/controls",
          "model_name": "HBoxModel",
          "state": {
            "_view_name": "HBoxView",
            "_dom_classes": [],
            "_model_name": "HBoxModel",
            "_view_module": "@jupyter-widgets/controls",
            "_model_module_version": "1.5.0",
            "_view_count": null,
            "_view_module_version": "1.5.0",
            "box_style": "",
            "layout": "IPY_MODEL_3ab6686a58114949bed61c3f50d60fe0",
            "_model_module": "@jupyter-widgets/controls",
            "children": [
              "IPY_MODEL_dc659038e2a847d0a681798c8df5a37f",
              "IPY_MODEL_9f75c81ea8574de691168b94a29f9654"
            ]
          }
        },
        "3ab6686a58114949bed61c3f50d60fe0": {
          "model_module": "@jupyter-widgets/base",
          "model_name": "LayoutModel",
          "state": {
            "_view_name": "LayoutView",
            "grid_template_rows": null,
            "right": null,
            "justify_content": null,
            "_view_module": "@jupyter-widgets/base",
            "overflow": null,
            "_model_module_version": "1.2.0",
            "_view_count": null,
            "flex_flow": null,
            "width": null,
            "min_width": null,
            "border": null,
            "align_items": null,
            "bottom": null,
            "_model_module": "@jupyter-widgets/base",
            "top": null,
            "grid_column": null,
            "overflow_y": null,
            "overflow_x": null,
            "grid_auto_flow": null,
            "grid_area": null,
            "grid_template_columns": null,
            "flex": null,
            "_model_name": "LayoutModel",
            "justify_items": null,
            "grid_row": null,
            "max_height": null,
            "align_content": null,
            "visibility": null,
            "align_self": null,
            "height": null,
            "min_height": null,
            "padding": null,
            "grid_auto_rows": null,
            "grid_gap": null,
            "max_width": null,
            "order": null,
            "_view_module_version": "1.2.0",
            "grid_template_areas": null,
            "object_position": null,
            "object_fit": null,
            "grid_auto_columns": null,
            "margin": null,
            "display": null,
            "left": null
          }
        },
        "dc659038e2a847d0a681798c8df5a37f": {
          "model_module": "@jupyter-widgets/controls",
          "model_name": "FloatProgressModel",
          "state": {
            "_view_name": "ProgressView",
            "style": "IPY_MODEL_5fb4e7de07f747b9af7f4ef4974638e7",
            "_dom_classes": [],
            "description": "",
            "_model_name": "FloatProgressModel",
            "bar_style": "info",
            "max": 1,
            "_view_module": "@jupyter-widgets/controls",
            "_model_module_version": "1.5.0",
            "value": 1,
            "_view_count": null,
            "_view_module_version": "1.5.0",
            "orientation": "horizontal",
            "min": 0,
            "description_tooltip": null,
            "_model_module": "@jupyter-widgets/controls",
            "layout": "IPY_MODEL_d0d32775795a480bb73dba4fc74a853b"
          }
        },
        "9f75c81ea8574de691168b94a29f9654": {
          "model_module": "@jupyter-widgets/controls",
          "model_name": "HTMLModel",
          "state": {
            "_view_name": "HTMLView",
            "style": "IPY_MODEL_aef2bf11af7a47d4b71b75e4abc1a432",
            "_dom_classes": [],
            "description": "",
            "_model_name": "HTMLModel",
            "placeholder": "​",
            "_view_module": "@jupyter-widgets/controls",
            "_model_module_version": "1.5.0",
            "value": " 1654784/? [00:19&lt;00:00, 10810924.34it/s]",
            "_view_count": null,
            "_view_module_version": "1.5.0",
            "description_tooltip": null,
            "_model_module": "@jupyter-widgets/controls",
            "layout": "IPY_MODEL_47482989203a43f6a9bb3251b5d4d1e9"
          }
        },
        "5fb4e7de07f747b9af7f4ef4974638e7": {
          "model_module": "@jupyter-widgets/controls",
          "model_name": "ProgressStyleModel",
          "state": {
            "_view_name": "StyleView",
            "_model_name": "ProgressStyleModel",
            "description_width": "initial",
            "_view_module": "@jupyter-widgets/base",
            "_model_module_version": "1.5.0",
            "_view_count": null,
            "_view_module_version": "1.2.0",
            "bar_color": null,
            "_model_module": "@jupyter-widgets/controls"
          }
        },
        "d0d32775795a480bb73dba4fc74a853b": {
          "model_module": "@jupyter-widgets/base",
          "model_name": "LayoutModel",
          "state": {
            "_view_name": "LayoutView",
            "grid_template_rows": null,
            "right": null,
            "justify_content": null,
            "_view_module": "@jupyter-widgets/base",
            "overflow": null,
            "_model_module_version": "1.2.0",
            "_view_count": null,
            "flex_flow": null,
            "width": null,
            "min_width": null,
            "border": null,
            "align_items": null,
            "bottom": null,
            "_model_module": "@jupyter-widgets/base",
            "top": null,
            "grid_column": null,
            "overflow_y": null,
            "overflow_x": null,
            "grid_auto_flow": null,
            "grid_area": null,
            "grid_template_columns": null,
            "flex": null,
            "_model_name": "LayoutModel",
            "justify_items": null,
            "grid_row": null,
            "max_height": null,
            "align_content": null,
            "visibility": null,
            "align_self": null,
            "height": null,
            "min_height": null,
            "padding": null,
            "grid_auto_rows": null,
            "grid_gap": null,
            "max_width": null,
            "order": null,
            "_view_module_version": "1.2.0",
            "grid_template_areas": null,
            "object_position": null,
            "object_fit": null,
            "grid_auto_columns": null,
            "margin": null,
            "display": null,
            "left": null
          }
        },
        "aef2bf11af7a47d4b71b75e4abc1a432": {
          "model_module": "@jupyter-widgets/controls",
          "model_name": "DescriptionStyleModel",
          "state": {
            "_view_name": "StyleView",
            "_model_name": "DescriptionStyleModel",
            "description_width": "",
            "_view_module": "@jupyter-widgets/base",
            "_model_module_version": "1.5.0",
            "_view_count": null,
            "_view_module_version": "1.2.0",
            "_model_module": "@jupyter-widgets/controls"
          }
        },
        "47482989203a43f6a9bb3251b5d4d1e9": {
          "model_module": "@jupyter-widgets/base",
          "model_name": "LayoutModel",
          "state": {
            "_view_name": "LayoutView",
            "grid_template_rows": null,
            "right": null,
            "justify_content": null,
            "_view_module": "@jupyter-widgets/base",
            "overflow": null,
            "_model_module_version": "1.2.0",
            "_view_count": null,
            "flex_flow": null,
            "width": null,
            "min_width": null,
            "border": null,
            "align_items": null,
            "bottom": null,
            "_model_module": "@jupyter-widgets/base",
            "top": null,
            "grid_column": null,
            "overflow_y": null,
            "overflow_x": null,
            "grid_auto_flow": null,
            "grid_area": null,
            "grid_template_columns": null,
            "flex": null,
            "_model_name": "LayoutModel",
            "justify_items": null,
            "grid_row": null,
            "max_height": null,
            "align_content": null,
            "visibility": null,
            "align_self": null,
            "height": null,
            "min_height": null,
            "padding": null,
            "grid_auto_rows": null,
            "grid_gap": null,
            "max_width": null,
            "order": null,
            "_view_module_version": "1.2.0",
            "grid_template_areas": null,
            "object_position": null,
            "object_fit": null,
            "grid_auto_columns": null,
            "margin": null,
            "display": null,
            "left": null
          }
        },
        "04235432f40442cbba8c044a63542f7e": {
          "model_module": "@jupyter-widgets/controls",
          "model_name": "HBoxModel",
          "state": {
            "_view_name": "HBoxView",
            "_dom_classes": [],
            "_model_name": "HBoxModel",
            "_view_module": "@jupyter-widgets/controls",
            "_model_module_version": "1.5.0",
            "_view_count": null,
            "_view_module_version": "1.5.0",
            "box_style": "",
            "layout": "IPY_MODEL_2cc4e0540da74b7f841654037c58ca35",
            "_model_module": "@jupyter-widgets/controls",
            "children": [
              "IPY_MODEL_f2223b272cd04ab7abbd7c1db4dc263d",
              "IPY_MODEL_5f12f4522d384530924bf8b5a16a99fe"
            ]
          }
        },
        "2cc4e0540da74b7f841654037c58ca35": {
          "model_module": "@jupyter-widgets/base",
          "model_name": "LayoutModel",
          "state": {
            "_view_name": "LayoutView",
            "grid_template_rows": null,
            "right": null,
            "justify_content": null,
            "_view_module": "@jupyter-widgets/base",
            "overflow": null,
            "_model_module_version": "1.2.0",
            "_view_count": null,
            "flex_flow": null,
            "width": null,
            "min_width": null,
            "border": null,
            "align_items": null,
            "bottom": null,
            "_model_module": "@jupyter-widgets/base",
            "top": null,
            "grid_column": null,
            "overflow_y": null,
            "overflow_x": null,
            "grid_auto_flow": null,
            "grid_area": null,
            "grid_template_columns": null,
            "flex": null,
            "_model_name": "LayoutModel",
            "justify_items": null,
            "grid_row": null,
            "max_height": null,
            "align_content": null,
            "visibility": null,
            "align_self": null,
            "height": null,
            "min_height": null,
            "padding": null,
            "grid_auto_rows": null,
            "grid_gap": null,
            "max_width": null,
            "order": null,
            "_view_module_version": "1.2.0",
            "grid_template_areas": null,
            "object_position": null,
            "object_fit": null,
            "grid_auto_columns": null,
            "margin": null,
            "display": null,
            "left": null
          }
        },
        "f2223b272cd04ab7abbd7c1db4dc263d": {
          "model_module": "@jupyter-widgets/controls",
          "model_name": "FloatProgressModel",
          "state": {
            "_view_name": "ProgressView",
            "style": "IPY_MODEL_99e8032d150e4399a7175d0051698628",
            "_dom_classes": [],
            "description": "",
            "_model_name": "FloatProgressModel",
            "bar_style": "info",
            "max": 1,
            "_view_module": "@jupyter-widgets/controls",
            "_model_module_version": "1.5.0",
            "value": 0,
            "_view_count": null,
            "_view_module_version": "1.5.0",
            "orientation": "horizontal",
            "min": 0,
            "description_tooltip": null,
            "_model_module": "@jupyter-widgets/controls",
            "layout": "IPY_MODEL_699e579339634c2b8e788d341a5fbcad"
          }
        },
        "5f12f4522d384530924bf8b5a16a99fe": {
          "model_module": "@jupyter-widgets/controls",
          "model_name": "HTMLModel",
          "state": {
            "_view_name": "HTMLView",
            "style": "IPY_MODEL_757cb5cec39441bd99e1901d10a2e178",
            "_dom_classes": [],
            "description": "",
            "_model_name": "HTMLModel",
            "placeholder": "​",
            "_view_module": "@jupyter-widgets/controls",
            "_model_module_version": "1.5.0",
            "value": " 0/? [00:00&lt;?, ?it/s]",
            "_view_count": null,
            "_view_module_version": "1.5.0",
            "description_tooltip": null,
            "_model_module": "@jupyter-widgets/controls",
            "layout": "IPY_MODEL_15f84e37fa41473fb17955cf5335dbef"
          }
        },
        "99e8032d150e4399a7175d0051698628": {
          "model_module": "@jupyter-widgets/controls",
          "model_name": "ProgressStyleModel",
          "state": {
            "_view_name": "StyleView",
            "_model_name": "ProgressStyleModel",
            "description_width": "initial",
            "_view_module": "@jupyter-widgets/base",
            "_model_module_version": "1.5.0",
            "_view_count": null,
            "_view_module_version": "1.2.0",
            "bar_color": null,
            "_model_module": "@jupyter-widgets/controls"
          }
        },
        "699e579339634c2b8e788d341a5fbcad": {
          "model_module": "@jupyter-widgets/base",
          "model_name": "LayoutModel",
          "state": {
            "_view_name": "LayoutView",
            "grid_template_rows": null,
            "right": null,
            "justify_content": null,
            "_view_module": "@jupyter-widgets/base",
            "overflow": null,
            "_model_module_version": "1.2.0",
            "_view_count": null,
            "flex_flow": null,
            "width": null,
            "min_width": null,
            "border": null,
            "align_items": null,
            "bottom": null,
            "_model_module": "@jupyter-widgets/base",
            "top": null,
            "grid_column": null,
            "overflow_y": null,
            "overflow_x": null,
            "grid_auto_flow": null,
            "grid_area": null,
            "grid_template_columns": null,
            "flex": null,
            "_model_name": "LayoutModel",
            "justify_items": null,
            "grid_row": null,
            "max_height": null,
            "align_content": null,
            "visibility": null,
            "align_self": null,
            "height": null,
            "min_height": null,
            "padding": null,
            "grid_auto_rows": null,
            "grid_gap": null,
            "max_width": null,
            "order": null,
            "_view_module_version": "1.2.0",
            "grid_template_areas": null,
            "object_position": null,
            "object_fit": null,
            "grid_auto_columns": null,
            "margin": null,
            "display": null,
            "left": null
          }
        },
        "757cb5cec39441bd99e1901d10a2e178": {
          "model_module": "@jupyter-widgets/controls",
          "model_name": "DescriptionStyleModel",
          "state": {
            "_view_name": "StyleView",
            "_model_name": "DescriptionStyleModel",
            "description_width": "",
            "_view_module": "@jupyter-widgets/base",
            "_model_module_version": "1.5.0",
            "_view_count": null,
            "_view_module_version": "1.2.0",
            "_model_module": "@jupyter-widgets/controls"
          }
        },
        "15f84e37fa41473fb17955cf5335dbef": {
          "model_module": "@jupyter-widgets/base",
          "model_name": "LayoutModel",
          "state": {
            "_view_name": "LayoutView",
            "grid_template_rows": null,
            "right": null,
            "justify_content": null,
            "_view_module": "@jupyter-widgets/base",
            "overflow": null,
            "_model_module_version": "1.2.0",
            "_view_count": null,
            "flex_flow": null,
            "width": null,
            "min_width": null,
            "border": null,
            "align_items": null,
            "bottom": null,
            "_model_module": "@jupyter-widgets/base",
            "top": null,
            "grid_column": null,
            "overflow_y": null,
            "overflow_x": null,
            "grid_auto_flow": null,
            "grid_area": null,
            "grid_template_columns": null,
            "flex": null,
            "_model_name": "LayoutModel",
            "justify_items": null,
            "grid_row": null,
            "max_height": null,
            "align_content": null,
            "visibility": null,
            "align_self": null,
            "height": null,
            "min_height": null,
            "padding": null,
            "grid_auto_rows": null,
            "grid_gap": null,
            "max_width": null,
            "order": null,
            "_view_module_version": "1.2.0",
            "grid_template_areas": null,
            "object_position": null,
            "object_fit": null,
            "grid_auto_columns": null,
            "margin": null,
            "display": null,
            "left": null
          }
        }
      }
    }
  },
  "cells": [
    {
      "cell_type": "markdown",
      "metadata": {
        "id": "view-in-github",
        "colab_type": "text"
      },
      "source": [
        "<a href=\"https://colab.research.google.com/github/vvicky30/Deep_neural_Networks_PyToacrch/blob/master/MULTICLASS_one_layer_neural_network_MNIST.ipynb\" target=\"_parent\"><img src=\"https://colab.research.google.com/assets/colab-badge.svg\" alt=\"Open In Colab\"/></a>"
      ]
    },
    {
      "cell_type": "markdown",
      "metadata": {
        "id": "Srph2kpdJjis",
        "colab_type": "text"
      },
      "source": [
        "<h1>Neural Networks with One Hidden Layer</h1>"
      ]
    },
    {
      "cell_type": "markdown",
      "metadata": {
        "id": "fTbgWUznJjiv",
        "colab_type": "text"
      },
      "source": [
        "<h2>Table of Contents</h2>\n",
        "<p>In this lab, you will use a single layer neural network to classify handwritten digits from the MNIST database.</p>\n",
        "\n",
        "<ul>\n",
        "    <li><a href=\"#Model\">Neural Network Module and Training Function</a></li>\n",
        "    <li><a href=\"#Makeup_Data\">Make Some Data</a></li>\n",
        "    <li><a href=\"#Train\">Define the Neural Network, Optimizer, and Train the  Model</a></li>\n",
        "    <li><a href=\"#Result\">Analyze Results</a></li>\n",
        "</ul>\n",
        "<hr>"
      ]
    },
    {
      "cell_type": "markdown",
      "metadata": {
        "id": "KU-tUt3jJjix",
        "colab_type": "text"
      },
      "source": [
        "<h2>Preparation</h2>"
      ]
    },
    {
      "cell_type": "markdown",
      "metadata": {
        "id": "3iWh6pqQJji0",
        "colab_type": "text"
      },
      "source": [
        "We'll need the following libraries"
      ]
    },
    {
      "cell_type": "code",
      "metadata": {
        "id": "QYVtBt-GJji3",
        "colab_type": "code",
        "colab": {}
      },
      "source": [
        "# Import the libraries we need for this lab\n",
        "\n",
        "# Using the following line code to install the torchvision library\n",
        "# !conda install -y torchvision\n",
        "\n",
        "import torch \n",
        "import torch.nn as nn\n",
        "import torchvision.transforms as transforms\n",
        "import torchvision.datasets as dsets\n",
        "import torch.nn.functional as F\n",
        "import matplotlib.pylab as plt\n",
        "import numpy as np"
      ],
      "execution_count": 1,
      "outputs": []
    },
    {
      "cell_type": "markdown",
      "metadata": {
        "id": "7KgPawGnJjjE",
        "colab_type": "text"
      },
      "source": [
        "Use the following helper functions for plotting the loss: "
      ]
    },
    {
      "cell_type": "code",
      "metadata": {
        "id": "3zcGCQbQJjjH",
        "colab_type": "code",
        "colab": {}
      },
      "source": [
        "# Define a function to plot accuracy and loss\n",
        "\n",
        "def plot_accuracy_loss(training_results): \n",
        "    plt.subplot(2, 1, 1)\n",
        "    plt.plot(training_results['training_loss'], 'r')\n",
        "    plt.ylabel('loss')\n",
        "    plt.title('training loss iterations')\n",
        "    plt.subplot(2, 1, 2)\n",
        "    plt.plot(training_results['validation_accuracy'])\n",
        "    plt.ylabel('accuracy')\n",
        "    plt.xlabel('epochs')   \n",
        "    plt.show()"
      ],
      "execution_count": 2,
      "outputs": []
    },
    {
      "cell_type": "markdown",
      "metadata": {
        "id": "aHVrXsoqJjjS",
        "colab_type": "text"
      },
      "source": [
        "Use the following function for printing the model parameters: "
      ]
    },
    {
      "cell_type": "code",
      "metadata": {
        "id": "tuRu5HAGJjjU",
        "colab_type": "code",
        "colab": {}
      },
      "source": [
        "# Define a function to plot model parameters\n",
        "\n",
        "def print_model_parameters(model):\n",
        "    count = 0\n",
        "    for ele in model.state_dict():\n",
        "        count += 1\n",
        "        if count % 2 != 0:\n",
        "            print (\"The following are the parameters for the layer \", count // 2 + 1)\n",
        "        if ele.find(\"bias\") != -1:\n",
        "            print(\"The size of bias: \", model.state_dict()[ele].size())\n",
        "        else:\n",
        "            print(\"The size of weights: \", model.state_dict()[ele].size())"
      ],
      "execution_count": 3,
      "outputs": []
    },
    {
      "cell_type": "markdown",
      "metadata": {
        "id": "4Wb4cnCFJjji",
        "colab_type": "text"
      },
      "source": [
        "Define the neural network module or class: "
      ]
    },
    {
      "cell_type": "code",
      "metadata": {
        "id": "r8Yb4VgZJjjl",
        "colab_type": "code",
        "colab": {}
      },
      "source": [
        "# Define a function to display data   \n",
        "\n",
        "def show_data(data_sample):\n",
        "    plt.imshow(data_sample.numpy().reshape(28, 28), cmap='gray')\n",
        "    plt.show()"
      ],
      "execution_count": 4,
      "outputs": []
    },
    {
      "cell_type": "markdown",
      "metadata": {
        "id": "vFsqXUKMJjjv",
        "colab_type": "text"
      },
      "source": [
        "<!--Empty Space for separating topics-->"
      ]
    },
    {
      "cell_type": "markdown",
      "metadata": {
        "id": "YFxWbFYDJjjw",
        "colab_type": "text"
      },
      "source": [
        "<h2 id=\"Model\">Neural Network Module and Training Function</h2> "
      ]
    },
    {
      "cell_type": "markdown",
      "metadata": {
        "id": "pLayq-FlJjjx",
        "colab_type": "text"
      },
      "source": [
        "Define the neural network module or class: "
      ]
    },
    {
      "cell_type": "code",
      "metadata": {
        "id": "KkHyMo2BJjjy",
        "colab_type": "code",
        "colab": {}
      },
      "source": [
        "# Define a Neural Network class\n",
        "\n",
        "class Net(nn.Module):\n",
        "    \n",
        "    # Constructor\n",
        "    def __init__(self, D_in, H, D_out):\n",
        "        super(Net, self).__init__()\n",
        "        self.linear1 = nn.Linear(D_in, H)\n",
        "        self.linear2 = nn.Linear(H, D_out)\n",
        "\n",
        "    # Prediction    \n",
        "    def forward(self, x):\n",
        "        x = torch.sigmoid(self.linear1(x)) #activation function for hidden layer(here:sigmoid) \n",
        "        x = self.linear2(x)  #thire is no activation function as it's been reamined as linear regression for softmax prediction for multi-class classification\n",
        "        return x"
      ],
      "execution_count": 5,
      "outputs": []
    },
    {
      "cell_type": "markdown",
      "metadata": {
        "id": "lsf5mgSwJjj7",
        "colab_type": "text"
      },
      "source": [
        "Define a function to train the model. In this case, the function returns a Python dictionary to store the training loss and accuracy on the validation data. "
      ]
    },
    {
      "cell_type": "code",
      "metadata": {
        "id": "YoaIg2nOJjj8",
        "colab_type": "code",
        "colab": {}
      },
      "source": [
        "# Define a training function to train the model\n",
        "\n",
        "def train(model, criterion, train_loader, validation_loader, optimizer, epochs=100):\n",
        "    i = 0\n",
        "    useful_stuff = {'training_loss': [],'validation_accuracy': []}  \n",
        "    for epoch in range(epochs):\n",
        "        for i, (x, y) in enumerate(train_loader): \n",
        "            optimizer.zero_grad()  #ressting\n",
        "            z = model(x.view(-1, 28 * 28))  #converting x's values to the row tensors 'x.view(-1, 28 * 28)'\n",
        "            loss = criterion(z, y)\n",
        "            loss.backward() #derivative\n",
        "            optimizer.step() #updations\n",
        "             #loss for every iteration\n",
        "            useful_stuff['training_loss'].append(loss.data.item())  \n",
        "        correct = 0\n",
        "        for x, y in validation_loader:\n",
        "            #validation \n",
        "            z = model(x.view(-1, 28 * 28)) #converting x's values to the row tensors  'x.view(-1, 28 * 28)'\n",
        "            _, label = torch.max(z, 1) #'_' for storing last expression of interpreter in specific variable (HERE: label) &'max(z, 1)' for applying argmax-fn\n",
        "            correct += (label == y).sum().item()\n",
        "        accuracy = 100 * (correct / len(validation_dataset))\n",
        "         #accuracy for every iteration\n",
        "        useful_stuff['validation_accuracy'].append(accuracy)\n",
        "    return useful_stuff"
      ],
      "execution_count": 6,
      "outputs": []
    },
    {
      "cell_type": "markdown",
      "metadata": {
        "id": "c_rrJkKsJjj_",
        "colab_type": "text"
      },
      "source": [
        "<!--Empty Space for separating topics-->"
      ]
    },
    {
      "cell_type": "markdown",
      "metadata": {
        "id": "GyLbieWXJjkA",
        "colab_type": "text"
      },
      "source": [
        "<h2 id=\"Makeup_Data\">Make Some Data</h2> "
      ]
    },
    {
      "cell_type": "markdown",
      "metadata": {
        "id": "KqVdpc6zJjkB",
        "colab_type": "text"
      },
      "source": [
        "Load the training dataset by setting the parameters <code>train</code> to <code>True</code> and convert it to a tensor by placing a transform object in the argument <code>transform</code>."
      ]
    },
    {
      "cell_type": "code",
      "metadata": {
        "id": "_Cz2MYfhJjkB",
        "colab_type": "code",
        "colab": {
          "base_uri": "https://localhost:8080/",
          "height": 366,
          "referenced_widgets": [
            "bb8b9f575201413abce30962462fcba7",
            "706224328d034fb1abc459a6ed66356a",
            "44b025c76f754e87a95d8a9bd2cf643b",
            "7a40b07a3291472e86abb23ba190718f",
            "40662c4ce5db4677bdea34d4abb98385",
            "6fb04790417f411084400fdee7de536d",
            "a6194783d99047cd83ca5813bad385b7",
            "09eba0d2b43c4929a52c7fda0d8070be",
            "bc79fa1f8c4047bd9c9de4912f6f3fa8",
            "b390e55042b3479bb33f91c2a1497cc5",
            "4eca75faa7c9480ea73755fb7ac4e416",
            "e6ad1c5a15fa450398fbbf671196f4e0",
            "40269c5848854e9fb819803524ca22f3",
            "03893e6bb23847f59e0005727025efbb",
            "2348587da6da47e8ae1d8f0d76165487",
            "f0ae07c135654d19ab6a454a6cce3684",
            "11574e2a1531482eac01aa66864b9223",
            "3ab6686a58114949bed61c3f50d60fe0",
            "dc659038e2a847d0a681798c8df5a37f",
            "9f75c81ea8574de691168b94a29f9654",
            "5fb4e7de07f747b9af7f4ef4974638e7",
            "d0d32775795a480bb73dba4fc74a853b",
            "aef2bf11af7a47d4b71b75e4abc1a432",
            "47482989203a43f6a9bb3251b5d4d1e9",
            "04235432f40442cbba8c044a63542f7e",
            "2cc4e0540da74b7f841654037c58ca35",
            "f2223b272cd04ab7abbd7c1db4dc263d",
            "5f12f4522d384530924bf8b5a16a99fe",
            "99e8032d150e4399a7175d0051698628",
            "699e579339634c2b8e788d341a5fbcad",
            "757cb5cec39441bd99e1901d10a2e178",
            "15f84e37fa41473fb17955cf5335dbef"
          ]
        },
        "outputId": "796b6b6b-6f57-411b-a9ee-8a9fd9efed74"
      },
      "source": [
        "# Create training dataset\n",
        "\n",
        "train_dataset = dsets.MNIST(root='./data', train=True, download=True, transform=transforms.ToTensor())"
      ],
      "execution_count": 7,
      "outputs": [
        {
          "output_type": "stream",
          "text": [
            "Downloading http://yann.lecun.com/exdb/mnist/train-images-idx3-ubyte.gz to ./data/MNIST/raw/train-images-idx3-ubyte.gz\n"
          ],
          "name": "stdout"
        },
        {
          "output_type": "display_data",
          "data": {
            "application/vnd.jupyter.widget-view+json": {
              "model_id": "bb8b9f575201413abce30962462fcba7",
              "version_minor": 0,
              "version_major": 2
            },
            "text/plain": [
              "HBox(children=(FloatProgress(value=1.0, bar_style='info', max=1.0), HTML(value='')))"
            ]
          },
          "metadata": {
            "tags": []
          }
        },
        {
          "output_type": "stream",
          "text": [
            "Extracting ./data/MNIST/raw/train-images-idx3-ubyte.gz to ./data/MNIST/raw\n",
            "Downloading http://yann.lecun.com/exdb/mnist/train-labels-idx1-ubyte.gz to ./data/MNIST/raw/train-labels-idx1-ubyte.gz\n"
          ],
          "name": "stdout"
        },
        {
          "output_type": "display_data",
          "data": {
            "application/vnd.jupyter.widget-view+json": {
              "model_id": "bc79fa1f8c4047bd9c9de4912f6f3fa8",
              "version_minor": 0,
              "version_major": 2
            },
            "text/plain": [
              "HBox(children=(FloatProgress(value=1.0, bar_style='info', max=1.0), HTML(value='')))"
            ]
          },
          "metadata": {
            "tags": []
          }
        },
        {
          "output_type": "stream",
          "text": [
            "Extracting ./data/MNIST/raw/train-labels-idx1-ubyte.gz to ./data/MNIST/raw\n",
            "Downloading http://yann.lecun.com/exdb/mnist/t10k-images-idx3-ubyte.gz to ./data/MNIST/raw/t10k-images-idx3-ubyte.gz\n",
            "\n"
          ],
          "name": "stdout"
        },
        {
          "output_type": "display_data",
          "data": {
            "application/vnd.jupyter.widget-view+json": {
              "model_id": "11574e2a1531482eac01aa66864b9223",
              "version_minor": 0,
              "version_major": 2
            },
            "text/plain": [
              "HBox(children=(FloatProgress(value=1.0, bar_style='info', max=1.0), HTML(value='')))"
            ]
          },
          "metadata": {
            "tags": []
          }
        },
        {
          "output_type": "stream",
          "text": [
            "Extracting ./data/MNIST/raw/t10k-images-idx3-ubyte.gz to ./data/MNIST/raw\n",
            "Downloading http://yann.lecun.com/exdb/mnist/t10k-labels-idx1-ubyte.gz to ./data/MNIST/raw/t10k-labels-idx1-ubyte.gz\n"
          ],
          "name": "stdout"
        },
        {
          "output_type": "display_data",
          "data": {
            "application/vnd.jupyter.widget-view+json": {
              "model_id": "04235432f40442cbba8c044a63542f7e",
              "version_minor": 0,
              "version_major": 2
            },
            "text/plain": [
              "HBox(children=(FloatProgress(value=1.0, bar_style='info', max=1.0), HTML(value='')))"
            ]
          },
          "metadata": {
            "tags": []
          }
        },
        {
          "output_type": "stream",
          "text": [
            "Extracting ./data/MNIST/raw/t10k-labels-idx1-ubyte.gz to ./data/MNIST/raw\n",
            "Processing...\n",
            "Done!\n"
          ],
          "name": "stdout"
        },
        {
          "output_type": "stream",
          "text": [
            "/pytorch/torch/csrc/utils/tensor_numpy.cpp:141: UserWarning: The given NumPy array is not writeable, and PyTorch does not support non-writeable tensors. This means you can write to the underlying (supposedly non-writeable) NumPy array using the tensor. You may want to copy the array to protect its data or make it writeable before converting it to a tensor. This type of warning will be suppressed for the rest of this program.\n"
          ],
          "name": "stderr"
        }
      ]
    },
    {
      "cell_type": "markdown",
      "metadata": {
        "id": "B6SAysRtJjkE",
        "colab_type": "text"
      },
      "source": [
        "Load the testing dataset by setting the parameters <code>train</code> to <code>False</code> and convert it to a tensor by placing a transform object in the argument <code>transform</code>:"
      ]
    },
    {
      "cell_type": "code",
      "metadata": {
        "id": "_Alrk8oLJjkF",
        "colab_type": "code",
        "colab": {}
      },
      "source": [
        "# Create validating dataset\n",
        "\n",
        "validation_dataset = dsets.MNIST(root='./data', train=False, download=True, transform=transforms.ToTensor())"
      ],
      "execution_count": 8,
      "outputs": []
    },
    {
      "cell_type": "markdown",
      "metadata": {
        "id": "b5USU58fJjkJ",
        "colab_type": "text"
      },
      "source": [
        "Create the criterion function:  "
      ]
    },
    {
      "cell_type": "code",
      "metadata": {
        "id": "iuHPQ-ezJjkK",
        "colab_type": "code",
        "colab": {}
      },
      "source": [
        "# Create criterion function\n",
        "\n",
        "criterion = nn.CrossEntropyLoss()"
      ],
      "execution_count": 9,
      "outputs": []
    },
    {
      "cell_type": "markdown",
      "metadata": {
        "id": "bOR9A67rJjkN",
        "colab_type": "text"
      },
      "source": [
        "Create the training-data loader and the validation-data loader objects: "
      ]
    },
    {
      "cell_type": "code",
      "metadata": {
        "id": "5Wm8BhIRJjkO",
        "colab_type": "code",
        "colab": {}
      },
      "source": [
        "# Create data loader for both train dataset and valdiate dataset\n",
        "\n",
        "train_loader = torch.utils.data.DataLoader(dataset=train_dataset, batch_size=2000, shuffle=True)\n",
        "validation_loader = torch.utils.data.DataLoader(dataset=validation_dataset, batch_size=5000, shuffle=False)"
      ],
      "execution_count": 10,
      "outputs": []
    },
    {
      "cell_type": "markdown",
      "metadata": {
        "id": "WeEkntzLJjkS",
        "colab_type": "text"
      },
      "source": [
        "<!--Empty Space for separating topics-->"
      ]
    },
    {
      "cell_type": "markdown",
      "metadata": {
        "id": "duhTrTf7JjkT",
        "colab_type": "text"
      },
      "source": [
        "<h2 id=\"Train\">Define the Neural Network, Optimizer, and Train the Model</h2> "
      ]
    },
    {
      "cell_type": "markdown",
      "metadata": {
        "id": "UynjLlPfJjkU",
        "colab_type": "text"
      },
      "source": [
        "Create the model with 100 neurons: "
      ]
    },
    {
      "cell_type": "code",
      "metadata": {
        "id": "vMUaVCqDJjkU",
        "colab_type": "code",
        "colab": {}
      },
      "source": [
        "# Create the model with 100 neurons\n",
        "\n",
        "input_dim = 28 * 28\n",
        "hidden_dim = 100  #(100 neurons in hidden layer \n",
        "output_dim = 10  #10 no. of outputs as there are 10 classes i.e. 0 to 9\n",
        "\n",
        "model = Net(input_dim, hidden_dim, output_dim)"
      ],
      "execution_count": 11,
      "outputs": []
    },
    {
      "cell_type": "markdown",
      "metadata": {
        "id": "IPfv6NkiJjkZ",
        "colab_type": "text"
      },
      "source": [
        "Print the model parameters: "
      ]
    },
    {
      "cell_type": "code",
      "metadata": {
        "id": "QwkJogzPJjka",
        "colab_type": "code",
        "colab": {
          "base_uri": "https://localhost:8080/",
          "height": 203
        },
        "outputId": "686a19f7-05d8-4514-b0f1-25b4e2e78f6f"
      },
      "source": [
        "# Print the parameters for model\n",
        "\n",
        "print_model_parameters(model)\n",
        "\"\"\"\n",
        "here for layer 1:\n",
        "The size of weights:  torch.Size([100, 784])\n",
        "where there is 100 weights as hidden layer has 100 nueron(or 100 output of hidden layers)\n",
        "each weights has 784 elements due to the no. of inputs on hidden layer (or input_dim)\n",
        "The size of bias:  torch.Size([100])\n",
        "where there is 100 biases as hidden layer has 100 nueron(or 100 output of hidden layers)\n",
        "\n",
        "for layer 2:\n",
        "The size of weights:  torch.Size([10, 100])\n",
        "where weights are 10 as output layer has 10 nuerons (or 10 no. of outputs of output layer i.e. output_dim)\n",
        "each weights has 100 elemnts due to the output of hidden layers worked as input for output layer\n",
        "The size of bias:  torch.Size([10])\n",
        "where biases are 10 as output layer has 10 nuerons (or 10 no. of outputs of output layer i.e. output_dim)\n",
        "\"\"\" \n",
        "\n"
      ],
      "execution_count": 13,
      "outputs": [
        {
          "output_type": "stream",
          "text": [
            "The following are the parameters for the layer  1\n",
            "The size of weights:  torch.Size([100, 784])\n",
            "The size of bias:  torch.Size([100])\n",
            "The following are the parameters for the layer  2\n",
            "The size of weights:  torch.Size([10, 100])\n",
            "The size of bias:  torch.Size([10])\n"
          ],
          "name": "stdout"
        },
        {
          "output_type": "execute_result",
          "data": {
            "application/vnd.google.colaboratory.intrinsic": {
              "type": "string"
            },
            "text/plain": [
              "'\\nhere for layer 1:\\nThe size of weights:  torch.Size([100, 784])\\nwhere there is 100 weights as hidden layer has 100 nueron(or 100 output of hidden layers)\\neach weights has 784 elements due to the no. of inputs on hidden layer (or input_dim)\\nThe size of bias:  torch.Size([100])\\nwhere there is 100 biases as hidden layer has 100 nueron(or 100 output of hidden layers)\\n\\nfor layer 2:\\nThe size of weights:  torch.Size([10, 100])\\nwhere weights are 10 as output layer has 10 nuerons (or 10 no. of outputs of output layer i.e. output_dim)\\neach weights has 100 elemnts due to the output of hidden layers worked as input for output layer\\nThe size of bias:  torch.Size([10])\\nwhere biases are 10 as output layer has 10 nuerons (or 10 no. of outputs of output layer i.e. output_dim)\\n'"
            ]
          },
          "metadata": {
            "tags": []
          },
          "execution_count": 13
        }
      ]
    },
    {
      "cell_type": "markdown",
      "metadata": {
        "id": "fU32JYY8Jjkd",
        "colab_type": "text"
      },
      "source": [
        "Define the optimizer object with a learning rate of 0.01: "
      ]
    },
    {
      "cell_type": "code",
      "metadata": {
        "id": "3hFXszabJjke",
        "colab_type": "code",
        "colab": {}
      },
      "source": [
        "# Set the learning rate and the optimizer\n",
        "\n",
        "learning_rate = 0.01\n",
        "optimizer = torch.optim.SGD(model.parameters(), lr=learning_rate)"
      ],
      "execution_count": 14,
      "outputs": []
    },
    {
      "cell_type": "markdown",
      "metadata": {
        "id": "S_ypw2TLJjki",
        "colab_type": "text"
      },
      "source": [
        "Train the model by using 100 epochs **(this process takes time)**: "
      ]
    },
    {
      "cell_type": "code",
      "metadata": {
        "id": "7mZGk5JfJjki",
        "colab_type": "code",
        "colab": {}
      },
      "source": [
        "# Train the model\n",
        "\n",
        "training_results = train(model, criterion, train_loader, validation_loader, optimizer, epochs=30)"
      ],
      "execution_count": 15,
      "outputs": []
    },
    {
      "cell_type": "code",
      "metadata": {
        "id": "9RSdrFF4PX6W",
        "colab_type": "code",
        "colab": {
          "base_uri": "https://localhost:8080/",
          "height": 1000
        },
        "outputId": "299e2f53-5b55-4fe2-c8a3-687ea285d374"
      },
      "source": [
        "training_results"
      ],
      "execution_count": 16,
      "outputs": [
        {
          "output_type": "execute_result",
          "data": {
            "text/plain": [
              "{'training_loss': [2.3648734092712402,\n",
              "  2.3484721183776855,\n",
              "  2.3478190898895264,\n",
              "  2.3531596660614014,\n",
              "  2.3505396842956543,\n",
              "  2.345020294189453,\n",
              "  2.3450567722320557,\n",
              "  2.3366622924804688,\n",
              "  2.332368850708008,\n",
              "  2.331615686416626,\n",
              "  2.331925630569458,\n",
              "  2.3332648277282715,\n",
              "  2.324552059173584,\n",
              "  2.3334150314331055,\n",
              "  2.3264360427856445,\n",
              "  2.3296148777008057,\n",
              "  2.3220181465148926,\n",
              "  2.3186168670654297,\n",
              "  2.3173470497131348,\n",
              "  2.3215396404266357,\n",
              "  2.317631721496582,\n",
              "  2.3157119750976562,\n",
              "  2.3155629634857178,\n",
              "  2.3117854595184326,\n",
              "  2.3132364749908447,\n",
              "  2.314629554748535,\n",
              "  2.311326742172241,\n",
              "  2.3048882484436035,\n",
              "  2.3140368461608887,\n",
              "  2.3099422454833984,\n",
              "  2.3080503940582275,\n",
              "  2.3072054386138916,\n",
              "  2.3045101165771484,\n",
              "  2.3040249347686768,\n",
              "  2.2999634742736816,\n",
              "  2.301542282104492,\n",
              "  2.3050968647003174,\n",
              "  2.3064475059509277,\n",
              "  2.3032002449035645,\n",
              "  2.3020427227020264,\n",
              "  2.301088571548462,\n",
              "  2.300302267074585,\n",
              "  2.3021044731140137,\n",
              "  2.2992818355560303,\n",
              "  2.301407814025879,\n",
              "  2.2969274520874023,\n",
              "  2.2978601455688477,\n",
              "  2.295114278793335,\n",
              "  2.2981154918670654,\n",
              "  2.2938661575317383,\n",
              "  2.295161724090576,\n",
              "  2.295229911804199,\n",
              "  2.294571876525879,\n",
              "  2.2946584224700928,\n",
              "  2.2919015884399414,\n",
              "  2.2952024936676025,\n",
              "  2.293017625808716,\n",
              "  2.29180645942688,\n",
              "  2.2934529781341553,\n",
              "  2.293095111846924,\n",
              "  2.2931888103485107,\n",
              "  2.2904367446899414,\n",
              "  2.2890267372131348,\n",
              "  2.2905654907226562,\n",
              "  2.29034161567688,\n",
              "  2.291940689086914,\n",
              "  2.2903242111206055,\n",
              "  2.2918832302093506,\n",
              "  2.2876625061035156,\n",
              "  2.2886948585510254,\n",
              "  2.288771390914917,\n",
              "  2.287947654724121,\n",
              "  2.2879390716552734,\n",
              "  2.28560733795166,\n",
              "  2.2880356311798096,\n",
              "  2.2876851558685303,\n",
              "  2.2868359088897705,\n",
              "  2.285719633102417,\n",
              "  2.2870004177093506,\n",
              "  2.2864346504211426,\n",
              "  2.285768508911133,\n",
              "  2.2863447666168213,\n",
              "  2.284918785095215,\n",
              "  2.285632848739624,\n",
              "  2.2853071689605713,\n",
              "  2.284832715988159,\n",
              "  2.2846853733062744,\n",
              "  2.2842867374420166,\n",
              "  2.2815325260162354,\n",
              "  2.282971143722534,\n",
              "  2.2834413051605225,\n",
              "  2.2823145389556885,\n",
              "  2.284921646118164,\n",
              "  2.2831196784973145,\n",
              "  2.281419515609741,\n",
              "  2.280658006668091,\n",
              "  2.2796294689178467,\n",
              "  2.2816827297210693,\n",
              "  2.2824878692626953,\n",
              "  2.2819902896881104,\n",
              "  2.280163526535034,\n",
              "  2.2800023555755615,\n",
              "  2.2797815799713135,\n",
              "  2.27805495262146,\n",
              "  2.281451463699341,\n",
              "  2.2795052528381348,\n",
              "  2.280524253845215,\n",
              "  2.2794156074523926,\n",
              "  2.2787582874298096,\n",
              "  2.2778706550598145,\n",
              "  2.279472589492798,\n",
              "  2.2764816284179688,\n",
              "  2.2782480716705322,\n",
              "  2.2783758640289307,\n",
              "  2.2769336700439453,\n",
              "  2.2772066593170166,\n",
              "  2.275621175765991,\n",
              "  2.276028633117676,\n",
              "  2.275264024734497,\n",
              "  2.2763571739196777,\n",
              "  2.2743570804595947,\n",
              "  2.2750816345214844,\n",
              "  2.275974750518799,\n",
              "  2.275442123413086,\n",
              "  2.271394968032837,\n",
              "  2.2748255729675293,\n",
              "  2.274477243423462,\n",
              "  2.276008367538452,\n",
              "  2.2735328674316406,\n",
              "  2.274214506149292,\n",
              "  2.274219274520874,\n",
              "  2.2715275287628174,\n",
              "  2.274153470993042,\n",
              "  2.2731239795684814,\n",
              "  2.2747154235839844,\n",
              "  2.272611618041992,\n",
              "  2.2720324993133545,\n",
              "  2.2679948806762695,\n",
              "  2.271202564239502,\n",
              "  2.2732081413269043,\n",
              "  2.270740032196045,\n",
              "  2.272278308868408,\n",
              "  2.2734062671661377,\n",
              "  2.2696785926818848,\n",
              "  2.2715418338775635,\n",
              "  2.2687747478485107,\n",
              "  2.270216226577759,\n",
              "  2.268350601196289,\n",
              "  2.2685463428497314,\n",
              "  2.2677223682403564,\n",
              "  2.2686572074890137,\n",
              "  2.267784357070923,\n",
              "  2.2676525115966797,\n",
              "  2.2696127891540527,\n",
              "  2.2659082412719727,\n",
              "  2.26617431640625,\n",
              "  2.266718864440918,\n",
              "  2.26711106300354,\n",
              "  2.267272472381592,\n",
              "  2.2662711143493652,\n",
              "  2.267582893371582,\n",
              "  2.265197277069092,\n",
              "  2.263554096221924,\n",
              "  2.265690326690674,\n",
              "  2.265688180923462,\n",
              "  2.267550230026245,\n",
              "  2.2651703357696533,\n",
              "  2.263169765472412,\n",
              "  2.264706611633301,\n",
              "  2.2652106285095215,\n",
              "  2.2677838802337646,\n",
              "  2.2639389038085938,\n",
              "  2.2670538425445557,\n",
              "  2.2611372470855713,\n",
              "  2.262145757675171,\n",
              "  2.261425256729126,\n",
              "  2.2589502334594727,\n",
              "  2.2631936073303223,\n",
              "  2.2621963024139404,\n",
              "  2.2628235816955566,\n",
              "  2.261446237564087,\n",
              "  2.2623679637908936,\n",
              "  2.262169361114502,\n",
              "  2.2601754665374756,\n",
              "  2.258176565170288,\n",
              "  2.260237455368042,\n",
              "  2.2621047496795654,\n",
              "  2.2612252235412598,\n",
              "  2.2597172260284424,\n",
              "  2.2597365379333496,\n",
              "  2.257646322250366,\n",
              "  2.2604820728302,\n",
              "  2.257218599319458,\n",
              "  2.258924961090088,\n",
              "  2.2592835426330566,\n",
              "  2.258565664291382,\n",
              "  2.2553458213806152,\n",
              "  2.258305072784424,\n",
              "  2.257291793823242,\n",
              "  2.25500750541687,\n",
              "  2.255255699157715,\n",
              "  2.2567591667175293,\n",
              "  2.2571823596954346,\n",
              "  2.2590644359588623,\n",
              "  2.256683588027954,\n",
              "  2.2545201778411865,\n",
              "  2.2544281482696533,\n",
              "  2.253589391708374,\n",
              "  2.253965139389038,\n",
              "  2.253737449645996,\n",
              "  2.253441095352173,\n",
              "  2.254995346069336,\n",
              "  2.254046678543091,\n",
              "  2.252908945083618,\n",
              "  2.254033088684082,\n",
              "  2.2516698837280273,\n",
              "  2.2524688243865967,\n",
              "  2.2492260932922363,\n",
              "  2.2551896572113037,\n",
              "  2.2499730587005615,\n",
              "  2.251532554626465,\n",
              "  2.2523322105407715,\n",
              "  2.2546679973602295,\n",
              "  2.2507519721984863,\n",
              "  2.2502801418304443,\n",
              "  2.2507145404815674,\n",
              "  2.251364231109619,\n",
              "  2.2513859272003174,\n",
              "  2.246403694152832,\n",
              "  2.2523136138916016,\n",
              "  2.248335123062134,\n",
              "  2.24927020072937,\n",
              "  2.248105525970459,\n",
              "  2.2485554218292236,\n",
              "  2.249776601791382,\n",
              "  2.2488574981689453,\n",
              "  2.2466390132904053,\n",
              "  2.2471096515655518,\n",
              "  2.248047351837158,\n",
              "  2.245185613632202,\n",
              "  2.243612051010132,\n",
              "  2.2456674575805664,\n",
              "  2.24898362159729,\n",
              "  2.250619649887085,\n",
              "  2.245299816131592,\n",
              "  2.2478508949279785,\n",
              "  2.245893716812134,\n",
              "  2.2455732822418213,\n",
              "  2.2446789741516113,\n",
              "  2.2439522743225098,\n",
              "  2.2437984943389893,\n",
              "  2.244574546813965,\n",
              "  2.243208646774292,\n",
              "  2.241020679473877,\n",
              "  2.243400812149048,\n",
              "  2.240333080291748,\n",
              "  2.2408387660980225,\n",
              "  2.241307020187378,\n",
              "  2.241922616958618,\n",
              "  2.2403507232666016,\n",
              "  2.241715431213379,\n",
              "  2.2418553829193115,\n",
              "  2.2428178787231445,\n",
              "  2.2416493892669678,\n",
              "  2.241309881210327,\n",
              "  2.2433300018310547,\n",
              "  2.2398681640625,\n",
              "  2.2398080825805664,\n",
              "  2.2411673069000244,\n",
              "  2.237957239151001,\n",
              "  2.24078106880188,\n",
              "  2.2363333702087402,\n",
              "  2.2389485836029053,\n",
              "  2.2381370067596436,\n",
              "  2.2377209663391113,\n",
              "  2.2348663806915283,\n",
              "  2.2378933429718018,\n",
              "  2.237574815750122,\n",
              "  2.233563184738159,\n",
              "  2.237657308578491,\n",
              "  2.2386765480041504,\n",
              "  2.2367403507232666,\n",
              "  2.233477830886841,\n",
              "  2.238978862762451,\n",
              "  2.239030599594116,\n",
              "  2.237259864807129,\n",
              "  2.2339906692504883,\n",
              "  2.2330429553985596,\n",
              "  2.2312567234039307,\n",
              "  2.2343380451202393,\n",
              "  2.2339723110198975,\n",
              "  2.2328405380249023,\n",
              "  2.233924388885498,\n",
              "  2.2302613258361816,\n",
              "  2.2355411052703857,\n",
              "  2.2320005893707275,\n",
              "  2.2360165119171143,\n",
              "  2.2319416999816895,\n",
              "  2.232182502746582,\n",
              "  2.234222412109375,\n",
              "  2.229071617126465,\n",
              "  2.230242967605591,\n",
              "  2.230985403060913,\n",
              "  2.2299416065216064,\n",
              "  2.228454828262329,\n",
              "  2.228076696395874,\n",
              "  2.2345104217529297,\n",
              "  2.228743076324463,\n",
              "  2.2275636196136475,\n",
              "  2.226533889770508,\n",
              "  2.22798228263855,\n",
              "  2.2250237464904785,\n",
              "  2.2307071685791016,\n",
              "  2.23136305809021,\n",
              "  2.2290451526641846,\n",
              "  2.228896379470825,\n",
              "  2.22440767288208,\n",
              "  2.2295985221862793,\n",
              "  2.2305362224578857,\n",
              "  2.2240114212036133,\n",
              "  2.2247393131256104,\n",
              "  2.2229228019714355,\n",
              "  2.224952459335327,\n",
              "  2.229442834854126,\n",
              "  2.2277603149414062,\n",
              "  2.2237939834594727,\n",
              "  2.226344347000122,\n",
              "  2.2217657566070557,\n",
              "  2.226762294769287,\n",
              "  2.2216501235961914,\n",
              "  2.222053050994873,\n",
              "  2.225045680999756,\n",
              "  2.2251648902893066,\n",
              "  2.224022626876831,\n",
              "  2.22137188911438,\n",
              "  2.222168445587158,\n",
              "  2.2244389057159424,\n",
              "  2.2225327491760254,\n",
              "  2.220801830291748,\n",
              "  2.2218809127807617,\n",
              "  2.2171266078948975,\n",
              "  2.2214794158935547,\n",
              "  2.22031569480896,\n",
              "  2.2187445163726807,\n",
              "  2.2230775356292725,\n",
              "  2.2173640727996826,\n",
              "  2.2183597087860107,\n",
              "  2.2145369052886963,\n",
              "  2.218977689743042,\n",
              "  2.2172391414642334,\n",
              "  2.2192888259887695,\n",
              "  2.2155535221099854,\n",
              "  2.2167909145355225,\n",
              "  2.2200329303741455,\n",
              "  2.2158076763153076,\n",
              "  2.213855266571045,\n",
              "  2.2175142765045166,\n",
              "  2.214884042739868,\n",
              "  2.2174713611602783,\n",
              "  2.213404893875122,\n",
              "  2.214844226837158,\n",
              "  2.214118480682373,\n",
              "  2.217959403991699,\n",
              "  2.214669704437256,\n",
              "  2.2121944427490234,\n",
              "  2.212251901626587,\n",
              "  2.211521863937378,\n",
              "  2.2132389545440674,\n",
              "  2.210242748260498,\n",
              "  2.21530818939209,\n",
              "  2.2161569595336914,\n",
              "  2.2098488807678223,\n",
              "  2.2123849391937256,\n",
              "  2.214536666870117,\n",
              "  2.213735580444336,\n",
              "  2.210876941680908,\n",
              "  2.2142882347106934,\n",
              "  2.2087998390197754,\n",
              "  2.208719253540039,\n",
              "  2.2088966369628906,\n",
              "  2.2102227210998535,\n",
              "  2.2088825702667236,\n",
              "  2.209815502166748,\n",
              "  2.2059051990509033,\n",
              "  2.212209701538086,\n",
              "  2.209388256072998,\n",
              "  2.206026792526245,\n",
              "  2.2040605545043945,\n",
              "  2.205185890197754,\n",
              "  2.2034192085266113,\n",
              "  2.2045066356658936,\n",
              "  2.2036938667297363,\n",
              "  2.2087833881378174,\n",
              "  2.20548939704895,\n",
              "  2.207451581954956,\n",
              "  2.209045171737671,\n",
              "  2.200944423675537,\n",
              "  2.209664821624756,\n",
              "  2.2028932571411133,\n",
              "  2.2060706615448,\n",
              "  2.2077949047088623,\n",
              "  2.2018306255340576,\n",
              "  2.2072784900665283,\n",
              "  2.1999576091766357,\n",
              "  2.198546886444092,\n",
              "  2.2000415325164795,\n",
              "  2.2015323638916016,\n",
              "  2.202569007873535,\n",
              "  2.199636936187744,\n",
              "  2.2046260833740234,\n",
              "  2.2016940116882324,\n",
              "  2.2000393867492676,\n",
              "  2.2015771865844727,\n",
              "  2.194859266281128,\n",
              "  2.1974239349365234,\n",
              "  2.2008700370788574,\n",
              "  2.194908857345581,\n",
              "  2.1965529918670654,\n",
              "  2.2001731395721436,\n",
              "  2.1988096237182617,\n",
              "  2.1969120502471924,\n",
              "  2.1967296600341797,\n",
              "  2.1975958347320557,\n",
              "  2.2016170024871826,\n",
              "  2.1900746822357178,\n",
              "  2.1954407691955566,\n",
              "  2.1974124908447266,\n",
              "  2.190786838531494,\n",
              "  2.1992971897125244,\n",
              "  2.1922314167022705,\n",
              "  2.1918764114379883,\n",
              "  2.1937167644500732,\n",
              "  2.1964352130889893,\n",
              "  2.1936845779418945,\n",
              "  2.1896190643310547,\n",
              "  2.194373369216919,\n",
              "  2.195887804031372,\n",
              "  2.19219970703125,\n",
              "  2.193342685699463,\n",
              "  2.1910240650177,\n",
              "  2.1925549507141113,\n",
              "  2.18957781791687,\n",
              "  2.1895740032196045,\n",
              "  2.1921706199645996,\n",
              "  2.192082166671753,\n",
              "  2.18825626373291,\n",
              "  2.190478563308716,\n",
              "  2.1913998126983643,\n",
              "  2.195427894592285,\n",
              "  2.1881461143493652,\n",
              "  2.189572334289551,\n",
              "  2.187415361404419,\n",
              "  2.1872193813323975,\n",
              "  2.189160108566284,\n",
              "  2.1885836124420166,\n",
              "  2.1854963302612305,\n",
              "  2.1846911907196045,\n",
              "  2.1877493858337402,\n",
              "  2.18814754486084,\n",
              "  2.1864781379699707,\n",
              "  2.1855993270874023,\n",
              "  2.1837880611419678,\n",
              "  2.182605504989624,\n",
              "  2.1839804649353027,\n",
              "  2.1824941635131836,\n",
              "  2.1802406311035156,\n",
              "  2.179534912109375,\n",
              "  2.1826770305633545,\n",
              "  2.1878368854522705,\n",
              "  2.1821560859680176,\n",
              "  2.185041904449463,\n",
              "  2.1825153827667236,\n",
              "  2.1813602447509766,\n",
              "  2.1800715923309326,\n",
              "  2.1825413703918457,\n",
              "  2.1766209602355957,\n",
              "  2.186854600906372,\n",
              "  2.1781907081604004,\n",
              "  2.1799423694610596,\n",
              "  2.1820781230926514,\n",
              "  2.179654121398926,\n",
              "  2.180983304977417,\n",
              "  2.180732250213623,\n",
              "  2.1781935691833496,\n",
              "  2.181213617324829,\n",
              "  2.176931381225586,\n",
              "  2.1819801330566406,\n",
              "  2.1794755458831787,\n",
              "  2.178334951400757,\n",
              "  2.1732258796691895,\n",
              "  2.1743509769439697,\n",
              "  2.174614906311035,\n",
              "  2.177765369415283,\n",
              "  2.1740965843200684,\n",
              "  2.171172857284546,\n",
              "  2.174827814102173,\n",
              "  2.171970844268799,\n",
              "  2.1744000911712646,\n",
              "  2.174621820449829,\n",
              "  2.172623872756958,\n",
              "  2.16978120803833,\n",
              "  2.1700494289398193,\n",
              "  2.1725356578826904,\n",
              "  2.172714948654175,\n",
              "  2.171593189239502,\n",
              "  2.1680521965026855,\n",
              "  2.169640302658081,\n",
              "  2.171165943145752,\n",
              "  2.1697559356689453,\n",
              "  2.164079189300537,\n",
              "  2.1703946590423584,\n",
              "  2.1681816577911377,\n",
              "  2.1666367053985596,\n",
              "  2.169654130935669,\n",
              "  2.1661205291748047,\n",
              "  2.1704623699188232,\n",
              "  2.163519859313965,\n",
              "  2.1683242321014404,\n",
              "  2.1645193099975586,\n",
              "  2.1689565181732178,\n",
              "  2.163607358932495,\n",
              "  2.170750141143799,\n",
              "  2.1634161472320557,\n",
              "  2.1647047996520996,\n",
              "  2.1699376106262207,\n",
              "  2.169149398803711,\n",
              "  2.1671321392059326,\n",
              "  2.1613638401031494,\n",
              "  2.162407398223877,\n",
              "  2.1589314937591553,\n",
              "  2.163668155670166,\n",
              "  2.1604862213134766,\n",
              "  2.1587741374969482,\n",
              "  2.1604459285736084,\n",
              "  2.1604578495025635,\n",
              "  2.1556148529052734,\n",
              "  2.159132242202759,\n",
              "  2.1640429496765137,\n",
              "  2.162477731704712,\n",
              "  2.156566619873047,\n",
              "  2.162510871887207,\n",
              "  2.1548349857330322,\n",
              "  2.1577024459838867,\n",
              "  2.157301187515259,\n",
              "  2.156606912612915,\n",
              "  2.159531831741333,\n",
              "  2.1607918739318848,\n",
              "  2.1546170711517334,\n",
              "  2.160543918609619,\n",
              "  2.1586265563964844,\n",
              "  2.154420852661133,\n",
              "  2.1547272205352783,\n",
              "  2.1537435054779053,\n",
              "  2.1514039039611816,\n",
              "  2.1561081409454346,\n",
              "  2.149714708328247,\n",
              "  2.160313129425049,\n",
              "  2.1510236263275146,\n",
              "  2.155308723449707,\n",
              "  2.152181625366211,\n",
              "  2.1488053798675537,\n",
              "  2.147702693939209,\n",
              "  2.148843288421631,\n",
              "  2.1515748500823975,\n",
              "  2.15059494972229,\n",
              "  2.151500701904297,\n",
              "  2.148775100708008,\n",
              "  2.147867202758789,\n",
              "  2.150069236755371,\n",
              "  2.1499571800231934,\n",
              "  2.1501517295837402,\n",
              "  2.143662452697754,\n",
              "  2.156510829925537,\n",
              "  2.147446870803833,\n",
              "  2.1494576930999756,\n",
              "  2.14473032951355,\n",
              "  2.141725778579712,\n",
              "  2.144218683242798,\n",
              "  2.147202968597412,\n",
              "  2.147362232208252,\n",
              "  2.1475985050201416,\n",
              "  2.14312481880188,\n",
              "  2.1438939571380615,\n",
              "  2.1440651416778564,\n",
              "  2.14316987991333,\n",
              "  2.1408307552337646,\n",
              "  2.144974946975708,\n",
              "  2.143718957901001,\n",
              "  2.142364263534546,\n",
              "  2.141003131866455,\n",
              "  2.1398355960845947,\n",
              "  2.138094902038574,\n",
              "  2.1362133026123047,\n",
              "  2.1413543224334717,\n",
              "  2.1406586170196533,\n",
              "  2.1384811401367188,\n",
              "  2.1393401622772217,\n",
              "  2.136228322982788,\n",
              "  2.14443302154541,\n",
              "  2.1312782764434814,\n",
              "  2.1421821117401123,\n",
              "  2.14538836479187,\n",
              "  2.1365573406219482,\n",
              "  2.132530450820923,\n",
              "  2.1325440406799316,\n",
              "  2.1325244903564453,\n",
              "  2.1327130794525146,\n",
              "  2.133671522140503,\n",
              "  2.139049768447876,\n",
              "  2.1363916397094727,\n",
              "  2.1304752826690674,\n",
              "  2.1315104961395264,\n",
              "  2.128537654876709,\n",
              "  2.133997917175293,\n",
              "  2.1305301189422607,\n",
              "  2.1332790851593018,\n",
              "  2.1344738006591797,\n",
              "  2.1339004039764404,\n",
              "  2.1318697929382324,\n",
              "  2.1301987171173096,\n",
              "  2.1284849643707275,\n",
              "  2.125948667526245,\n",
              "  2.1277356147766113,\n",
              "  2.127164125442505,\n",
              "  2.128316879272461,\n",
              "  2.126568555831909,\n",
              "  2.124279499053955,\n",
              "  2.129368305206299,\n",
              "  2.1289005279541016,\n",
              "  2.1261675357818604,\n",
              "  2.1241049766540527,\n",
              "  2.124830961227417,\n",
              "  2.126753330230713,\n",
              "  2.1223866939544678,\n",
              "  2.121061086654663,\n",
              "  2.1241490840911865,\n",
              "  2.1221401691436768,\n",
              "  2.1208412647247314,\n",
              "  2.1240036487579346,\n",
              "  2.1244378089904785,\n",
              "  2.1166727542877197,\n",
              "  2.1227152347564697,\n",
              "  2.1216323375701904,\n",
              "  2.1201045513153076,\n",
              "  2.1204535961151123,\n",
              "  2.122312307357788,\n",
              "  2.1273202896118164,\n",
              "  2.1209237575531006,\n",
              "  2.117542266845703,\n",
              "  2.1145710945129395,\n",
              "  2.1225993633270264,\n",
              "  2.1221060752868652,\n",
              "  2.1165854930877686,\n",
              "  2.1190898418426514,\n",
              "  2.118640422821045,\n",
              "  2.119790554046631,\n",
              "  2.1167867183685303,\n",
              "  2.1152777671813965,\n",
              "  2.1073124408721924,\n",
              "  2.1080405712127686,\n",
              "  2.11550235748291,\n",
              "  2.113419532775879,\n",
              "  2.1141488552093506,\n",
              "  2.1152725219726562,\n",
              "  2.111976146697998,\n",
              "  2.113929271697998,\n",
              "  2.1056506633758545,\n",
              "  2.1114253997802734,\n",
              "  2.1108710765838623,\n",
              "  2.1102383136749268,\n",
              "  2.1097121238708496,\n",
              "  2.1163792610168457,\n",
              "  2.110584020614624,\n",
              "  2.1108450889587402,\n",
              "  2.106412649154663,\n",
              "  2.107028007507324,\n",
              "  2.107060194015503,\n",
              "  2.1080570220947266,\n",
              "  2.106233596801758,\n",
              "  2.1033668518066406,\n",
              "  2.1093175411224365,\n",
              "  2.1013526916503906,\n",
              "  2.1056501865386963,\n",
              "  2.0973222255706787,\n",
              "  2.1082112789154053,\n",
              "  2.1040120124816895,\n",
              "  2.098717451095581,\n",
              "  2.1017708778381348,\n",
              "  2.102769613265991,\n",
              "  2.1030585765838623,\n",
              "  2.1018195152282715,\n",
              "  2.0988945960998535,\n",
              "  2.1045868396759033,\n",
              "  2.1018519401550293,\n",
              "  2.0977237224578857,\n",
              "  2.097217321395874,\n",
              "  2.100574493408203,\n",
              "  2.099076271057129,\n",
              "  2.092806816101074,\n",
              "  2.0980749130249023,\n",
              "  2.0984930992126465,\n",
              "  2.101060152053833,\n",
              "  2.0854458808898926,\n",
              "  2.098768711090088,\n",
              "  2.094491958618164,\n",
              "  2.094494342803955,\n",
              "  2.09755539894104,\n",
              "  2.0952768325805664,\n",
              "  2.091156005859375,\n",
              "  2.0923402309417725,\n",
              "  2.090823173522949,\n",
              "  2.0910260677337646,\n",
              "  2.088416814804077,\n",
              "  2.092081308364868,\n",
              "  2.0933923721313477,\n",
              "  2.09566593170166,\n",
              "  2.092552661895752,\n",
              "  2.092787027359009,\n",
              "  2.0913078784942627,\n",
              "  2.091853141784668,\n",
              "  2.0885660648345947,\n",
              "  2.0880327224731445,\n",
              "  2.09297251701355,\n",
              "  2.0824718475341797,\n",
              "  2.089979648590088,\n",
              "  2.0844640731811523,\n",
              "  2.0814733505249023,\n",
              "  2.0839433670043945,\n",
              "  2.0839521884918213,\n",
              "  2.090115785598755,\n",
              "  2.0923116207122803,\n",
              "  2.0828185081481934,\n",
              "  2.075049638748169,\n",
              "  2.0852537155151367,\n",
              "  2.079612970352173,\n",
              "  2.0839574337005615,\n",
              "  2.0865111351013184,\n",
              "  2.083822250366211,\n",
              "  2.0831689834594727,\n",
              "  2.0844180583953857,\n",
              "  2.079773426055908,\n",
              "  2.076610803604126,\n",
              "  2.0777459144592285,\n",
              "  2.0762133598327637,\n",
              "  2.0761642456054688,\n",
              "  2.078617811203003,\n",
              "  2.07908296585083,\n",
              "  2.072390079498291,\n",
              "  2.0752007961273193,\n",
              "  2.0737757682800293,\n",
              "  2.074686050415039,\n",
              "  2.0699987411499023,\n",
              "  2.0719714164733887,\n",
              "  2.077061414718628,\n",
              "  2.073836088180542,\n",
              "  2.068826913833618,\n",
              "  2.0724716186523438,\n",
              "  2.0689713954925537,\n",
              "  2.0698111057281494,\n",
              "  2.071397304534912,\n",
              "  2.071246385574341,\n",
              "  2.0714097023010254,\n",
              "  2.0708699226379395,\n",
              "  2.0615694522857666,\n",
              "  2.0671026706695557,\n",
              "  2.066685199737549,\n",
              "  2.068330764770508,\n",
              "  2.067716360092163,\n",
              "  2.0662429332733154,\n",
              "  2.0719220638275146,\n",
              "  2.0725951194763184,\n",
              "  2.063749313354492,\n",
              "  2.069028854370117,\n",
              "  2.0664987564086914,\n",
              "  2.071122169494629,\n",
              "  2.0679469108581543,\n",
              "  2.059713125228882,\n",
              "  2.0642623901367188,\n",
              "  2.063835382461548,\n",
              "  2.0598716735839844,\n",
              "  2.054971933364868,\n",
              "  2.056103467941284,\n",
              "  2.0589540004730225,\n",
              "  2.0560059547424316,\n",
              "  2.0539627075195312,\n",
              "  2.053337812423706,\n",
              "  2.059030294418335,\n",
              "  2.0679407119750977,\n",
              "  2.0638668537139893,\n",
              "  2.0588324069976807,\n",
              "  2.0637714862823486,\n",
              "  2.0561952590942383,\n",
              "  2.0490262508392334,\n",
              "  2.0582523345947266,\n",
              "  2.0558128356933594,\n",
              "  2.0561296939849854,\n",
              "  2.046175479888916,\n",
              "  2.0496678352355957,\n",
              "  2.0504980087280273,\n",
              "  2.054258108139038,\n",
              "  2.058300495147705,\n",
              "  2.0480895042419434,\n",
              "  2.061471939086914,\n",
              "  2.0529909133911133,\n",
              "  2.0546622276306152,\n",
              "  2.050781011581421,\n",
              "  2.045302391052246,\n",
              "  2.0468251705169678,\n",
              "  2.0475399494171143,\n",
              "  2.04963755607605,\n",
              "  2.0433242321014404,\n",
              "  2.0543553829193115,\n",
              "  2.0491480827331543,\n",
              "  2.0470008850097656,\n",
              "  2.04717755317688,\n",
              "  2.043091297149658,\n",
              "  2.047386646270752,\n",
              "  2.038694143295288,\n",
              "  2.0449624061584473,\n",
              "  2.042769432067871,\n",
              "  2.0434298515319824,\n",
              "  2.038468837738037,\n",
              "  2.0469913482666016,\n",
              "  2.041242837905884,\n",
              "  2.040095329284668,\n",
              "  2.0381858348846436,\n",
              "  2.041682720184326,\n",
              "  2.0360782146453857,\n",
              "  2.0352559089660645,\n",
              "  2.032931327819824,\n",
              "  2.0307087898254395,\n",
              "  2.032853126525879,\n",
              "  2.042656660079956,\n",
              "  2.034198522567749,\n",
              "  2.0392308235168457,\n",
              "  2.0352823734283447,\n",
              "  2.0402560234069824,\n",
              "  2.038311719894409,\n",
              "  2.0252811908721924,\n",
              "  2.0293774604797363,\n",
              "  2.0345919132232666,\n",
              "  2.0332846641540527,\n",
              "  2.0367839336395264,\n",
              "  2.0267622470855713,\n",
              "  2.030885934829712,\n",
              "  2.0273303985595703,\n",
              "  2.023427724838257,\n",
              "  2.02854585647583,\n",
              "  2.034623384475708,\n",
              "  2.038480281829834,\n",
              "  2.025919198989868,\n",
              "  2.021404981613159,\n",
              "  2.021714448928833,\n",
              "  2.0300965309143066,\n",
              "  2.0142030715942383,\n",
              "  2.0290095806121826,\n",
              "  2.022542715072632,\n",
              "  2.0225443840026855,\n",
              "  2.029970645904541,\n",
              "  2.017537832260132,\n",
              "  2.0219476222991943,\n",
              "  2.029202938079834,\n",
              "  2.0210440158843994,\n",
              "  2.0186829566955566,\n",
              "  2.01987624168396,\n",
              "  2.0175206661224365,\n",
              "  2.0187249183654785,\n",
              "  2.0207903385162354,\n",
              "  2.0152649879455566,\n",
              "  2.0151472091674805,\n",
              "  2.0169832706451416,\n",
              "  2.0112264156341553,\n",
              "  2.0215964317321777,\n",
              "  2.0127580165863037,\n",
              "  2.0127458572387695,\n",
              "  2.015773296356201,\n",
              "  2.014840841293335,\n",
              "  2.0160839557647705,\n",
              "  2.0120134353637695,\n",
              "  2.019181966781616,\n",
              "  2.012099027633667,\n",
              "  2.0141360759735107,\n",
              "  2.012305736541748,\n",
              "  2.0035347938537598,\n",
              "  2.008535861968994,\n",
              "  2.0109989643096924,\n",
              "  2.003194570541382,\n",
              "  2.0159802436828613,\n",
              "  2.0100197792053223,\n",
              "  2.000624179840088,\n",
              "  2.0096592903137207,\n",
              "  2.017538070678711,\n",
              "  2.000516653060913,\n",
              "  2.0032742023468018,\n",
              "  2.0052967071533203,\n",
              "  2.0020127296447754,\n",
              "  2.0037424564361572,\n",
              "  2.004607677459717,\n",
              "  1.9940093755722046,\n",
              "  1.994707465171814],\n",
              " 'validation_accuracy': [9.569999999999999,\n",
              "  9.89,\n",
              "  28.349999999999998,\n",
              "  20.05,\n",
              "  20.41,\n",
              "  23.080000000000002,\n",
              "  28.17,\n",
              "  32.25,\n",
              "  35.65,\n",
              "  40.19,\n",
              "  43.11,\n",
              "  45.29,\n",
              "  47.660000000000004,\n",
              "  49.38,\n",
              "  52.07000000000001,\n",
              "  53.510000000000005,\n",
              "  54.31,\n",
              "  56.08,\n",
              "  57.28,\n",
              "  58.160000000000004,\n",
              "  58.79,\n",
              "  59.69,\n",
              "  60.519999999999996,\n",
              "  61.339999999999996,\n",
              "  61.8,\n",
              "  62.629999999999995,\n",
              "  63.2,\n",
              "  63.349999999999994,\n",
              "  63.74999999999999,\n",
              "  64.03]}"
            ]
          },
          "metadata": {
            "tags": []
          },
          "execution_count": 16
        }
      ]
    },
    {
      "cell_type": "markdown",
      "metadata": {
        "id": "qmstir50Jjkl",
        "colab_type": "text"
      },
      "source": [
        "<!--Empty Space for separating topics-->"
      ]
    },
    {
      "cell_type": "markdown",
      "metadata": {
        "id": "aTGP0y1DJjkn",
        "colab_type": "text"
      },
      "source": [
        "<h2 id=\"Result\">Analyze Results</h2> "
      ]
    },
    {
      "cell_type": "markdown",
      "metadata": {
        "id": "XnmG4EssJjko",
        "colab_type": "text"
      },
      "source": [
        "Plot the training total loss or cost for every iteration and plot the training accuracy for every epoch:  "
      ]
    },
    {
      "cell_type": "code",
      "metadata": {
        "id": "oBVsx0U5Jjko",
        "colab_type": "code",
        "colab": {
          "base_uri": "https://localhost:8080/",
          "height": 295
        },
        "outputId": "1864e3a2-0387-4cce-f0f2-510d12a21bb4"
      },
      "source": [
        "# Plot the accuracy and loss\n",
        "\n",
        "plot_accuracy_loss(training_results)"
      ],
      "execution_count": 17,
      "outputs": [
        {
          "output_type": "display_data",
          "data": {
            "image/png": "[encoded data removed]",
            "text/plain": [
              "<Figure size 432x288 with 2 Axes>"
            ]
          },
          "metadata": {
            "tags": [],
            "needs_background": "light"
          }
        }
      ]
    },
    {
      "cell_type": "markdown",
      "metadata": {
        "id": "Ui3f6a76Jjks",
        "colab_type": "text"
      },
      "source": [
        "Plot the first five misclassified samples:   "
      ]
    },
    {
      "cell_type": "code",
      "metadata": {
        "id": "1sxuf0DKJjkt",
        "colab_type": "code",
        "colab": {
          "base_uri": "https://localhost:8080/",
          "height": 1000
        },
        "outputId": "fc4442f2-7615-4080-d766-2e7983ec3452"
      },
      "source": [
        "# Plot the first five misclassified samples\n",
        "\n",
        "count = 0\n",
        "for x, y in validation_dataset:\n",
        "    z = model(x.reshape(-1, 28 * 28))\n",
        "    _,yhat = torch.max(z, 1)\n",
        "    if yhat != y:\n",
        "        show_data(x)\n",
        "        count += 1\n",
        "    if count >= 5:\n",
        "        break"
      ],
      "execution_count": 18,
      "outputs": [
        {
          "output_type": "display_data",
          "data": {
            "image/png": "[encoded data removed]",
            "text/plain": [
              "<Figure size 432x288 with 1 Axes>"
            ]
          },
          "metadata": {
            "tags": [],
            "needs_background": "light"
          }
        },
        {
          "output_type": "display_data",
          "data": {
            "image/png": "[encoded data removed]",
            "text/plain": [
              "<Figure size 432x288 with 1 Axes>"
            ]
          },
          "metadata": {
            "tags": [],
            "needs_background": "light"
          }
        },
        {
          "output_type": "display_data",
          "data": {
            "image/png": "[encoded data removed]",
            "text/plain": [
              "<Figure size 432x288 with 1 Axes>"
            ]
          },
          "metadata": {
            "tags": [],
            "needs_background": "light"
          }
        },
        {
          "output_type": "display_data",
          "data": {
            "image/png": "[encoded data removed]",
            "text/plain": [
              "<Figure size 432x288 with 1 Axes>"
            ]
          },
          "metadata": {
            "tags": [],
            "needs_background": "light"
          }
        },
        {
          "output_type": "display_data",
          "data": {
            "image/png": "[encoded data removed]",
            "text/plain": [
              "<Figure size 432x288 with 1 Axes>"
            ]
          },
          "metadata": {
            "tags": [],
            "needs_background": "light"
          }
        }
      ]
    },
    {
      "cell_type": "markdown",
      "metadata": {
        "id": "fCafTxB6Jjkx",
        "colab_type": "text"
      },
      "source": [
        "Use <code>nn.Sequential</code> to build exactly the same model as you just built. Use the function <train>train</train> to train the model and use the function <code>plot_accuracy_loss</code> to see the metrics. Also, try different epoch numbers. "
      ]
    },
    {
      "cell_type": "code",
      "metadata": {
        "id": "KFj63rhjJjky",
        "colab_type": "code",
        "colab": {
          "base_uri": "https://localhost:8080/",
          "height": 295
        },
        "outputId": "7e7eaa80-8f53-4c3f-c9cf-81801fbb0ab6"
      },
      "source": [
        "# Practice: Use nn.Sequential to build the same model. Use plot_accuracy_loss to print out the accuarcy and loss\n",
        "input_dim = 28 * 28\n",
        "hidden_dim = 100\n",
        "output_dim = 10\n",
        "\n",
        "model = torch.nn.Sequential(\n",
        "    torch.nn.Linear(input_dim, hidden_dim),\n",
        "    torch.nn.Sigmoid(),\n",
        "    torch.nn.Linear(hidden_dim, output_dim),\n",
        ")\n",
        "learning_rate = 0.01\n",
        "optimizer = torch.optim.SGD(model.parameters(), lr = learning_rate)\n",
        "training_results = train(model, criterion, train_loader, validation_loader, optimizer, epochs = 10)\n",
        "plot_accuracy_loss(training_results)"
      ],
      "execution_count": 19,
      "outputs": [
        {
          "output_type": "display_data",
          "data": {
            "image/png": "[encoded data removed]",
            "text/plain": [
              "<Figure size 432x288 with 2 Axes>"
            ]
          },
          "metadata": {
            "tags": [],
            "needs_background": "light"
          }
        }
      ]
    }
  ]
}