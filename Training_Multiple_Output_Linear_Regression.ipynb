{
  "nbformat": 4,
  "nbformat_minor": 0,
  "metadata": {
    "kernelspec": {
      "display_name": "Python 3",
      "language": "python",
      "name": "python3"
    },
    "language_info": {
      "codemirror_mode": {
        "name": "ipython",
        "version": 3
      },
      "file_extension": ".py",
      "mimetype": "text/x-python",
      "name": "python",
      "nbconvert_exporter": "python",
      "pygments_lexer": "ipython3",
      "version": "3.6.8"
    },
    "colab": {
      "name": "Training_Multiple_Output_Linear_Regression.ipynb",
      "provenance": [],
      "collapsed_sections": [],
      "include_colab_link": true
    }
  },
  "cells": [
    {
      "cell_type": "markdown",
      "metadata": {
        "id": "view-in-github",
        "colab_type": "text"
      },
      "source": [
        "<a href=\"https://colab.research.google.com/github/vvicky30/Deep_neural_Networks_PyToacrch/blob/master/Training_Multiple_Output_Linear_Regression.ipynb\" target=\"_parent\"><img src=\"https://colab.research.google.com/assets/colab-badge.svg\" alt=\"Open In Colab\"/></a>"
      ]
    },
    {
      "cell_type": "markdown",
      "metadata": {
        "id": "G_mHsxjnvtwq",
        "colab_type": "text"
      },
      "source": [
        "<h1 align=center><font size = 5>Linear Regression Multiple Outputs</font></h1> \n",
        "# Table of Contents\n",
        "In this lab, you will create a model the Pytroch way. This will help you as models get more complicated.\n",
        "\n",
        "<div class=\"alert alert-block alert-info\" style=\"margin-top: 20px\">\n",
        "<li><a href=\"#ref0\">Make Some Data</a></li>\n",
        "<li><a href=\"#ref1\">Create the Model and Cost Function the Pytorch way</a></li>\n",
        "<li><a href=\"#ref2\">Train the Model: Batch Gradient Descent</a></li>\n",
        "<li><a href=\"#ref3\">Practice Questions </a></li>\n",
        "<br>\n",
        "<p></p>\n",
        "\n",
        "</div>\n",
        "\n",
        "<hr>"
      ]
    },
    {
      "cell_type": "markdown",
      "metadata": {
        "id": "jVSNlVIWvtwq",
        "colab_type": "text"
      },
      "source": [
        "Import the following libraries:  "
      ]
    },
    {
      "cell_type": "code",
      "metadata": {
        "id": "jbeGnXzivtwr",
        "colab_type": "code",
        "colab": {}
      },
      "source": [
        "import torch\n",
        "import numpy as np\n",
        "import matplotlib.pyplot as plt\n",
        "from torch import nn,optim\n",
        "from mpl_toolkits.mplot3d import Axes3D\n",
        "from torch.utils.data import Dataset, DataLoader\n",
        "import torchvision.transforms as transforms"
      ],
      "execution_count": 1,
      "outputs": []
    },
    {
      "cell_type": "markdown",
      "metadata": {
        "id": "ylTdFISZvtww",
        "colab_type": "text"
      },
      "source": [
        "Set the random seed:"
      ]
    },
    {
      "cell_type": "code",
      "metadata": {
        "id": "A9Do6-3fvtww",
        "colab_type": "code",
        "colab": {
          "base_uri": "https://localhost:8080/",
          "height": 34
        },
        "outputId": "ad249ca9-19d3-44da-c03f-3b4bbfeba11e"
      },
      "source": [
        "torch.manual_seed(1)"
      ],
      "execution_count": 2,
      "outputs": [
        {
          "output_type": "execute_result",
          "data": {
            "text/plain": [
              "<torch._C.Generator at 0x7f7566e156d0>"
            ]
          },
          "metadata": {
            "tags": []
          },
          "execution_count": 2
        }
      ]
    },
    {
      "cell_type": "markdown",
      "metadata": {
        "id": "WHmvIZG6vtwz",
        "colab_type": "text"
      },
      "source": [
        "<a id=\"ref0\"></a>\n",
        "<h2 align=center>Make Some Data </h2>\n",
        "Create a dataset class with two-dimensional features and two targets: "
      ]
    },
    {
      "cell_type": "code",
      "metadata": {
        "id": "YqohARybvtw0",
        "colab_type": "code",
        "colab": {}
      },
      "source": [
        "from torch.utils.data import Dataset, DataLoader\n",
        "class Data(Dataset):#making subclass of Dataset\n",
        "    def __init__(self):\n",
        "            self.x=torch.zeros(20,2)#intitialize x with zeros for two columns and 20 rows\n",
        "            self.x[:,0]=torch.arange(-1,1,0.1)#x1 correspondents\n",
        "            self.x[:,1]=torch.arange(-1,1,0.1)#x2 correspondents\n",
        "            self.w=torch.tensor([ [1.0,-1.0],[1.0,3.0]])# 2 two-sets of weights corresponds to two input_fetures and two output \n",
        "            self.b=torch.tensor([[1.0,-1.0]])# two biases coreesponds to two output\n",
        "            self.f=torch.mm(self.x,self.w)+self.b  #ideal function\n",
        "            \n",
        "            self.y=self.f+0.001*torch.randn((self.x.shape[0],1))  #adding noise to the function\n",
        "            self.len=self.x.shape[0]\n",
        "\n",
        "    def __getitem__(self,index):\n",
        "\n",
        "        return self.x[index],self.y[index]\n",
        "    \n",
        "    def __len__(self):\n",
        "        return self.len"
      ],
      "execution_count": 3,
      "outputs": []
    },
    {
      "cell_type": "markdown",
      "metadata": {
        "id": "jTunj7ryvtw2",
        "colab_type": "text"
      },
      "source": [
        "create a dataset object "
      ]
    },
    {
      "cell_type": "code",
      "metadata": {
        "id": "yW7DHpDsvtw3",
        "colab_type": "code",
        "colab": {}
      },
      "source": [
        "data_set=Data()"
      ],
      "execution_count": 5,
      "outputs": []
    },
    {
      "cell_type": "markdown",
      "metadata": {
        "id": "adKX7dCyvtw5",
        "colab_type": "text"
      },
      "source": [
        "<a id=\"ref1\"></a>\n",
        "<h2 align=center>Create the Model, Optimizer, and Total Loss Function (cost)</h2>"
      ]
    },
    {
      "cell_type": "markdown",
      "metadata": {
        "id": "B64ADynEvtw5",
        "colab_type": "text"
      },
      "source": [
        "Create a custom module:"
      ]
    },
    {
      "cell_type": "code",
      "metadata": {
        "id": "UHaKqPICvtw6",
        "colab_type": "code",
        "colab": {}
      },
      "source": [
        "class linear_regression(nn.Module):\n",
        "    def __init__(self,input_size,output_size):\n",
        "        super(linear_regression,self).__init__()\n",
        "        self.linear=nn.Linear(input_size,output_size)\n",
        "    def forward(self,x):\n",
        "        yhat=self.linear(x)\n",
        "        return yhat"
      ],
      "execution_count": 6,
      "outputs": []
    },
    {
      "cell_type": "markdown",
      "metadata": {
        "id": "MJ4WBkcPvtw8",
        "colab_type": "text"
      },
      "source": [
        "\n",
        "Create an optimizer object and set the learning rate to 0.1. **Don't forget to enter the model parameters in the constructor.**  "
      ]
    },
    {
      "cell_type": "code",
      "metadata": {
        "id": "AeT2MQOevtw9",
        "colab_type": "code",
        "colab": {}
      },
      "source": [
        "model=linear_regression(2,2)"
      ],
      "execution_count": 7,
      "outputs": []
    },
    {
      "cell_type": "markdown",
      "metadata": {
        "id": "_OO8qco-vtw_",
        "colab_type": "text"
      },
      "source": [
        "Create an optimizer object and set the learning rate to 0.1. **Don't forget to enter the model parameters in the constructor.**  "
      ]
    },
    {
      "cell_type": "markdown",
      "metadata": {
        "id": "XKf68CR2vtxA",
        "colab_type": "text"
      },
      "source": [
        "<img src = \"https://ibm.box.com/shared/static/f8hskuwrnctjg21agud69ddla0jkbef5.png\" width = 100, align = \"center\">\n"
      ]
    },
    {
      "cell_type": "code",
      "metadata": {
        "id": "g583MGlNvtxA",
        "colab_type": "code",
        "colab": {}
      },
      "source": [
        "optimizer = optim.SGD(model.parameters(), lr = 0.1)"
      ],
      "execution_count": 8,
      "outputs": []
    },
    {
      "cell_type": "markdown",
      "metadata": {
        "id": "CH7WDU6bvtxE",
        "colab_type": "text"
      },
      "source": [
        "Create the criterion function that calculates the total loss or cost:"
      ]
    },
    {
      "cell_type": "code",
      "metadata": {
        "id": "zzUJovwevtxE",
        "colab_type": "code",
        "colab": {}
      },
      "source": [
        "criterion = nn.MSELoss()"
      ],
      "execution_count": 9,
      "outputs": []
    },
    {
      "cell_type": "markdown",
      "metadata": {
        "id": "802jtBwSvtxG",
        "colab_type": "text"
      },
      "source": [
        "Create a data loader object and set the batch_size to 5:"
      ]
    },
    {
      "cell_type": "code",
      "metadata": {
        "id": "YGBdI0HevtxH",
        "colab_type": "code",
        "colab": {}
      },
      "source": [
        "train_loader=DataLoader(dataset=data_set,batch_size=5)"
      ],
      "execution_count": 10,
      "outputs": []
    },
    {
      "cell_type": "markdown",
      "metadata": {
        "id": "h0esuJ6uvtxK",
        "colab_type": "text"
      },
      "source": [
        "<a id=\"ref2\"></a>\n",
        "<h2 align=center>Train the Model via Mini-Batch Gradient Descent </h2>"
      ]
    },
    {
      "cell_type": "markdown",
      "metadata": {
        "id": "fKw1nsmyvtxK",
        "colab_type": "text"
      },
      "source": [
        "Run 100 epochs of Mini-Batch Gradient Descent and store the total loss or cost for every iteration. Remember that this is an approximation of the true total loss or cost."
      ]
    },
    {
      "cell_type": "code",
      "metadata": {
        "id": "mLnQ1i1jvtxL",
        "colab_type": "code",
        "colab": {}
      },
      "source": [
        "LOSS=[]\n",
        " \n",
        "epochs=100\n",
        "   \n",
        "for epoch in range(epochs):\n",
        "    for x,y in train_loader:\n",
        "        #make a prediction \n",
        "        yhat=model(x)\n",
        "        #calculate the loss\n",
        "        loss=criterion(yhat,y)\n",
        "        #store loss/cost \n",
        "        LOSS.append(loss.item())\n",
        "        #clear gradient \n",
        "        optimizer.zero_grad()\n",
        "        #Backward pass: compute gradient of the loss with respect to all the learnable parameters\n",
        "        loss.backward()\n",
        "        #the step function on an Optimizer makes an update to its parameters\n",
        "        optimizer.step()\n",
        "     \n",
        "\n",
        "\n",
        "    "
      ],
      "execution_count": 11,
      "outputs": []
    },
    {
      "cell_type": "markdown",
      "metadata": {
        "id": "Jy7Xf2k1vtxN",
        "colab_type": "text"
      },
      "source": [
        "Plot the cost:"
      ]
    },
    {
      "cell_type": "code",
      "metadata": {
        "id": "YXN3esJBvtxN",
        "colab_type": "code",
        "colab": {
          "base_uri": "https://localhost:8080/",
          "height": 279
        },
        "outputId": "c6dbb25a-8682-44f4-fd8c-6392810a2da4"
      },
      "source": [
        "plt.plot(LOSS)\n",
        "plt.xlabel(\"iterations \")\n",
        "plt.ylabel(\"Cost/total loss \")\n",
        "plt.show()"
      ],
      "execution_count": 12,
      "outputs": [
        {
          "output_type": "display_data",
          "data": {
            "image/png": "[encoded data removed]",
            "text/plain": [
              "<Figure size 432x288 with 1 Axes>"
            ]
          },
          "metadata": {
            "tags": [],
            "needs_background": "light"
          }
        }
      ]
    }
  ]
}