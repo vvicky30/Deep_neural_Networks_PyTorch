{
  "nbformat": 4,
  "nbformat_minor": 0,
  "metadata": {
    "kernelspec": {
      "display_name": "Python",
      "language": "python",
      "name": "conda-env-python-py"
    },
    "language_info": {
      "codemirror_mode": {
        "name": "ipython",
        "version": 3
      },
      "file_extension": ".py",
      "mimetype": "text/x-python",
      "name": "python",
      "nbconvert_exporter": "python",
      "pygments_lexer": "ipython3",
      "version": "3.6.7"
    },
    "colab": {
      "name": "Multiple_neurons.ipynb",
      "provenance": [],
      "collapsed_sections": [],
      "include_colab_link": true
    }
  },
  "cells": [
    {
      "cell_type": "markdown",
      "metadata": {
        "id": "view-in-github",
        "colab_type": "text"
      },
      "source": [
        "<a href=\"https://colab.research.google.com/github/vvicky30/Deep_neural_Networks_PyToacrch/blob/master/Multiple_neurons.ipynb\" target=\"_parent\"><img src=\"https://colab.research.google.com/assets/colab-badge.svg\" alt=\"Open In Colab\"/></a>"
      ]
    },
    {
      "cell_type": "markdown",
      "metadata": {
        "id": "Ecctfc6GE8tE",
        "colab_type": "text"
      },
      "source": [
        "<h1>Neural Networks More Hidden Neutrons</h1>"
      ]
    },
    {
      "cell_type": "markdown",
      "metadata": {
        "id": "P6vcuZvCE8tF",
        "colab_type": "text"
      },
      "source": [
        "<h2>Table of Contents</h2>\n",
        "\n",
        "<ul>\n",
        "    <li><a href=\"#Prep\">Preperation</a></li>\n",
        "    <li><a href=\"#Data\">Get Our Data</a></li>\n",
        "    <li><a href=\"#Train\">Define the Neural Network, Optimizer, and Train the Model</a></li>\n",
        "</ul>\n",
        "<hr>"
      ]
    },
    {
      "cell_type": "markdown",
      "metadata": {
        "id": "_5sn8e55E8tG",
        "colab_type": "text"
      },
      "source": [
        "<h2 id=\"Prep\">Preparation</h2>"
      ]
    },
    {
      "cell_type": "markdown",
      "metadata": {
        "id": "h6uw-b2XE8tH",
        "colab_type": "text"
      },
      "source": [
        "We'll need to import the following libraries for this lab."
      ]
    },
    {
      "cell_type": "code",
      "metadata": {
        "id": "55qsItZ6E8tH",
        "colab_type": "code",
        "colab": {}
      },
      "source": [
        "import torch\n",
        "import numpy as np\n",
        "import matplotlib.pyplot as plt \n",
        "%matplotlib inline\n",
        "import torch.nn as nn\n",
        "import torch.nn.functional as F\n",
        "from torch.utils.data import Dataset, DataLoader"
      ],
      "execution_count": 1,
      "outputs": []
    },
    {
      "cell_type": "markdown",
      "metadata": {
        "id": "6ljBdUTnE8tM",
        "colab_type": "text"
      },
      "source": [
        "Define the plotting functions."
      ]
    },
    {
      "cell_type": "code",
      "metadata": {
        "id": "gjHPZNJ1E8tM",
        "colab_type": "code",
        "colab": {}
      },
      "source": [
        "def get_hist(model,data_set):\n",
        "    activations=model.activation(data_set.x)\n",
        "    for i,activation in enumerate(activations):\n",
        "        plt.hist(activation.numpy(),4,density=True)\n",
        "        plt.title(\"Activation layer \" + str(i+1))\n",
        "        plt.xlabel(\"Activation\")\n",
        "        plt.xlabel(\"Activation\")\n",
        "        plt.legend()\n",
        "        plt.show()"
      ],
      "execution_count": 2,
      "outputs": []
    },
    {
      "cell_type": "code",
      "metadata": {
        "id": "6YR1EiJxE8tP",
        "colab_type": "code",
        "colab": {}
      },
      "source": [
        "def PlotStuff(X,Y,model=None,leg=False):\n",
        "    \n",
        "    plt.plot(X[Y==0].numpy(),Y[Y==0].numpy(),'or',label='training points y=0 ' )\n",
        "    plt.plot(X[Y==1].numpy(),Y[Y==1].numpy(),'ob',label='training points y=1 ' )\n",
        "\n",
        "    if model!=None:\n",
        "        plt.plot(X.numpy(),model(X).detach().numpy(),label='neural network ')#plotting predicted ones wrt x's values\n",
        "\n",
        "    plt.legend()\n",
        "    plt.show()"
      ],
      "execution_count": 3,
      "outputs": []
    },
    {
      "cell_type": "markdown",
      "metadata": {
        "id": "Qc_cFsVJE8tT",
        "colab_type": "text"
      },
      "source": [
        "<h2 id=\"Data\">Get Our Data</h2>"
      ]
    },
    {
      "cell_type": "markdown",
      "metadata": {
        "id": "6t1XsuJ6E8tT",
        "colab_type": "text"
      },
      "source": [
        "Define the class to get our dataset."
      ]
    },
    {
      "cell_type": "code",
      "metadata": {
        "id": "e7Sknrc9E8tU",
        "colab_type": "code",
        "colab": {}
      },
      "source": [
        "class Data(Dataset):\n",
        "    def __init__(self):\n",
        "        self.x=torch.linspace(-20, 20, 100).view(-1,1)\n",
        "  \n",
        "        self.y=torch.zeros(self.x.shape[0])#intializing y by zeros through x's length\n",
        "        self.y[(self.x[:,0]>-10)& (self.x[:,0]<-5)]=1 #assigning y's value as 1 where x's value is between -10 & -5\n",
        "        self.y[(self.x[:,0]>5)& (self.x[:,0]<10)]=1   # again assigning y's value as 1 where x's value is between 5 & -10\n",
        "        self.y=self.y.view(-1,1) #change dimension \n",
        "        self.len=self.x.shape[0]\n",
        "    def __getitem__(self,index):        \n",
        "        return self.x[index],self.y[index]\n",
        "\n",
        "    def __len__(self):\n",
        "        return self.len\n",
        "\n"
      ],
      "execution_count": 5,
      "outputs": []
    },
    {
      "cell_type": "markdown",
      "metadata": {
        "id": "nfwqb2QnE8tW",
        "colab_type": "text"
      },
      "source": [
        "<h2 id=\"Train\">Define the Neural Network, Optimizer and Train the Model</h2>"
      ]
    },
    {
      "cell_type": "markdown",
      "metadata": {
        "id": "HDaVe3iiE8tX",
        "colab_type": "text"
      },
      "source": [
        "Define the class for creating our model."
      ]
    },
    {
      "cell_type": "code",
      "metadata": {
        "id": "s-s4ddHZE8tX",
        "colab_type": "code",
        "colab": {}
      },
      "source": [
        "class Net(nn.Module):\n",
        "    def __init__(self,D_in,H,D_out):\n",
        "        super(Net,self).__init__()\n",
        "        self.linear1=nn.Linear(D_in,H)  #first hidden layer  as input: no. of inputs ...........no. of nuerons: H(particularly given at the time of training )\n",
        "        self.linear2=nn.Linear(H,D_out) #output layer  as input: no. of neurons in last hidden layer ........no. of neurons: no. of outputs\n",
        "\n",
        "        \n",
        "    def forward(self,x):\n",
        "        x=torch.sigmoid(self.linear1(x))  #activation fn(here:sigmoid) for first hidden layer\n",
        "        x=torch.sigmoid(self.linear2(x))  #activation fn(here:sigmoid) for output layer\n",
        "        return x"
      ],
      "execution_count": 6,
      "outputs": []
    },
    {
      "cell_type": "markdown",
      "metadata": {
        "id": "EvP7Az7DE8ta",
        "colab_type": "text"
      },
      "source": [
        "Create the function to train our model, which accumulate lost for each iteration to obtain the cost."
      ]
    },
    {
      "cell_type": "code",
      "metadata": {
        "id": "rP_MwK9HE8ta",
        "colab_type": "code",
        "colab": {}
      },
      "source": [
        " def train(data_set,model,criterion, train_loader, optimizer, epochs=5,plot_number=10):\n",
        "    cost=[]\n",
        "    \n",
        "    for epoch in range(epochs):\n",
        "        total=0\n",
        "        \n",
        "        for x,y in train_loader:\n",
        "            optimizer.zero_grad()\n",
        "            \n",
        "            yhat=model(x)\n",
        "            loss=criterion(yhat,y)\n",
        "            optimizer.zero_grad()\n",
        "            loss.backward()\n",
        "            optimizer.step()\n",
        "            total+=loss.item()\n",
        "            \n",
        "        if epoch%plot_number==0:\n",
        "            PlotStuff(data_set.x,data_set.y,model)\n",
        "        \n",
        "        cost.append(total)\n",
        "    plt.figure()\n",
        "    plt.plot(cost)\n",
        "    plt.xlabel('epoch')\n",
        "    plt.ylabel('cost')\n",
        "    plt.show()\n",
        "    return cost"
      ],
      "execution_count": 7,
      "outputs": []
    },
    {
      "cell_type": "code",
      "metadata": {
        "id": "liAmntIxE8td",
        "colab_type": "code",
        "colab": {}
      },
      "source": [
        "data_set=Data()"
      ],
      "execution_count": 8,
      "outputs": []
    },
    {
      "cell_type": "code",
      "metadata": {
        "id": "v9jsRkliE8tf",
        "colab_type": "code",
        "colab": {
          "base_uri": "https://localhost:8080/",
          "height": 265
        },
        "outputId": "50a806b6-540a-49ea-be77-7302de8b0bba"
      },
      "source": [
        "PlotStuff(data_set.x,data_set.y,leg=False)"
      ],
      "execution_count": 9,
      "outputs": [
        {
          "output_type": "display_data",
          "data": {
            "image/png": "[encoded data removed]",
            "text/plain": [
              "<Figure size 432x288 with 1 Axes>"
            ]
          },
          "metadata": {
            "tags": [],
            "needs_background": "light"
          }
        }
      ]
    },
    {
      "cell_type": "markdown",
      "metadata": {
        "id": "KQ_YsR5mE8th",
        "colab_type": "text"
      },
      "source": [
        "Create our model with 9\n",
        "neurons in the hidden layer. And then create a BCE loss and an Adam optimizer."
      ]
    },
    {
      "cell_type": "code",
      "metadata": {
        "id": "TlzJ3llsE8ti",
        "colab_type": "code",
        "colab": {
          "base_uri": "https://localhost:8080/",
          "height": 1000
        },
        "outputId": "690652b5-bf4a-42f4-8074-58d4c0cdb402"
      },
      "source": [
        "torch.manual_seed(0)\n",
        "model=Net(1,9,1) #here we used 9 nuerons in the hidden layer\n",
        "learning_rate=0.1\n",
        "criterion=nn.BCELoss()#cross Entropy \n",
        "optimizer=torch.optim.Adam(model.parameters(), lr=learning_rate)#here we used adam optimizer\n",
        "train_loader=DataLoader(dataset=data_set,batch_size=100)\n",
        "COST=train(data_set,model,criterion, train_loader, optimizer, epochs=600,plot_number=200)"
      ],
      "execution_count": 12,
      "outputs": [
        {
          "output_type": "display_data",
          "data": {
            "image/png": "[encoded data removed]",
            "text/plain": [
              "<Figure size 432x288 with 1 Axes>"
            ]
          },
          "metadata": {
            "tags": [],
            "needs_background": "light"
          }
        },
        {
          "output_type": "display_data",
          "data": {
            "image/png": "[encoded data removed]",
            "text/plain": [
              "<Figure size 432x288 with 1 Axes>"
            ]
          },
          "metadata": {
            "tags": [],
            "needs_background": "light"
          }
        },
        {
          "output_type": "display_data",
          "data": {
            "image/png": "[encoded data removed]",
            "text/plain": [
              "<Figure size 432x288 with 1 Axes>"
            ]
          },
          "metadata": {
            "tags": [],
            "needs_background": "light"
          }
        },
        {
          "output_type": "display_data",
          "data": {
            "image/png": "[encoded data removed]",
            "text/plain": [
              "<Figure size 432x288 with 1 Axes>"
            ]
          },
          "metadata": {
            "tags": [],
            "needs_background": "light"
          }
        }
      ]
    },
    {
      "cell_type": "code",
      "metadata": {
        "id": "5qUwqBq3E8tl",
        "colab_type": "code",
        "colab": {
          "base_uri": "https://localhost:8080/",
          "height": 282
        },
        "outputId": "b6546eed-4481-4921-ba47-ea7f3d015824"
      },
      "source": [
        "plt.plot(COST)"
      ],
      "execution_count": 11,
      "outputs": [
        {
          "output_type": "execute_result",
          "data": {
            "text/plain": [
              "[<matplotlib.lines.Line2D at 0x7f6c72790da0>]"
            ]
          },
          "metadata": {
            "tags": []
          },
          "execution_count": 11
        },
        {
          "output_type": "display_data",
          "data": {
            "image/png": "[encoded data removed]",
            "text/plain": [
              "<Figure size 432x288 with 1 Axes>"
            ]
          },
          "metadata": {
            "tags": [],
            "needs_background": "light"
          }
        }
      ]
    },
    {
      "cell_type": "code",
      "metadata": {
        "id": "PTeaZPIuK40i",
        "colab_type": "code",
        "colab": {}
      },
      "source": [
        "#alternative method with sequential:---- \n",
        "\"\"\"\n",
        "model= torch.nn.Sequential(\n",
        "    torch.nn.Linear(1, 6), \n",
        "    torch.nn.Sigmoid(),\n",
        "    torch.nn.Linear(6,1),\n",
        "    torch.nn.Sigmoid()\n",
        ")\n",
        "\"\"\""
      ],
      "execution_count": null,
      "outputs": []
    }
  ]
}