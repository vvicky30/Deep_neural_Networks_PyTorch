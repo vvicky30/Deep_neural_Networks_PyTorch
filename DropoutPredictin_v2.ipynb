{
  "nbformat": 4,
  "nbformat_minor": 0,
  "metadata": {
    "kernelspec": {
      "display_name": "Python",
      "language": "python",
      "name": "conda-env-python-py"
    },
    "language_info": {
      "codemirror_mode": {
        "name": "ipython",
        "version": 3
      },
      "file_extension": ".py",
      "mimetype": "text/x-python",
      "name": "python",
      "nbconvert_exporter": "python",
      "pygments_lexer": "ipython3",
      "version": "3.6.10"
    },
    "colab": {
      "name": "DropoutPredictin_v2.ipynb",
      "provenance": [],
      "collapsed_sections": [],
      "include_colab_link": true
    }
  },
  "cells": [
    {
      "cell_type": "markdown",
      "metadata": {
        "id": "view-in-github",
        "colab_type": "text"
      },
      "source": [
        "<a href=\"https://colab.research.google.com/github/vvicky30/Deep_neural_Networks_PyTorch/blob/master/DropoutPredictin_v2.ipynb\" target=\"_parent\"><img src=\"https://colab.research.google.com/assets/colab-badge.svg\" alt=\"Open In Colab\"/></a>"
      ]
    },
    {
      "cell_type": "markdown",
      "metadata": {
        "id": "DovHSqIvans5",
        "colab_type": "text"
      },
      "source": [
        "<h1>Using Dropout for Classification </h1>"
      ]
    },
    {
      "cell_type": "markdown",
      "metadata": {
        "id": "9ZFLRRtLans6",
        "colab_type": "text"
      },
      "source": [
        "<h2>Table of Contents</h2>\n",
        "<p>In this lab, you will see how adding dropout to your model will decrease overfitting.</p>\n",
        "\n",
        "<ul>\n",
        "<li><a href=\"#Makeup_Data\">Make Some Data</a></li>\n",
        "<li><a href=\"#Model_Cost\">Create the Model and Cost Function the PyTorch way</a></li>\n",
        "<li><a href=\"#BGD\">Batch Gradient Descent</a></li>\n",
        "</ul>\n",
        "\n",
        "<hr>"
      ]
    },
    {
      "cell_type": "markdown",
      "metadata": {
        "id": "SrYoFqc7ans7",
        "colab_type": "text"
      },
      "source": [
        "<h2>Preparation</h2>"
      ]
    },
    {
      "cell_type": "markdown",
      "metadata": {
        "id": "zJNmstpnans8",
        "colab_type": "text"
      },
      "source": [
        "We'll need the following libraries"
      ]
    },
    {
      "cell_type": "code",
      "metadata": {
        "id": "coGAZ7Rmans8",
        "colab_type": "code",
        "colab": {}
      },
      "source": [
        "# Import the libraries we need for this lab\n",
        "\n",
        "import torch\n",
        "import matplotlib.pyplot as plt\n",
        "import torch.nn as nn\n",
        "import torch.nn.functional as F\n",
        "import numpy as np\n",
        "from matplotlib.colors import ListedColormap\n",
        "from torch.utils.data import Dataset, DataLoader"
      ],
      "execution_count": 1,
      "outputs": []
    },
    {
      "cell_type": "markdown",
      "metadata": {
        "id": "eoC7o5EGans_",
        "colab_type": "text"
      },
      "source": [
        "Use this function only for plotting:"
      ]
    },
    {
      "cell_type": "code",
      "metadata": {
        "id": "8pdMYtFMans_",
        "colab_type": "code",
        "colab": {}
      },
      "source": [
        "# The function for plotting the diagram\n",
        "\n",
        "def plot_decision_regions_3class(data_set, model=None):\n",
        "    cmap_light = ListedColormap([ '#0000FF','#FF0000'])\n",
        "    cmap_bold = ListedColormap(['#FF0000', '#00FF00', '#00AAFF'])\n",
        "    X = data_set.x.numpy()\n",
        "    y = data_set.y.numpy()\n",
        "    h = .02 #shifting coeffcient used in arrange method\n",
        "    x_min, x_max = X[:, 0].min() - 0.1, X[:, 0].max() + 0.1 \n",
        "    y_min, y_max = X[:, 1].min() - 0.1, X[:, 1].max() + 0.1 \n",
        "    xx, yy = np.meshgrid(np.arange(x_min, x_max, h), np.arange(y_min, y_max, h))\n",
        "    newdata = np.c_[xx.ravel(), yy.ravel()] #ravel method is used for returning contagious flattned array\n",
        "    \n",
        "    Z = data_set.multi_dim_poly(newdata).flatten()#multidimensional polynonial along with flattening\n",
        "    f = np.zeros(Z.shape) #intializes F with zeros correponds to Z(dataset)\n",
        "    f[Z > 0] = 1\n",
        "    f = f.reshape(xx.shape)\n",
        "    if model != None: \n",
        "        model.eval() #evaluating model \n",
        "        XX = torch.Tensor(newdata)  \n",
        "        _, yhat = torch.max(model(XX), 1)#supply to model('_' last result of interpreter will be stored in yhat)\n",
        "        yhat = yhat.numpy().reshape(xx.shape)#reshaping \n",
        "        plt.pcolormesh(xx, yy, yhat, cmap=cmap_light)#with yhat\n",
        "        plt.contour(xx, yy, f, cmap=plt.cm.Paired)#with f(true region)\n",
        "    else:\n",
        "        plt.contour(xx, yy, f, cmap=plt.cm.Paired) #both with f(true region)\n",
        "        plt.pcolormesh(xx, yy, f, cmap=cmap_light) \n",
        "\n",
        "    plt.title(\"decision region vs True decision boundary\")"
      ],
      "execution_count": 2,
      "outputs": []
    },
    {
      "cell_type": "markdown",
      "metadata": {
        "id": "LcMy8NYrantD",
        "colab_type": "text"
      },
      "source": [
        "Use this function to calculate accuracy: "
      ]
    },
    {
      "cell_type": "code",
      "metadata": {
        "id": "mZgyQwjAantD",
        "colab_type": "code",
        "colab": {}
      },
      "source": [
        "# The function for calculating accuracy\n",
        "\n",
        "def accuracy(model, data_set):\n",
        "    _, yhat = torch.max(model(data_set.x), 1)\n",
        "    return (yhat == data_set.y).numpy().mean()"
      ],
      "execution_count": 3,
      "outputs": []
    },
    {
      "cell_type": "markdown",
      "metadata": {
        "id": "o25Pri6WantG",
        "colab_type": "text"
      },
      "source": [
        "<!--Empty Space for separating topics-->"
      ]
    },
    {
      "cell_type": "markdown",
      "metadata": {
        "id": "1oqf7dTfantG",
        "colab_type": "text"
      },
      "source": [
        "<h2 id=\"Makeup_Data\">Make Some Data</h2>"
      ]
    },
    {
      "cell_type": "markdown",
      "metadata": {
        "id": "L1KehMP-antH",
        "colab_type": "text"
      },
      "source": [
        "Create a nonlinearly separable dataset:    "
      ]
    },
    {
      "cell_type": "code",
      "metadata": {
        "id": "7lP9KH9CantH",
        "colab_type": "code",
        "colab": {}
      },
      "source": [
        "# Create data class for creating dataset object\n",
        "\n",
        "class Data(Dataset):\n",
        "    \n",
        "    # Constructor\n",
        "    def __init__(self, N_SAMPLES=1000, noise_std=0.15, train=True):\n",
        "        a = np.matrix([-1, 1, 2, 1, 1, -3, 1]).T\n",
        "        self.x = np.matrix(np.random.rand(N_SAMPLES, 2))\n",
        "        self.f = np.array(a[0] + (self.x) * a[1:3] + np.multiply(self.x[:, 0], self.x[:, 1]) * a[4] + np.multiply(self.x, self.x) * a[5:7]).flatten()\n",
        "        self.a = a\n",
        "       \n",
        "        self.y = np.zeros(N_SAMPLES)\n",
        "        self.y[self.f > 0] = 1\n",
        "        self.y = torch.from_numpy(self.y).type(torch.LongTensor)\n",
        "        self.x = torch.from_numpy(self.x).type(torch.FloatTensor)\n",
        "        self.x = self.x + noise_std * torch.randn(self.x.size())\n",
        "        self.f = torch.from_numpy(self.f)\n",
        "        self.a = a\n",
        "        if train == True:\n",
        "            torch.manual_seed(1)\n",
        "            self.x = self.x + noise_std * torch.randn(self.x.size())\n",
        "            torch.manual_seed(0)\n",
        "        \n",
        "    # Getter        \n",
        "    def __getitem__(self, index):    \n",
        "        return self.x[index], self.y[index]\n",
        "    \n",
        "    # Get Length\n",
        "    def __len__(self):\n",
        "        return self.len\n",
        "    \n",
        "    # Plot the diagram\n",
        "    def plot(self):\n",
        "        X = data_set.x.numpy()\n",
        "        y = data_set.y.numpy()\n",
        "        h = .02\n",
        "        x_min, x_max = X[:, 0].min(), X[:, 0].max()\n",
        "        y_min, y_max = X[:, 1].min(), X[:, 1].max() \n",
        "        xx, yy = np.meshgrid(np.arange(x_min, x_max, h), np.arange(y_min, y_max, h))\n",
        "        Z = data_set.multi_dim_poly(np.c_[xx.ravel(), yy.ravel()]).flatten()\n",
        "        f = np.zeros(Z.shape)\n",
        "        f[Z > 0] = 1\n",
        "        f = f.reshape(xx.shape)\n",
        "        \n",
        "        plt.title('True decision boundary  and sample points with noise ')\n",
        "        plt.plot(self.x[self.y == 0, 0].numpy(), self.x[self.y == 0,1].numpy(), 'bo', label='y=0') \n",
        "        plt.plot(self.x[self.y == 1, 0].numpy(), self.x[self.y == 1,1].numpy(), 'ro', label='y=1')\n",
        "        plt.contour(xx, yy, f,cmap=plt.cm.Paired)\n",
        "        plt.xlim(0,1)\n",
        "        plt.ylim(0,1)\n",
        "        plt.legend()\n",
        "    \n",
        "    # Make a multidimension ploynomial function\n",
        "    def multi_dim_poly(self, x):\n",
        "        x = np.matrix(x)\n",
        "        out = np.array(self.a[0] + (x) * self.a[1:3] + np.multiply(x[:, 0], x[:, 1]) * self.a[4] + np.multiply(x, x) * self.a[5:7])\n",
        "        out = np.array(out)\n",
        "        return out"
      ],
      "execution_count": 4,
      "outputs": []
    },
    {
      "cell_type": "markdown",
      "metadata": {
        "id": "3R7N-KJCantK",
        "colab_type": "text"
      },
      "source": [
        "Create a dataset object:"
      ]
    },
    {
      "cell_type": "code",
      "metadata": {
        "id": "lydDQzZGantK",
        "colab_type": "code",
        "colab": {
          "base_uri": "https://localhost:8080/",
          "height": 281
        },
        "outputId": "c8011970-7844-4557-d3a0-f8f6ab5afb1a"
      },
      "source": [
        "# Create a dataset object\n",
        "\n",
        "data_set = Data(noise_std=0.2)\n",
        "data_set.plot()"
      ],
      "execution_count": 5,
      "outputs": [
        {
          "output_type": "display_data",
          "data": {
            "image/png": "[encoded data removed]",
            "text/plain": [
              "<Figure size 432x288 with 1 Axes>"
            ]
          },
          "metadata": {
            "tags": [],
            "needs_background": "light"
          }
        }
      ]
    },
    {
      "cell_type": "markdown",
      "metadata": {
        "id": "3uZwz6zDantN",
        "colab_type": "text"
      },
      "source": [
        "Validation data: "
      ]
    },
    {
      "cell_type": "code",
      "metadata": {
        "id": "4LHmVqeCantO",
        "colab_type": "code",
        "colab": {}
      },
      "source": [
        "# Get some validation data\n",
        "\n",
        "torch.manual_seed(0) \n",
        "validation_set = Data(train=False)"
      ],
      "execution_count": 6,
      "outputs": []
    },
    {
      "cell_type": "markdown",
      "metadata": {
        "id": "ft-oLqrsantQ",
        "colab_type": "text"
      },
      "source": [
        "<!--Empty Space for separating topics-->"
      ]
    },
    {
      "cell_type": "markdown",
      "metadata": {
        "id": "hzkg3ob9antR",
        "colab_type": "text"
      },
      "source": [
        "<h2 id=\"Model_Cost\">Create the Model, Optimizer, and Total Loss Function (Cost)</h2>"
      ]
    },
    {
      "cell_type": "markdown",
      "metadata": {
        "id": "jIsfJGQxantR",
        "colab_type": "text"
      },
      "source": [
        "Create a custom module with three layers. <code>in_size</code> is the size of the input features, <code>n_hidden</code> is the size of the layers, and <code>out_size</code> is the size. <code>p</code> is the dropout probability. The default is 0, that is, no dropout.\n"
      ]
    },
    {
      "cell_type": "code",
      "metadata": {
        "id": "Qe_ocXPvantS",
        "colab_type": "code",
        "colab": {}
      },
      "source": [
        "# Create Net Class\n",
        "\n",
        "class Net(nn.Module):\n",
        "    \n",
        "    # Constructor\n",
        "    def __init__(self, in_size, n_hidden, out_size, p=0):\n",
        "        super(Net, self).__init__()\n",
        "        self.drop = nn.Dropout(p=p)#create object of nn.Dropout constructor with probability 'p'\n",
        "        self.linear1 = nn.Linear(in_size, n_hidden)\n",
        "        self.linear2 = nn.Linear(n_hidden, n_hidden)\n",
        "        self.linear3 = nn.Linear(n_hidden, out_size)\n",
        "    \n",
        "    # Prediction function\n",
        "    def forward(self, x):\n",
        "        x = F.relu(self.drop(self.linear1(x)))#applying drop for hidden layer 1\n",
        "        x = F.relu(self.drop(self.linear2(x)))#applying drop for hidden layer 1\n",
        "        x = self.linear3(x)\n",
        "        return x"
      ],
      "execution_count": 8,
      "outputs": []
    },
    {
      "cell_type": "markdown",
      "metadata": {
        "id": "7Zql9tpYantU",
        "colab_type": "text"
      },
      "source": [
        "Create two model objects: <code>model</code> had no dropout and <code>model_drop</code> has a dropout probability of 0.5:"
      ]
    },
    {
      "cell_type": "code",
      "metadata": {
        "id": "er-CPWBUantV",
        "colab_type": "code",
        "colab": {}
      },
      "source": [
        "# Create two model objects: model without dropout and model with dropout\n",
        "\n",
        "model = Net(2, 300, 2)\n",
        "model_drop = Net(2, 300, 2, p=0.5)"
      ],
      "execution_count": 9,
      "outputs": []
    },
    {
      "cell_type": "markdown",
      "metadata": {
        "id": "N9SAg2viantY",
        "colab_type": "text"
      },
      "source": [
        "<!--Empty Space for separating topics-->"
      ]
    },
    {
      "cell_type": "markdown",
      "metadata": {
        "id": "_jR93CTkantY",
        "colab_type": "text"
      },
      "source": [
        "<h2 id=\"BGD\">Train the Model via Mini-Batch Gradient Descent</h2>"
      ]
    },
    {
      "cell_type": "markdown",
      "metadata": {
        "id": "Q_0nv7zEantZ",
        "colab_type": "text"
      },
      "source": [
        "Set the model using dropout to training mode; this is the default mode, but it's  good practice to write this in your code : "
      ]
    },
    {
      "cell_type": "code",
      "metadata": {
        "id": "TLLBrLIIantZ",
        "colab_type": "code",
        "colab": {
          "base_uri": "https://localhost:8080/",
          "height": 118
        },
        "outputId": "e14ee923-a214-4b76-8767-0c527457df76"
      },
      "source": [
        "# Set the model to training mode\n",
        "\n",
        "model_drop.train()"
      ],
      "execution_count": 10,
      "outputs": [
        {
          "output_type": "execute_result",
          "data": {
            "text/plain": [
              "Net(\n",
              "  (drop): Dropout(p=0.5, inplace=False)\n",
              "  (linear1): Linear(in_features=2, out_features=300, bias=True)\n",
              "  (linear2): Linear(in_features=300, out_features=300, bias=True)\n",
              "  (linear3): Linear(in_features=300, out_features=2, bias=True)\n",
              ")"
            ]
          },
          "metadata": {
            "tags": []
          },
          "execution_count": 10
        }
      ]
    },
    {
      "cell_type": "markdown",
      "metadata": {
        "id": "RFoDeHPwantc",
        "colab_type": "text"
      },
      "source": [
        "Train the model by using the Adam optimizer. See the unit on other optimizers. Use the Cross Entropy Loss:"
      ]
    },
    {
      "cell_type": "code",
      "metadata": {
        "id": "40kv34puantc",
        "colab_type": "code",
        "colab": {}
      },
      "source": [
        "# Set optimizer functions and criterion functions\n",
        "\n",
        "optimizer_ofit = torch.optim.Adam(model.parameters(), lr=0.01)\n",
        "optimizer_drop = torch.optim.Adam(model_drop.parameters(), lr=0.01)\n",
        "criterion = torch.nn.CrossEntropyLoss()"
      ],
      "execution_count": 11,
      "outputs": []
    },
    {
      "cell_type": "markdown",
      "metadata": {
        "id": "naew2ZhXante",
        "colab_type": "text"
      },
      "source": [
        "Initialize a dictionary that stores the training and validation loss for each model:"
      ]
    },
    {
      "cell_type": "code",
      "metadata": {
        "id": "p-o6RSBmantf",
        "colab_type": "code",
        "colab": {}
      },
      "source": [
        "# Initialize the LOSS dictionary to store the loss\n",
        "\n",
        "LOSS = {}\n",
        "LOSS['training data no dropout'] = []\n",
        "LOSS['validation data no dropout'] = []\n",
        "LOSS['training data dropout'] = []\n",
        "LOSS['validation data dropout'] = []"
      ],
      "execution_count": 12,
      "outputs": []
    },
    {
      "cell_type": "markdown",
      "metadata": {
        "id": "1W47N2uManti",
        "colab_type": "text"
      },
      "source": [
        "Run 500 iterations of batch gradient gradient descent: "
      ]
    },
    {
      "cell_type": "code",
      "metadata": {
        "id": "E-EdtyHhantj",
        "colab_type": "code",
        "colab": {}
      },
      "source": [
        "# Train the model\n",
        "\n",
        "epochs = 500\n",
        "\n",
        "def train_model(epochs):\n",
        "    \n",
        "    for epoch in range(epochs):\n",
        "        #all the samples are used for training here not batch-wise \n",
        "        yhat = model(data_set.x)\n",
        "        yhat_drop = model_drop(data_set.x)\n",
        "        loss = criterion(yhat, data_set.y)\n",
        "        loss_drop = criterion(yhat_drop, data_set.y)\n",
        "\n",
        "        #store the loss for both the training and validation data for both models \n",
        "        LOSS['training data no dropout'].append(loss.item())\n",
        "        LOSS['validation data no dropout'].append(criterion(model(validation_set.x), validation_set.y).item())\n",
        "        LOSS['training data dropout'].append(loss_drop.item())\n",
        "        model_drop.eval() #while evaluating model with dropout then dropout method is deactivated \n",
        "        LOSS['validation data dropout'].append(criterion(model_drop(validation_set.x), validation_set.y).item())\n",
        "        model_drop.train() #while training model with fropout then dropout method is activated \n",
        "\n",
        "        optimizer_ofit.zero_grad()#resetting ordinary model's parameter\n",
        "        optimizer_drop.zero_grad() #ressting dropout model's parameter\n",
        "        loss.backward() #derivative of ordinary model\n",
        "        loss_drop.backward() #derivative of dropout model model\n",
        "        optimizer_ofit.step()  #updation of ordinary model\n",
        "        optimizer_drop.step()  #updation of dropout model\n",
        "        \n",
        "train_model(epochs)"
      ],
      "execution_count": 13,
      "outputs": []
    },
    {
      "cell_type": "markdown",
      "metadata": {
        "id": "MefLK3pHantl",
        "colab_type": "text"
      },
      "source": [
        "Set the model with dropout to evaluation mode: "
      ]
    },
    {
      "cell_type": "code",
      "metadata": {
        "id": "My99ecbTantl",
        "colab_type": "code",
        "colab": {
          "base_uri": "https://localhost:8080/",
          "height": 118
        },
        "outputId": "f7a95802-d960-444a-d1d0-8dae744b97ff"
      },
      "source": [
        "# Set the model to evaluation model\n",
        "\n",
        "model_drop.eval()"
      ],
      "execution_count": 14,
      "outputs": [
        {
          "output_type": "execute_result",
          "data": {
            "text/plain": [
              "Net(\n",
              "  (drop): Dropout(p=0.5, inplace=False)\n",
              "  (linear1): Linear(in_features=2, out_features=300, bias=True)\n",
              "  (linear2): Linear(in_features=300, out_features=300, bias=True)\n",
              "  (linear3): Linear(in_features=300, out_features=2, bias=True)\n",
              ")"
            ]
          },
          "metadata": {
            "tags": []
          },
          "execution_count": 14
        }
      ]
    },
    {
      "cell_type": "markdown",
      "metadata": {
        "id": "gSdwz61Tanto",
        "colab_type": "text"
      },
      "source": [
        "Test the model without dropout on the validation data: "
      ]
    },
    {
      "cell_type": "code",
      "metadata": {
        "id": "KZ518MC5anto",
        "colab_type": "code",
        "colab": {
          "base_uri": "https://localhost:8080/",
          "height": 34
        },
        "outputId": "94adad20-9db5-4a64-aa34-95026aad6d87"
      },
      "source": [
        "# Print out the accuracy of the model without dropout\n",
        "\n",
        "print(\"The accuracy of the model without dropout: \", accuracy(model, validation_set))"
      ],
      "execution_count": 15,
      "outputs": [
        {
          "output_type": "stream",
          "text": [
            "The accuracy of the model without dropout:  0.817\n"
          ],
          "name": "stdout"
        }
      ]
    },
    {
      "cell_type": "markdown",
      "metadata": {
        "id": "bFqMnMEBantr",
        "colab_type": "text"
      },
      "source": [
        "Test the model with dropout on the validation data: "
      ]
    },
    {
      "cell_type": "code",
      "metadata": {
        "id": "cQx7qIVlantr",
        "colab_type": "code",
        "colab": {
          "base_uri": "https://localhost:8080/",
          "height": 34
        },
        "outputId": "8c46c49a-2b3c-46e8-eee5-3a85de65d80c"
      },
      "source": [
        "# Print out the accuracy of the model with dropout\n",
        "\n",
        "print(\"The accuracy of the model with dropout: \", accuracy(model_drop, validation_set))"
      ],
      "execution_count": 16,
      "outputs": [
        {
          "output_type": "stream",
          "text": [
            "The accuracy of the model with dropout:  0.856\n"
          ],
          "name": "stdout"
        }
      ]
    },
    {
      "cell_type": "markdown",
      "metadata": {
        "id": "bI4YMOfSantt",
        "colab_type": "text"
      },
      "source": [
        "You see that the model with dropout performs better on the validation data."
      ]
    },
    {
      "cell_type": "markdown",
      "metadata": {
        "id": "-rX-r_t4antu",
        "colab_type": "text"
      },
      "source": [
        "<h3>True Function</h3>"
      ]
    },
    {
      "cell_type": "markdown",
      "metadata": {
        "id": "s6GNGpSbantu",
        "colab_type": "text"
      },
      "source": [
        "Plot the decision boundary and the prediction of the networks in different colors."
      ]
    },
    {
      "cell_type": "code",
      "metadata": {
        "id": "pROATAVTantv",
        "colab_type": "code",
        "colab": {
          "base_uri": "https://localhost:8080/",
          "height": 281
        },
        "outputId": "30a4bf7c-4729-4699-8757-3133e49732a5"
      },
      "source": [
        "# Plot the decision boundary and the prediction\n",
        "\n",
        "plot_decision_regions_3class(data_set)"
      ],
      "execution_count": 17,
      "outputs": [
        {
          "output_type": "display_data",
          "data": {
            "image/png": "[encoded data removed]",
            "text/plain": [
              "<Figure size 432x288 with 1 Axes>"
            ]
          },
          "metadata": {
            "tags": [],
            "needs_background": "light"
          }
        }
      ]
    },
    {
      "cell_type": "markdown",
      "metadata": {
        "id": "EHHPoRXEantx",
        "colab_type": "text"
      },
      "source": [
        "Model without Dropout:"
      ]
    },
    {
      "cell_type": "code",
      "metadata": {
        "id": "rcdYs1Gyanty",
        "colab_type": "code",
        "colab": {
          "base_uri": "https://localhost:8080/",
          "height": 281
        },
        "outputId": "9dc84425-91d9-4881-ed40-fa44c495c35a"
      },
      "source": [
        "# The model without dropout\n",
        "\n",
        "plot_decision_regions_3class(data_set, model)"
      ],
      "execution_count": 18,
      "outputs": [
        {
          "output_type": "display_data",
          "data": {
            "image/png": "[encoded data removed]",
            "text/plain": [
              "<Figure size 432x288 with 1 Axes>"
            ]
          },
          "metadata": {
            "tags": [],
            "needs_background": "light"
          }
        }
      ]
    },
    {
      "cell_type": "markdown",
      "metadata": {
        "id": "CdJXRoeAant0",
        "colab_type": "text"
      },
      "source": [
        "Model with Dropout:"
      ]
    },
    {
      "cell_type": "code",
      "metadata": {
        "id": "UWZpphZLant0",
        "colab_type": "code",
        "colab": {
          "base_uri": "https://localhost:8080/",
          "height": 281
        },
        "outputId": "32971469-6261-427d-aa76-46bd4b1312ca"
      },
      "source": [
        "# The model with dropout\n",
        "\n",
        "plot_decision_regions_3class(data_set, model_drop)"
      ],
      "execution_count": 19,
      "outputs": [
        {
          "output_type": "display_data",
          "data": {
            "image/png": "[encoded data removed]",
            "text/plain": [
              "<Figure size 432x288 with 1 Axes>"
            ]
          },
          "metadata": {
            "tags": [],
            "needs_background": "light"
          }
        }
      ]
    },
    {
      "cell_type": "markdown",
      "metadata": {
        "id": "d0HmJJVnant2",
        "colab_type": "text"
      },
      "source": [
        "You can see that the model using dropout does better at tracking the function that generated the data. "
      ]
    },
    {
      "cell_type": "markdown",
      "metadata": {
        "id": "ysIQErjzant3",
        "colab_type": "text"
      },
      "source": [
        "Plot out the loss for the training and validation data on both models, we use the log to make the difference more apparent"
      ]
    },
    {
      "cell_type": "code",
      "metadata": {
        "id": "0MRYI9qQant3",
        "colab_type": "code",
        "colab": {
          "base_uri": "https://localhost:8080/",
          "height": 606
        },
        "outputId": "bc133dcd-24be-4d8e-b6e0-3e7edd4f480e"
      },
      "source": [
        "# Plot the LOSS\n",
        "\n",
        "plt.figure(figsize=(6.1, 10))\n",
        "def plot_LOSS():\n",
        "    for key, value in LOSS.items():\n",
        "        plt.plot(np.log(np.array(value)), label=key)\n",
        "        plt.legend()\n",
        "        plt.xlabel(\"iterations\")\n",
        "        plt.ylabel(\"Log of cost or total loss\")\n",
        "\n",
        "plot_LOSS()"
      ],
      "execution_count": 20,
      "outputs": [
        {
          "output_type": "display_data",
          "data": {
            "image/png": "[encoded data removed]",
            "text/plain": [
              "<Figure size 439.2x720 with 1 Axes>"
            ]
          },
          "metadata": {
            "tags": [],
            "needs_background": "light"
          }
        }
      ]
    }
  ]
}