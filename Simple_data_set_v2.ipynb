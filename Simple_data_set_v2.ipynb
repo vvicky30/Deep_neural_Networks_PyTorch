{
  "nbformat": 4,
  "nbformat_minor": 0,
  "metadata": {
    "kernelspec": {
      "display_name": "Python 3",
      "language": "python",
      "name": "python3"
    },
    "language_info": {
      "codemirror_mode": {
        "name": "ipython",
        "version": 3
      },
      "file_extension": ".py",
      "mimetype": "text/x-python",
      "name": "python",
      "nbconvert_exporter": "python",
      "pygments_lexer": "ipython3",
      "version": "3.6.8"
    },
    "colab": {
      "name": "Simple_data_set_v2.ipynb",
      "provenance": [],
      "collapsed_sections": [],
      "include_colab_link": true
    }
  },
  "cells": [
    {
      "cell_type": "markdown",
      "metadata": {
        "id": "view-in-github",
        "colab_type": "text"
      },
      "source": [
        "<a href=\"https://colab.research.google.com/github/vvicky30/Deep_neural_Networks_PyToacrch/blob/master/Simple_data_set_v2.ipynb\" target=\"_parent\"><img src=\"https://colab.research.google.com/assets/colab-badge.svg\" alt=\"Open In Colab\"/></a>"
      ]
    },
    {
      "cell_type": "markdown",
      "metadata": {
        "id": "2w8dKQyIaekJ",
        "colab_type": "text"
      },
      "source": [
        "<h1>Simple Dataset</h1> "
      ]
    },
    {
      "cell_type": "markdown",
      "metadata": {
        "id": "FEUskzLNaekK",
        "colab_type": "text"
      },
      "source": [
        "<h2>Table of Contents</h2>"
      ]
    },
    {
      "cell_type": "markdown",
      "metadata": {
        "id": "7O0Bb3gwaekK",
        "colab_type": "text"
      },
      "source": [
        "<p>In this lab, you will construct a basic dataset by using PyTorch and learn how to apply basic transformations to it.</p> \n",
        "<ul>\n",
        "    <li><a href=\"#Simple_Dataset\">Simple dataset</a></li>\n",
        "    <li><a href=\"#Transforms\">Transforms</a></li>\n",
        "    <li><a href=\"#Compose\">Compose</a></li>\n",
        "</ul>"
      ]
    },
    {
      "cell_type": "markdown",
      "metadata": {
        "id": "w_C0QxT0aekL",
        "colab_type": "text"
      },
      "source": [
        "<h2>Preparation</h2>"
      ]
    },
    {
      "cell_type": "markdown",
      "metadata": {
        "id": "7JxRP3KTaekL",
        "colab_type": "text"
      },
      "source": [
        "The following are the libraries we are going to use for this lab. The <code>torch.manual_seed()</code> is for forcing the random function to give the same number every time we try to recompile it."
      ]
    },
    {
      "cell_type": "code",
      "metadata": {
        "id": "tS5EV-vsaekM",
        "colab_type": "code",
        "colab": {
          "base_uri": "https://localhost:8080/",
          "height": 34
        },
        "outputId": "d68962a1-eaea-446e-e5f6-0be5afc7f1ff"
      },
      "source": [
        "# These are the libraries will be used for this lab.\n",
        "\n",
        "import torch\n",
        "from torch.utils.data import Dataset\n",
        "torch.manual_seed(1)"
      ],
      "execution_count": 1,
      "outputs": [
        {
          "output_type": "execute_result",
          "data": {
            "text/plain": [
              "<torch._C.Generator at 0x7f1a2aaafe50>"
            ]
          },
          "metadata": {
            "tags": []
          },
          "execution_count": 1
        }
      ]
    },
    {
      "cell_type": "markdown",
      "metadata": {
        "id": "V7FCjhPMaekO",
        "colab_type": "text"
      },
      "source": [
        "<!--Empty Space for separating topics-->"
      ]
    },
    {
      "cell_type": "markdown",
      "metadata": {
        "id": "Gdgn1PB0aekP",
        "colab_type": "text"
      },
      "source": [
        "<h2 id=\"Simple_Dataset\">Simple dataset</h2>"
      ]
    },
    {
      "cell_type": "markdown",
      "metadata": {
        "id": "-uhAtsdIaekP",
        "colab_type": "text"
      },
      "source": [
        "Let us try to create our own dataset class."
      ]
    },
    {
      "cell_type": "code",
      "metadata": {
        "id": "9nW8JNRTaekQ",
        "colab_type": "code",
        "colab": {}
      },
      "source": [
        "# Define class for dataset\n",
        "\n",
        "class toy_set(Dataset):\n",
        "    \n",
        "    # Constructor with defult values \n",
        "    def __init__(self, length = 100, transform = None):\n",
        "        self.len = length\n",
        "        self.x = 2 * torch.ones(length, 2)\n",
        "        self.y = torch.ones(length, 1)\n",
        "        self.transform = transform\n",
        "     \n",
        "    # Getter\n",
        "    def __getitem__(self, index):\n",
        "        sample = self.x[index], self.y[index]\n",
        "        if self.transform:\n",
        "            sample = self.transform(sample)     \n",
        "        return sample\n",
        "    \n",
        "    # Get Length\n",
        "    def __len__(self):\n",
        "        return self.len"
      ],
      "execution_count": 0,
      "outputs": []
    },
    {
      "cell_type": "markdown",
      "metadata": {
        "id": "Qjr3lXjkaekS",
        "colab_type": "text"
      },
      "source": [
        "Now, let us create our <code>toy_set</code> object, and find out the value on index 1 and the length of the inital dataset"
      ]
    },
    {
      "cell_type": "code",
      "metadata": {
        "id": "e-c47MW2aekT",
        "colab_type": "code",
        "colab": {
          "base_uri": "https://localhost:8080/",
          "height": 69
        },
        "outputId": "cd95251d-f097-41ad-b51d-4e07dbf8c050"
      },
      "source": [
        "# Create Dataset Object. Find out the value on index 1. Find out the length of Dataset Object.\n",
        "\n",
        "our_dataset = toy_set()#object\n",
        "print(\"Our toy_set object: \", our_dataset)\n",
        "print(\"Value on index 0 of our toy_set object: \", our_dataset[0])\n",
        "print(\"Our toy_set length: \", len(our_dataset))"
      ],
      "execution_count": 7,
      "outputs": [
        {
          "output_type": "stream",
          "text": [
            "Our toy_set object:  <__main__.toy_set object at 0x7f1a2a4b0898>\n",
            "Value on index 0 of our toy_set object:  (tensor([2., 2.]), tensor([1.]))\n",
            "Our toy_set length:  100\n"
          ],
          "name": "stdout"
        }
      ]
    },
    {
      "cell_type": "markdown",
      "metadata": {
        "id": "Wbj692oqaekW",
        "colab_type": "text"
      },
      "source": [
        "As a result, we can apply the same indexing convention as a <code>list</code>,\n",
        "and apply the fuction <code>len</code> on the <code>toy_set</code> object. We are able to customize the indexing and length method by <code>def &#95;&#95;getitem&#95;&#95;(self, index)</code> and <code>def &#95;&#95;len&#95;&#95;(self)</code>."
      ]
    },
    {
      "cell_type": "markdown",
      "metadata": {
        "id": "y05C_8wwaekW",
        "colab_type": "text"
      },
      "source": [
        "Now, let us print out the first 3 elements and assign them to x and y:"
      ]
    },
    {
      "cell_type": "code",
      "metadata": {
        "id": "vQX9Y4apaekW",
        "colab_type": "code",
        "colab": {
          "base_uri": "https://localhost:8080/",
          "height": 69
        },
        "outputId": "474bc81d-0e48-44d4-d332-fd9320e6b107"
      },
      "source": [
        "# Use loop to print out first 3 elements in dataset\n",
        "\n",
        "for i in range(3):\n",
        "    x, y=our_dataset[i]\n",
        "    print(\"index: \", i, '; x:', x, '; y:', y)"
      ],
      "execution_count": 17,
      "outputs": [
        {
          "output_type": "stream",
          "text": [
            "index:  0 ; x: tensor([2., 2.]) ; y: tensor([1.])\n",
            "index:  1 ; x: tensor([2., 2.]) ; y: tensor([1.])\n",
            "index:  2 ; x: tensor([2., 2.]) ; y: tensor([1.])\n"
          ],
          "name": "stdout"
        }
      ]
    },
    {
      "cell_type": "markdown",
      "metadata": {
        "id": "J91eGcu0aekb",
        "colab_type": "text"
      },
      "source": [
        "The dataset object is an Iterable; as a result, we  apply the loop directly on the dataset object "
      ]
    },
    {
      "cell_type": "code",
      "metadata": {
        "id": "jWV8nAt0aekb",
        "colab_type": "code",
        "colab": {
          "base_uri": "https://localhost:8080/",
          "height": 1000
        },
        "outputId": "176053dd-c609-44d2-c236-00f2859d56c1"
      },
      "source": [
        "for x,y in our_dataset:\n",
        "    print(' x:', x, 'y:', y)"
      ],
      "execution_count": 20,
      "outputs": [
        {
          "output_type": "stream",
          "text": [
            " x: tensor([2., 2.]) y: tensor([1.])\n",
            " x: tensor([2., 2.]) y: tensor([1.])\n",
            " x: tensor([2., 2.]) y: tensor([1.])\n",
            " x: tensor([2., 2.]) y: tensor([1.])\n",
            " x: tensor([2., 2.]) y: tensor([1.])\n",
            " x: tensor([2., 2.]) y: tensor([1.])\n",
            " x: tensor([2., 2.]) y: tensor([1.])\n",
            " x: tensor([2., 2.]) y: tensor([1.])\n",
            " x: tensor([2., 2.]) y: tensor([1.])\n",
            " x: tensor([2., 2.]) y: tensor([1.])\n",
            " x: tensor([2., 2.]) y: tensor([1.])\n",
            " x: tensor([2., 2.]) y: tensor([1.])\n",
            " x: tensor([2., 2.]) y: tensor([1.])\n",
            " x: tensor([2., 2.]) y: tensor([1.])\n",
            " x: tensor([2., 2.]) y: tensor([1.])\n",
            " x: tensor([2., 2.]) y: tensor([1.])\n",
            " x: tensor([2., 2.]) y: tensor([1.])\n",
            " x: tensor([2., 2.]) y: tensor([1.])\n",
            " x: tensor([2., 2.]) y: tensor([1.])\n",
            " x: tensor([2., 2.]) y: tensor([1.])\n",
            " x: tensor([2., 2.]) y: tensor([1.])\n",
            " x: tensor([2., 2.]) y: tensor([1.])\n",
            " x: tensor([2., 2.]) y: tensor([1.])\n",
            " x: tensor([2., 2.]) y: tensor([1.])\n",
            " x: tensor([2., 2.]) y: tensor([1.])\n",
            " x: tensor([2., 2.]) y: tensor([1.])\n",
            " x: tensor([2., 2.]) y: tensor([1.])\n",
            " x: tensor([2., 2.]) y: tensor([1.])\n",
            " x: tensor([2., 2.]) y: tensor([1.])\n",
            " x: tensor([2., 2.]) y: tensor([1.])\n",
            " x: tensor([2., 2.]) y: tensor([1.])\n",
            " x: tensor([2., 2.]) y: tensor([1.])\n",
            " x: tensor([2., 2.]) y: tensor([1.])\n",
            " x: tensor([2., 2.]) y: tensor([1.])\n",
            " x: tensor([2., 2.]) y: tensor([1.])\n",
            " x: tensor([2., 2.]) y: tensor([1.])\n",
            " x: tensor([2., 2.]) y: tensor([1.])\n",
            " x: tensor([2., 2.]) y: tensor([1.])\n",
            " x: tensor([2., 2.]) y: tensor([1.])\n",
            " x: tensor([2., 2.]) y: tensor([1.])\n",
            " x: tensor([2., 2.]) y: tensor([1.])\n",
            " x: tensor([2., 2.]) y: tensor([1.])\n",
            " x: tensor([2., 2.]) y: tensor([1.])\n",
            " x: tensor([2., 2.]) y: tensor([1.])\n",
            " x: tensor([2., 2.]) y: tensor([1.])\n",
            " x: tensor([2., 2.]) y: tensor([1.])\n",
            " x: tensor([2., 2.]) y: tensor([1.])\n",
            " x: tensor([2., 2.]) y: tensor([1.])\n",
            " x: tensor([2., 2.]) y: tensor([1.])\n",
            " x: tensor([2., 2.]) y: tensor([1.])\n",
            " x: tensor([2., 2.]) y: tensor([1.])\n",
            " x: tensor([2., 2.]) y: tensor([1.])\n",
            " x: tensor([2., 2.]) y: tensor([1.])\n",
            " x: tensor([2., 2.]) y: tensor([1.])\n",
            " x: tensor([2., 2.]) y: tensor([1.])\n",
            " x: tensor([2., 2.]) y: tensor([1.])\n",
            " x: tensor([2., 2.]) y: tensor([1.])\n",
            " x: tensor([2., 2.]) y: tensor([1.])\n",
            " x: tensor([2., 2.]) y: tensor([1.])\n",
            " x: tensor([2., 2.]) y: tensor([1.])\n",
            " x: tensor([2., 2.]) y: tensor([1.])\n",
            " x: tensor([2., 2.]) y: tensor([1.])\n",
            " x: tensor([2., 2.]) y: tensor([1.])\n",
            " x: tensor([2., 2.]) y: tensor([1.])\n",
            " x: tensor([2., 2.]) y: tensor([1.])\n",
            " x: tensor([2., 2.]) y: tensor([1.])\n",
            " x: tensor([2., 2.]) y: tensor([1.])\n",
            " x: tensor([2., 2.]) y: tensor([1.])\n",
            " x: tensor([2., 2.]) y: tensor([1.])\n",
            " x: tensor([2., 2.]) y: tensor([1.])\n",
            " x: tensor([2., 2.]) y: tensor([1.])\n",
            " x: tensor([2., 2.]) y: tensor([1.])\n",
            " x: tensor([2., 2.]) y: tensor([1.])\n",
            " x: tensor([2., 2.]) y: tensor([1.])\n",
            " x: tensor([2., 2.]) y: tensor([1.])\n",
            " x: tensor([2., 2.]) y: tensor([1.])\n",
            " x: tensor([2., 2.]) y: tensor([1.])\n",
            " x: tensor([2., 2.]) y: tensor([1.])\n",
            " x: tensor([2., 2.]) y: tensor([1.])\n",
            " x: tensor([2., 2.]) y: tensor([1.])\n",
            " x: tensor([2., 2.]) y: tensor([1.])\n",
            " x: tensor([2., 2.]) y: tensor([1.])\n",
            " x: tensor([2., 2.]) y: tensor([1.])\n",
            " x: tensor([2., 2.]) y: tensor([1.])\n",
            " x: tensor([2., 2.]) y: tensor([1.])\n",
            " x: tensor([2., 2.]) y: tensor([1.])\n",
            " x: tensor([2., 2.]) y: tensor([1.])\n",
            " x: tensor([2., 2.]) y: tensor([1.])\n",
            " x: tensor([2., 2.]) y: tensor([1.])\n",
            " x: tensor([2., 2.]) y: tensor([1.])\n",
            " x: tensor([2., 2.]) y: tensor([1.])\n",
            " x: tensor([2., 2.]) y: tensor([1.])\n",
            " x: tensor([2., 2.]) y: tensor([1.])\n",
            " x: tensor([2., 2.]) y: tensor([1.])\n",
            " x: tensor([2., 2.]) y: tensor([1.])\n",
            " x: tensor([2., 2.]) y: tensor([1.])\n",
            " x: tensor([2., 2.]) y: tensor([1.])\n",
            " x: tensor([2., 2.]) y: tensor([1.])\n",
            " x: tensor([2., 2.]) y: tensor([1.])\n",
            " x: tensor([2., 2.]) y: tensor([1.])\n"
          ],
          "name": "stdout"
        }
      ]
    },
    {
      "cell_type": "markdown",
      "metadata": {
        "id": "qkZjVQO_aeke",
        "colab_type": "text"
      },
      "source": [
        "<h3>Practice</h3>"
      ]
    },
    {
      "cell_type": "markdown",
      "metadata": {
        "id": "11Q8Rkkaaekf",
        "colab_type": "text"
      },
      "source": [
        "Try to create an <code>toy_set</code> object with length <b>50</b>. Print out the length of your object."
      ]
    },
    {
      "cell_type": "code",
      "metadata": {
        "id": "r8J9sjr0aekf",
        "colab_type": "code",
        "colab": {
          "base_uri": "https://localhost:8080/",
          "height": 34
        },
        "outputId": "bbfa7752-5f4b-489c-adf6-cac22ce155d5"
      },
      "source": [
        "# Practice: Create a new object with length 50, and print the length of object out.\n",
        "my_dataset = toy_set(length = 50)\n",
        "print(\"My toy_set length: \", len(my_dataset))\n"
      ],
      "execution_count": 21,
      "outputs": [
        {
          "output_type": "stream",
          "text": [
            "My toy_set length:  50\n"
          ],
          "name": "stdout"
        }
      ]
    },
    {
      "cell_type": "markdown",
      "metadata": {
        "id": "5Uwz02cXaeki",
        "colab_type": "text"
      },
      "source": [
        "<!--Empty Space for separating topics-->"
      ]
    },
    {
      "cell_type": "markdown",
      "metadata": {
        "id": "AF-EiBp7aeki",
        "colab_type": "text"
      },
      "source": [
        "<h2 id=\"Transforms\">Transforms</h2>"
      ]
    },
    {
      "cell_type": "markdown",
      "metadata": {
        "id": "M0lQmrtkaekj",
        "colab_type": "text"
      },
      "source": [
        "You can also create a class for transforming the data. In this case, we will try to add 1 to x and multiply y by 2:"
      ]
    },
    {
      "cell_type": "code",
      "metadata": {
        "id": "YUkP3b3Oaekj",
        "colab_type": "code",
        "colab": {}
      },
      "source": [
        "# Create tranform class add_mult\n",
        "\n",
        "class add_mult(object):\n",
        "    \n",
        "    # Constructor\n",
        "    def __init__(self, addx = 1, muly = 2):\n",
        "        self.addx = addx\n",
        "        self.muly = muly\n",
        "    \n",
        "    # Executor\n",
        "    def __call__(self, sample):\n",
        "        x = sample[0]\n",
        "        y = sample[1]\n",
        "        x = x + self.addx\n",
        "        y = y * self.muly\n",
        "        sample = x, y\n",
        "        return sample"
      ],
      "execution_count": 0,
      "outputs": []
    },
    {
      "cell_type": "markdown",
      "metadata": {
        "id": "n8dBrEVLaekm",
        "colab_type": "text"
      },
      "source": [
        "<!--Empty Space for separating topics-->"
      ]
    },
    {
      "cell_type": "markdown",
      "metadata": {
        "id": "jrdA125Paekn",
        "colab_type": "text"
      },
      "source": [
        "Now, create a transform object:."
      ]
    },
    {
      "cell_type": "code",
      "metadata": {
        "id": "89uqZLlkaekn",
        "colab_type": "code",
        "colab": {}
      },
      "source": [
        "# Create an add_mult transform object, and an toy_set object\n",
        "\n",
        "a_m = add_mult()\n",
        "data_set = toy_set()"
      ],
      "execution_count": 0,
      "outputs": []
    },
    {
      "cell_type": "markdown",
      "metadata": {
        "id": "YLBdZzYraekp",
        "colab_type": "text"
      },
      "source": [
        "Assign the outputs of the original dataset to <code>x</code> and <code>y</code>. Then, apply the transform <code>add_mult</code> to the dataset and output the values as <code>x_</code> and <code>y_</code>, respectively: "
      ]
    },
    {
      "cell_type": "code",
      "metadata": {
        "id": "-zpmcuebaekq",
        "colab_type": "code",
        "colab": {
          "base_uri": "https://localhost:8080/",
          "height": 363
        },
        "outputId": "59d70a66-b1bb-4a35-b8f6-56a3c3b8971b"
      },
      "source": [
        "# Use loop to print out first 10 elements in dataset\n",
        "\n",
        "for i in range(10):\n",
        "    x, y = data_set[i]\n",
        "    print('Index: ', i, 'Original x: ', x, 'Original y: ', y)\n",
        "    x_, y_ = a_m(data_set[i])\n",
        "    print('Index: ', i, 'Transformed x_:', x_, 'Transformed y_:', y_)"
      ],
      "execution_count": 24,
      "outputs": [
        {
          "output_type": "stream",
          "text": [
            "Index:  0 Original x:  tensor([2., 2.]) Original y:  tensor([1.])\n",
            "Index:  0 Transformed x_: tensor([3., 3.]) Transformed y_: tensor([2.])\n",
            "Index:  1 Original x:  tensor([2., 2.]) Original y:  tensor([1.])\n",
            "Index:  1 Transformed x_: tensor([3., 3.]) Transformed y_: tensor([2.])\n",
            "Index:  2 Original x:  tensor([2., 2.]) Original y:  tensor([1.])\n",
            "Index:  2 Transformed x_: tensor([3., 3.]) Transformed y_: tensor([2.])\n",
            "Index:  3 Original x:  tensor([2., 2.]) Original y:  tensor([1.])\n",
            "Index:  3 Transformed x_: tensor([3., 3.]) Transformed y_: tensor([2.])\n",
            "Index:  4 Original x:  tensor([2., 2.]) Original y:  tensor([1.])\n",
            "Index:  4 Transformed x_: tensor([3., 3.]) Transformed y_: tensor([2.])\n",
            "Index:  5 Original x:  tensor([2., 2.]) Original y:  tensor([1.])\n",
            "Index:  5 Transformed x_: tensor([3., 3.]) Transformed y_: tensor([2.])\n",
            "Index:  6 Original x:  tensor([2., 2.]) Original y:  tensor([1.])\n",
            "Index:  6 Transformed x_: tensor([3., 3.]) Transformed y_: tensor([2.])\n",
            "Index:  7 Original x:  tensor([2., 2.]) Original y:  tensor([1.])\n",
            "Index:  7 Transformed x_: tensor([3., 3.]) Transformed y_: tensor([2.])\n",
            "Index:  8 Original x:  tensor([2., 2.]) Original y:  tensor([1.])\n",
            "Index:  8 Transformed x_: tensor([3., 3.]) Transformed y_: tensor([2.])\n",
            "Index:  9 Original x:  tensor([2., 2.]) Original y:  tensor([1.])\n",
            "Index:  9 Transformed x_: tensor([3., 3.]) Transformed y_: tensor([2.])\n"
          ],
          "name": "stdout"
        }
      ]
    },
    {
      "cell_type": "markdown",
      "metadata": {
        "id": "hc1fmvfzaeks",
        "colab_type": "text"
      },
      "source": [
        "As the result, <code>x</code> has been added by 1 and y has been multiplied by 2, as <i>[2, 2] + 1 = [3, 3]</i> and <i>[1] x 2 = [2]</i>"
      ]
    },
    {
      "cell_type": "markdown",
      "metadata": {
        "id": "JYEmnrmNaeks",
        "colab_type": "text"
      },
      "source": [
        "<!--Empty Space for separating topics-->"
      ]
    },
    {
      "cell_type": "markdown",
      "metadata": {
        "id": "JW9dH768aekt",
        "colab_type": "text"
      },
      "source": [
        "We can apply the transform object every time we create a new <code>toy_set object</code>? Remember, we have the constructor in toy_set class with the parameter <code>transform = None</code>.\n",
        "When we create a new object using the constructor, we can assign the transform object to the parameter transform, as the following code demonstrates."
      ]
    },
    {
      "cell_type": "code",
      "metadata": {
        "id": "-bSOol0Oaekt",
        "colab_type": "code",
        "colab": {}
      },
      "source": [
        "# Create a new data_set object with add_mult object as transform\n",
        "\n",
        "cust_data_set = toy_set(transform = a_m)"
      ],
      "execution_count": 0,
      "outputs": []
    },
    {
      "cell_type": "markdown",
      "metadata": {
        "id": "2mcFmjo7aekv",
        "colab_type": "text"
      },
      "source": [
        "This applied <code>a_m</code> object (a transform method) to every element in <code>cust_data_set</code> as initialized. Let us print out the first 10 elements in <code>cust_data_set</code> in order to see whether the <code>a_m</code> applied on <code>cust_data_set</code>"
      ]
    },
    {
      "cell_type": "code",
      "metadata": {
        "id": "K7cwuJ6haekw",
        "colab_type": "code",
        "colab": {
          "base_uri": "https://localhost:8080/",
          "height": 363
        },
        "outputId": "017ddc4d-90a6-4af7-de25-461718294860"
      },
      "source": [
        "# Use loop to print out first 10 elements in dataset\n",
        "\n",
        "for i in range(10):\n",
        "    x, y = data_set[i]\n",
        "    print('Index: ', i, 'Original x: ', x, 'Original y: ', y)\n",
        "    x_, y_ = cust_data_set[i]\n",
        "    print('Index: ', i, 'Transformed x_:', x_, 'Transformed y_:', y_)"
      ],
      "execution_count": 27,
      "outputs": [
        {
          "output_type": "stream",
          "text": [
            "Index:  0 Original x:  tensor([2., 2.]) Original y:  tensor([1.])\n",
            "Index:  0 Transformed x_: tensor([3., 3.]) Transformed y_: tensor([2.])\n",
            "Index:  1 Original x:  tensor([2., 2.]) Original y:  tensor([1.])\n",
            "Index:  1 Transformed x_: tensor([3., 3.]) Transformed y_: tensor([2.])\n",
            "Index:  2 Original x:  tensor([2., 2.]) Original y:  tensor([1.])\n",
            "Index:  2 Transformed x_: tensor([3., 3.]) Transformed y_: tensor([2.])\n",
            "Index:  3 Original x:  tensor([2., 2.]) Original y:  tensor([1.])\n",
            "Index:  3 Transformed x_: tensor([3., 3.]) Transformed y_: tensor([2.])\n",
            "Index:  4 Original x:  tensor([2., 2.]) Original y:  tensor([1.])\n",
            "Index:  4 Transformed x_: tensor([3., 3.]) Transformed y_: tensor([2.])\n",
            "Index:  5 Original x:  tensor([2., 2.]) Original y:  tensor([1.])\n",
            "Index:  5 Transformed x_: tensor([3., 3.]) Transformed y_: tensor([2.])\n",
            "Index:  6 Original x:  tensor([2., 2.]) Original y:  tensor([1.])\n",
            "Index:  6 Transformed x_: tensor([3., 3.]) Transformed y_: tensor([2.])\n",
            "Index:  7 Original x:  tensor([2., 2.]) Original y:  tensor([1.])\n",
            "Index:  7 Transformed x_: tensor([3., 3.]) Transformed y_: tensor([2.])\n",
            "Index:  8 Original x:  tensor([2., 2.]) Original y:  tensor([1.])\n",
            "Index:  8 Transformed x_: tensor([3., 3.]) Transformed y_: tensor([2.])\n",
            "Index:  9 Original x:  tensor([2., 2.]) Original y:  tensor([1.])\n",
            "Index:  9 Transformed x_: tensor([3., 3.]) Transformed y_: tensor([2.])\n"
          ],
          "name": "stdout"
        }
      ]
    },
    {
      "cell_type": "markdown",
      "metadata": {
        "id": "ldJsfqc7aekz",
        "colab_type": "text"
      },
      "source": [
        "The result is the same as the previous method."
      ]
    },
    {
      "cell_type": "markdown",
      "metadata": {
        "id": "Ok_-380daekz",
        "colab_type": "text"
      },
      "source": [
        "<!--Empty Space for separating topics-->"
      ]
    },
    {
      "cell_type": "code",
      "metadata": {
        "id": "z0fcrPx9aek0",
        "colab_type": "code",
        "colab": {
          "base_uri": "https://localhost:8080/",
          "height": 69
        },
        "outputId": "8078edab-3412-4b66-9f65-8e13d096fdb0"
      },
      "source": [
        "# Practice: Construct your own my_add_mult transform. Apply my_add_mult on a new toy_set object. Print out the first three elements from the transformed dataset.\n",
        "class my_add_mult(object):   \n",
        "    def __init__(self, add = 2, mul = 10):\n",
        "        self.add=add\n",
        "        self.mul=mul\n",
        "        \n",
        "    def __call__(self, sample):\n",
        "        x = sample[0]\n",
        "        y = sample[1]\n",
        "        x = x + self.add\n",
        "        y = y + self.add\n",
        "        x = x * self.mul\n",
        "        y = y * self.mul\n",
        "        sample = x, y\n",
        "        return sample\n",
        "        \n",
        "       \n",
        "my_dataset = toy_set(transform = my_add_mult())\n",
        "# x,y=my_dataset[0:4]\n",
        "# print(\"x:\",x,\"y:\",y)\n",
        "for i in range(3):\n",
        "    x_, y_ = my_dataset[i]\n",
        "    print('Index: ', i, 'Transformed x_:', x_, 'Transformed y_:', y_)\n",
        "\n"
      ],
      "execution_count": 29,
      "outputs": [
        {
          "output_type": "stream",
          "text": [
            "Index:  0 Transformed x_: tensor([40., 40.]) Transformed y_: tensor([30.])\n",
            "Index:  1 Transformed x_: tensor([40., 40.]) Transformed y_: tensor([30.])\n",
            "Index:  2 Transformed x_: tensor([40., 40.]) Transformed y_: tensor([30.])\n"
          ],
          "name": "stdout"
        }
      ]
    },
    {
      "cell_type": "markdown",
      "metadata": {
        "id": "JDqv4HYGaek4",
        "colab_type": "text"
      },
      "source": [
        "<!--Empty Space for separating topics-->"
      ]
    },
    {
      "cell_type": "markdown",
      "metadata": {
        "id": "v_6B7KU6aek4",
        "colab_type": "text"
      },
      "source": [
        "<h2 id=\"Compose\">Compose</h2>"
      ]
    },
    {
      "cell_type": "markdown",
      "metadata": {
        "id": "wrr_eIc3aek4",
        "colab_type": "text"
      },
      "source": [
        "You can compose multiple transforms on the dataset object. First, import <code>transforms</code> from <code>torchvision</code>:"
      ]
    },
    {
      "cell_type": "code",
      "metadata": {
        "id": "X0e9MPPiaek5",
        "colab_type": "code",
        "colab": {}
      },
      "source": [
        "# Run the command below when you do not have torchvision installed\n",
        "# !conda install -y torchvision\n",
        "\n",
        "from torchvision import transforms"
      ],
      "execution_count": 0,
      "outputs": []
    },
    {
      "cell_type": "markdown",
      "metadata": {
        "id": "YQjsrLZuaek7",
        "colab_type": "text"
      },
      "source": [
        "Then, create a new transform class that multiplies each of the elements by 100: "
      ]
    },
    {
      "cell_type": "code",
      "metadata": {
        "id": "-JWmI97Taek7",
        "colab_type": "code",
        "colab": {}
      },
      "source": [
        "# Create tranform class mult\n",
        "\n",
        "class mult(object):\n",
        "    \n",
        "    # Constructor\n",
        "    def __init__(self, mult = 100):\n",
        "        self.mult = mult\n",
        "        \n",
        "    # Executor\n",
        "    def __call__(self, sample):\n",
        "        x = sample[0]\n",
        "        y = sample[1]\n",
        "        x = x * self.mult\n",
        "        y = y * self.mult\n",
        "        sample = x, y\n",
        "        return sample"
      ],
      "execution_count": 0,
      "outputs": []
    },
    {
      "cell_type": "markdown",
      "metadata": {
        "id": "gNn58JDBaek9",
        "colab_type": "text"
      },
      "source": [
        "Now let us try to combine the transforms <code>add_mult</code> and <code>mult</code>"
      ]
    },
    {
      "cell_type": "code",
      "metadata": {
        "id": "-upcr-kYaek-",
        "colab_type": "code",
        "colab": {
          "base_uri": "https://localhost:8080/",
          "height": 86
        },
        "outputId": "f6b7a63e-4dd1-4131-a890-83255e9cb69e"
      },
      "source": [
        "# Combine the add_mult() and mult()\n",
        "\n",
        "data_transform = transforms.Compose([add_mult(), mult()])\n",
        "print(\"The combination of transforms (Compose): \", data_transform)\n"
      ],
      "execution_count": 32,
      "outputs": [
        {
          "output_type": "stream",
          "text": [
            "The combination of transforms (Compose):  Compose(\n",
            "    <__main__.add_mult object at 0x7f1a2a0da4e0>\n",
            "    <__main__.mult object at 0x7f1a2a0da550>\n",
            ")\n"
          ],
          "name": "stdout"
        }
      ]
    },
    {
      "cell_type": "markdown",
      "metadata": {
        "id": "SL3bxN1RaelA",
        "colab_type": "text"
      },
      "source": [
        "The new <code>Compose</code> object will perform each transform concurrently as shown in this figure:"
      ]
    },
    {
      "cell_type": "markdown",
      "metadata": {
        "id": "KEB8Lm7VaelA",
        "colab_type": "text"
      },
      "source": [
        "<img src=\"https://s3-api.us-geo.objectstorage.softlayer.net/cf-courses-data/CognitiveClass/DL0110EN/notebook_images%20/chapter%201/1.3.1_trasform.png\" width=\"500\" alt=\"Compose PyTorch\">"
      ]
    },
    {
      "cell_type": "code",
      "metadata": {
        "id": "j-nPuhlWaelA",
        "colab_type": "code",
        "colab": {
          "base_uri": "https://localhost:8080/",
          "height": 34
        },
        "outputId": "26c34a44-6eca-44cf-b9dc-f7d2578a27a6"
      },
      "source": [
        "data_transform(data_set[0])"
      ],
      "execution_count": 33,
      "outputs": [
        {
          "output_type": "execute_result",
          "data": {
            "text/plain": [
              "(tensor([300., 300.]), tensor([200.]))"
            ]
          },
          "metadata": {
            "tags": []
          },
          "execution_count": 33
        }
      ]
    },
    {
      "cell_type": "code",
      "metadata": {
        "id": "J9dpoR9HaelC",
        "colab_type": "code",
        "colab": {
          "base_uri": "https://localhost:8080/",
          "height": 52
        },
        "outputId": "21bb1c04-72d0-465a-e665-21e1929427f8"
      },
      "source": [
        "x,y=data_set[0]\n",
        "x_,y_=data_transform(data_set[0])\n",
        "print( 'Original x: ', x, 'Original y: ', y)\n",
        "\n",
        "print( 'Transformed x_:', x_, 'Transformed y_:', y_)"
      ],
      "execution_count": 34,
      "outputs": [
        {
          "output_type": "stream",
          "text": [
            "Original x:  tensor([2., 2.]) Original y:  tensor([1.])\n",
            "Transformed x_: tensor([300., 300.]) Transformed y_: tensor([200.])\n"
          ],
          "name": "stdout"
        }
      ]
    },
    {
      "cell_type": "markdown",
      "metadata": {
        "id": "XTzPp788aelE",
        "colab_type": "text"
      },
      "source": [
        "Now we can pass the new <code>Compose</code> object (The combination of methods <code>add_mult()</code> and <code>mult</code>) to the constructor for creating <code>toy_set</code> object."
      ]
    },
    {
      "cell_type": "code",
      "metadata": {
        "id": "PH1t9WPDaelE",
        "colab_type": "code",
        "colab": {}
      },
      "source": [
        "# Create a new toy_set object with compose object as transform\n",
        "\n",
        "compose_data_set = toy_set(transform = data_transform)"
      ],
      "execution_count": 0,
      "outputs": []
    },
    {
      "cell_type": "markdown",
      "metadata": {
        "id": "iY1xm-4yaelG",
        "colab_type": "text"
      },
      "source": [
        "Let us print out the first 3 elements in different <code>toy_set</code> datasets in order to compare the output after different transforms have been applied: "
      ]
    },
    {
      "cell_type": "code",
      "metadata": {
        "id": "wS4LNycKaelH",
        "colab_type": "code",
        "colab": {
          "base_uri": "https://localhost:8080/",
          "height": 173
        },
        "outputId": "61cca607-422f-4c50-823a-18044172019e"
      },
      "source": [
        "# Use loop to print out first 3 elements in dataset\n",
        "\n",
        "for i in range(3):\n",
        "    x, y = data_set[i]\n",
        "    print('Index: ', i, 'Original x: ', x, 'Original y: ', y)\n",
        "    x_, y_ = cust_data_set[i]\n",
        "    print('Index: ', i, 'Transformed x_:', x_, 'Transformed y_:', y_)\n",
        "    x_co, y_co = compose_data_set[i]\n",
        "    print('Index: ', i, 'Compose Transformed x_co: ', x_co ,'Compose Transformed y_co: ',y_co)"
      ],
      "execution_count": 36,
      "outputs": [
        {
          "output_type": "stream",
          "text": [
            "Index:  0 Original x:  tensor([2., 2.]) Original y:  tensor([1.])\n",
            "Index:  0 Transformed x_: tensor([3., 3.]) Transformed y_: tensor([2.])\n",
            "Index:  0 Compose Transformed x_co:  tensor([300., 300.]) Compose Transformed y_co:  tensor([200.])\n",
            "Index:  1 Original x:  tensor([2., 2.]) Original y:  tensor([1.])\n",
            "Index:  1 Transformed x_: tensor([3., 3.]) Transformed y_: tensor([2.])\n",
            "Index:  1 Compose Transformed x_co:  tensor([300., 300.]) Compose Transformed y_co:  tensor([200.])\n",
            "Index:  2 Original x:  tensor([2., 2.]) Original y:  tensor([1.])\n",
            "Index:  2 Transformed x_: tensor([3., 3.]) Transformed y_: tensor([2.])\n",
            "Index:  2 Compose Transformed x_co:  tensor([300., 300.]) Compose Transformed y_co:  tensor([200.])\n"
          ],
          "name": "stdout"
        }
      ]
    },
    {
      "cell_type": "markdown",
      "metadata": {
        "id": "ox6KH1iYaelJ",
        "colab_type": "text"
      },
      "source": [
        "Let us see what happened on index 0. The original value of <code>x</code> is <i>[2, 2]</i>, and the original value of <code>y</code> is [1]. If we only applied <code>add_mult()</code> on the original dataset, then the <code>x</code> became <i>[3, 3]</i> and y became <i>[2]</i>. Now let us see what is the value after applied both <code>add_mult()</code> and <code>mult()</code>. The result of x is <i>[300, 300]</i> and y is <i>[200]</i>. The calculation which is equavalent to the compose is <i> x = ([2, 2] + 1) x 100 = [300, 300], y = ([1] x 2) x 100 = 200</i>"
      ]
    },
    {
      "cell_type": "markdown",
      "metadata": {
        "id": "dJQQ1jTeaelJ",
        "colab_type": "text"
      },
      "source": [
        "<h3>Practice</h3>"
      ]
    },
    {
      "cell_type": "markdown",
      "metadata": {
        "id": "1rVCfLauaelJ",
        "colab_type": "text"
      },
      "source": [
        "Try to combine the <code>mult()</code> and <code>add_mult()</code> as <code>mult()</code> to be executed first. And apply this on a new <code>toy_set</code> dataset. Print out the first 3 elements in the transformed dataset."
      ]
    },
    {
      "cell_type": "code",
      "metadata": {
        "id": "UXx_zxcYaelK",
        "colab_type": "code",
        "colab": {
          "base_uri": "https://localhost:8080/",
          "height": 69
        },
        "outputId": "3b082a87-1a00-47cb-f320-7b696f9f64e2"
      },
      "source": [
        "# Practice: Make a compose as mult() execute first and then add_mult(). Apply the compose on toy_set dataset. Print out the first 3 elements in the transformed dataset.\n",
        "transformed_util = transforms.Compose([mult(),add_mult()])\n",
        "ved_dataset=toy_set(transform=transformed_util)\n",
        "for i in range(3):\n",
        "  x,y=ved_dataset[i]\n",
        "  print(\"INDEX:\",i,\"x:\",x,\"y:\",y)\n"
      ],
      "execution_count": 39,
      "outputs": [
        {
          "output_type": "stream",
          "text": [
            "INDEX: 0 x: tensor([201., 201.]) y: tensor([200.])\n",
            "INDEX: 1 x: tensor([201., 201.]) y: tensor([200.])\n",
            "INDEX: 2 x: tensor([201., 201.]) y: tensor([200.])\n"
          ],
          "name": "stdout"
        }
      ]
    }
  ]
}