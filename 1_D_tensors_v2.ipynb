{
  "nbformat": 4,
  "nbformat_minor": 0,
  "metadata": {
    "kernelspec": {
      "display_name": "Python",
      "language": "python",
      "name": "conda-env-python-py"
    },
    "language_info": {
      "codemirror_mode": {
        "name": "ipython",
        "version": 3
      },
      "file_extension": ".py",
      "mimetype": "text/x-python",
      "name": "python",
      "nbconvert_exporter": "python",
      "pygments_lexer": "ipython3",
      "version": "3.6.10"
    },
    "colab": {
      "name": "1-D_tensors_v2.ipynb",
      "provenance": [],
      "collapsed_sections": [],
      "include_colab_link": true
    }
  },
  "cells": [
    {
      "cell_type": "markdown",
      "metadata": {
        "id": "view-in-github",
        "colab_type": "text"
      },
      "source": [
        "<a href=\"https://colab.research.google.com/github/vvicky30/Deep_neural_Networks_PyToacrch/blob/master/1_D_tensors_v2.ipynb\" target=\"_parent\"><img src=\"https://colab.research.google.com/assets/colab-badge.svg\" alt=\"Open In Colab\"/></a>"
      ]
    },
    {
      "cell_type": "markdown",
      "metadata": {
        "id": "NaY7gr75kEgN",
        "colab_type": "text"
      },
      "source": [
        "<h1>Torch Tensors in 1D</h1>"
      ]
    },
    {
      "cell_type": "markdown",
      "metadata": {
        "id": "wzFCGWXAkEgP",
        "colab_type": "text"
      },
      "source": [
        "<h2>Table of Contents</h2>"
      ]
    },
    {
      "cell_type": "markdown",
      "metadata": {
        "id": "SPdAD1EIkEgR",
        "colab_type": "text"
      },
      "source": [
        "<p> Tensors are an essential part of PyTorch; there are complex mathematical objects in and of themselves. Fortunately, most of the intricacies are not necessary. In this section, you will compare them to vectors and numpy arrays.</p>\n",
        "<ul>\n",
        "    <li><a href=\"#Types_Shape\">Types and Shape</a></li>\n",
        "    <li><a href=\"#Index_Slice\">Indexing and Slicing</a></li>\n",
        "    <li><a href=\"#Tensor_Func\">Tensor Functions</a></li>\n",
        "    <li><a href=\"#Tensor_Op\">Tensor Operations</a></li>\n",
        "    <li><a href=\"#Device_Op\">Device_Op Operations</a></li>\n",
        "</ul>\n",
        "\n",
        "<p>Estimated Time Needed: <b>25 min</b></p>\n",
        "<hr>"
      ]
    },
    {
      "cell_type": "markdown",
      "metadata": {
        "id": "x_f49meSkEgU",
        "colab_type": "text"
      },
      "source": [
        "<h2>Preparation</h2>"
      ]
    },
    {
      "cell_type": "markdown",
      "metadata": {
        "id": "v85CjmyNkEgV",
        "colab_type": "text"
      },
      "source": [
        "Import the following libraries that you'll use for this lab:"
      ]
    },
    {
      "cell_type": "code",
      "metadata": {
        "jupyter": {
          "outputs_hidden": true
        },
        "id": "3dp_0apSkEgW",
        "colab_type": "code",
        "colab": {}
      },
      "source": [
        "# These are the libraries will be used for this lab.\n",
        "\n",
        "import torch \n",
        "import numpy as np \n",
        "import pandas as pd\n",
        "\n",
        "import matplotlib.pyplot as plt\n",
        "%matplotlib inline  "
      ],
      "execution_count": 0,
      "outputs": []
    },
    {
      "cell_type": "markdown",
      "metadata": {
        "id": "VzmcvdGRkEgf",
        "colab_type": "text"
      },
      "source": [
        "Check PyTorch version:"
      ]
    },
    {
      "cell_type": "code",
      "metadata": {
        "jupyter": {
          "outputs_hidden": true
        },
        "id": "r3F089PVkEgg",
        "colab_type": "code",
        "colab": {
          "base_uri": "https://localhost:8080/",
          "height": 34
        },
        "outputId": "cb386684-487c-42e3-b47e-8ed5d6c7f07f"
      },
      "source": [
        "torch.__version__"
      ],
      "execution_count": 2,
      "outputs": [
        {
          "output_type": "execute_result",
          "data": {
            "text/plain": [
              "'1.5.0+cu101'"
            ]
          },
          "metadata": {
            "tags": []
          },
          "execution_count": 2
        }
      ]
    },
    {
      "cell_type": "markdown",
      "metadata": {
        "id": "SxgZ0Q8akEgy",
        "colab_type": "text"
      },
      "source": [
        "<!--Empty Space for separating topics-->"
      ]
    },
    {
      "cell_type": "markdown",
      "metadata": {
        "id": "mbe3igFKkEg0",
        "colab_type": "text"
      },
      "source": [
        "<h2 id=\"Types_Shape\">Types and Shape</h2>"
      ]
    },
    {
      "cell_type": "markdown",
      "metadata": {
        "id": "ho7erF8kkEg2",
        "colab_type": "text"
      },
      "source": [
        "You can find the type of the following list of integers <i>[0, 1, 2, 3, 4]</i> by applying the constructor <code>torch.tensor()</code>:"
      ]
    },
    {
      "cell_type": "code",
      "metadata": {
        "jupyter": {
          "outputs_hidden": false
        },
        "id": "RDj_oucYkEg3",
        "colab_type": "code",
        "colab": {
          "base_uri": "https://localhost:8080/",
          "height": 50
        },
        "outputId": "e49ad0fd-f071-4919-b7e2-33d3e24f4502"
      },
      "source": [
        "# Convert a integer list with length 5 to a tensor\n",
        "\n",
        "ints_to_tensor = torch.tensor([0, 1, 2, 3, 4])\n",
        "print(\"The dtype of tensor object after converting it to tensor: \", ints_to_tensor.dtype)\n",
        "print(\"The type of tensor object after converting it to tensor: \", ints_to_tensor.type())"
      ],
      "execution_count": 4,
      "outputs": [
        {
          "output_type": "stream",
          "text": [
            "The dtype of tensor object after converting it to tensor:  torch.int64\n",
            "The type of tensor object after converting it to tensor:  torch.LongTensor\n"
          ],
          "name": "stdout"
        }
      ]
    },
    {
      "cell_type": "markdown",
      "metadata": {
        "id": "IPtKtmCFkEg9",
        "colab_type": "text"
      },
      "source": [
        "As a result, the integer list has been converted to a long tensor."
      ]
    },
    {
      "cell_type": "markdown",
      "metadata": {
        "id": "2cQSPdB6kEg-",
        "colab_type": "text"
      },
      "source": [
        "The Python type is still <code>torch.Tensor</code>:"
      ]
    },
    {
      "cell_type": "code",
      "metadata": {
        "id": "G1tzBUZwkEhA",
        "colab_type": "code",
        "colab": {
          "base_uri": "https://localhost:8080/",
          "height": 34
        },
        "outputId": "70a6b8f4-71c3-4f60-fb7d-2bc037850b48"
      },
      "source": [
        "type(ints_to_tensor)"
      ],
      "execution_count": 5,
      "outputs": [
        {
          "output_type": "execute_result",
          "data": {
            "text/plain": [
              "torch.Tensor"
            ]
          },
          "metadata": {
            "tags": []
          },
          "execution_count": 5
        }
      ]
    },
    {
      "cell_type": "markdown",
      "metadata": {
        "id": "okdUmAdokEhH",
        "colab_type": "text"
      },
      "source": [
        "<!--Empty Space for separate topics-->"
      ]
    },
    {
      "cell_type": "markdown",
      "metadata": {
        "id": "INj9CM2nkEhJ",
        "colab_type": "text"
      },
      "source": [
        "You can find the type of this float list <i>[0.0, 1.0, 2.0, 3.0, 4.0]</i> by applying the method <code>torch.tensor()</code>:"
      ]
    },
    {
      "cell_type": "code",
      "metadata": {
        "jupyter": {
          "outputs_hidden": false
        },
        "id": "iJD7eqG9kEhK",
        "colab_type": "code",
        "colab": {
          "base_uri": "https://localhost:8080/",
          "height": 50
        },
        "outputId": "5e3fc26e-7e04-4370-9a97-6016d0c34d9c"
      },
      "source": [
        "# Convert a float list with length 5 to a tensor\n",
        "\n",
        "floats_to_tensor = torch.tensor([0.0, 1.0, 2.0, 3.0, 4.0])\n",
        "print(\"The dtype of tensor object after converting it to tensor: \", floats_to_tensor.dtype)\n",
        "print(\"The type of tensor object after converting it to tensor: \", floats_to_tensor.type())"
      ],
      "execution_count": 6,
      "outputs": [
        {
          "output_type": "stream",
          "text": [
            "The dtype of tensor object after converting it to tensor:  torch.float32\n",
            "The type of tensor object after converting it to tensor:  torch.FloatTensor\n"
          ],
          "name": "stdout"
        }
      ]
    },
    {
      "cell_type": "markdown",
      "metadata": {
        "id": "6FIOSe-YkEhQ",
        "colab_type": "text"
      },
      "source": [
        "The float list is converted to a integer(signed) tensor."
      ]
    },
    {
      "cell_type": "code",
      "metadata": {
        "id": "4tF8Gn96kEhR",
        "colab_type": "code",
        "colab": {}
      },
      "source": [
        "list_floats=[0.0, 1.0, 2.0, 3.0, 4.0]\n",
        "\n",
        "floats_int_tensor=torch.tensor(list_floats,dtype=torch.int64)"
      ],
      "execution_count": 0,
      "outputs": []
    },
    {
      "cell_type": "code",
      "metadata": {
        "id": "N4bgQLqnkEhY",
        "colab_type": "code",
        "colab": {
          "base_uri": "https://localhost:8080/",
          "height": 50
        },
        "outputId": "520f9169-a051-42a9-cd14-66ace6ded62c"
      },
      "source": [
        "print(\"The dtype of tensor object is: \", floats_int_tensor.dtype)\n",
        "print(\"The type of tensor object is: \", floats_int_tensor.type())"
      ],
      "execution_count": 8,
      "outputs": [
        {
          "output_type": "stream",
          "text": [
            "The dtype of tensor object is:  torch.int64\n",
            "The type of tensor object is:  torch.LongTensor\n"
          ],
          "name": "stdout"
        }
      ]
    },
    {
      "cell_type": "markdown",
      "metadata": {
        "id": "AMYbF8zykEhf",
        "colab_type": "text"
      },
      "source": [
        "<b>Note: The elements in the list that will be converted to tensor must have the same type.</b>"
      ]
    },
    {
      "cell_type": "markdown",
      "metadata": {
        "id": "cwDfgeKpkEhg",
        "colab_type": "text"
      },
      "source": [
        "<!--Empty Space for separating topics-->"
      ]
    },
    {
      "cell_type": "markdown",
      "metadata": {
        "id": "Tqax1GCAkEhh",
        "colab_type": "text"
      },
      "source": [
        "From the previous examples, you see that <code>torch.tensor()</code> converts the list to the tensor type, which is similar to the original list type. However, what if you want to convert the list to a certain tensor type? <code>torch</code> contains the methods required to do this conversion. The following code  converts an integer list to float tensor:"
      ]
    },
    {
      "cell_type": "code",
      "metadata": {
        "id": "dZIHWydukEhi",
        "colab_type": "code",
        "colab": {
          "base_uri": "https://localhost:8080/",
          "height": 50
        },
        "outputId": "f8970f76-3089-4bde-9cd2-cfc0dfd402d3"
      },
      "source": [
        "# Convert a integer list with length 5 to float tensor\n",
        "\n",
        "new_float_tensor = torch.FloatTensor([0, 1, 2, 3, 4])\n",
        "\n",
        "print(\"The type of the new_float_tensor:\", new_float_tensor.type())\n",
        "new_float_tensor.dtype"
      ],
      "execution_count": 10,
      "outputs": [
        {
          "output_type": "stream",
          "text": [
            "The type of the new_float_tensor: torch.FloatTensor\n"
          ],
          "name": "stdout"
        },
        {
          "output_type": "execute_result",
          "data": {
            "text/plain": [
              "torch.float32"
            ]
          },
          "metadata": {
            "tags": []
          },
          "execution_count": 10
        }
      ]
    },
    {
      "cell_type": "markdown",
      "metadata": {
        "id": "jS1dg6XHkEhu",
        "colab_type": "text"
      },
      "source": [
        "You can also convert an existing tensor object (<code><i>tensor_obj</i></code>) to another tensor type. Convert the integer tensor to a float tensor:"
      ]
    },
    {
      "cell_type": "code",
      "metadata": {
        "id": "5Qn-w8cikEhw",
        "colab_type": "code",
        "colab": {
          "base_uri": "https://localhost:8080/",
          "height": 34
        },
        "outputId": "94ffa63c-54f9-41b6-e320-09e4e8019934"
      },
      "source": [
        "# Another method to convert the integer list to float tensor\n",
        "\n",
        "old_int_tensor = torch.tensor([0, 1, 2, 3, 4])\n",
        "new_float_tensor = old_int_tensor.type(torch.FloatTensor)\n",
        "print(\"The type of the new_float_tensor:\", new_float_tensor.type())"
      ],
      "execution_count": 11,
      "outputs": [
        {
          "output_type": "stream",
          "text": [
            "The type of the new_float_tensor: torch.FloatTensor\n"
          ],
          "name": "stdout"
        }
      ]
    },
    {
      "cell_type": "markdown",
      "metadata": {
        "id": "m8eGjIOlkEh5",
        "colab_type": "text"
      },
      "source": [
        "<!--Empty Space for separating topics-->"
      ]
    },
    {
      "cell_type": "markdown",
      "metadata": {
        "id": "2NvNlLewkEh6",
        "colab_type": "text"
      },
      "source": [
        "The <code><i>tensor_obj</i>.size()</code> helps you to find out the size of the <code><i>tensor_obj</i></code>.\n",
        "The <code><i>tensor_obj</i>.ndimension()</code> shows the dimension of the tensor object."
      ]
    },
    {
      "cell_type": "code",
      "metadata": {
        "id": "4BMJSh7UkEh8",
        "colab_type": "code",
        "colab": {
          "base_uri": "https://localhost:8080/",
          "height": 50
        },
        "outputId": "4368071a-b120-4ee7-d60c-77366d54ec6f"
      },
      "source": [
        "# Introduce the tensor_obj.size() & tensor_ndimension.size() methods\n",
        "\n",
        "print(\"The size of the new_float_tensor: \", new_float_tensor.size())\n",
        "print(\"The dimension of the new_float_tensor: \",new_float_tensor.ndimension())"
      ],
      "execution_count": 12,
      "outputs": [
        {
          "output_type": "stream",
          "text": [
            "The size of the new_float_tensor:  torch.Size([5])\n",
            "The dimension of the new_float_tensor:  1\n"
          ],
          "name": "stdout"
        }
      ]
    },
    {
      "cell_type": "markdown",
      "metadata": {
        "id": "UvQIIifKkEiE",
        "colab_type": "text"
      },
      "source": [
        "<!--Empty Space for separating topics-->"
      ]
    },
    {
      "cell_type": "markdown",
      "metadata": {
        "id": "-gzWQG5EkEiG",
        "colab_type": "text"
      },
      "source": [
        "The <code><i>tensor_obj</i>.view(<i>row, column</i>)</code> is used for reshaping a tensor object.<br>"
      ]
    },
    {
      "cell_type": "markdown",
      "metadata": {
        "id": "5BS7gq5dkEiI",
        "colab_type": "text"
      },
      "source": [
        "What if you have a tensor object with <code>torch.Size([5])</code> as a <code>new_float_tensor</code> as shown in the previous example?<br>\n",
        "After you execute <code>new_float_tensor.view(5, 1)</code>, the size of <code>new_float_tensor</code> will be <code>torch.Size([5, 1])</code>.<br>\n",
        "This means that the tensor object <code>new_float_tensor</code> has been reshaped from a one-dimensional  tensor object with 5 elements to a two-dimensional tensor object with 5 rows and 1 column."
      ]
    },
    {
      "cell_type": "code",
      "metadata": {
        "id": "SgOpFunDkEiJ",
        "colab_type": "code",
        "colab": {
          "base_uri": "https://localhost:8080/",
          "height": 50
        },
        "outputId": "4e50b9dc-af4f-43d1-faec-abd26d4ef795"
      },
      "source": [
        "# Introduce the tensor_obj.view(row, column) method\n",
        "\n",
        "twoD_float_tensor = new_float_tensor.view(5, 1)\n",
        "print(\"Original Size: \", new_float_tensor.size())\n",
        "print(\"Size after view method\", twoD_float_tensor.size())"
      ],
      "execution_count": 14,
      "outputs": [
        {
          "output_type": "stream",
          "text": [
            "Original Size:  torch.Size([5])\n",
            "Size after view method torch.Size([5, 1])\n"
          ],
          "name": "stdout"
        }
      ]
    },
    {
      "cell_type": "markdown",
      "metadata": {
        "id": "wewHSQF1kEiR",
        "colab_type": "text"
      },
      "source": [
        "Note that the original size is 5. The tensor after reshaping becomes a 5X1 tensor analog to a column vector."
      ]
    },
    {
      "cell_type": "markdown",
      "metadata": {
        "id": "M7QWieaNkEiS",
        "colab_type": "text"
      },
      "source": [
        "<b>Note: The number of elements in a tensor must remain constant after applying view.</b>"
      ]
    },
    {
      "cell_type": "markdown",
      "metadata": {
        "id": "-yR9oksbkEiT",
        "colab_type": "text"
      },
      "source": [
        "<!--Empty Space for separating topics-->"
      ]
    },
    {
      "cell_type": "markdown",
      "metadata": {
        "id": "UXG8H3UBkEiU",
        "colab_type": "text"
      },
      "source": [
        "What if you have a tensor with dynamic size but you want to reshape it? You can use <b>-1</b> to do just that."
      ]
    },
    {
      "cell_type": "code",
      "metadata": {
        "id": "oRMyF8XrkEiW",
        "colab_type": "code",
        "colab": {
          "base_uri": "https://localhost:8080/",
          "height": 118
        },
        "outputId": "586af632-e7ce-4713-c5cf-94d10841aad3"
      },
      "source": [
        "# Introduce the use of -1 in tensor_obj.view(row, column) method\n",
        "\n",
        "twoD_float_tensor = new_float_tensor.view(-1, 1)#as here we use -1 if we don't know about the actual size of tensors\n",
        "print(\"Original tensor: \", new_float_tensor)\n",
        "print(\"tensor after view method\", twoD_float_tensor)"
      ],
      "execution_count": 16,
      "outputs": [
        {
          "output_type": "stream",
          "text": [
            "Original tensor:  tensor([0., 1., 2., 3., 4.])\n",
            "tensor after view method tensor([[0.],\n",
            "        [1.],\n",
            "        [2.],\n",
            "        [3.],\n",
            "        [4.]])\n"
          ],
          "name": "stdout"
        }
      ]
    },
    {
      "cell_type": "markdown",
      "metadata": {
        "id": "pwb9xsYCkEib",
        "colab_type": "text"
      },
      "source": [
        "You get the same result as the previous example. The <b>-1</b> can represent any size. However, be careful because you can set only one argument as <b>-1</b>."
      ]
    },
    {
      "cell_type": "markdown",
      "metadata": {
        "id": "g-VGk0J3kEid",
        "colab_type": "text"
      },
      "source": [
        "<!--Empty Space for separating topics-->"
      ]
    },
    {
      "cell_type": "markdown",
      "metadata": {
        "id": "XqFUPIIkkEie",
        "colab_type": "text"
      },
      "source": [
        "You can also convert a <b>numpy</b> array to a <b>tensor</b>, for example: "
      ]
    },
    {
      "cell_type": "code",
      "metadata": {
        "id": "kuduKAhtkEif",
        "colab_type": "code",
        "colab": {
          "base_uri": "https://localhost:8080/",
          "height": 50
        },
        "outputId": "f646582f-9648-4988-ba6f-3cc58311ca92"
      },
      "source": [
        "# Convert a numpy array to a tensor\n",
        "\n",
        "numpy_array = np.array([0.0, 1.0, 2.0, 3.0, 4.0])\n",
        "new_tensor = torch.from_numpy(numpy_array)\n",
        "\n",
        "print(\"The dtype of new tensor: \", new_tensor.dtype)\n",
        "print(\"The type of new tensor: \", new_tensor.type())"
      ],
      "execution_count": 17,
      "outputs": [
        {
          "output_type": "stream",
          "text": [
            "The dtype of new tensor:  torch.float64\n",
            "The type of new tensor:  torch.DoubleTensor\n"
          ],
          "name": "stdout"
        }
      ]
    },
    {
      "cell_type": "markdown",
      "metadata": {
        "id": "pPjJzGXUkEil",
        "colab_type": "text"
      },
      "source": [
        "<!--Empty Space for separating topics-->"
      ]
    },
    {
      "cell_type": "markdown",
      "metadata": {
        "id": "QmSAUxkukEim",
        "colab_type": "text"
      },
      "source": [
        "Converting a <b>tensor</b> to a <b>numpy</b> is also supported in PyTorch. The syntax is shown below:"
      ]
    },
    {
      "cell_type": "code",
      "metadata": {
        "id": "rw4HfyockEin",
        "colab_type": "code",
        "colab": {
          "base_uri": "https://localhost:8080/",
          "height": 50
        },
        "outputId": "8e0e3389-e5c6-44d4-ed5c-5fb7a76cb8e5"
      },
      "source": [
        "# Convert a tensor to a numpy array\n",
        "\n",
        "back_to_numpy = new_tensor.numpy()\n",
        "print(\"The numpy array from tensor: \", back_to_numpy)\n",
        "print(\"The dtype of numpy array: \", back_to_numpy.dtype)"
      ],
      "execution_count": 18,
      "outputs": [
        {
          "output_type": "stream",
          "text": [
            "The numpy array from tensor:  [0. 1. 2. 3. 4.]\n",
            "The dtype of numpy array:  float64\n"
          ],
          "name": "stdout"
        }
      ]
    },
    {
      "cell_type": "markdown",
      "metadata": {
        "id": "b4rbKVdykEiw",
        "colab_type": "text"
      },
      "source": [
        "<code>back_to_numpy</code> and <code>new_tensor</code> still point to <code>numpy_array</code>. As a result if we change <code>numpy_array</code> both <code>back_to_numpy</code> and <code>new_tensor</code> will change. For example if we set all the elements in <code>numpy_array</code> to zeros, <code>back_to_numpy</code> and <code> new_tensor</code> will follow suit."
      ]
    },
    {
      "cell_type": "code",
      "metadata": {
        "id": "o7Vm9IakkEix",
        "colab_type": "code",
        "colab": {
          "base_uri": "https://localhost:8080/",
          "height": 50
        },
        "outputId": "d71a81ad-f6a1-4bd2-f5ab-98eb9dbb9bdc"
      },
      "source": [
        "# Set all elements in numpy array to zero \n",
        "numpy_array[:] = 0\n",
        "print(\"The new tensor points to numpy_array : \", new_tensor)\n",
        "print(\"and back to numpy array points to the new_tensor: \", back_to_numpy)"
      ],
      "execution_count": 19,
      "outputs": [
        {
          "output_type": "stream",
          "text": [
            "The new tensor points to numpy_array :  tensor([0., 0., 0., 0., 0.], dtype=torch.float64)\n",
            "and back to numpy array points to the new_tensor:  [0. 0. 0. 0. 0.]\n"
          ],
          "name": "stdout"
        }
      ]
    },
    {
      "cell_type": "markdown",
      "metadata": {
        "id": "QB4Hxe0nkEi5",
        "colab_type": "text"
      },
      "source": [
        "<!--Empty Space for separating topics-->"
      ]
    },
    {
      "cell_type": "markdown",
      "metadata": {
        "id": "PFheQB6bkEi8",
        "colab_type": "text"
      },
      "source": [
        "<b>Pandas Series</b> can also be converted by using the numpy array that is stored in <code>pandas_series.values</code>. Note that <code>pandas_series</code> can be any pandas_series object. "
      ]
    },
    {
      "cell_type": "code",
      "metadata": {
        "id": "gqmWk-G9kEi9",
        "colab_type": "code",
        "colab": {
          "base_uri": "https://localhost:8080/",
          "height": 67
        },
        "outputId": "16028475-8116-48ff-f881-3231ced7d0e1"
      },
      "source": [
        "# Convert a panda series to a tensor\n",
        "\n",
        "pandas_series=pd.Series([0.1, 2, 0.3, 10.1])\n",
        "new_tensor=torch.from_numpy(pandas_series.values)\n",
        "print(\"The new tensor from numpy array: \", new_tensor)\n",
        "print(\"The dtype of new tensor: \", new_tensor.dtype)\n",
        "print(\"The type of new tensor: \", new_tensor.type())"
      ],
      "execution_count": 20,
      "outputs": [
        {
          "output_type": "stream",
          "text": [
            "The new tensor from numpy array:  tensor([ 0.1000,  2.0000,  0.3000, 10.1000], dtype=torch.float64)\n",
            "The dtype of new tensor:  torch.float64\n",
            "The type of new tensor:  torch.DoubleTensor\n"
          ],
          "name": "stdout"
        }
      ]
    },
    {
      "cell_type": "markdown",
      "metadata": {
        "id": "jnxdaHPHkEjG",
        "colab_type": "text"
      },
      "source": [
        "consider the following tensor "
      ]
    },
    {
      "cell_type": "code",
      "metadata": {
        "id": "_izzAi4kkEjH",
        "colab_type": "code",
        "colab": {}
      },
      "source": [
        "this_tensor=torch.tensor([0,1, 2,3]) "
      ],
      "execution_count": 0,
      "outputs": []
    },
    {
      "cell_type": "markdown",
      "metadata": {
        "id": "r2FhnC4NkEjO",
        "colab_type": "text"
      },
      "source": [
        "The method <code>item()</code> returns the value of this tensor as a standard Python number. This only works for one element. "
      ]
    },
    {
      "cell_type": "code",
      "metadata": {
        "id": "ScRqBN3BkEjQ",
        "colab_type": "code",
        "colab": {
          "base_uri": "https://localhost:8080/",
          "height": 67
        },
        "outputId": "07b43c2e-424f-4bff-c96e-8306534554c5"
      },
      "source": [
        "this_tensor=torch.tensor([0,1, 2,3]) \n",
        "\n",
        "print(\"the first item is given by\",this_tensor[0].item(),\"the first tensor value is given by \",this_tensor[0])\n",
        "print(\"the second item is given by\",this_tensor[1].item(),\"the second tensor value is given by \",this_tensor[1])\n",
        "print(\"the third  item is given by\",this_tensor[2].item(),\"the third tensor value is given by \",this_tensor[2])"
      ],
      "execution_count": 22,
      "outputs": [
        {
          "output_type": "stream",
          "text": [
            "the first item is given by 0 the first tensor value is given by  tensor(0)\n",
            "the second item is given by 1 the second tensor value is given by  tensor(1)\n",
            "the third  item is given by 2 the third tensor value is given by  tensor(2)\n"
          ],
          "name": "stdout"
        }
      ]
    },
    {
      "cell_type": "markdown",
      "metadata": {
        "id": "IS5vjW3ZkEjX",
        "colab_type": "text"
      },
      "source": [
        "we can use the method <code> tolist()</code> to return a list "
      ]
    },
    {
      "cell_type": "code",
      "metadata": {
        "id": "DO8VomEpkEjZ",
        "colab_type": "code",
        "colab": {
          "base_uri": "https://localhost:8080/",
          "height": 50
        },
        "outputId": "1eac6fb7-cd7f-4c46-fab6-05010ad00d93"
      },
      "source": [
        "torch_to_list=this_tensor.tolist()\n",
        "\n",
        "print('tensor:', this_tensor,\"\\nlist:\",torch_to_list)"
      ],
      "execution_count": 23,
      "outputs": [
        {
          "output_type": "stream",
          "text": [
            "tensor: tensor([0, 1, 2, 3]) \n",
            "list: [0, 1, 2, 3]\n"
          ],
          "name": "stdout"
        }
      ]
    },
    {
      "cell_type": "markdown",
      "metadata": {
        "id": "PcQTLQ5YkEjf",
        "colab_type": "text"
      },
      "source": [
        "<!--Empty Space for separating topics-->"
      ]
    },
    {
      "cell_type": "markdown",
      "metadata": {
        "id": "rJNuyuTJkEjj",
        "colab_type": "text"
      },
      "source": [
        "<h3>Practice</h3>"
      ]
    },
    {
      "cell_type": "markdown",
      "metadata": {
        "id": "y6CEuLjvkEjk",
        "colab_type": "text"
      },
      "source": [
        "Try to convert <code>your_tensor</code> to a 1X5 tensor."
      ]
    },
    {
      "cell_type": "code",
      "metadata": {
        "id": "25ecPKebkEjm",
        "colab_type": "code",
        "colab": {
          "base_uri": "https://localhost:8080/",
          "height": 50
        },
        "outputId": "6d8fc0d8-a444-4a7d-a102-1fb24f254422"
      },
      "source": [
        "# Practice: convert the following tensor to a tensor object with 1 row and 5 columns\n",
        "\n",
        "your_tensor = torch.tensor([1, 2, 3, 4, 5])\n",
        "new_your_tensor=your_tensor.view(1,5)\n",
        "print(new_your_tensor)\n",
        "print(new_your_tensor.size())\n"
      ],
      "execution_count": 26,
      "outputs": [
        {
          "output_type": "stream",
          "text": [
            "tensor([[1, 2, 3, 4, 5]])\n",
            "torch.Size([1, 5])\n"
          ],
          "name": "stdout"
        }
      ]
    },
    {
      "cell_type": "markdown",
      "metadata": {
        "id": "d40c_vuJkEjx",
        "colab_type": "text"
      },
      "source": [
        "<!--Empty Space for separating topics-->"
      ]
    },
    {
      "cell_type": "markdown",
      "metadata": {
        "id": "jqvp1ksQkEjy",
        "colab_type": "text"
      },
      "source": [
        "<h2 id=\"Index_Slice\">Indexing and Slicing</h2>"
      ]
    },
    {
      "cell_type": "markdown",
      "metadata": {
        "id": "qqMduFydkEj0",
        "colab_type": "text"
      },
      "source": [
        "In Python, <b>the index starts with 0</b>. Therefore, the last index will always be 1 less than the length of the tensor object.\n",
        "You can access the value on a certain index by using the square bracket, for example:"
      ]
    },
    {
      "cell_type": "code",
      "metadata": {
        "id": "_v9wk00ykEj1",
        "colab_type": "code",
        "colab": {
          "base_uri": "https://localhost:8080/",
          "height": 101
        },
        "outputId": "0c1b2330-4cda-4f14-caf2-4180a9176caa"
      },
      "source": [
        "# A tensor for showing how the indexs work on tensors\n",
        "\n",
        "index_tensor = torch.tensor([0, 1, 2, 3, 4])\n",
        "print(\"The value on index 0:\",index_tensor[0])\n",
        "print(\"The value on index 1:\",index_tensor[1])\n",
        "print(\"The value on index 2:\",index_tensor[2])\n",
        "print(\"The value on index 3:\",index_tensor[3])\n",
        "print(\"The value on index 4:\",index_tensor[4])"
      ],
      "execution_count": 27,
      "outputs": [
        {
          "output_type": "stream",
          "text": [
            "The value on index 0: tensor(0)\n",
            "The value on index 1: tensor(1)\n",
            "The value on index 2: tensor(2)\n",
            "The value on index 3: tensor(3)\n",
            "The value on index 4: tensor(4)\n"
          ],
          "name": "stdout"
        }
      ]
    },
    {
      "cell_type": "markdown",
      "metadata": {
        "id": "3UDVd9dDkEj8",
        "colab_type": "text"
      },
      "source": [
        "<b>Note that the <code>index_tensor[5]</code> will create an error.</b>"
      ]
    },
    {
      "cell_type": "markdown",
      "metadata": {
        "id": "HuOgs7F7kEj9",
        "colab_type": "text"
      },
      "source": [
        "<!--Empty Space for separating topics-->"
      ]
    },
    {
      "cell_type": "markdown",
      "metadata": {
        "id": "y63bHJbGkEj_",
        "colab_type": "text"
      },
      "source": [
        "The index is shown in the following figure: "
      ]
    },
    {
      "cell_type": "markdown",
      "metadata": {
        "id": "vJwjuqAxkEkA",
        "colab_type": "text"
      },
      "source": [
        "<img src=\"https://s3-api.us-geo.objectstorage.softlayer.net/cf-courses-data/CognitiveClass/DL0110EN/notebook_images%20/chapter%201/idex_1.png\" width=\"500\" alt=\"Python Index\" />"
      ]
    },
    {
      "cell_type": "markdown",
      "metadata": {
        "id": "0IgCbqq4kEkC",
        "colab_type": "text"
      },
      "source": [
        "<!--Empty Space for separating topics-->"
      ]
    },
    {
      "cell_type": "markdown",
      "metadata": {
        "id": "DiXrf8GTkEkD",
        "colab_type": "text"
      },
      "source": [
        "Now, you'll see how to change the values on certain indexes."
      ]
    },
    {
      "cell_type": "markdown",
      "metadata": {
        "id": "TbisZObFkEkF",
        "colab_type": "text"
      },
      "source": [
        "Suppose you have a tensor as shown here: "
      ]
    },
    {
      "cell_type": "code",
      "metadata": {
        "jupyter": {
          "outputs_hidden": false
        },
        "id": "AhZqVsOMkEkG",
        "colab_type": "code",
        "colab": {}
      },
      "source": [
        "# A tensor for showing how to change value according to the index\n",
        "\n",
        "tensor_sample = torch.tensor([20, 1, 2, 3, 4])"
      ],
      "execution_count": 0,
      "outputs": []
    },
    {
      "cell_type": "markdown",
      "metadata": {
        "id": "VETPeM5okEkO",
        "colab_type": "text"
      },
      "source": [
        "Assign the value on index 0 as 100:"
      ]
    },
    {
      "cell_type": "code",
      "metadata": {
        "jupyter": {
          "outputs_hidden": false
        },
        "id": "Y3wLi-FBkEkP",
        "colab_type": "code",
        "colab": {
          "base_uri": "https://localhost:8080/",
          "height": 50
        },
        "outputId": "2b52b27c-f57f-4cf3-fcdd-e2c965efab0b"
      },
      "source": [
        "# Change the value on the index 0 to 100\n",
        "\n",
        "print(\"Inital value on index 0:\", tensor_sample[0])\n",
        "tensor_sample[0] = 100\n",
        "print(\"Modified tensor:\", tensor_sample)"
      ],
      "execution_count": 30,
      "outputs": [
        {
          "output_type": "stream",
          "text": [
            "Inital value on index 0: tensor(20)\n",
            "Modified tensor: tensor([100,   1,   2,   3,   4])\n"
          ],
          "name": "stdout"
        }
      ]
    },
    {
      "cell_type": "markdown",
      "metadata": {
        "id": "rotgW_mQkEkU",
        "colab_type": "text"
      },
      "source": [
        "As you can see, the value on index 0 changes. Change the value on index 4 to 0:"
      ]
    },
    {
      "cell_type": "code",
      "metadata": {
        "jupyter": {
          "outputs_hidden": false
        },
        "id": "FDlCXVfakEkV",
        "colab_type": "code",
        "colab": {
          "base_uri": "https://localhost:8080/",
          "height": 50
        },
        "outputId": "df0626b9-ad7c-48a6-d11e-894cf699fba7"
      },
      "source": [
        "# Change the value on the index 4 to 0\n",
        "\n",
        "print(\"Inital value on index 4:\", tensor_sample[4])\n",
        "tensor_sample[4] = 0\n",
        "print(\"Modified tensor:\", tensor_sample)"
      ],
      "execution_count": 31,
      "outputs": [
        {
          "output_type": "stream",
          "text": [
            "Inital value on index 4: tensor(4)\n",
            "Modified tensor: tensor([100,   1,   2,   3,   0])\n"
          ],
          "name": "stdout"
        }
      ]
    },
    {
      "cell_type": "markdown",
      "metadata": {
        "id": "7qLgv5zBkEkZ",
        "colab_type": "text"
      },
      "source": [
        "The value on index 4 turns to 0."
      ]
    },
    {
      "cell_type": "markdown",
      "metadata": {
        "id": "TYJR45wvkEka",
        "colab_type": "text"
      },
      "source": [
        "<!--Empty Space for separating topics-->"
      ]
    },
    {
      "cell_type": "markdown",
      "metadata": {
        "id": "y2TXJTX6kEka",
        "colab_type": "text"
      },
      "source": [
        "If you are familiar with Python, you know that there is a feature called slicing on a list. Tensors support the same feature. "
      ]
    },
    {
      "cell_type": "markdown",
      "metadata": {
        "id": "0gH0rzMSkEkb",
        "colab_type": "text"
      },
      "source": [
        "Get the subset of <code>tensor_sample</code>. The subset should contain the values in <code>tensor_sample</code> from index 1 to index 3."
      ]
    },
    {
      "cell_type": "code",
      "metadata": {
        "jupyter": {
          "outputs_hidden": false
        },
        "id": "vc2HFaXikEkc",
        "colab_type": "code",
        "colab": {
          "base_uri": "https://localhost:8080/",
          "height": 50
        },
        "outputId": "ece4bc02-d19c-47f4-8924-a32bb6442e4b"
      },
      "source": [
        "# Slice tensor_sample\n",
        "\n",
        "subset_tensor_sample = tensor_sample[1:4]\n",
        "print(\"Original tensor sample: \", tensor_sample)\n",
        "print(\"The subset of tensor sample:\", subset_tensor_sample)"
      ],
      "execution_count": 32,
      "outputs": [
        {
          "output_type": "stream",
          "text": [
            "Original tensor sample:  tensor([100,   1,   2,   3,   0])\n",
            "The subset of tensor sample: tensor([1, 2, 3])\n"
          ],
          "name": "stdout"
        }
      ]
    },
    {
      "cell_type": "markdown",
      "metadata": {
        "id": "I5308VdDkEkf",
        "colab_type": "text"
      },
      "source": [
        "As a result, the <code>subset_tensor_sample</code> returned only the values on index 1, index 2, and index 3. Then, it stored them in a <code>subset_tensor_sample</code>."
      ]
    },
    {
      "cell_type": "markdown",
      "metadata": {
        "id": "xF0APtXLkEkg",
        "colab_type": "text"
      },
      "source": [
        "<b>Note: The number on the left side of the colon represents the index of the first value. The number on the right side of the colon is always 1 larger than the index of the last value. For example, <code>tensor_sample[1:4]</code> means you get values from the index 1 to index 3 <i>(4-1)</i></b>."
      ]
    },
    {
      "cell_type": "markdown",
      "metadata": {
        "id": "zK6k6ojHkEkg",
        "colab_type": "text"
      },
      "source": [
        "<!--Empty Space for separating topics-->"
      ]
    },
    {
      "cell_type": "markdown",
      "metadata": {
        "id": "cLkbk49akEkh",
        "colab_type": "text"
      },
      "source": [
        "As for assigning values to the certain index, you can also assign the value to the slices:"
      ]
    },
    {
      "cell_type": "markdown",
      "metadata": {
        "id": "DF8_8s1JkEkh",
        "colab_type": "text"
      },
      "source": [
        "Change the value of <code>tensor_sample</code> from index 3 to index 4:"
      ]
    },
    {
      "cell_type": "code",
      "metadata": {
        "id": "xaNhh0P3kEkj",
        "colab_type": "code",
        "colab": {
          "base_uri": "https://localhost:8080/",
          "height": 50
        },
        "outputId": "eba58822-c631-4115-b309-306697dc9a63"
      },
      "source": [
        "# Change the values on index 3 and index 4\n",
        "\n",
        "print(\"Inital value on index 3 and index 4:\", tensor_sample[3:5])\n",
        "tensor_sample[3:5] = torch.tensor([300.0, 400.0])\n",
        "print(\"Modified tensor:\", tensor_sample)"
      ],
      "execution_count": 33,
      "outputs": [
        {
          "output_type": "stream",
          "text": [
            "Inital value on index 3 and index 4: tensor([3, 0])\n",
            "Modified tensor: tensor([100,   1,   2, 300, 400])\n"
          ],
          "name": "stdout"
        }
      ]
    },
    {
      "cell_type": "markdown",
      "metadata": {
        "id": "ywB01ujkkEkn",
        "colab_type": "text"
      },
      "source": [
        "The values on both index 3 and index 4 were changed. The values on other indexes remain the same."
      ]
    },
    {
      "cell_type": "markdown",
      "metadata": {
        "id": "Fn1CDvtzkEko",
        "colab_type": "text"
      },
      "source": [
        "<!--Empty Space for separating topics-->"
      ]
    },
    {
      "cell_type": "markdown",
      "metadata": {
        "id": "MN6OCU8gkEkp",
        "colab_type": "text"
      },
      "source": [
        "You can also use a variable to contain the selected indexes and pass that variable to a tensor slice operation as a parameter, for example:  "
      ]
    },
    {
      "cell_type": "code",
      "metadata": {
        "jupyter": {
          "outputs_hidden": true
        },
        "id": "pTmOfcRokEkp",
        "colab_type": "code",
        "colab": {
          "base_uri": "https://localhost:8080/",
          "height": 50
        },
        "outputId": "cf0518bc-a40b-4f09-dcb3-76dfc95747da"
      },
      "source": [
        "# Using variable to contain the selected index, and pass it to slice operation\n",
        "\n",
        "selected_indexes = [3, 4]\n",
        "subset_tensor_sample = tensor_sample[selected_indexes]\n",
        "print(\"The inital tensor_sample\", tensor_sample)\n",
        "print(\"The subset of tensor_sample with the values on index 3 and 4: \", subset_tensor_sample)"
      ],
      "execution_count": 35,
      "outputs": [
        {
          "output_type": "stream",
          "text": [
            "The inital tensor_sample tensor([   100, 100000,      2, 100000,    400])\n",
            "The subset of tensor_sample with the values on index 3 and 4:  tensor([100000,    400])\n"
          ],
          "name": "stdout"
        }
      ]
    },
    {
      "cell_type": "markdown",
      "metadata": {
        "id": "Hix5VG3hkEkv",
        "colab_type": "text"
      },
      "source": [
        "<!--Empty Space for separating topics-->"
      ]
    },
    {
      "cell_type": "markdown",
      "metadata": {
        "id": "9fjUScdjkEkw",
        "colab_type": "text"
      },
      "source": [
        "You can also assign one value to the selected indexes by using the variable. For example, assign 100,000 to all the <code>selected_indexes</code>:"
      ]
    },
    {
      "cell_type": "code",
      "metadata": {
        "jupyter": {
          "outputs_hidden": false
        },
        "id": "jhYHOC6jkEkw",
        "colab_type": "code",
        "colab": {
          "base_uri": "https://localhost:8080/",
          "height": 50
        },
        "outputId": "42b055fc-e57e-49c1-86ed-ed4fe409db7e"
      },
      "source": [
        "#Using variable to assign the value to the selected indexes\n",
        "\n",
        "print(\"The inital tensor_sample\", tensor_sample)\n",
        "selected_indexes = [1, 3]\n",
        "tensor_sample[selected_indexes] = 100000\n",
        "print(\"Modified tensor with one value: \", tensor_sample)"
      ],
      "execution_count": 34,
      "outputs": [
        {
          "output_type": "stream",
          "text": [
            "The inital tensor_sample tensor([100,   1,   2, 300, 400])\n",
            "Modified tensor with one value:  tensor([   100, 100000,      2, 100000,    400])\n"
          ],
          "name": "stdout"
        }
      ]
    },
    {
      "cell_type": "markdown",
      "metadata": {
        "id": "rzS5ObfEkEk0",
        "colab_type": "text"
      },
      "source": [
        "The values on index 1 and index 3 were changed to 100,000. Others remain the same."
      ]
    },
    {
      "cell_type": "markdown",
      "metadata": {
        "id": "OB_prefNkEk1",
        "colab_type": "text"
      },
      "source": [
        "<b>Note: You can use only one value for the assignment.</b>"
      ]
    },
    {
      "cell_type": "markdown",
      "metadata": {
        "id": "iY0CO6JkkEk1",
        "colab_type": "text"
      },
      "source": [
        "<!--Empty Space for separating topics-->"
      ]
    },
    {
      "cell_type": "markdown",
      "metadata": {
        "id": "4prOPsKFkEk2",
        "colab_type": "text"
      },
      "source": [
        "<h3>Practice</h3>"
      ]
    },
    {
      "cell_type": "markdown",
      "metadata": {
        "id": "S9JE5MvWkEk3",
        "colab_type": "text"
      },
      "source": [
        "Try to change the values on index 3, 4, 7 of the following tensor to 0."
      ]
    },
    {
      "cell_type": "code",
      "metadata": {
        "id": "SO6Y_odjkEk3",
        "colab_type": "code",
        "colab": {
          "base_uri": "https://localhost:8080/",
          "height": 34
        },
        "outputId": "a6b86020-c9fa-47ec-c624-b70b8238a5fa"
      },
      "source": [
        "# Practice: Change the values on index 3, 4, 7 to 0\n",
        "\n",
        "practice_tensor = torch.tensor([2, 7, 3, 4, 6, 2, 3, 1, 2])\n",
        "selectedINDX=[3,4,7]\n",
        "practice_tensor[selectedINDX]=0\n",
        "print(\"new practice tensor\",practice_tensor)"
      ],
      "execution_count": 37,
      "outputs": [
        {
          "output_type": "stream",
          "text": [
            "new practice tensor tensor([2, 7, 3, 0, 0, 2, 3, 0, 2])\n"
          ],
          "name": "stdout"
        }
      ]
    },
    {
      "cell_type": "markdown",
      "metadata": {
        "id": "CIBiOlCKkEk7",
        "colab_type": "text"
      },
      "source": [
        "<!--Empty Space for separating topics-->"
      ]
    },
    {
      "cell_type": "markdown",
      "metadata": {
        "id": "DaO9PhDAkEk7",
        "colab_type": "text"
      },
      "source": [
        "<h2 id=\"Tensor_Func\">Tensor Functions</h2>"
      ]
    },
    {
      "cell_type": "markdown",
      "metadata": {
        "id": "iqQ6nf2FkEk8",
        "colab_type": "text"
      },
      "source": [
        "For this section, you'll work with some methods that you can apply to tensor objects."
      ]
    },
    {
      "cell_type": "markdown",
      "metadata": {
        "id": "zEuzRuIckEk8",
        "colab_type": "text"
      },
      "source": [
        "<h3>Mean and Standard Deviation</h3>"
      ]
    },
    {
      "cell_type": "markdown",
      "metadata": {
        "id": "-qNvkozWkEk9",
        "colab_type": "text"
      },
      "source": [
        "You'll review the mean and standard deviation methods first. They are two basic statistical methods."
      ]
    },
    {
      "cell_type": "markdown",
      "metadata": {
        "id": "cL7yiYC2kEk9",
        "colab_type": "text"
      },
      "source": [
        "<!--Empty Space for separating topics-->"
      ]
    },
    {
      "cell_type": "markdown",
      "metadata": {
        "id": "XBiOVvHukEk-",
        "colab_type": "text"
      },
      "source": [
        "Create a tensor with values <i>[1.0, -1, 1, -1]</i>:"
      ]
    },
    {
      "cell_type": "code",
      "metadata": {
        "jupyter": {
          "outputs_hidden": true
        },
        "id": "qrb3_10-kEk_",
        "colab_type": "code",
        "colab": {
          "base_uri": "https://localhost:8080/",
          "height": 34
        },
        "outputId": "b0e8ca91-b069-4663-f685-8dad7405d1e3"
      },
      "source": [
        "# Sample tensor for mathmatic calculation methods on tensor\n",
        "\n",
        "math_tensor = torch.tensor([1.0, -1.0, 1, -1])\n",
        "print(\"Tensor example: \", math_tensor)"
      ],
      "execution_count": 38,
      "outputs": [
        {
          "output_type": "stream",
          "text": [
            "Tensor example:  tensor([ 1., -1.,  1., -1.])\n"
          ],
          "name": "stdout"
        }
      ]
    },
    {
      "cell_type": "markdown",
      "metadata": {
        "id": "akoH_JqdkElD",
        "colab_type": "text"
      },
      "source": [
        "<!--Empty Space for separating topics-->"
      ]
    },
    {
      "cell_type": "markdown",
      "metadata": {
        "id": "11PKGFT0kElD",
        "colab_type": "text"
      },
      "source": [
        "Here is the mean method:  "
      ]
    },
    {
      "cell_type": "code",
      "metadata": {
        "jupyter": {
          "outputs_hidden": false
        },
        "id": "XyrUNOHBkElE",
        "colab_type": "code",
        "colab": {
          "base_uri": "https://localhost:8080/",
          "height": 34
        },
        "outputId": "17e9d6df-ebe9-4c59-e950-298d99058861"
      },
      "source": [
        "#Calculate the mean for math_tensor\n",
        "\n",
        "mean = math_tensor.mean()\n",
        "print(\"The mean of math_tensor: \", mean)"
      ],
      "execution_count": 39,
      "outputs": [
        {
          "output_type": "stream",
          "text": [
            "The mean of math_tensor:  tensor(0.)\n"
          ],
          "name": "stdout"
        }
      ]
    },
    {
      "cell_type": "markdown",
      "metadata": {
        "id": "KTqLJWrZkElJ",
        "colab_type": "text"
      },
      "source": [
        "<!--Empty Space for separating topics-->"
      ]
    },
    {
      "cell_type": "markdown",
      "metadata": {
        "id": "UboiKXnbkElK",
        "colab_type": "text"
      },
      "source": [
        "The standard deviation can also be calculated by using <code><i>tensor_obj</i>.std()</code>:"
      ]
    },
    {
      "cell_type": "code",
      "metadata": {
        "jupyter": {
          "outputs_hidden": false
        },
        "id": "feP6RFMWkElK",
        "colab_type": "code",
        "colab": {
          "base_uri": "https://localhost:8080/",
          "height": 34
        },
        "outputId": "3bd79e63-ef2d-4bc1-e295-6ae6a3e938db"
      },
      "source": [
        "#Calculate the standard deviation for math_tensor\n",
        "\n",
        "standard_deviation = math_tensor.std()\n",
        "print(\"The standard deviation of math_tensor: \", standard_deviation)"
      ],
      "execution_count": 40,
      "outputs": [
        {
          "output_type": "stream",
          "text": [
            "The standard deviation of math_tensor:  tensor(1.1547)\n"
          ],
          "name": "stdout"
        }
      ]
    },
    {
      "cell_type": "markdown",
      "metadata": {
        "id": "jSVWln05kElN",
        "colab_type": "text"
      },
      "source": [
        "<!--Empty Space for separating topics-->"
      ]
    },
    {
      "cell_type": "markdown",
      "metadata": {
        "id": "TTaJiCR8kElN",
        "colab_type": "text"
      },
      "source": [
        "<h3>Max and Min</h3>"
      ]
    },
    {
      "cell_type": "markdown",
      "metadata": {
        "id": "2ezbhoKZkElP",
        "colab_type": "text"
      },
      "source": [
        "Now, you'll review another two useful methods: <code><i>tensor_obj</i>.max()</code> and <code><i>tensor_obj</i>.min()</code>. These two methods are used for finding the maximum value and the minimum value in the tensor."
      ]
    },
    {
      "cell_type": "markdown",
      "metadata": {
        "id": "guML1TQxkElQ",
        "colab_type": "text"
      },
      "source": [
        "<!--Empty Space for separating topics-->"
      ]
    },
    {
      "cell_type": "markdown",
      "metadata": {
        "id": "wW-Oqz-kkElQ",
        "colab_type": "text"
      },
      "source": [
        "Create a <code>max_min_tensor</code>: "
      ]
    },
    {
      "cell_type": "code",
      "metadata": {
        "jupyter": {
          "outputs_hidden": false
        },
        "id": "3fnwgohMkElR",
        "colab_type": "code",
        "colab": {
          "base_uri": "https://localhost:8080/",
          "height": 34
        },
        "outputId": "ae4c1b69-b58a-4afd-a17f-3ccfce199448"
      },
      "source": [
        "# Sample for introducing max and min methods\n",
        "\n",
        "max_min_tensor = torch.tensor([1, 1, 3, 5, 5])\n",
        "print(\"Tensor example: \", max_min_tensor)"
      ],
      "execution_count": 41,
      "outputs": [
        {
          "output_type": "stream",
          "text": [
            "Tensor example:  tensor([1, 1, 3, 5, 5])\n"
          ],
          "name": "stdout"
        }
      ]
    },
    {
      "cell_type": "markdown",
      "metadata": {
        "id": "wICGfFq9kElW",
        "colab_type": "text"
      },
      "source": [
        "<b>Note: There are two minimum numbers as 1 and two maximum numbers as 5 in the tensor. Can you guess how PyTorch is going to deal with the duplicates?</b>"
      ]
    },
    {
      "cell_type": "markdown",
      "metadata": {
        "id": "N7-byrP_kElX",
        "colab_type": "text"
      },
      "source": [
        "<!--Empty Space for separating topics-->"
      ]
    },
    {
      "cell_type": "markdown",
      "metadata": {
        "id": "GqYjdpSekElX",
        "colab_type": "text"
      },
      "source": [
        "Apply <code><i>tensor_obj</i>.max()</code> on <code>max_min_tensor</code>:"
      ]
    },
    {
      "cell_type": "code",
      "metadata": {
        "jupyter": {
          "outputs_hidden": false
        },
        "id": "2iWrl3_fkElX",
        "colab_type": "code",
        "colab": {
          "base_uri": "https://localhost:8080/",
          "height": 34
        },
        "outputId": "48950a8f-8b5a-4571-8027-040f6c1d17bf"
      },
      "source": [
        "# Method for finding the maximum value in the tensor\n",
        "\n",
        "max_val = max_min_tensor.max()\n",
        "print(\"Maximum number in the tensor: \", max_val)"
      ],
      "execution_count": 42,
      "outputs": [
        {
          "output_type": "stream",
          "text": [
            "Maximum number in the tensor:  tensor(5)\n"
          ],
          "name": "stdout"
        }
      ]
    },
    {
      "cell_type": "markdown",
      "metadata": {
        "id": "Jqx20xrqkElc",
        "colab_type": "text"
      },
      "source": [
        "The answer is <code>tensor(5)</code>. Therefore, the method <code><i>tensor_obj</i>.max()</code> is grabbing the maximum value but not the elements that contain the maximum value in the tensor."
      ]
    },
    {
      "cell_type": "code",
      "metadata": {
        "id": "w2XUGjr-kElc",
        "colab_type": "code",
        "colab": {
          "base_uri": "https://localhost:8080/",
          "height": 34
        },
        "outputId": "47122112-7686-4e61-96cf-75591c99f6fa"
      },
      "source": [
        " max_min_tensor.max()"
      ],
      "execution_count": 43,
      "outputs": [
        {
          "output_type": "execute_result",
          "data": {
            "text/plain": [
              "tensor(5)"
            ]
          },
          "metadata": {
            "tags": []
          },
          "execution_count": 43
        }
      ]
    },
    {
      "cell_type": "markdown",
      "metadata": {
        "id": "IDYBD5-nkEle",
        "colab_type": "text"
      },
      "source": [
        "<!--Empty Space for separating topics-->"
      ]
    },
    {
      "cell_type": "markdown",
      "metadata": {
        "id": "BtChzSrSkElf",
        "colab_type": "text"
      },
      "source": [
        "Use <code><i>tensor_obj</i>.min()</code> on <code>max_min_tensor</code>:"
      ]
    },
    {
      "cell_type": "code",
      "metadata": {
        "jupyter": {
          "outputs_hidden": false
        },
        "id": "DZwBUsNPkElf",
        "colab_type": "code",
        "colab": {
          "base_uri": "https://localhost:8080/",
          "height": 34
        },
        "outputId": "6fe737c6-729f-4295-f583-69f1791c6862"
      },
      "source": [
        "# Method for finding the minimum value in the tensor\n",
        "\n",
        "min_val = max_min_tensor.min()\n",
        "print(\"Minimum number in the tensor: \", min_val)"
      ],
      "execution_count": 44,
      "outputs": [
        {
          "output_type": "stream",
          "text": [
            "Minimum number in the tensor:  tensor(1)\n"
          ],
          "name": "stdout"
        }
      ]
    },
    {
      "cell_type": "markdown",
      "metadata": {
        "id": "hnULye50kElj",
        "colab_type": "text"
      },
      "source": [
        "The answer is <code>tensor(1)</code>. Therefore, the method <code><i>tensor_obj</i>.min()</code> is grabbing the minimum value but not the elements that contain the minimum value in the tensor."
      ]
    },
    {
      "cell_type": "markdown",
      "metadata": {
        "id": "-aniez84kElk",
        "colab_type": "text"
      },
      "source": [
        "<!--Empty Space for separating topics-->"
      ]
    },
    {
      "cell_type": "markdown",
      "metadata": {
        "id": "69LdBCb0kEll",
        "colab_type": "text"
      },
      "source": [
        "<h3>Sin</h3>"
      ]
    },
    {
      "cell_type": "markdown",
      "metadata": {
        "id": "jztEam7YkElo",
        "colab_type": "text"
      },
      "source": [
        "Sin is the trigonometric function of an angle."
      ]
    },
    {
      "cell_type": "markdown",
      "metadata": {
        "id": "NoCVIUATkElo",
        "colab_type": "text"
      },
      "source": [
        "<!--Empty Space for separating topics-->"
      ]
    },
    {
      "cell_type": "markdown",
      "metadata": {
        "id": "kgIlCMeskElp",
        "colab_type": "text"
      },
      "source": [
        "Create a tensor with 0, π/2 and π. Then, apply the sin function on the tensor. Notice here that the <code>sin()</code> is not a method of tensor object but is a function of torch:"
      ]
    },
    {
      "cell_type": "code",
      "metadata": {
        "jupyter": {
          "outputs_hidden": false
        },
        "id": "_9Y9LE8CkElp",
        "colab_type": "code",
        "colab": {
          "base_uri": "https://localhost:8080/",
          "height": 34
        },
        "outputId": "53014d79-277a-4463-e9d4-40ede13551c5"
      },
      "source": [
        "# Method for calculating the sin result of each element in the tensor\n",
        "\n",
        "pi_tensor = torch.tensor([0, np.pi/2, np.pi])\n",
        "sin = torch.sin(pi_tensor)\n",
        "print(\"The sin result of pi_tensor: \", sin)"
      ],
      "execution_count": 45,
      "outputs": [
        {
          "output_type": "stream",
          "text": [
            "The sin result of pi_tensor:  tensor([ 0.0000e+00,  1.0000e+00, -8.7423e-08])\n"
          ],
          "name": "stdout"
        }
      ]
    },
    {
      "cell_type": "markdown",
      "metadata": {
        "id": "b-EvxPqJkElt",
        "colab_type": "text"
      },
      "source": [
        "The resultant tensor <code>sin</code> contains the result of the <code>sin</code> function applied to each element in the <code>pi_tensor</code>.<br>\n",
        "This is different from the previous methods. For <code><i>tensor_obj</i>.mean()</code>, <code><i>tensor_obj</i>.std()</code>, <code><i>tensor_obj</i>.max()</code>, and <code><i>tensor_obj</i>.min()</code>, the result is a tensor with only one number because these are aggregate methods.<br>\n",
        "However, the <code>torch.sin()</code> is not. Therefore, the resultant tensors have the same length as the input tensor."
      ]
    },
    {
      "cell_type": "markdown",
      "metadata": {
        "id": "2Y3QIEs0kElt",
        "colab_type": "text"
      },
      "source": [
        "<!--Empty Space for separating topics-->"
      ]
    },
    {
      "cell_type": "markdown",
      "metadata": {
        "id": "2jy3p7BykElt",
        "colab_type": "text"
      },
      "source": [
        "<h3>Create Tensor by <code>torch.linspace()</code></h3>"
      ]
    },
    {
      "cell_type": "markdown",
      "metadata": {
        "id": "BFb2V-vzkElu",
        "colab_type": "text"
      },
      "source": [
        "A useful function for plotting mathematical functions is <code>torch.linspace()</code>. <code>torch.linspace()</code> returns evenly spaced numbers over a specified interval. You specify the starting point of the sequence and the ending point of the sequence. The parameter <code>steps</code> indicates the number of samples to generate. Now, you'll work with <code>steps = 5</code>."
      ]
    },
    {
      "cell_type": "code",
      "metadata": {
        "jupyter": {
          "outputs_hidden": false
        },
        "id": "YV7N8GhUkElv",
        "colab_type": "code",
        "colab": {
          "base_uri": "https://localhost:8080/",
          "height": 34
        },
        "outputId": "a805b9cc-cb44-4562-dca8-74731b1b79fd"
      },
      "source": [
        "# First try on using linspace to create tensor\n",
        "\n",
        "len_5_tensor = torch.linspace(-2, 2, steps = 5)\n",
        "print (\"First Try on linspace\", len_5_tensor)"
      ],
      "execution_count": 46,
      "outputs": [
        {
          "output_type": "stream",
          "text": [
            "First Try on linspace tensor([-2., -1.,  0.,  1.,  2.])\n"
          ],
          "name": "stdout"
        }
      ]
    },
    {
      "cell_type": "markdown",
      "metadata": {
        "id": "zlRqeaG_kEly",
        "colab_type": "text"
      },
      "source": [
        "<!--Empty Space for separating topics-->"
      ]
    },
    {
      "cell_type": "markdown",
      "metadata": {
        "id": "Y7JUSg07kElz",
        "colab_type": "text"
      },
      "source": [
        "Assign <code>steps</code> with 9:"
      ]
    },
    {
      "cell_type": "code",
      "metadata": {
        "jupyter": {
          "outputs_hidden": false
        },
        "id": "YHoH6-CmkElz",
        "colab_type": "code",
        "colab": {
          "base_uri": "https://localhost:8080/",
          "height": 50
        },
        "outputId": "4a9719cf-dce6-4da4-ca05-7e7c39390388"
      },
      "source": [
        "# Second try on using linspace to create tensor\n",
        "\n",
        "len_9_tensor = torch.linspace(-2, 2, steps = 9)\n",
        "print (\"Second Try on linspace\", len_9_tensor)"
      ],
      "execution_count": 47,
      "outputs": [
        {
          "output_type": "stream",
          "text": [
            "Second Try on linspace tensor([-2.0000, -1.5000, -1.0000, -0.5000,  0.0000,  0.5000,  1.0000,  1.5000,\n",
            "         2.0000])\n"
          ],
          "name": "stdout"
        }
      ]
    },
    {
      "cell_type": "markdown",
      "metadata": {
        "id": "AwzCyKfvkEl2",
        "colab_type": "text"
      },
      "source": [
        "<!--Empty Space for separating topics-->"
      ]
    },
    {
      "cell_type": "markdown",
      "metadata": {
        "id": "06bIzlRlkEl2",
        "colab_type": "text"
      },
      "source": [
        "Use both <code>torch.linspace()</code> and <code>torch.sin()</code> to construct a tensor that contains the 100 sin result in range from 0 (0 degree) to 2π (360 degree): "
      ]
    },
    {
      "cell_type": "code",
      "metadata": {
        "jupyter": {
          "outputs_hidden": false
        },
        "id": "wy8k6YeCkEl3",
        "colab_type": "code",
        "colab": {
          "base_uri": "https://localhost:8080/",
          "height": 353
        },
        "outputId": "9bf91c5f-78a1-4f51-a92e-08cf96475ef6"
      },
      "source": [
        "# Construct the tensor within 0 to 360 degree\n",
        "\n",
        "pi_tensor = torch.linspace(0, 2*np.pi, 100)\n",
        "sin_result = torch.sin(pi_tensor)\n",
        "print(sin_result)"
      ],
      "execution_count": 49,
      "outputs": [
        {
          "output_type": "stream",
          "text": [
            "tensor([ 0.0000e+00,  6.3424e-02,  1.2659e-01,  1.8925e-01,  2.5115e-01,\n",
            "         3.1203e-01,  3.7166e-01,  4.2979e-01,  4.8620e-01,  5.4064e-01,\n",
            "         5.9291e-01,  6.4279e-01,  6.9008e-01,  7.3459e-01,  7.7615e-01,\n",
            "         8.1458e-01,  8.4973e-01,  8.8145e-01,  9.0963e-01,  9.3415e-01,\n",
            "         9.5490e-01,  9.7181e-01,  9.8481e-01,  9.9384e-01,  9.9887e-01,\n",
            "         9.9987e-01,  9.9685e-01,  9.8982e-01,  9.7880e-01,  9.6384e-01,\n",
            "         9.4500e-01,  9.2235e-01,  8.9599e-01,  8.6603e-01,  8.3257e-01,\n",
            "         7.9576e-01,  7.5575e-01,  7.1269e-01,  6.6677e-01,  6.1816e-01,\n",
            "         5.6706e-01,  5.1368e-01,  4.5823e-01,  4.0093e-01,  3.4202e-01,\n",
            "         2.8173e-01,  2.2031e-01,  1.5800e-01,  9.5056e-02,  3.1728e-02,\n",
            "        -3.1728e-02, -9.5056e-02, -1.5800e-01, -2.2031e-01, -2.8173e-01,\n",
            "        -3.4202e-01, -4.0093e-01, -4.5823e-01, -5.1368e-01, -5.6706e-01,\n",
            "        -6.1816e-01, -6.6677e-01, -7.1269e-01, -7.5575e-01, -7.9576e-01,\n",
            "        -8.3257e-01, -8.6603e-01, -8.9599e-01, -9.2235e-01, -9.4500e-01,\n",
            "        -9.6384e-01, -9.7880e-01, -9.8982e-01, -9.9685e-01, -9.9987e-01,\n",
            "        -9.9887e-01, -9.9384e-01, -9.8481e-01, -9.7181e-01, -9.5490e-01,\n",
            "        -9.3415e-01, -9.0963e-01, -8.8145e-01, -8.4973e-01, -8.1458e-01,\n",
            "        -7.7615e-01, -7.3459e-01, -6.9008e-01, -6.4279e-01, -5.9291e-01,\n",
            "        -5.4064e-01, -4.8620e-01, -4.2979e-01, -3.7166e-01, -3.1203e-01,\n",
            "        -2.5115e-01, -1.8925e-01, -1.2659e-01, -6.3424e-02,  1.7485e-07])\n"
          ],
          "name": "stdout"
        }
      ]
    },
    {
      "cell_type": "markdown",
      "metadata": {
        "id": "ZJMmkrJokEl7",
        "colab_type": "text"
      },
      "source": [
        "Plot the result to get a clearer picture. You must cast the tensor to a numpy array before plotting it."
      ]
    },
    {
      "cell_type": "code",
      "metadata": {
        "jupyter": {
          "outputs_hidden": false
        },
        "id": "hL6bduB2kEl7",
        "colab_type": "code",
        "colab": {
          "base_uri": "https://localhost:8080/",
          "height": 282
        },
        "outputId": "eaa0a562-bff9-462a-e2b5-73f23ff658ef"
      },
      "source": [
        "# Plot sin_result\n",
        "\n",
        "plt.plot(pi_tensor.numpy(), sin_result.numpy())"
      ],
      "execution_count": 50,
      "outputs": [
        {
          "output_type": "execute_result",
          "data": {
            "text/plain": [
              "[<matplotlib.lines.Line2D at 0x7f00bd98db38>]"
            ]
          },
          "metadata": {
            "tags": []
          },
          "execution_count": 50
        },
        {
          "output_type": "display_data",
          "data": {
            "image/png": "[encoded data removed]",
            "text/plain": [
              "<Figure size 432x288 with 1 Axes>"
            ]
          },
          "metadata": {
            "tags": [],
            "needs_background": "light"
          }
        }
      ]
    },
    {
      "cell_type": "markdown",
      "metadata": {
        "id": "rrrSD0nTkEl-",
        "colab_type": "text"
      },
      "source": [
        "If you know the trigonometric function, you will notice this is the diagram of the sin result in the range 0 to 360 degrees."
      ]
    },
    {
      "cell_type": "markdown",
      "metadata": {
        "id": "AlbkWCt9kEl-",
        "colab_type": "text"
      },
      "source": [
        "<!--Empty Space for separating topics-->"
      ]
    },
    {
      "cell_type": "markdown",
      "metadata": {
        "id": "RkMeBTSSkEl_",
        "colab_type": "text"
      },
      "source": [
        "<h3>Practice</h3>"
      ]
    },
    {
      "cell_type": "markdown",
      "metadata": {
        "id": "tR70T-sBkEl_",
        "colab_type": "text"
      },
      "source": [
        "Construct a tensor with 25 steps in the range 0 to π/2. Print out the Maximum and Minimum number. Also, plot  a graph showing the diagram that shows the result."
      ]
    },
    {
      "cell_type": "code",
      "metadata": {
        "id": "GonqXxmQkEl_",
        "colab_type": "code",
        "colab": {
          "base_uri": "https://localhost:8080/",
          "height": 315
        },
        "outputId": "81916e36-aeaa-4a84-e9e4-cd319c62c36e"
      },
      "source": [
        "\n",
        "pi_tensor = torch.linspace(0, np.pi/2, 100)\n",
        "print(\"Max Number: \", pi_tensor.max())\n",
        "print(\"Min Number\", pi_tensor.min())\n",
        "sin_result = torch.sin(pi_tensor)\n",
        "plt.plot(pi_tensor.numpy(), sin_result.numpy())\n"
      ],
      "execution_count": 51,
      "outputs": [
        {
          "output_type": "stream",
          "text": [
            "Max Number:  tensor(1.5708)\n",
            "Min Number tensor(0.)\n"
          ],
          "name": "stdout"
        },
        {
          "output_type": "execute_result",
          "data": {
            "text/plain": [
              "[<matplotlib.lines.Line2D at 0x7f00bd3122b0>]"
            ]
          },
          "metadata": {
            "tags": []
          },
          "execution_count": 51
        },
        {
          "output_type": "display_data",
          "data": {
            "image/png": "[encoded data removed]",
            "text/plain": [
              "<Figure size 432x288 with 1 Axes>"
            ]
          },
          "metadata": {
            "tags": [],
            "needs_background": "light"
          }
        }
      ]
    },
    {
      "cell_type": "markdown",
      "metadata": {
        "id": "Y9jx1TJkkEmC",
        "colab_type": "text"
      },
      "source": [
        "<!--Empty Space for separating topics-->"
      ]
    },
    {
      "cell_type": "markdown",
      "metadata": {
        "id": "QtDJSt8UkEmD",
        "colab_type": "text"
      },
      "source": [
        "<h2 id=\"Tensor_Op\">Tensor Operations</h2>"
      ]
    },
    {
      "cell_type": "markdown",
      "metadata": {
        "id": "p-Z39wGQkEmD",
        "colab_type": "text"
      },
      "source": [
        "In the following section, you'll work with operations that you can apply to a tensor."
      ]
    },
    {
      "cell_type": "markdown",
      "metadata": {
        "id": "tyZuDnMRkEmE",
        "colab_type": "text"
      },
      "source": [
        "<!--Empty Space for separating topics-->"
      ]
    },
    {
      "cell_type": "markdown",
      "metadata": {
        "id": "_v7MgSH6kEmE",
        "colab_type": "text"
      },
      "source": [
        "<h3>Tensor Addition</h3>"
      ]
    },
    {
      "cell_type": "markdown",
      "metadata": {
        "id": "UlPZ3yhnkEmE",
        "colab_type": "text"
      },
      "source": [
        "You can perform addition between two tensors."
      ]
    },
    {
      "cell_type": "markdown",
      "metadata": {
        "id": "IbIbzriukEmF",
        "colab_type": "text"
      },
      "source": [
        "Create a tensor <code>u</code> with 1 dimension and 2 elements. Then, create another tensor <code>v</code> with the same number of dimensions and the same number of elements:"
      ]
    },
    {
      "cell_type": "code",
      "metadata": {
        "jupyter": {
          "outputs_hidden": false
        },
        "id": "ZXCpf-SlkEmG",
        "colab_type": "code",
        "colab": {}
      },
      "source": [
        "# Create two sample tensors\n",
        "\n",
        "u = torch.tensor([1, 0])\n",
        "v = torch.tensor([0, 1])"
      ],
      "execution_count": 0,
      "outputs": []
    },
    {
      "cell_type": "markdown",
      "metadata": {
        "id": "n6m2FfBQkEmJ",
        "colab_type": "text"
      },
      "source": [
        "Add <code>u</code> and <code>v</code> together:"
      ]
    },
    {
      "cell_type": "code",
      "metadata": {
        "jupyter": {
          "outputs_hidden": false
        },
        "id": "tp0vnZz4kEmJ",
        "colab_type": "code",
        "colab": {
          "base_uri": "https://localhost:8080/",
          "height": 34
        },
        "outputId": "0eedf133-90a1-4e57-e71d-1e89454a560d"
      },
      "source": [
        "# Add u and v\n",
        "\n",
        "w = u + v\n",
        "print(\"The result tensor: \", w)"
      ],
      "execution_count": 83,
      "outputs": [
        {
          "output_type": "stream",
          "text": [
            "The result tensor:  tensor([1, 1])\n"
          ],
          "name": "stdout"
        }
      ]
    },
    {
      "cell_type": "markdown",
      "metadata": {
        "id": "Tioqst7tkEmM",
        "colab_type": "text"
      },
      "source": [
        "The result is <code>tensor([1, 1])</code>. The behavior is <i>[1 + 0, 0 + 1]</i>."
      ]
    },
    {
      "cell_type": "code",
      "metadata": {
        "id": "lgpxAyu1vjgR",
        "colab_type": "code",
        "colab": {}
      },
      "source": [
        "# Plot vecotrs, please keep the parameters in the same length\n",
        "# @param: Vectors = [{\"vector\": vector variable, \"name\": name of vector, \"color\": color of the vector on diagram}]\n",
        "    \n",
        "def plotVec(vectors):\n",
        "    ax = plt.axes()\n",
        "    \n",
        "    # For loop to draw the vectors\n",
        "    for vec in vectors:\n",
        "        ax.arrow(0, 0, *vec[\"vector\"], head_width = 0.05,color = vec[\"color\"], head_length = 0.1)\n",
        "        plt.text(*(vec[\"vector\"] + 0.1), vec[\"name\"])\n",
        "    \n",
        "    plt.ylim(-2,2)\n",
        "    plt.xlim(-2,2)"
      ],
      "execution_count": 0,
      "outputs": []
    },
    {
      "cell_type": "markdown",
      "metadata": {
        "id": "qRHtGpGvkEmN",
        "colab_type": "text"
      },
      "source": [
        "Plot the result to to get a clearer picture."
      ]
    },
    {
      "cell_type": "code",
      "metadata": {
        "jupyter": {
          "outputs_hidden": false
        },
        "id": "aRmYsocWkEmN",
        "colab_type": "code",
        "colab": {
          "base_uri": "https://localhost:8080/",
          "height": 269
        },
        "outputId": "5658d3d4-a1ff-4111-f8cb-0499d4a505fd"
      },
      "source": [
        "# Plot u, v, w\n",
        "\n",
        "plotVec([\n",
        "    {\"vector\": u.numpy(), \"name\": 'u', \"color\": 'r'},\n",
        "    {\"vector\": v.numpy(), \"name\": 'v', \"color\": 'b'},\n",
        "    {\"vector\": w.numpy(), \"name\": 'w', \"color\": 'g'}\n",
        "])"
      ],
      "execution_count": 84,
      "outputs": [
        {
          "output_type": "display_data",
          "data": {
            "image/png": "[encoded data removed]",
            "text/plain": [
              "<Figure size 432x288 with 1 Axes>"
            ]
          },
          "metadata": {
            "tags": [],
            "needs_background": "light"
          }
        }
      ]
    },
    {
      "cell_type": "markdown",
      "metadata": {
        "id": "HEpNpHiUkEmQ",
        "colab_type": "text"
      },
      "source": [
        "<!--Empty Space for separating topics-->"
      ]
    },
    {
      "cell_type": "markdown",
      "metadata": {
        "id": "desZeFOjkEmQ",
        "colab_type": "text"
      },
      "source": [
        "<h3>Try</h3> "
      ]
    },
    {
      "cell_type": "markdown",
      "metadata": {
        "id": "lalgAZvPkEmR",
        "colab_type": "text"
      },
      "source": [
        "Implement the tensor subtraction with <code>u</code> and <code>v</code> as u-v."
      ]
    },
    {
      "cell_type": "code",
      "metadata": {
        "jupyter": {
          "outputs_hidden": false
        },
        "id": "nTupPGgkkEmR",
        "colab_type": "code",
        "colab": {
          "base_uri": "https://localhost:8080/",
          "height": 34
        },
        "outputId": "7759233c-c643-4ff0-c537-7d9806779fe8"
      },
      "source": [
        "#trying\n",
        "\n",
        "u = torch.tensor([1, 0])\n",
        "v = torch.tensor([0, 1])\n",
        "z=u-v\n",
        "print(z)\n"
      ],
      "execution_count": 58,
      "outputs": [
        {
          "output_type": "stream",
          "text": [
            "tensor([ 1, -1])\n"
          ],
          "name": "stdout"
        }
      ]
    },
    {
      "cell_type": "markdown",
      "metadata": {
        "id": "4sLQ973OkEmW",
        "colab_type": "text"
      },
      "source": [
        "Tensors must be of the same data type to perform addition as well as other operations.If you uncomment the  following code and try to run it you will get an error as the two tensors are of two different data types. **NOTE This lab was created on a older PyTorch version so in the current version we are using this is possible and will produce a float64 tensor.**"
      ]
    },
    {
      "cell_type": "code",
      "metadata": {
        "id": "M4UN8mNbkEmX",
        "colab_type": "code",
        "colab": {
          "base_uri": "https://localhost:8080/",
          "height": 34
        },
        "outputId": "24491022-314a-4265-b503-cf5fd5b1bb66"
      },
      "source": [
        "#torch.tensor([1,2,3],dtype=torch.int64)+torch.tensor([1,2,3],dtype=torch.float64)"
      ],
      "execution_count": 59,
      "outputs": [
        {
          "output_type": "execute_result",
          "data": {
            "text/plain": [
              "tensor([2., 4., 6.], dtype=torch.float64)"
            ]
          },
          "metadata": {
            "tags": []
          },
          "execution_count": 59
        }
      ]
    },
    {
      "cell_type": "markdown",
      "metadata": {
        "id": "FWjF50ORkEmZ",
        "colab_type": "text"
      },
      "source": [
        "<!--Empty Space for separating topics-->"
      ]
    },
    {
      "cell_type": "markdown",
      "metadata": {
        "id": "VQMTk2UkkEmZ",
        "colab_type": "text"
      },
      "source": [
        "You can add a scalar to the tensor. Use <code>u</code> as the sample tensor:"
      ]
    },
    {
      "cell_type": "code",
      "metadata": {
        "id": "kqlUISVtkEma",
        "colab_type": "code",
        "colab": {
          "base_uri": "https://localhost:8080/",
          "height": 34
        },
        "outputId": "65d486c9-51a0-4ab1-e389-4188f98e3f91"
      },
      "source": [
        "# tensor + scalar\n",
        "\n",
        "u = torch.tensor([1, 2, 3, -1])\n",
        "v = u + 1\n",
        "print (\"Addition Result: \", v)"
      ],
      "execution_count": 60,
      "outputs": [
        {
          "output_type": "stream",
          "text": [
            "Addition Result:  tensor([2, 3, 4, 0])\n"
          ],
          "name": "stdout"
        }
      ]
    },
    {
      "cell_type": "markdown",
      "metadata": {
        "id": "yCeYCLFxkEmc",
        "colab_type": "text"
      },
      "source": [
        "The result is simply adding 1 to each element in tensor <code>u</code> as shown in the following image:"
      ]
    },
    {
      "cell_type": "markdown",
      "metadata": {
        "id": "LsD9knvWkEmd",
        "colab_type": "text"
      },
      "source": [
        "<img src = \"https://s3-api.us-geo.objectstorage.softlayer.net/cf-courses-data/CognitiveClass/DL0110EN/notebook_images%20/chapter%201/brodcasting.gif\" width = \"500\" alt=\"tensor addition\" />"
      ]
    },
    {
      "cell_type": "markdown",
      "metadata": {
        "id": "6EMJxPTpkEmd",
        "colab_type": "text"
      },
      "source": [
        "<!--Empty Space for separating topics-->"
      ]
    },
    {
      "cell_type": "markdown",
      "metadata": {
        "id": "ls-kq3SpkEmd",
        "colab_type": "text"
      },
      "source": [
        "<h3>Tensor Multiplication </h3>"
      ]
    },
    {
      "cell_type": "markdown",
      "metadata": {
        "id": "8k_5eElMkEme",
        "colab_type": "text"
      },
      "source": [
        "Now, you'll review the multiplication between a tensor and a scalar."
      ]
    },
    {
      "cell_type": "markdown",
      "metadata": {
        "id": "KQHqWHVfkEme",
        "colab_type": "text"
      },
      "source": [
        "Create a tensor with value <code>[1, 2]</code> and then multiply it by 2:"
      ]
    },
    {
      "cell_type": "code",
      "metadata": {
        "jupyter": {
          "outputs_hidden": false
        },
        "id": "krvS6N3skEmf",
        "colab_type": "code",
        "colab": {
          "base_uri": "https://localhost:8080/",
          "height": 34
        },
        "outputId": "65ffacf5-4156-4492-e88b-373d2ef86dfe"
      },
      "source": [
        "# tensor * scalar\n",
        "\n",
        "u = torch.tensor([1, 2])\n",
        "v = 2 * u\n",
        "print(\"The result of 2 * u: \", v)"
      ],
      "execution_count": 61,
      "outputs": [
        {
          "output_type": "stream",
          "text": [
            "The result of 2 * u:  tensor([2, 4])\n"
          ],
          "name": "stdout"
        }
      ]
    },
    {
      "cell_type": "markdown",
      "metadata": {
        "id": "rLxP4HLYkEmh",
        "colab_type": "text"
      },
      "source": [
        "The result is <code>tensor([2, 4])</code>, so the code <code>2 * u</code> multiplies each element in the tensor by 2. This is how you get the product between a vector or matrix and a scalar in linear algebra."
      ]
    },
    {
      "cell_type": "markdown",
      "metadata": {
        "id": "pP921YigkEmi",
        "colab_type": "text"
      },
      "source": [
        "<!--Empty Space for separating topics-->"
      ]
    },
    {
      "cell_type": "markdown",
      "metadata": {
        "id": "RvkhJNkFkEmi",
        "colab_type": "text"
      },
      "source": [
        "You can use multiplication between two tensors."
      ]
    },
    {
      "cell_type": "markdown",
      "metadata": {
        "id": "XFqEzZNwkEmi",
        "colab_type": "text"
      },
      "source": [
        "Create two tensors <code>u</code> and <code>v</code> and then multiply them together:"
      ]
    },
    {
      "cell_type": "code",
      "metadata": {
        "jupyter": {
          "outputs_hidden": false
        },
        "id": "zEgW-zD4kEmj",
        "colab_type": "code",
        "colab": {
          "base_uri": "https://localhost:8080/",
          "height": 34
        },
        "outputId": "f26702bf-6729-4c76-dfb5-7ba5dc6eb342"
      },
      "source": [
        "# tensor * tensor\n",
        "\n",
        "u = torch.tensor([1, 2])\n",
        "v = torch.tensor([3, 2])\n",
        "w = u * v\n",
        "print (\"The result of u * v\", w)"
      ],
      "execution_count": 62,
      "outputs": [
        {
          "output_type": "stream",
          "text": [
            "The result of u * v tensor([3, 4])\n"
          ],
          "name": "stdout"
        }
      ]
    },
    {
      "cell_type": "markdown",
      "metadata": {
        "id": "iIhWLEYKkEmn",
        "colab_type": "text"
      },
      "source": [
        "The result is simply <code>tensor([3, 4])</code>. This result is achieved by multiplying every element in <code>u</code> with the corresponding element in the same position <code>v</code>, which is similar to <i>[1 * 3, 2 * 2]</i>."
      ]
    },
    {
      "cell_type": "markdown",
      "metadata": {
        "id": "2xO2r8MQkEmn",
        "colab_type": "text"
      },
      "source": [
        "<!--Empty Space for separating topics-->"
      ]
    },
    {
      "cell_type": "markdown",
      "metadata": {
        "id": "Re5A9VZdkEmo",
        "colab_type": "text"
      },
      "source": [
        "<h3>Dot Product</h3>"
      ]
    },
    {
      "cell_type": "markdown",
      "metadata": {
        "id": "wiM14Jm3kEmo",
        "colab_type": "text"
      },
      "source": [
        "The dot product is a special operation for a vector that you can use in Torch."
      ]
    },
    {
      "cell_type": "markdown",
      "metadata": {
        "id": "KRmKP5qLkEmo",
        "colab_type": "text"
      },
      "source": [
        "Here is the dot product of the two tensors <code>u</code> and <code>v</code>:"
      ]
    },
    {
      "cell_type": "code",
      "metadata": {
        "id": "TihGUEb3kEmp",
        "colab_type": "code",
        "colab": {
          "base_uri": "https://localhost:8080/",
          "height": 34
        },
        "outputId": "cd91f174-7534-40ca-a97c-13b9358e2970"
      },
      "source": [
        "# Calculate dot product of u, v\n",
        "\n",
        "u = torch.tensor([1, 2])\n",
        "v = torch.tensor([3, 2])\n",
        "\n",
        "print(\"Dot Product of u, v:\", torch.dot(u,v))"
      ],
      "execution_count": 63,
      "outputs": [
        {
          "output_type": "stream",
          "text": [
            "Dot Product of u, v: tensor(7)\n"
          ],
          "name": "stdout"
        }
      ]
    },
    {
      "cell_type": "markdown",
      "metadata": {
        "id": "4vV9jnwNkEms",
        "colab_type": "text"
      },
      "source": [
        "The result is <code>tensor(7)</code>. The function is <i>1 x 3 + 2 x 2 = 7</i>."
      ]
    },
    {
      "cell_type": "markdown",
      "metadata": {
        "id": "-Ps5Jf-LkEmt",
        "colab_type": "text"
      },
      "source": [
        "<!--Empty Space for separating topics-->"
      ]
    },
    {
      "cell_type": "markdown",
      "metadata": {
        "id": "uqClFxackEmu",
        "colab_type": "text"
      },
      "source": [
        "<h3>Practice</h3>"
      ]
    },
    {
      "cell_type": "markdown",
      "metadata": {
        "id": "1INXWJwkkEmu",
        "colab_type": "text"
      },
      "source": [
        "Convert the list <i>[-1, 1]</i> and <i>[1, 1]</i> to tensors <code>u</code> and <code>v</code>. Then, plot the tensor <code>u</code> and <code>v</code> as a vector by using the function <code>plotVec</code> and find the dot product:"
      ]
    },
    {
      "cell_type": "code",
      "metadata": {
        "jupyter": {
          "outputs_hidden": false
        },
        "id": "0KclwCSvkEmu",
        "colab_type": "code",
        "colab": {
          "base_uri": "https://localhost:8080/",
          "height": 286
        },
        "outputId": "2ca232b6-188f-454f-fa61-ca900341c9b7"
      },
      "source": [
        "# Practice: calculate the dot product of u and v, and plot out two vectors\n",
        "u=torch.tensor([-1,1])\n",
        "v=torch.tensor([1,1])\n",
        "print(\"dot product of u & v\",torch.dot(u,v))\n",
        "plotVec([\n",
        "    {\"vector\":u.numpy(),\"name\":'u',\"color\":'r'},\n",
        "    {\"vector\":v.numpy(),\"name\":'v',\"color\":'b'}\n",
        "])\n"
      ],
      "execution_count": 91,
      "outputs": [
        {
          "output_type": "stream",
          "text": [
            "dot product of u & v tensor(0)\n"
          ],
          "name": "stdout"
        },
        {
          "output_type": "display_data",
          "data": {
            "image/png": "[encoded data removed]",
            "text/plain": [
              "<Figure size 432x288 with 1 Axes>"
            ]
          },
          "metadata": {
            "tags": [],
            "needs_background": "light"
          }
        }
      ]
    }
  ]
}