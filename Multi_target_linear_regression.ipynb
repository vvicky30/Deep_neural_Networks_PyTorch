{
  "nbformat": 4,
  "nbformat_minor": 0,
  "metadata": {
    "kernelspec": {
      "display_name": "Python",
      "language": "python",
      "name": "conda-env-python-py"
    },
    "language_info": {
      "codemirror_mode": {
        "name": "ipython",
        "version": 3
      },
      "file_extension": ".py",
      "mimetype": "text/x-python",
      "name": "python",
      "nbconvert_exporter": "python",
      "pygments_lexer": "ipython3",
      "version": "3.6.7"
    },
    "colab": {
      "name": "Multi-target_linear_regression.ipynb",
      "provenance": [],
      "collapsed_sections": [],
      "include_colab_link": true
    }
  },
  "cells": [
    {
      "cell_type": "markdown",
      "metadata": {
        "id": "view-in-github",
        "colab_type": "text"
      },
      "source": [
        "<a href=\"https://colab.research.google.com/github/vvicky30/Deep_neural_Networks_PyToacrch/blob/master/Multi_target_linear_regression.ipynb\" target=\"_parent\"><img src=\"https://colab.research.google.com/assets/colab-badge.svg\" alt=\"Open In Colab\"/></a>"
      ]
    },
    {
      "cell_type": "markdown",
      "metadata": {
        "id": "KpMb0JiBoCcO",
        "colab_type": "text"
      },
      "source": [
        "\n",
        "# Table of Contents\n",
        "In this lab, we will  review how to make a prediction for Linear Regression with Multiple Output. \n",
        "\n",
        "<div class=\"alert alert-block alert-info\" style=\"margin-top: 20px\">\n",
        "\n",
        "<li><a href=\"#ref2\">Build Custom Modules </a></li>\n",
        "\n",
        "<br>\n",
        "<p></p>\n",
        "\n",
        "</div>\n",
        "\n",
        "<hr>"
      ]
    },
    {
      "cell_type": "markdown",
      "metadata": {
        "id": "BzeZumP6oCcO",
        "colab_type": "text"
      },
      "source": [
        "<a id=\"ref1\"></a>\n",
        "<h2 align=center>Class Linear  </h2>\n"
      ]
    },
    {
      "cell_type": "code",
      "metadata": {
        "id": "1e2j3gTwoCcP",
        "colab_type": "code",
        "colab": {}
      },
      "source": [
        "from torch import nn\n",
        "import torch"
      ],
      "execution_count": 1,
      "outputs": []
    },
    {
      "cell_type": "markdown",
      "metadata": {
        "id": "OHi_DOvYoCcU",
        "colab_type": "text"
      },
      "source": [
        "Set the random seed:"
      ]
    },
    {
      "cell_type": "code",
      "metadata": {
        "id": "IVmcw5aOoCcU",
        "colab_type": "code",
        "colab": {
          "base_uri": "https://localhost:8080/",
          "height": 34
        },
        "outputId": "6c5f5dd4-da4f-4f56-8d16-122c4758b7ed"
      },
      "source": [
        "torch.manual_seed(1)"
      ],
      "execution_count": 2,
      "outputs": [
        {
          "output_type": "execute_result",
          "data": {
            "text/plain": [
              "<torch._C.Generator at 0x7f55a4dd95d0>"
            ]
          },
          "metadata": {
            "tags": []
          },
          "execution_count": 2
        }
      ]
    },
    {
      "cell_type": "markdown",
      "metadata": {
        "id": "C_tkqajtoCcX",
        "colab_type": "text"
      },
      "source": [
        "Set the random seed:"
      ]
    },
    {
      "cell_type": "code",
      "metadata": {
        "id": "bVJuh_ZPoCcX",
        "colab_type": "code",
        "colab": {}
      },
      "source": [
        "class linear_regression(nn.Module):\n",
        "    def __init__(self,input_size,output_size):\n",
        "        super(linear_regression,self).__init__()\n",
        "        self.linear=nn.Linear(input_size,output_size)\n",
        "    def forward(self,x):\n",
        "        yhat=self.linear(x)\n",
        "        return yhat"
      ],
      "execution_count": 3,
      "outputs": []
    },
    {
      "cell_type": "markdown",
      "metadata": {
        "id": "UnlR5AEJoCca",
        "colab_type": "text"
      },
      "source": [
        "create a linear regression  object, as our input and output will be two we set the parameters accordingly "
      ]
    },
    {
      "cell_type": "code",
      "metadata": {
        "id": "_cmf95c6oCca",
        "colab_type": "code",
        "colab": {
          "base_uri": "https://localhost:8080/",
          "height": 50
        },
        "outputId": "4ab9ffa6-2067-4519-a145-47200d30833d"
      },
      "source": [
        "model=linear_regression(1,10)\n",
        "model(torch.tensor([1.0]))"
      ],
      "execution_count": 4,
      "outputs": [
        {
          "output_type": "execute_result",
          "data": {
            "text/plain": [
              "tensor([ 0.7926, -0.3920,  0.1714,  0.0797, -1.0143,  0.5097, -0.0608,  0.5047,\n",
              "         1.0132,  0.1887], grad_fn=<AddBackward0>)"
            ]
          },
          "metadata": {
            "tags": []
          },
          "execution_count": 4
        }
      ]
    },
    {
      "cell_type": "markdown",
      "metadata": {
        "id": "X2szDyKMoCcd",
        "colab_type": "text"
      },
      "source": [
        "we can use the diagram to represent the model or object "
      ]
    },
    {
      "cell_type": "markdown",
      "metadata": {
        "id": "RgHoNUWooCce",
        "colab_type": "text"
      },
      "source": [
        "<img src = \"https://ibm.box.com/shared/static/icmwnxru7nytlhnq5x486rffea9ncpk7.png\" width = 600, align = \"center\">"
      ]
    },
    {
      "cell_type": "markdown",
      "metadata": {
        "id": "35DRBhduoCce",
        "colab_type": "text"
      },
      "source": [
        "we can see the parameters "
      ]
    },
    {
      "cell_type": "code",
      "metadata": {
        "id": "B-78k7AooCcf",
        "colab_type": "code",
        "colab": {
          "base_uri": "https://localhost:8080/",
          "height": 235
        },
        "outputId": "7b78e9df-c3b9-4273-d1e5-afe5ea31b1f8"
      },
      "source": [
        "list(model.parameters())"
      ],
      "execution_count": 5,
      "outputs": [
        {
          "output_type": "execute_result",
          "data": {
            "text/plain": [
              "[Parameter containing:\n",
              " tensor([[ 0.5153],\n",
              "         [-0.4414],\n",
              "         [-0.1939],\n",
              "         [ 0.4694],\n",
              "         [-0.9414],\n",
              "         [ 0.5997],\n",
              "         [-0.2057],\n",
              "         [ 0.5087],\n",
              "         [ 0.1390],\n",
              "         [-0.1224]], requires_grad=True), Parameter containing:\n",
              " tensor([ 0.2774,  0.0493,  0.3652, -0.3897, -0.0729, -0.0900,  0.1449, -0.0040,\n",
              "          0.8742,  0.3112], requires_grad=True)]"
            ]
          },
          "metadata": {
            "tags": []
          },
          "execution_count": 5
        }
      ]
    },
    {
      "cell_type": "markdown",
      "metadata": {
        "id": "UAPto9tqoCch",
        "colab_type": "text"
      },
      "source": [
        "we can create a tensor with two rows representing one sample of data"
      ]
    },
    {
      "cell_type": "code",
      "metadata": {
        "id": "tdrCEDGboCci",
        "colab_type": "code",
        "colab": {}
      },
      "source": [
        "x=torch.tensor([[1.0]])"
      ],
      "execution_count": 6,
      "outputs": []
    },
    {
      "cell_type": "markdown",
      "metadata": {
        "id": "bCNB9u-9oCck",
        "colab_type": "text"
      },
      "source": [
        "we can make a prediction "
      ]
    },
    {
      "cell_type": "code",
      "metadata": {
        "id": "OpWo6IDvoCcl",
        "colab_type": "code",
        "colab": {
          "base_uri": "https://localhost:8080/",
          "height": 50
        },
        "outputId": "f5a0746b-8548-4a8d-fe3a-7f5e28334de5"
      },
      "source": [
        "yhat=model(x)\n",
        "yhat"
      ],
      "execution_count": 7,
      "outputs": [
        {
          "output_type": "execute_result",
          "data": {
            "text/plain": [
              "tensor([[ 0.7926, -0.3920,  0.1714,  0.0797, -1.0143,  0.5097, -0.0608,  0.5047,\n",
              "          1.0132,  0.1887]], grad_fn=<AddmmBackward>)"
            ]
          },
          "metadata": {
            "tags": []
          },
          "execution_count": 7
        }
      ]
    },
    {
      "cell_type": "markdown",
      "metadata": {
        "id": "RhUfGpn7oCcn",
        "colab_type": "text"
      },
      "source": [
        "each row in the following tensor represents a different sample "
      ]
    },
    {
      "cell_type": "code",
      "metadata": {
        "id": "IjT5NfTfoCcn",
        "colab_type": "code",
        "colab": {}
      },
      "source": [
        "X=torch.tensor([[1.0],[1.0],[3.0]])"
      ],
      "execution_count": 8,
      "outputs": []
    },
    {
      "cell_type": "markdown",
      "metadata": {
        "id": "EOIQW8TIoCcp",
        "colab_type": "text"
      },
      "source": [
        "we can make a prediction using multiple samples "
      ]
    },
    {
      "cell_type": "code",
      "metadata": {
        "id": "067fHdFuoCcq",
        "colab_type": "code",
        "colab": {
          "base_uri": "https://localhost:8080/",
          "height": 118
        },
        "outputId": "2bc69817-e596-4773-d32f-71fa078464b0"
      },
      "source": [
        "Yhat=model(X)\n",
        "Yhat"
      ],
      "execution_count": 9,
      "outputs": [
        {
          "output_type": "execute_result",
          "data": {
            "text/plain": [
              "tensor([[ 0.7926, -0.3920,  0.1714,  0.0797, -1.0143,  0.5097, -0.0608,  0.5047,\n",
              "          1.0132,  0.1887],\n",
              "        [ 0.7926, -0.3920,  0.1714,  0.0797, -1.0143,  0.5097, -0.0608,  0.5047,\n",
              "          1.0132,  0.1887],\n",
              "        [ 1.8232, -1.2748, -0.2164,  1.0184, -2.8972,  1.7091, -0.4722,  1.5222,\n",
              "          1.2912, -0.0561]], grad_fn=<AddmmBackward>)"
            ]
          },
          "metadata": {
            "tags": []
          },
          "execution_count": 9
        }
      ]
    },
    {
      "cell_type": "markdown",
      "metadata": {
        "id": "lNh8TrdCoCcu",
        "colab_type": "text"
      },
      "source": [
        "the following figure represents the operation, where the red and blue  represents the different parameters, and the different shades of green represent  different samples."
      ]
    },
    {
      "cell_type": "markdown",
      "metadata": {
        "id": "YQZsR-_OoCcu",
        "colab_type": "text"
      },
      "source": [
        " <img src = \"https://ibm.box.com/shared/static/768cul6pj8hc93uh9ujpajihnp8xdukx.png\" width = 600, align = \"center\">"
      ]
    }
  ]
}